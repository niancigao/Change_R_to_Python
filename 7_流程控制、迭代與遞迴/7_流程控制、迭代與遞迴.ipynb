{
 "cells": [
  {
   "cell_type": "markdown",
   "id": "0109a5be",
   "metadata": {},
   "source": [
    "# 流程控制、迭代與遞迴\n",
    "### 葉永傑\n",
    "**February 3，2023**\n",
    "\n",
    "---\n"
   ]
  },
  {
   "cell_type": "code",
   "execution_count": 1,
   "id": "6ba8c206",
   "metadata": {},
   "outputs": [],
   "source": [
    "import numpy as np                # 處理數據\n",
    "import datetime\n",
    "import pandas as pd               # 資料處理套件\n",
    "import math"
   ]
  },
  {
   "cell_type": "markdown",
   "id": "29235c62",
   "metadata": {},
   "source": [
    "# if、switch\n",
    "\n",
    "if、switch 根據所給的條件執行，其中\n",
    "- if 只接受 True 或 False (但實際上輸入不是 0 或 False 的都會被 if 看成 TRUE) \n",
    "- switch 則可設定依不同的文字或數值做出反應 \n",
    "\n",
    "\n",
    "+ 在 3.10 版本前，Python 並沒有實現 switch 語句在其他編程語言中所做的功能，只能利用 if - elif 或是 dict 模擬\n",
    "+ 在 3.10 版本以後，Python 重大變化：出現 match-case，與 switch-case 的結構相似\n",
    "\n",
    "語法 :\n",
    "```python \n",
    "    if (資料) :\n",
    "        print(程式敘述句)\n",
    "    elif (資料) :\n",
    "        print(程式敘述句) \n",
    "    else :\n",
    "        print(程式敘述句)\n",
    "```\n",
    "match-case 語法 :\n",
    "```python\n",
    "    match 選擇變數 :\n",
    "        case 選項 1 :\n",
    "             輸出 1\n",
    "        case 選項 2 :\n",
    "             輸出 2\n",
    "        case 選項 3 : \n",
    "             輸出 3\n",
    "        case _ :\n",
    "             輸出 n\n",
    "```\n",
    "\n",
    "if 的幾種形式：\n",
    "+ 程式敘述句只有一行可不縮排"
   ]
  },
  {
   "cell_type": "code",
   "execution_count": 2,
   "id": "92191c15",
   "metadata": {},
   "outputs": [
    {
     "name": "stdout",
     "output_type": "stream",
     "text": [
      "2023-02-22 13:57:23.773229\n"
     ]
    }
   ],
   "source": [
    "A = datetime.datetime.strptime('2021-01-05 11:30:20', '%Y-%m-%d %H:%M:%S')\n",
    "if (datetime.datetime.today() > A): print(datetime.datetime.today())"
   ]
  },
  {
   "cell_type": "markdown",
   "id": "893d2c46",
   "metadata": {},
   "source": [
    "+ 標準形式"
   ]
  },
  {
   "cell_type": "code",
   "execution_count": 3,
   "id": "8d980154",
   "metadata": {},
   "outputs": [
    {
     "name": "stdout",
     "output_type": "stream",
     "text": [
      "2023-02-22 13:57:23.789216\n",
      "2021-01-05 11:30:20\n"
     ]
    }
   ],
   "source": [
    "if (datetime.datetime.today() > A):\n",
    "    print(datetime.datetime.today())\n",
    "    print(A)"
   ]
  },
  {
   "cell_type": "markdown",
   "id": "47faa1b3",
   "metadata": {},
   "source": [
    "+ 條件不成立也需處理"
   ]
  },
  {
   "cell_type": "code",
   "execution_count": 4,
   "id": "3fc9f970",
   "metadata": {},
   "outputs": [
    {
     "name": "stdout",
     "output_type": "stream",
     "text": [
      "2023-02-22 13:57:23.804678\n",
      "2021-01-05 11:30:20\n"
     ]
    }
   ],
   "source": [
    "if (datetime.datetime.today() > A):\n",
    "    print(datetime.datetime.today())\n",
    "    print(A)\n",
    "else:\n",
    "    print(\"It is too long ago!\")"
   ]
  },
  {
   "cell_type": "markdown",
   "id": "3b0fce6b",
   "metadata": {},
   "source": [
    "**match-case 的標準形式**\n",
    "\n",
    "語法 :\n",
    "```python\n",
    "    match 選擇變數 :\n",
    "        case 選項 1 :\n",
    "             輸出 1\n",
    "        case 選項 2 :\n",
    "             輸出 2\n",
    "        case 選項 3 : \n",
    "             輸出 3\n",
    "        case _ :\n",
    "             輸出 n\n",
    "```\n",
    "\n",
    "+ [[Python] 3.10 先覽版本開始支援 switch 功能（透過 match 語法）](https://clay-atlas.com/blog/2021/04/03/python-cn-310-switch-statement-match/)\n",
    "+ [Python 重大變化：是 match-case，不是 switch-case](https://www.readfog.com/a/1630488642582581248)"
   ]
  },
  {
   "cell_type": "markdown",
   "id": "1ccd8719",
   "metadata": {},
   "source": [
    "例如 :\n",
    "\n",
    "```python\n",
    "def center(x, type):\n",
    "    match type:\n",
    "        case 'median':\n",
    "            print(np.median(x))           \n",
    "        case 'mean':\n",
    "            print(np.mean(x))\n",
    "        case _ :                       # 當其他 case 都無法匹配時，匹配這條\n",
    "            print('error')\n",
    "```"
   ]
  },
  {
   "cell_type": "markdown",
   "id": "2f719a9d",
   "metadata": {},
   "source": [
    "+ 利用 if - elif 模擬\n",
    "\n",
    "+ 也可搭配函數當作判斷式"
   ]
  },
  {
   "cell_type": "code",
   "execution_count": 5,
   "id": "fbcd95e7",
   "metadata": {},
   "outputs": [
    {
     "data": {
      "text/plain": [
       "5.5"
      ]
     },
     "execution_count": 5,
     "metadata": {},
     "output_type": "execute_result"
    }
   ],
   "source": [
    "def center(x, type):\n",
    "    if type == 'median':\n",
    "        return(np.median(x))\n",
    "    elif type == 'mean':\n",
    "        return(np.mean(x))\n",
    "    else:\n",
    "        return('error')\n",
    "\n",
    "center(range(1,11), \"median\")"
   ]
  },
  {
   "cell_type": "markdown",
   "id": "f7c25cd4",
   "metadata": {},
   "source": [
    "+ 利用 dict 模擬"
   ]
  },
  {
   "cell_type": "code",
   "execution_count": 6,
   "id": "77828574",
   "metadata": {},
   "outputs": [
    {
     "data": {
      "text/plain": [
       "50.5"
      ]
     },
     "execution_count": 6,
     "metadata": {},
     "output_type": "execute_result"
    }
   ],
   "source": [
    "x = range(1,101)\n",
    "center = {'median': np.median(x),'mean': np.mean(x)}\n",
    "center.get(\"median\")"
   ]
  },
  {
   "cell_type": "code",
   "execution_count": 7,
   "id": "e3b37d27",
   "metadata": {},
   "outputs": [
    {
     "data": {
      "text/plain": [
       "'try again'"
      ]
     },
     "execution_count": 7,
     "metadata": {},
     "output_type": "execute_result"
    }
   ],
   "source": [
    "switch = {\"1\":\"ok\", 2:\"try again\", \"3\":\"fail\"}\n",
    "switch.get(2)"
   ]
  },
  {
   "cell_type": "markdown",
   "id": "68a5bd93",
   "metadata": {},
   "source": [
    "+ 對應資料跟 if 一樣只能判斷長度 1 的向量"
   ]
  },
  {
   "cell_type": "code",
   "execution_count": 8,
   "id": "9fab07a9",
   "metadata": {},
   "outputs": [
    {
     "data": {
      "text/plain": [
       "'fail'"
      ]
     },
     "execution_count": 8,
     "metadata": {},
     "output_type": "execute_result"
    }
   ],
   "source": [
    "x = '3'\n",
    "switch.get(x)"
   ]
  },
  {
   "cell_type": "markdown",
   "id": "8e9e2881",
   "metadata": {},
   "source": [
    "# for"
   ]
  },
  {
   "cell_type": "markdown",
   "id": "1dc51762",
   "metadata": {},
   "source": [
    "語法 :\n",
    "```python\n",
    "for 參數 in 數列 :\n",
    "    程序(程式碼)\n",
    "```\n",
    "for 執行的次數取決於你的數列長度，而參數則對應是要執行數列中哪一次的任務\n",
    "\n",
    "**函數近似(泰勒展開)**\n",
    "\n",
    "近似函數 $e^5$\n",
    "\n",
    "$e^x ≈ 1+x+\\frac{x^2}{2!}+⋯+\\frac{x^n}{n!}$"
   ]
  },
  {
   "cell_type": "code",
   "execution_count": 9,
   "id": "8b6355fa",
   "metadata": {},
   "outputs": [
    {
     "data": {
      "text/plain": [
       "-1.2035194799864257e-05"
      ]
     },
     "execution_count": 9,
     "metadata": {},
     "output_type": "execute_result"
    }
   ],
   "source": [
    "def expon(x):\n",
    "    output = 1\n",
    "    for i in range(1,21):\n",
    "        output = output + x**i/pd.Series(range(1,i+1)).prod()\n",
    "    return output\n",
    "\n",
    "expon(5) - np.exp(5)"
   ]
  },
  {
   "cell_type": "markdown",
   "id": "b401dadb",
   "metadata": {},
   "source": [
    "**牛頓勘根**\n",
    "\n",
    "公式 : $x_{n+1} = x_n − \\frac{f(x_n)}{f′(x_n)}$\n",
    "\n",
    "例如，解 $x^2 + 9x + 8 = 0$\n",
    "\n",
    "$f(x) = x^2 + 9x + 8$\n",
    "\n",
    "$f′(x) = 2x + 9$"
   ]
  },
  {
   "cell_type": "code",
   "execution_count": 10,
   "id": "b5bc32ea",
   "metadata": {},
   "outputs": [
    {
     "data": {
      "text/plain": [
       "-1.0"
      ]
     },
     "execution_count": 10,
     "metadata": {},
     "output_type": "execute_result"
    }
   ],
   "source": [
    "sol = 0.5\n",
    "\n",
    "for i in range(1,21):\n",
    "    sol = sol - (sol**2 + 9*sol + 8)/(2*sol + 9)\n",
    "\n",
    "sol"
   ]
  },
  {
   "cell_type": "markdown",
   "id": "99df4fdb",
   "metadata": {},
   "source": [
    "**計算 iris 各類別的變異數矩陣**"
   ]
  },
  {
   "cell_type": "code",
   "execution_count": 11,
   "id": "c16aa96c",
   "metadata": {},
   "outputs": [],
   "source": [
    "from sklearn import datasets\n",
    "iris = datasets.load_iris()"
   ]
  },
  {
   "cell_type": "code",
   "execution_count": 12,
   "id": "10a33b3b",
   "metadata": {},
   "outputs": [
    {
     "data": {
      "text/plain": [
       "[array([[0.12424898, 0.09921633, 0.0163551 , 0.01033061],\n",
       "        [0.09921633, 0.1436898 , 0.01169796, 0.00929796],\n",
       "        [0.0163551 , 0.01169796, 0.03015918, 0.00606939],\n",
       "        [0.01033061, 0.00929796, 0.00606939, 0.01110612]]),\n",
       " array([[0.26643265, 0.08518367, 0.18289796, 0.05577959],\n",
       "        [0.08518367, 0.09846939, 0.08265306, 0.04120408],\n",
       "        [0.18289796, 0.08265306, 0.22081633, 0.07310204],\n",
       "        [0.05577959, 0.04120408, 0.07310204, 0.03910612]]),\n",
       " array([[0.40434286, 0.09376327, 0.3032898 , 0.04909388],\n",
       "        [0.09376327, 0.10400408, 0.07137959, 0.04762857],\n",
       "        [0.3032898 , 0.07137959, 0.30458776, 0.04882449],\n",
       "        [0.04909388, 0.04762857, 0.04882449, 0.07543265]])]"
      ]
     },
     "execution_count": 12,
     "metadata": {},
     "output_type": "execute_result"
    }
   ],
   "source": [
    "name = iris.target_names\n",
    "n = len(name)\n",
    "var_class = list()\n",
    "\n",
    "for i in range(n):\n",
    "    var_class.append(np.cov(np.transpose((iris.data[iris.target == i]))))\n",
    "\n",
    "var_class"
   ]
  },
  {
   "cell_type": "markdown",
   "id": "7fc9bf97",
   "metadata": {},
   "source": [
    "# while\n",
    "\n",
    "語法 : \n",
    "```python\n",
    "while 可以執行條件 :\n",
    "    程式碼\n",
    "```\n",
    "\n",
    "查看前面的泰勒展開式需要幾次才能使誤差小於 $10^{−10}$"
   ]
  },
  {
   "cell_type": "code",
   "execution_count": 13,
   "id": "43a89173",
   "metadata": {},
   "outputs": [
    {
     "data": {
      "text/plain": [
       "28"
      ]
     },
     "execution_count": 13,
     "metadata": {},
     "output_type": "execute_result"
    }
   ],
   "source": [
    "def exp_test(x):\n",
    "    output = 1\n",
    "    acc = 1\n",
    "    i = 0\n",
    "    while acc > 1e-10:\n",
    "        i = i + 1\n",
    "        output = output + x**i/math.perm(i)\n",
    "        acc = abs(output - np.exp(x))\n",
    "    return i\n",
    "\n",
    "exp_test(5)"
   ]
  },
  {
   "cell_type": "markdown",
   "id": "a34a6fdb",
   "metadata": {},
   "source": [
    "**break 可以隨時跳出迴圈(之後的迴圈都不做)**"
   ]
  },
  {
   "cell_type": "code",
   "execution_count": 14,
   "id": "1b9be8a7",
   "metadata": {},
   "outputs": [
    {
     "name": "stdout",
     "output_type": "stream",
     "text": [
      "1\n"
     ]
    }
   ],
   "source": [
    "for i in range(1,11):\n",
    "    if i%2 == 0 : break \n",
    "    else: print(i) "
   ]
  },
  {
   "cell_type": "markdown",
   "id": "1cb83f41",
   "metadata": {},
   "source": [
    "**pass 不做任何事情，所有的程式都將繼續**"
   ]
  },
  {
   "cell_type": "code",
   "execution_count": 15,
   "id": "b5055cb1",
   "metadata": {},
   "outputs": [
    {
     "name": "stdout",
     "output_type": "stream",
     "text": [
      "1\n",
      "12\n",
      "3\n",
      "14\n",
      "5\n",
      "16\n",
      "7\n",
      "18\n",
      "9\n",
      "20\n"
     ]
    }
   ],
   "source": [
    "for i in range(1,11):\n",
    "    if i%2 == 0 : \n",
    "        pass\n",
    "        print(i+10)\n",
    "    else: print(i) "
   ]
  },
  {
   "cell_type": "markdown",
   "id": "5327c127",
   "metadata": {},
   "source": [
    "**continue 是停止執行下方的程式碼，跳到迴圈的開頭，再繼續執行迴圈**\n",
    "\n",
    "它包含了兩個動作：\n",
    "1. 遇到 continue 就停住，不執行其後的程式碼\n",
    "2. 跳回到迴圈的開頭，再繼續執行程式碼"
   ]
  },
  {
   "cell_type": "code",
   "execution_count": 16,
   "id": "643354b8",
   "metadata": {},
   "outputs": [
    {
     "name": "stdout",
     "output_type": "stream",
     "text": [
      "1\n",
      "3\n",
      "5\n",
      "7\n",
      "9\n"
     ]
    }
   ],
   "source": [
    "for i in range(1,11):\n",
    "    if i%2 == 0 : \n",
    "        continue\n",
    "        print(i+10)\n",
    "    else: print(i) "
   ]
  },
  {
   "cell_type": "markdown",
   "id": "2d5b63d1",
   "metadata": {},
   "source": [
    "# apply family\n",
    "apply 是一種類似於解決早期版本 for 速度不如其他語言迴圈的問題，但在近期的版本已經跟 apply 速度已經相差無幾了"
   ]
  },
  {
   "cell_type": "markdown",
   "id": "e7999565",
   "metadata": {},
   "source": [
    "最常用的 :\n",
    "1. apply(基本)\n",
    "2. applymap 在 python 中相當於 lapply 在 R 中\n",
    "3. map 在 python 中相當於 sapply 在 R 中\n",
    "4. pivot_table() / pivot() 在 python 中相當於 tapply(table) 在 R 中\n",
    "+ [Pandas教程 | 数据处理三板斧——map、apply、applymap详解](https://zhuanlan.zhihu.com/p/100064394)\n",
    "\n",
    "較困難的 :\n",
    "+ [mapply package](https://mapply.readthedocs.io/en/stable/_code_reference/mapply.html)\n",
    "\n",
    "這邊就只說明常用的四種\n",
    "\n",
    "### apply\n",
    "語法 :\n",
    "```python\n",
    "資料.apply(函數, axis=參數)\n",
    "```\n",
    "+ note : 參數 1 是行(row)，0 是列(col) \n",
    "+ [pandas.DataFrame.apply](https://pandas.pydata.org/docs/reference/api/pandas.DataFrame.apply.html)\n",
    "+ [pandas apply](https://pythonviz.com/pandas/3-ways-to-use-pandas-apply-in-python/)\n",
    "\n",
    "\n",
    "**每行平均**"
   ]
  },
  {
   "cell_type": "code",
   "execution_count": 17,
   "id": "14bac298",
   "metadata": {},
   "outputs": [
    {
     "data": {
      "text/html": [
       "<div>\n",
       "<style scoped>\n",
       "    .dataframe tbody tr th:only-of-type {\n",
       "        vertical-align: middle;\n",
       "    }\n",
       "\n",
       "    .dataframe tbody tr th {\n",
       "        vertical-align: top;\n",
       "    }\n",
       "\n",
       "    .dataframe thead th {\n",
       "        text-align: right;\n",
       "    }\n",
       "</style>\n",
       "<table border=\"1\" class=\"dataframe\">\n",
       "  <thead>\n",
       "    <tr style=\"text-align: right;\">\n",
       "      <th></th>\n",
       "      <th>0</th>\n",
       "      <th>1</th>\n",
       "      <th>2</th>\n",
       "      <th>3</th>\n",
       "      <th>4</th>\n",
       "      <th>5</th>\n",
       "      <th>6</th>\n",
       "      <th>7</th>\n",
       "      <th>8</th>\n",
       "      <th>9</th>\n",
       "    </tr>\n",
       "  </thead>\n",
       "  <tbody>\n",
       "    <tr>\n",
       "      <th>0</th>\n",
       "      <td>1</td>\n",
       "      <td>11</td>\n",
       "      <td>21</td>\n",
       "      <td>31</td>\n",
       "      <td>41</td>\n",
       "      <td>51</td>\n",
       "      <td>61</td>\n",
       "      <td>71</td>\n",
       "      <td>81</td>\n",
       "      <td>91</td>\n",
       "    </tr>\n",
       "    <tr>\n",
       "      <th>1</th>\n",
       "      <td>2</td>\n",
       "      <td>12</td>\n",
       "      <td>22</td>\n",
       "      <td>32</td>\n",
       "      <td>42</td>\n",
       "      <td>52</td>\n",
       "      <td>62</td>\n",
       "      <td>72</td>\n",
       "      <td>82</td>\n",
       "      <td>92</td>\n",
       "    </tr>\n",
       "    <tr>\n",
       "      <th>2</th>\n",
       "      <td>3</td>\n",
       "      <td>13</td>\n",
       "      <td>23</td>\n",
       "      <td>33</td>\n",
       "      <td>43</td>\n",
       "      <td>53</td>\n",
       "      <td>63</td>\n",
       "      <td>73</td>\n",
       "      <td>83</td>\n",
       "      <td>93</td>\n",
       "    </tr>\n",
       "    <tr>\n",
       "      <th>3</th>\n",
       "      <td>4</td>\n",
       "      <td>14</td>\n",
       "      <td>24</td>\n",
       "      <td>34</td>\n",
       "      <td>44</td>\n",
       "      <td>54</td>\n",
       "      <td>64</td>\n",
       "      <td>74</td>\n",
       "      <td>84</td>\n",
       "      <td>94</td>\n",
       "    </tr>\n",
       "    <tr>\n",
       "      <th>4</th>\n",
       "      <td>5</td>\n",
       "      <td>15</td>\n",
       "      <td>25</td>\n",
       "      <td>35</td>\n",
       "      <td>45</td>\n",
       "      <td>55</td>\n",
       "      <td>65</td>\n",
       "      <td>75</td>\n",
       "      <td>85</td>\n",
       "      <td>95</td>\n",
       "    </tr>\n",
       "    <tr>\n",
       "      <th>5</th>\n",
       "      <td>6</td>\n",
       "      <td>16</td>\n",
       "      <td>26</td>\n",
       "      <td>36</td>\n",
       "      <td>46</td>\n",
       "      <td>56</td>\n",
       "      <td>66</td>\n",
       "      <td>76</td>\n",
       "      <td>86</td>\n",
       "      <td>96</td>\n",
       "    </tr>\n",
       "    <tr>\n",
       "      <th>6</th>\n",
       "      <td>7</td>\n",
       "      <td>17</td>\n",
       "      <td>27</td>\n",
       "      <td>37</td>\n",
       "      <td>47</td>\n",
       "      <td>57</td>\n",
       "      <td>67</td>\n",
       "      <td>77</td>\n",
       "      <td>87</td>\n",
       "      <td>97</td>\n",
       "    </tr>\n",
       "    <tr>\n",
       "      <th>7</th>\n",
       "      <td>8</td>\n",
       "      <td>18</td>\n",
       "      <td>28</td>\n",
       "      <td>38</td>\n",
       "      <td>48</td>\n",
       "      <td>58</td>\n",
       "      <td>68</td>\n",
       "      <td>78</td>\n",
       "      <td>88</td>\n",
       "      <td>98</td>\n",
       "    </tr>\n",
       "    <tr>\n",
       "      <th>8</th>\n",
       "      <td>9</td>\n",
       "      <td>19</td>\n",
       "      <td>29</td>\n",
       "      <td>39</td>\n",
       "      <td>49</td>\n",
       "      <td>59</td>\n",
       "      <td>69</td>\n",
       "      <td>79</td>\n",
       "      <td>89</td>\n",
       "      <td>99</td>\n",
       "    </tr>\n",
       "    <tr>\n",
       "      <th>9</th>\n",
       "      <td>10</td>\n",
       "      <td>20</td>\n",
       "      <td>30</td>\n",
       "      <td>40</td>\n",
       "      <td>50</td>\n",
       "      <td>60</td>\n",
       "      <td>70</td>\n",
       "      <td>80</td>\n",
       "      <td>90</td>\n",
       "      <td>100</td>\n",
       "    </tr>\n",
       "  </tbody>\n",
       "</table>\n",
       "</div>"
      ],
      "text/plain": [
       "    0   1   2   3   4   5   6   7   8    9\n",
       "0   1  11  21  31  41  51  61  71  81   91\n",
       "1   2  12  22  32  42  52  62  72  82   92\n",
       "2   3  13  23  33  43  53  63  73  83   93\n",
       "3   4  14  24  34  44  54  64  74  84   94\n",
       "4   5  15  25  35  45  55  65  75  85   95\n",
       "5   6  16  26  36  46  56  66  76  86   96\n",
       "6   7  17  27  37  47  57  67  77  87   97\n",
       "7   8  18  28  38  48  58  68  78  88   98\n",
       "8   9  19  29  39  49  59  69  79  89   99\n",
       "9  10  20  30  40  50  60  70  80  90  100"
      ]
     },
     "execution_count": 17,
     "metadata": {},
     "output_type": "execute_result"
    }
   ],
   "source": [
    "test = np.transpose(np.array([range(1,101)]).reshape(10,10))\n",
    "test = pd.DataFrame(test)\n",
    "test"
   ]
  },
  {
   "cell_type": "code",
   "execution_count": 18,
   "id": "f0afb095",
   "metadata": {},
   "outputs": [
    {
     "data": {
      "text/plain": [
       "0    46.0\n",
       "1    47.0\n",
       "2    48.0\n",
       "3    49.0\n",
       "4    50.0\n",
       "5    51.0\n",
       "6    52.0\n",
       "7    53.0\n",
       "8    54.0\n",
       "9    55.0\n",
       "dtype: float64"
      ]
     },
     "execution_count": 18,
     "metadata": {},
     "output_type": "execute_result"
    }
   ],
   "source": [
    "test.apply(np.mean,axis=1)"
   ]
  },
  {
   "cell_type": "markdown",
   "id": "09822d62",
   "metadata": {},
   "source": [
    "### applymap 在 python 中相當於 lapply 在 R 中\n",
    "語法 :\n",
    "```python\n",
    "df.applymap(lambda x: 要做的事)\n",
    "```\n",
    "+ 資料型態需為 dataframe"
   ]
  },
  {
   "cell_type": "code",
   "execution_count": 19,
   "id": "17c16aed",
   "metadata": {},
   "outputs": [
    {
     "data": {
      "text/html": [
       "<div>\n",
       "<style scoped>\n",
       "    .dataframe tbody tr th:only-of-type {\n",
       "        vertical-align: middle;\n",
       "    }\n",
       "\n",
       "    .dataframe tbody tr th {\n",
       "        vertical-align: top;\n",
       "    }\n",
       "\n",
       "    .dataframe thead th {\n",
       "        text-align: right;\n",
       "    }\n",
       "</style>\n",
       "<table border=\"1\" class=\"dataframe\">\n",
       "  <thead>\n",
       "    <tr style=\"text-align: right;\">\n",
       "      <th></th>\n",
       "      <th>0</th>\n",
       "    </tr>\n",
       "  </thead>\n",
       "  <tbody>\n",
       "    <tr>\n",
       "      <th>0</th>\n",
       "      <td>5</td>\n",
       "    </tr>\n",
       "    <tr>\n",
       "      <th>1</th>\n",
       "      <td>6</td>\n",
       "    </tr>\n",
       "    <tr>\n",
       "      <th>2</th>\n",
       "      <td>7</td>\n",
       "    </tr>\n",
       "    <tr>\n",
       "      <th>3</th>\n",
       "      <td>8</td>\n",
       "    </tr>\n",
       "    <tr>\n",
       "      <th>4</th>\n",
       "      <td>9</td>\n",
       "    </tr>\n",
       "    <tr>\n",
       "      <th>5</th>\n",
       "      <td>10</td>\n",
       "    </tr>\n",
       "  </tbody>\n",
       "</table>\n",
       "</div>"
      ],
      "text/plain": [
       "    0\n",
       "0   5\n",
       "1   6\n",
       "2   7\n",
       "3   8\n",
       "4   9\n",
       "5  10"
      ]
     },
     "execution_count": 19,
     "metadata": {},
     "output_type": "execute_result"
    }
   ],
   "source": [
    "df = pd.DataFrame(range(5,11))\n",
    "df"
   ]
  },
  {
   "cell_type": "code",
   "execution_count": 20,
   "id": "1ba0cb27",
   "metadata": {},
   "outputs": [
    {
     "data": {
      "text/html": [
       "<div>\n",
       "<style scoped>\n",
       "    .dataframe tbody tr th:only-of-type {\n",
       "        vertical-align: middle;\n",
       "    }\n",
       "\n",
       "    .dataframe tbody tr th {\n",
       "        vertical-align: top;\n",
       "    }\n",
       "\n",
       "    .dataframe thead th {\n",
       "        text-align: right;\n",
       "    }\n",
       "</style>\n",
       "<table border=\"1\" class=\"dataframe\">\n",
       "  <thead>\n",
       "    <tr style=\"text-align: right;\">\n",
       "      <th></th>\n",
       "      <th>0</th>\n",
       "    </tr>\n",
       "  </thead>\n",
       "  <tbody>\n",
       "    <tr>\n",
       "      <th>0</th>\n",
       "      <td>[0.6, 0.1, 0.1, 0.5, 0.6]</td>\n",
       "    </tr>\n",
       "    <tr>\n",
       "      <th>1</th>\n",
       "      <td>[0.5, 0.1, 0.6, 0.0, 0.6, 0.7]</td>\n",
       "    </tr>\n",
       "    <tr>\n",
       "      <th>2</th>\n",
       "      <td>[0.9, 1.0, 0.4, 0.1, 0.1, 0.3, 0.0]</td>\n",
       "    </tr>\n",
       "    <tr>\n",
       "      <th>3</th>\n",
       "      <td>[0.3, 0.4, 0.4, 0.1, 0.9, 0.6, 0.2, 0.0]</td>\n",
       "    </tr>\n",
       "    <tr>\n",
       "      <th>4</th>\n",
       "      <td>[0.0, 0.3, 0.7, 0.6, 0.4, 0.5, 1.0, 0.1, 0.7]</td>\n",
       "    </tr>\n",
       "    <tr>\n",
       "      <th>5</th>\n",
       "      <td>[0.8, 0.4, 0.4, 0.2, 0.8, 0.6, 0.0, 0.4, 0.5, ...</td>\n",
       "    </tr>\n",
       "  </tbody>\n",
       "</table>\n",
       "</div>"
      ],
      "text/plain": [
       "                                                   0\n",
       "0                          [0.6, 0.1, 0.1, 0.5, 0.6]\n",
       "1                     [0.5, 0.1, 0.6, 0.0, 0.6, 0.7]\n",
       "2                [0.9, 1.0, 0.4, 0.1, 0.1, 0.3, 0.0]\n",
       "3           [0.3, 0.4, 0.4, 0.1, 0.9, 0.6, 0.2, 0.0]\n",
       "4      [0.0, 0.3, 0.7, 0.6, 0.4, 0.5, 1.0, 0.1, 0.7]\n",
       "5  [0.8, 0.4, 0.4, 0.2, 0.8, 0.6, 0.0, 0.4, 0.5, ..."
      ]
     },
     "execution_count": 20,
     "metadata": {},
     "output_type": "execute_result"
    }
   ],
   "source": [
    "df1 = df.applymap(lambda x: np.round(np.random.uniform(size=x),1))\n",
    "df1"
   ]
  },
  {
   "cell_type": "markdown",
   "id": "1b2844c0",
   "metadata": {},
   "source": [
    "### map 在 python 中相當於 sapply 在 R 中\n",
    "語法 :\n",
    "```python\n",
    "Series.map()\n",
    "```\n",
    "+ 資料型態需為 Series "
   ]
  },
  {
   "cell_type": "code",
   "execution_count": 21,
   "id": "8491206d",
   "metadata": {},
   "outputs": [
    {
     "data": {
      "text/plain": [
       "0    1\n",
       "1    2\n",
       "2    3\n",
       "3    4\n",
       "4    5\n",
       "dtype: int64"
      ]
     },
     "execution_count": 21,
     "metadata": {},
     "output_type": "execute_result"
    }
   ],
   "source": [
    "df2 = pd.Series(range(1,6))\n",
    "df2"
   ]
  },
  {
   "cell_type": "code",
   "execution_count": 22,
   "id": "a29d0b7b",
   "metadata": {},
   "outputs": [
    {
     "data": {
      "text/plain": [
       "0    (1, 0)\n",
       "1    (2, 1)\n",
       "2    (3, 2)\n",
       "3    (4, 3)\n",
       "4    (5, 4)\n",
       "dtype: object"
      ]
     },
     "execution_count": 22,
     "metadata": {},
     "output_type": "execute_result"
    }
   ],
   "source": [
    "def fun(x):\n",
    "    return(x,x-1)\n",
    "\n",
    "df2.map(fun)"
   ]
  },
  {
   "cell_type": "code",
   "execution_count": 23,
   "id": "971820c6",
   "metadata": {},
   "outputs": [
    {
     "data": {
      "text/html": [
       "<div>\n",
       "<style scoped>\n",
       "    .dataframe tbody tr th:only-of-type {\n",
       "        vertical-align: middle;\n",
       "    }\n",
       "\n",
       "    .dataframe tbody tr th {\n",
       "        vertical-align: top;\n",
       "    }\n",
       "\n",
       "    .dataframe thead th {\n",
       "        text-align: right;\n",
       "    }\n",
       "</style>\n",
       "<table border=\"1\" class=\"dataframe\">\n",
       "  <thead>\n",
       "    <tr style=\"text-align: right;\">\n",
       "      <th></th>\n",
       "      <th>0</th>\n",
       "    </tr>\n",
       "  </thead>\n",
       "  <tbody>\n",
       "    <tr>\n",
       "      <th>0</th>\n",
       "      <td>0    0.071389\n",
       "Name: 1, dtype: float64</td>\n",
       "    </tr>\n",
       "    <tr>\n",
       "      <th>1</th>\n",
       "      <td>0    0.137143\n",
       "Name: 2, dtype: float64</td>\n",
       "    </tr>\n",
       "    <tr>\n",
       "      <th>2</th>\n",
       "      <td>0    0.072344\n",
       "Name: 3, dtype: float64</td>\n",
       "    </tr>\n",
       "    <tr>\n",
       "      <th>3</th>\n",
       "      <td>0    0.088395\n",
       "Name: 4, dtype: float64</td>\n",
       "    </tr>\n",
       "    <tr>\n",
       "      <th>4</th>\n",
       "      <td>0    0.0561\n",
       "Name: 5, dtype: float64</td>\n",
       "    </tr>\n",
       "  </tbody>\n",
       "</table>\n",
       "</div>"
      ],
      "text/plain": [
       "                                       0\n",
       "0  0    0.071389\n",
       "Name: 1, dtype: float64\n",
       "1  0    0.137143\n",
       "Name: 2, dtype: float64\n",
       "2  0    0.072344\n",
       "Name: 3, dtype: float64\n",
       "3  0    0.088395\n",
       "Name: 4, dtype: float64\n",
       "4    0    0.0561\n",
       "Name: 5, dtype: float64"
      ]
     },
     "execution_count": 23,
     "metadata": {},
     "output_type": "execute_result"
    }
   ],
   "source": [
    "pd.DataFrame(df2).applymap(lambda x: df1.loc[x].map(np.var))"
   ]
  },
  {
   "cell_type": "markdown",
   "id": "236bc523",
   "metadata": {},
   "source": [
    "### .pivot_table() / .pivot() 在 python 中相當於 tapply(table) 在 R 中\n",
    "+ index：不重塑的欄位\n",
    "+ columns：指定欄位的值將成為轉換後的寬資料欄位名稱\n",
    "+ values：要重塑的欄位\n",
    "\n",
    "+ pivot_table() 是 pivot() 的通用版本。使用 pivot() 時有額外的限制：原始長資料內，要重複的幾個欄位、不可以有重複的值"
   ]
  },
  {
   "cell_type": "code",
   "execution_count": 24,
   "id": "fd3f76a0",
   "metadata": {},
   "outputs": [
    {
     "data": {
      "text/html": [
       "<div>\n",
       "<style scoped>\n",
       "    .dataframe tbody tr th:only-of-type {\n",
       "        vertical-align: middle;\n",
       "    }\n",
       "\n",
       "    .dataframe tbody tr th {\n",
       "        vertical-align: top;\n",
       "    }\n",
       "\n",
       "    .dataframe thead th {\n",
       "        text-align: right;\n",
       "    }\n",
       "</style>\n",
       "<table border=\"1\" class=\"dataframe\">\n",
       "  <thead>\n",
       "    <tr style=\"text-align: right;\">\n",
       "      <th></th>\n",
       "      <th>家庭收入</th>\n",
       "      <th>學齡</th>\n",
       "      <th>程度</th>\n",
       "    </tr>\n",
       "  </thead>\n",
       "  <tbody>\n",
       "    <tr>\n",
       "      <th>0</th>\n",
       "      <td>100</td>\n",
       "      <td>4</td>\n",
       "      <td>高</td>\n",
       "    </tr>\n",
       "    <tr>\n",
       "      <th>1</th>\n",
       "      <td>70</td>\n",
       "      <td>2</td>\n",
       "      <td>低</td>\n",
       "    </tr>\n",
       "    <tr>\n",
       "      <th>2</th>\n",
       "      <td>50</td>\n",
       "      <td>3</td>\n",
       "      <td>中</td>\n",
       "    </tr>\n",
       "    <tr>\n",
       "      <th>3</th>\n",
       "      <td>69</td>\n",
       "      <td>4</td>\n",
       "      <td>高</td>\n",
       "    </tr>\n",
       "    <tr>\n",
       "      <th>4</th>\n",
       "      <td>56</td>\n",
       "      <td>5</td>\n",
       "      <td>高</td>\n",
       "    </tr>\n",
       "    <tr>\n",
       "      <th>5</th>\n",
       "      <td>130</td>\n",
       "      <td>8</td>\n",
       "      <td>中</td>\n",
       "    </tr>\n",
       "    <tr>\n",
       "      <th>6</th>\n",
       "      <td>200</td>\n",
       "      <td>7</td>\n",
       "      <td>高</td>\n",
       "    </tr>\n",
       "    <tr>\n",
       "      <th>7</th>\n",
       "      <td>110</td>\n",
       "      <td>5</td>\n",
       "      <td>中</td>\n",
       "    </tr>\n",
       "    <tr>\n",
       "      <th>8</th>\n",
       "      <td>320</td>\n",
       "      <td>6</td>\n",
       "      <td>高</td>\n",
       "    </tr>\n",
       "    <tr>\n",
       "      <th>9</th>\n",
       "      <td>44</td>\n",
       "      <td>8</td>\n",
       "      <td>低</td>\n",
       "    </tr>\n",
       "    <tr>\n",
       "      <th>10</th>\n",
       "      <td>67</td>\n",
       "      <td>6</td>\n",
       "      <td>中</td>\n",
       "    </tr>\n",
       "    <tr>\n",
       "      <th>11</th>\n",
       "      <td>69</td>\n",
       "      <td>4</td>\n",
       "      <td>中</td>\n",
       "    </tr>\n",
       "    <tr>\n",
       "      <th>12</th>\n",
       "      <td>55</td>\n",
       "      <td>3</td>\n",
       "      <td>高</td>\n",
       "    </tr>\n",
       "    <tr>\n",
       "      <th>13</th>\n",
       "      <td>48</td>\n",
       "      <td>3</td>\n",
       "      <td>低</td>\n",
       "    </tr>\n",
       "  </tbody>\n",
       "</table>\n",
       "</div>"
      ],
      "text/plain": [
       "    家庭收入  學齡 程度\n",
       "0    100   4  高\n",
       "1     70   2  低\n",
       "2     50   3  中\n",
       "3     69   4  高\n",
       "4     56   5  高\n",
       "5    130   8  中\n",
       "6    200   7  高\n",
       "7    110   5  中\n",
       "8    320   6  高\n",
       "9     44   8  低\n",
       "10    67   6  中\n",
       "11    69   4  中\n",
       "12    55   3  高\n",
       "13    48   3  低"
      ]
     },
     "execution_count": 24,
     "metadata": {},
     "output_type": "execute_result"
    }
   ],
   "source": [
    "d = {\"家庭收入\" : (100,70,50,69,56,130,200,110,320,44,67,69,55,48),\n",
    "     \"學齡\" : (4,2,3,4,5,8,7,5,6,8,6,4,3,3),\n",
    "     \"程度\" : (\"高\",\"低\",\"中\",\"高\",\"高\",\"中\",\"高\",\"中\",\"高\",\"低\",\"中\",\"中\",\"高\",\"低\")}\n",
    "\n",
    "test2 = pd.DataFrame(d)\n",
    "test2"
   ]
  },
  {
   "cell_type": "code",
   "execution_count": 25,
   "id": "edcb21ac",
   "metadata": {},
   "outputs": [
    {
     "data": {
      "text/html": [
       "<div>\n",
       "<style scoped>\n",
       "    .dataframe tbody tr th:only-of-type {\n",
       "        vertical-align: middle;\n",
       "    }\n",
       "\n",
       "    .dataframe tbody tr th {\n",
       "        vertical-align: top;\n",
       "    }\n",
       "\n",
       "    .dataframe thead th {\n",
       "        text-align: right;\n",
       "    }\n",
       "</style>\n",
       "<table border=\"1\" class=\"dataframe\">\n",
       "  <thead>\n",
       "    <tr style=\"text-align: right;\">\n",
       "      <th>程度</th>\n",
       "      <th>中</th>\n",
       "      <th>低</th>\n",
       "      <th>高</th>\n",
       "    </tr>\n",
       "    <tr>\n",
       "      <th>學齡</th>\n",
       "      <th></th>\n",
       "      <th></th>\n",
       "      <th></th>\n",
       "    </tr>\n",
       "  </thead>\n",
       "  <tbody>\n",
       "    <tr>\n",
       "      <th>2</th>\n",
       "      <td>NaN</td>\n",
       "      <td>70.0</td>\n",
       "      <td>NaN</td>\n",
       "    </tr>\n",
       "    <tr>\n",
       "      <th>3</th>\n",
       "      <td>50.0</td>\n",
       "      <td>48.0</td>\n",
       "      <td>55.0</td>\n",
       "    </tr>\n",
       "    <tr>\n",
       "      <th>4</th>\n",
       "      <td>69.0</td>\n",
       "      <td>NaN</td>\n",
       "      <td>84.5</td>\n",
       "    </tr>\n",
       "    <tr>\n",
       "      <th>5</th>\n",
       "      <td>110.0</td>\n",
       "      <td>NaN</td>\n",
       "      <td>56.0</td>\n",
       "    </tr>\n",
       "    <tr>\n",
       "      <th>6</th>\n",
       "      <td>67.0</td>\n",
       "      <td>NaN</td>\n",
       "      <td>320.0</td>\n",
       "    </tr>\n",
       "    <tr>\n",
       "      <th>7</th>\n",
       "      <td>NaN</td>\n",
       "      <td>NaN</td>\n",
       "      <td>200.0</td>\n",
       "    </tr>\n",
       "    <tr>\n",
       "      <th>8</th>\n",
       "      <td>130.0</td>\n",
       "      <td>44.0</td>\n",
       "      <td>NaN</td>\n",
       "    </tr>\n",
       "  </tbody>\n",
       "</table>\n",
       "</div>"
      ],
      "text/plain": [
       "程度      中     低      高\n",
       "學齡                    \n",
       "2     NaN  70.0    NaN\n",
       "3    50.0  48.0   55.0\n",
       "4    69.0   NaN   84.5\n",
       "5   110.0   NaN   56.0\n",
       "6    67.0   NaN  320.0\n",
       "7     NaN   NaN  200.0\n",
       "8   130.0  44.0    NaN"
      ]
     },
     "execution_count": 25,
     "metadata": {},
     "output_type": "execute_result"
    }
   ],
   "source": [
    "test2.pivot_table(index='學齡', columns='程度', values='家庭收入')"
   ]
  },
  {
   "cell_type": "markdown",
   "id": "1b16ccd0",
   "metadata": {},
   "source": [
    "**可再搭配 .groupby() / .aggregate() 做後續操作，split - apply - combine 為資料集中常見的操作，可回去參考 : 5_資料整理基礎**"
   ]
  },
  {
   "cell_type": "markdown",
   "id": "4f77875f",
   "metadata": {},
   "source": [
    "## 更多操作\n",
    "+ [split-apply-combine](https://pandas.pydata.org/pandas-docs/stable/user_guide/groupby.html)\n",
    "+ [有沒有類似 Purrr (R) 的庫？](https://www.reddit.com/r/datascience/comments/6w3s0g/is_there_any_library_similar_to_purrr_r/)\n",
    "+ [Map, Filter and Reduce](https://book.pythontips.com/en/latest/map_filter.html)\n",
    "\n",
    "### python 的接班者 : [Coconut](http://coconut-lang.org/)"
   ]
  },
  {
   "cell_type": "markdown",
   "id": "1a627bfe",
   "metadata": {},
   "source": [
    "# 平行計算\n",
    "+ 並行 Concurrency — multithreading：即在同一個 process 開多個 Thread\n",
    "+ 平行 Parallelism — multiprocessing：直接多開 process\n",
    "\n",
    "\n",
    "+ 一個 process 裡面可以含有多個 thread\n",
    "+ 這些底下的 thread 之間可以共享資源、一起合作將該建立好的 process 功能完成\n",
    "\n",
    "\n",
    "+ [[Python] 並行與平行 — 影分身之術！](https://medium.com/%E7%A8%8B%E5%BC%8F%E4%B9%BE%E8%B2%A8/python-%E4%B8%A6%E8%A1%8C%E8%88%87%E5%B9%B3%E8%A1%8C-%E5%BD%B1%E5%88%86%E8%BA%AB%E4%B9%8B%E8%A1%93-2b8238916297)\n"
   ]
  },
  {
   "cell_type": "code",
   "execution_count": 26,
   "id": "29f99430",
   "metadata": {},
   "outputs": [
    {
     "name": "stdout",
     "output_type": "stream",
     "text": [
      "0\n",
      "1\n",
      "2\n",
      "3\n",
      "4\n",
      "0\n",
      "1\n",
      "2\n",
      "3\n",
      "4\n",
      "5\n",
      "6\n",
      "7\n",
      "8\n",
      "9\n",
      "It costs 15.156838417053223 s\n"
     ]
    }
   ],
   "source": [
    "import time\n",
    "\n",
    "def sleep_5():\n",
    "    for i in range(0, 5):\n",
    "        print(i)\n",
    "        time.sleep(1)\n",
    "    return\n",
    "\n",
    "def sleep_10():\n",
    "    for i in range(0, 10):\n",
    "        print(i)\n",
    "        time.sleep(1)\n",
    "    return\n",
    "\n",
    "start_time = time.time()\n",
    "sleep_5()\n",
    "sleep_10()\n",
    "end_time = time.time()\n",
    "\n",
    "print('It costs '+str(end_time - start_time)+' s')"
   ]
  },
  {
   "cell_type": "markdown",
   "id": "e4ad1b82",
   "metadata": {},
   "source": [
    "## 第一種平行方法 : 平行 parallelism\n",
    "+ 就是 multiprocessing，現在把兩個迴圈分配給兩個 process 來同時進行\n",
    "\n",
    "\n",
    "```\n",
    "使用 Multi-Processing 進行平行運算前，需要確認 :\n",
    "\n",
    "由於不同的 Process 間無法共享資料，所以如果平行運算的過程中需要互相取用資料，就不適合透過 Multi-Process 的方式執行。 \n",
    "```"
   ]
  },
  {
   "cell_type": "code",
   "execution_count": 27,
   "id": "b68a168d",
   "metadata": {},
   "outputs": [
    {
     "name": "stdout",
     "output_type": "stream",
     "text": [
      "It costs 0.12230062484741211 s\n"
     ]
    }
   ],
   "source": [
    "import time\n",
    "import multiprocessing as mp\n",
    "\n",
    "def sleep_5():\n",
    "    for i in range(0, 5):\n",
    "        print(i)\n",
    "        time.sleep(1)\n",
    "    return\n",
    "\n",
    "def sleep_10():\n",
    "    for i in range(0, 10):\n",
    "        print(i)\n",
    "        time.sleep(1)\n",
    "    return\n",
    "\n",
    "start_time = time.time()  \n",
    "\n",
    "p1 = mp.Process(target=sleep_5)   # 建立一個名字為 p1 的 Process，執行任務\n",
    "p2 = mp.Process(target=sleep_10)\n",
    "\n",
    "p1.start()                        # 啟動 p1 任務\n",
    "p2.start()\n",
    "\n",
    "p1.join()                         # 等待 p1 任務結束 (一定會等到結束才執行下一行)\n",
    "p2.join()\n",
    "\n",
    "end_time = time.time()\n",
    "\n",
    "print('It costs '+str(end_time - start_time)+' s')"
   ]
  },
  {
   "cell_type": "markdown",
   "id": "0a7081d5",
   "metadata": {},
   "source": [
    "+ **把上面程式存成 mp.py**"
   ]
  },
  {
   "cell_type": "code",
   "execution_count": 28,
   "id": "4086b0e3",
   "metadata": {},
   "outputs": [
    {
     "name": "stdout",
     "output_type": "stream",
     "text": [
      "# -*- coding: big5 -*-\n",
      "\n",
      "import time\n",
      "import multiprocessing as mp\n",
      "\n",
      "def sleep_5():\n",
      "    for i in range(0, 5):\n",
      "        print(i)\n",
      "        time.sleep(1)\n",
      "    return\n",
      "\n",
      "def sleep_10():\n",
      "    for i in range(0, 10):\n",
      "        print(i)\n",
      "        time.sleep(1)\n",
      "    return\n",
      "\n",
      "\n",
      "start_time = time.time()  \n",
      "\n",
      "if __name__ == '__main__':\n",
      "  # run tasks sequentially\n",
      "  p1 = mp.Process(target=sleep_5)   \n",
      "  p2 = mp.Process(target=sleep_10)\n",
      "  \n",
      "  p1.start()                        \n",
      "  p2.start()\n",
      "  \n",
      "  p1.join()                         \n",
      "  p2.join()\n",
      " \n",
      "end_time = time.time()\n",
      "\n",
      "print('It costs '+str(end_time - start_time)+' s')\n"
     ]
    }
   ],
   "source": [
    "file = open(r\"C:\\Users\\user\\mp.py\", mode='r')\n",
    "data = file.read()\n",
    "print(data)\n",
    "file.close()"
   ]
  },
  {
   "cell_type": "markdown",
   "id": "c465d53b",
   "metadata": {},
   "source": [
    "+ **放到 python 的啟動目錄下，然後在命令列打 python \"mp.py\"**"
   ]
  },
  {
   "attachments": {
    "image.png": {
     "image/png": "[encoded data removed]"
    }
   },
   "cell_type": "markdown",
   "id": "3f48f022",
   "metadata": {},
   "source": [
    "![image.png](attachment:image.png)"
   ]
  },
  {
   "cell_type": "markdown",
   "id": "33ca0fa0",
   "metadata": {},
   "source": [
    "+ **mp 在 windows 下的用法比較特殊，似乎不能用 python 的直譯器**"
   ]
  },
  {
   "cell_type": "markdown",
   "id": "ccec10c5",
   "metadata": {},
   "source": [
    "## 第二種平行方法 : 並行 Concurrency\n",
    "+ 就是 multithreading，這時我要把兩個迴圈分配給兩個 thread 同時進行"
   ]
  },
  {
   "cell_type": "code",
   "execution_count": 29,
   "id": "1073a4c5",
   "metadata": {},
   "outputs": [
    {
     "name": "stdout",
     "output_type": "stream",
     "text": [
      "0\n",
      "0\n",
      "1\n",
      "1\n",
      "22\n",
      "\n",
      "33\n",
      "\n",
      "4\n",
      "4\n",
      "5\n",
      "6\n",
      "7\n",
      "8\n",
      "9\n",
      "It costs 10.081093072891235 s\n"
     ]
    }
   ],
   "source": [
    "import os\n",
    "import threading\n",
    "\n",
    "def sleep_5():\n",
    "    for i in range(0, 5):\n",
    "        print(i)\n",
    "        time.sleep(1)\n",
    "    return\n",
    "\n",
    "def sleep_10():\n",
    "    for i in range(0, 10):\n",
    "        print(i)\n",
    "        time.sleep(1)\n",
    "    return\n",
    "  \n",
    "start_time = time.time()\n",
    "\n",
    "thread_1 = threading.Thread(target=sleep_5)   # 例項化一個執行緒物件，使執行緒執行這個函式\n",
    "thread_2 = threading.Thread(target=sleep_10)  # 例項化一個執行緒物件，使執行緒執行這個函式\n",
    "\n",
    "thread_1.start()  # 啟動這個執行緒\n",
    "thread_2.start()  # 啟動這個執行緒\n",
    "\n",
    "thread_1.join()   # 等待 thread_1 結束，如果不打 join 程式會直接往下執行\n",
    "thread_2.join()   # 等待 thread_2 結束，如果不打 join 程式會直接往下執行\n",
    "\n",
    "end_time = time.time()\n",
    "\n",
    "print('It costs '+str(end_time - start_time)+' s')"
   ]
  },
  {
   "cell_type": "markdown",
   "id": "b450526e",
   "metadata": {},
   "source": [
    "+ [Python 平行化運算 - Multi-Processing](https://www.minglunwu.com/notes/2020/20200520.html)\n",
    "\n",
    "+ [平行化你的 Python 程式](https://minghsu.io/posts/python-parallel/)"
   ]
  },
  {
   "cell_type": "markdown",
   "id": "a4f65871",
   "metadata": {},
   "source": [
    "# 遞迴\n",
    "\n",
    "遞迴與迭代的差異：\n",
    "+ [疊代與遞迴\n",
    "(Iteration & Recursion)](http://simonsays-tw.com/web/Recursion/Iteration&Recursion.html)\n",
    "\n",
    "河內塔解法原理：\n",
    "+ [河內塔](https://openhome.cc/zh-tw/algorithm/basics/hanoi-tower/)\n",
    "\n",
    "河內塔的 python 程式範例：\n",
    "+ [河內塔](https://openhome.cc/zh-tw/algorithm/basics/hanoi-tower/)"
   ]
  },
  {
   "cell_type": "markdown",
   "id": "b0502133",
   "metadata": {},
   "source": [
    "---"
   ]
  }
 ],
 "metadata": {
  "kernelspec": {
   "display_name": "Python 3 (ipykernel)",
   "language": "python",
   "name": "python3"
  },
  "language_info": {
   "codemirror_mode": {
    "name": "ipython",
    "version": 3
   },
   "file_extension": ".py",
   "mimetype": "text/x-python",
   "name": "python",
   "nbconvert_exporter": "python",
   "pygments_lexer": "ipython3",
   "version": "3.8.8"
  }
 },
 "nbformat": 4,
 "nbformat_minor": 5
}
