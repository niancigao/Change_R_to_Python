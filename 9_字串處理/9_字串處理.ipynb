{
 "cells": [
  {
   "cell_type": "markdown",
   "id": "721321e4",
   "metadata": {},
   "source": [
    "# 字串處理\n",
    "### 陳俊宇\n",
    "**March,1,2023**\n",
    "\n",
    "---"
   ]
  },
  {
   "cell_type": "markdown",
   "id": "efd24f72",
   "metadata": {},
   "source": [
    "# 字串基礎知識\n",
    "可以使用單引號(' ')或雙引號(\" \")創建字串。"
   ]
  },
  {
   "cell_type": "code",
   "execution_count": 1,
   "id": "a56777ce",
   "metadata": {},
   "outputs": [
    {
     "data": {
      "text/plain": [
       "'I am a student.'"
      ]
     },
     "execution_count": 1,
     "metadata": {},
     "output_type": "execute_result"
    }
   ],
   "source": [
    "string1 = \"I am a student.\"\n",
    "string1"
   ]
  },
  {
   "cell_type": "code",
   "execution_count": 2,
   "id": "2b06b934",
   "metadata": {},
   "outputs": [
    {
     "data": {
      "text/plain": [
       "\"I am a 'NSYSU' student.\""
      ]
     },
     "execution_count": 2,
     "metadata": {},
     "output_type": "execute_result"
    }
   ],
   "source": [
    "string2 = \"I am a 'NSYSU' student.\"\n",
    "string2"
   ]
  },
  {
   "cell_type": "markdown",
   "id": "ade72567",
   "metadata": {},
   "source": [
    "要在字串中包含文字單引號或雙引號，應使用 \\，因為單引號(' ')或雙引號(\" \")為特殊字元。"
   ]
  },
  {
   "cell_type": "code",
   "execution_count": 3,
   "id": "bb5065e7",
   "metadata": {},
   "outputs": [
    {
     "data": {
      "text/plain": [
       "\"I'm a student.\""
      ]
     },
     "execution_count": 3,
     "metadata": {},
     "output_type": "execute_result"
    }
   ],
   "source": [
    "string3 = \"I\\'m a student.\"\n",
    "string3"
   ]
  },
  {
   "cell_type": "markdown",
   "id": "d2e58718",
   "metadata": {},
   "source": [
    "多個字串可以使用 [ ] 存儲在 list 中。"
   ]
  },
  {
   "cell_type": "code",
   "execution_count": 4,
   "id": "ae6f4e57",
   "metadata": {},
   "outputs": [
    {
     "data": {
      "text/plain": [
       "['a', 'b', 'c']"
      ]
     },
     "execution_count": 4,
     "metadata": {},
     "output_type": "execute_result"
    }
   ],
   "source": [
    "[\"a\", \"b\", \"c\"]"
   ]
  },
  {
   "cell_type": "markdown",
   "id": "fec70553",
   "metadata": {},
   "source": [
    "也可以使用 () 存儲在 tuple (元組) 中。"
   ]
  },
  {
   "cell_type": "code",
   "execution_count": 5,
   "id": "264db20f",
   "metadata": {},
   "outputs": [
    {
     "data": {
      "text/plain": [
       "('a', 'b', 'c')"
      ]
     },
     "execution_count": 5,
     "metadata": {},
     "output_type": "execute_result"
    }
   ],
   "source": [
    "(\"a\", \"b\", \"c\")"
   ]
  },
  {
   "cell_type": "markdown",
   "id": "eeca1787",
   "metadata": {},
   "source": [
    "# 字串的轉換\n",
    "## 大小寫"
   ]
  },
  {
   "cell_type": "code",
   "execution_count": 6,
   "id": "9cac1e4c",
   "metadata": {},
   "outputs": [],
   "source": [
    "string1 = \"I am a student\"\n",
    "string2 = [\"I\", \"am\", \"a\", \"student\"]"
   ]
  },
  {
   "cell_type": "markdown",
   "id": "a6c2c0f6",
   "metadata": {},
   "source": [
    "將英文字串轉換成大寫"
   ]
  },
  {
   "cell_type": "code",
   "execution_count": 7,
   "id": "677d7f83",
   "metadata": {},
   "outputs": [
    {
     "data": {
      "text/plain": [
       "'I AM A STUDENT'"
      ]
     },
     "execution_count": 7,
     "metadata": {},
     "output_type": "execute_result"
    }
   ],
   "source": [
    "string1.upper()"
   ]
  },
  {
   "cell_type": "markdown",
   "id": "be2fde43",
   "metadata": {},
   "source": [
    "+ **需要在字符串對像上調用該方法**\n",
    "+ **意味著必須訪問 list 中的元素**"
   ]
  },
  {
   "cell_type": "code",
   "execution_count": 8,
   "id": "71611bbf",
   "metadata": {},
   "outputs": [
    {
     "data": {
      "text/plain": [
       "['I', 'AM', 'A', 'STUDENT']"
      ]
     },
     "execution_count": 8,
     "metadata": {},
     "output_type": "execute_result"
    }
   ],
   "source": [
    "[item.upper() for item in string2]"
   ]
  },
  {
   "cell_type": "markdown",
   "id": "9ca4a742",
   "metadata": {},
   "source": [
    "將英文字串轉換成小寫"
   ]
  },
  {
   "cell_type": "code",
   "execution_count": 9,
   "id": "6af208ed",
   "metadata": {},
   "outputs": [
    {
     "data": {
      "text/plain": [
       "'i am a student'"
      ]
     },
     "execution_count": 9,
     "metadata": {},
     "output_type": "execute_result"
    }
   ],
   "source": [
    "string1.lower()"
   ]
  },
  {
   "cell_type": "markdown",
   "id": "e7b73e98",
   "metadata": {},
   "source": [
    "+ **需要在字符串對像上調用該方法**\n",
    "+ **意味著必須訪問 list 中的元素**"
   ]
  },
  {
   "cell_type": "code",
   "execution_count": 10,
   "id": "c99baf4b",
   "metadata": {},
   "outputs": [
    {
     "data": {
      "text/plain": [
       "['i', 'am', 'a', 'student']"
      ]
     },
     "execution_count": 10,
     "metadata": {},
     "output_type": "execute_result"
    }
   ],
   "source": [
    "[item.lower() for item in string2]"
   ]
  },
  {
   "cell_type": "markdown",
   "id": "9a8af108",
   "metadata": {},
   "source": [
    "將英文字串中的首字母轉換成大寫"
   ]
  },
  {
   "cell_type": "code",
   "execution_count": 11,
   "id": "c395abf3",
   "metadata": {},
   "outputs": [
    {
     "data": {
      "text/plain": [
       "'I Am A Student'"
      ]
     },
     "execution_count": 11,
     "metadata": {},
     "output_type": "execute_result"
    }
   ],
   "source": [
    "string1.title()"
   ]
  },
  {
   "cell_type": "markdown",
   "id": "c2706cce",
   "metadata": {},
   "source": [
    "+ **需要在字符串對像上調用該方法**\n",
    "+ **意味著必須訪問 list 中的元素**"
   ]
  },
  {
   "cell_type": "code",
   "execution_count": 12,
   "id": "73a4a1b3",
   "metadata": {},
   "outputs": [
    {
     "data": {
      "text/plain": [
       "['I', 'Am', 'A', 'Student']"
      ]
     },
     "execution_count": 12,
     "metadata": {},
     "output_type": "execute_result"
    }
   ],
   "source": [
    "[item.title() for item in string2]"
   ]
  },
  {
   "cell_type": "markdown",
   "id": "775c10da",
   "metadata": {},
   "source": [
    "將英文字串中的第一個字母大寫，其餘小寫"
   ]
  },
  {
   "cell_type": "code",
   "execution_count": 13,
   "id": "82bf1cfa",
   "metadata": {},
   "outputs": [
    {
     "data": {
      "text/plain": [
       "'I am a student'"
      ]
     },
     "execution_count": 13,
     "metadata": {},
     "output_type": "execute_result"
    }
   ],
   "source": [
    "string1.capitalize() "
   ]
  },
  {
   "cell_type": "markdown",
   "id": "8713e912",
   "metadata": {},
   "source": [
    "+ **需要在字符串對像上調用該方法**\n",
    "+ **意味著必須訪問 list 中的元素**"
   ]
  },
  {
   "cell_type": "code",
   "execution_count": 14,
   "id": "55736f00",
   "metadata": {},
   "outputs": [
    {
     "data": {
      "text/plain": [
       "['I', 'Am', 'A', 'Student']"
      ]
     },
     "execution_count": 14,
     "metadata": {},
     "output_type": "execute_result"
    }
   ],
   "source": [
    "[item.capitalize() for item in string2]"
   ]
  },
  {
   "cell_type": "markdown",
   "id": "d824f78d",
   "metadata": {},
   "source": [
    "## 編碼轉換\n",
    "+ 在Python中，可以使用內建的編碼和解碼函數來進行文字編碼轉換\n",
    "+ 編碼 : .encode(\" \") \n",
    "+ 解碼 : .decode(\" \")  "
   ]
  },
  {
   "cell_type": "markdown",
   "id": "1de9f3ec",
   "metadata": {},
   "source": [
    "**1. ASCII 編碼**"
   ]
  },
  {
   "cell_type": "code",
   "execution_count": 15,
   "id": "514441d3",
   "metadata": {},
   "outputs": [
    {
     "name": "stdout",
     "output_type": "stream",
     "text": [
      "b'Hello, world!'\n",
      "Hello, world!\n"
     ]
    }
   ],
   "source": [
    "text = \"Hello, world!\"\n",
    "encoded_text = text.encode(\"ascii\")          # 編碼\n",
    "decoded_text = encoded_text.decode(\"ascii\")  # 解碼\n",
    "print(encoded_text)  # b'Hello, world!'\n",
    "print(decoded_text)  # Hello, world!"
   ]
  },
  {
   "cell_type": "markdown",
   "id": "5147b1c4",
   "metadata": {},
   "source": [
    "**2.UTF-8 編碼**"
   ]
  },
  {
   "cell_type": "code",
   "execution_count": 16,
   "id": "3832039d",
   "metadata": {},
   "outputs": [
    {
     "name": "stdout",
     "output_type": "stream",
     "text": [
      "b'\\xe4\\xbd\\xa0\\xe5\\xa5\\xbd\\xef\\xbc\\x8c\\xe4\\xb8\\x96\\xe7\\x95\\x8c\\xef\\xbc\\x81'\n",
      "你好，世界！\n"
     ]
    }
   ],
   "source": [
    "text = \"你好，世界！\"\n",
    "encoded_text = text.encode(\"utf-8\")\n",
    "decoded_text = encoded_text.decode(\"utf-8\")\n",
    "print(encoded_text)  # b'\\xe4\\xbd\\xa0\\xe5\\xa5\\xbd\\xef\\xbc\\x8c\\xe4\\xb8\\x96\\xe7\\x95\\x8c\\xef\\xbc\\x81'\n",
    "print(decoded_text)  # 你好，世界！"
   ]
  },
  {
   "cell_type": "markdown",
   "id": "011de676",
   "metadata": {},
   "source": [
    "**3.Base64 編碼**"
   ]
  },
  {
   "cell_type": "code",
   "execution_count": 17,
   "id": "4d41fc3b",
   "metadata": {},
   "outputs": [
    {
     "name": "stdout",
     "output_type": "stream",
     "text": [
      "b'SGVsbG8sIHdvcmxkIQ=='\n",
      "Hello, world!\n"
     ]
    }
   ],
   "source": [
    "import base64\n",
    "\n",
    "text = \"Hello, world!\"\n",
    "encoded_text = base64.b64encode(text.encode(\"utf-8\"))\n",
    "decoded_text = base64.b64decode(encoded_text).decode(\"utf-8\")\n",
    "print(encoded_text)  # b'SGVsbG8sIHdvcmxkIQ=='\n",
    "print(decoded_text)  # Hello, world!"
   ]
  },
  {
   "cell_type": "markdown",
   "id": "871de89e",
   "metadata": {},
   "source": [
    "還有其他編碼方法可用，Python 官方文件提供了詳細的編碼支援和相關函數的說明\n",
    "+ [codecs — Codec registry and base classes(Python官方文件 - codecs模組)](https://docs.python.org/3/library/codecs.html)"
   ]
  },
  {
   "cell_type": "markdown",
   "id": "527d84ab",
   "metadata": {},
   "source": [
    "# 找出起始到结束位置"
   ]
  },
  {
   "cell_type": "markdown",
   "id": "21ce1218",
   "metadata": {},
   "source": [
    "## 找出字串裡面的特定片段的位置\n",
    "**使用 index()**\n",
    "+ find() 只適用於字串（String）物件"
   ]
  },
  {
   "cell_type": "code",
   "execution_count": 18,
   "id": "1aad44f1",
   "metadata": {},
   "outputs": [],
   "source": [
    "string4 = [\"grape\", \"banana\", \"apple\", \"mango \"]"
   ]
  },
  {
   "cell_type": "markdown",
   "id": "78451aaa",
   "metadata": {},
   "source": [
    "只找出第一個出現的位置："
   ]
  },
  {
   "attachments": {
    "image.png": {
     "image/png": "[encoded data removed]"
    }
   },
   "cell_type": "markdown",
   "id": "b5557062",
   "metadata": {},
   "source": [
    "![image.png](attachment:image.png)"
   ]
  },
  {
   "cell_type": "markdown",
   "id": "8332f1f1",
   "metadata": {},
   "source": [
    "+ index() 用於查找元素在列表中的索引，無法直接應用於字串的列表\n",
    "```\n",
    "遍歷 string4 中的每個字串，並對每個字串使用 index() 來尋找 \"a\" 的位置，\n",
    "如果該字串中沒有找到該字母，則 index() 方法會拋出 ValueError 錯誤，\n",
    "我們使用 try-except 來處理錯誤並跳過該字串。\n",
    "```"
   ]
  },
  {
   "cell_type": "code",
   "execution_count": 19,
   "id": "9d0d012d",
   "metadata": {},
   "outputs": [
    {
     "name": "stdout",
     "output_type": "stream",
     "text": [
      "[2, 1, 0, 1]\n"
     ]
    }
   ],
   "source": [
    "substring = \"a\"\n",
    "positions = []\n",
    "for s in string4:\n",
    "    try:\n",
    "        position = s.index(substring)\n",
    "        positions.append(position)\n",
    "    except ValueError:\n",
    "        pass\n",
    "print(positions)"
   ]
  },
  {
   "cell_type": "markdown",
   "id": "1f73b186",
   "metadata": {},
   "source": [
    "找出全部位置："
   ]
  },
  {
   "cell_type": "code",
   "execution_count": 20,
   "id": "eaccc2a0",
   "metadata": {},
   "outputs": [
    {
     "name": "stdout",
     "output_type": "stream",
     "text": [
      "[2, '', 1, 3, 5, '', 0, '', 1, '']\n"
     ]
    }
   ],
   "source": [
    "substring = \"a\"\n",
    "positions = []\n",
    "for s in string4:\n",
    "    for i in range(len(s)):                     # 內層的迴圈來遍歷該字串中的每個字符\n",
    "        if s[i:i+len(substring)] == substring:\n",
    "            positions.append(i)\n",
    "    positions.append('')\n",
    "print(positions)  "
   ]
  },
  {
   "cell_type": "markdown",
   "id": "a4e6cf96",
   "metadata": {},
   "source": [
    "## 找出字串裡面符合特定規則的片段\n",
    "找出字串裡數字的位置"
   ]
  },
  {
   "cell_type": "code",
   "execution_count": 21,
   "id": "9e402c53",
   "metadata": {},
   "outputs": [],
   "source": [
    "str1 = \"1 and 2 and 4 and 456 7\""
   ]
  },
  {
   "cell_type": "markdown",
   "id": "0e745e01",
   "metadata": {},
   "source": [
    "1. 正則表達式來匹配數字模式"
   ]
  },
  {
   "cell_type": "code",
   "execution_count": 22,
   "id": "8a02a66f",
   "metadata": {},
   "outputs": [
    {
     "name": "stdout",
     "output_type": "stream",
     "text": [
      "[0, 6, 12, 18, 22]\n"
     ]
    }
   ],
   "source": [
    "import re\n",
    "\n",
    "pattern = r\"\\d+\"  # 匹配一個或多個連續的數字，(正則表達式 \"\\d+\")\n",
    "matches = re.finditer(pattern, str1)              # 函數進行正則表達式匹配時，返回一個迭代器\n",
    "positions = [match.start() for match in matches]  # 正則表達式匹配對象的方法，用於獲取匹配的起始位置\n",
    "print(positions)"
   ]
  },
  {
   "cell_type": "code",
   "execution_count": 23,
   "id": "c5dcc6b0",
   "metadata": {},
   "outputs": [
    {
     "name": "stdout",
     "output_type": "stream",
     "text": [
      "0\n",
      "6\n",
      "12\n",
      "18\n",
      "22\n"
     ]
    }
   ],
   "source": [
    "import re\n",
    "\n",
    "pattern = r\"\\d+\" \n",
    "matches = re.finditer(pattern, str1)\n",
    "\n",
    "for match in matches:\n",
    "    start_position = match.start()\n",
    "    print(start_position)"
   ]
  },
  {
   "cell_type": "markdown",
   "id": "7664270a",
   "metadata": {},
   "source": [
    "2. 迴圈遍歷字串並檢查"
   ]
  },
  {
   "cell_type": "code",
   "execution_count": 24,
   "id": "cd91a283",
   "metadata": {},
   "outputs": [
    {
     "name": "stdout",
     "output_type": "stream",
     "text": [
      "[0, 6, 12, 18, 19, 20, 22]\n"
     ]
    }
   ],
   "source": [
    "positions = []\n",
    "current_position = 0\n",
    "while current_position < len(str1):\n",
    "    if str1[current_position].isdigit():     # 使用 isdigit() 進行檢查\n",
    "        positions.append(current_position)\n",
    "        current_position += 1\n",
    "    else:\n",
    "        current_position += 1\n",
    "print(positions)"
   ]
  },
  {
   "cell_type": "markdown",
   "id": "fe2c2291",
   "metadata": {},
   "source": [
    "找出字串裡不是數字的位置\n",
    "+ 將正則表達式的匹配反轉"
   ]
  },
  {
   "cell_type": "code",
   "execution_count": 25,
   "id": "12f3dc1e",
   "metadata": {},
   "outputs": [
    {
     "name": "stdout",
     "output_type": "stream",
     "text": [
      "[1, 2, 3, 4, 5, 7, 8, 9, 10, 11, 13, 14, 15, 16, 17, 19, 20, 21]\n"
     ]
    }
   ],
   "source": [
    "import re\n",
    "\n",
    "str1 = \"1 and 2 and 4 and 456 7\"\n",
    "pattern = r\"\\d+\"  # 匹配一個或多個連續的數字\n",
    "\n",
    "# Step 1: 獲取所有匹配的結果\n",
    "matches = re.findall(pattern, str1)\n",
    "\n",
    "# Step 2: 檢查每個位置是否在匹配的結果中\n",
    "# Step 3: 如果位置不在匹配的結果中，則將該位置視為反向匹配的位置。\n",
    "positions = [i for i in range(len(str1)) if i not in [m.start() for m in re.finditer(pattern, str1)]]\n",
    "\n",
    "print(positions)"
   ]
  },
  {
   "cell_type": "markdown",
   "id": "03b2f072",
   "metadata": {},
   "source": [
    "# 字串連接"
   ]
  },
  {
   "cell_type": "markdown",
   "id": "24d597d4",
   "metadata": {},
   "source": [
    "### 1. 使用加號 (+) 運算子\n",
    "**連接 2 個字串向量**"
   ]
  },
  {
   "cell_type": "code",
   "execution_count": 26,
   "id": "be616858",
   "metadata": {},
   "outputs": [
    {
     "name": "stdout",
     "output_type": "stream",
     "text": [
      "stringabcde\n"
     ]
    }
   ],
   "source": [
    "import string  # 用於獲取字母序列\n",
    "\n",
    "s = \"string\" + \"\".join(string.ascii_lowercase[:5])  # string.ascii_lowercase 中的前 5 個元素\n",
    "print(s)"
   ]
  },
  {
   "cell_type": "markdown",
   "id": "3a1fd2c8",
   "metadata": {},
   "source": [
    "### 2. 使用 f-strings 或格式化字符串"
   ]
  },
  {
   "cell_type": "code",
   "execution_count": 27,
   "id": "eb39caab",
   "metadata": {},
   "outputs": [
    {
     "name": "stdout",
     "output_type": "stream",
     "text": [
      "stringabcde\n"
     ]
    }
   ],
   "source": [
    "s = f\"string{''.join(string.ascii_lowercase[:5])}\"\n",
    "print(s)"
   ]
  },
  {
   "cell_type": "markdown",
   "id": "1567b28f",
   "metadata": {},
   "source": [
    "### 3. 使用 .join()"
   ]
  },
  {
   "cell_type": "code",
   "execution_count": 28,
   "id": "fb9bc704",
   "metadata": {},
   "outputs": [
    {
     "name": "stdout",
     "output_type": "stream",
     "text": [
      "stringabcde\n"
     ]
    }
   ],
   "source": [
    "s = \"\".join([\"string\"] + list(string.ascii_lowercase[:5]))\n",
    "print(s)"
   ]
  },
  {
   "cell_type": "markdown",
   "id": "1b5822a2",
   "metadata": {},
   "source": [
    "**設置向量間的連接符號**\n",
    "### 1. 使用加號 (+) 運算子和 .join()"
   ]
  },
  {
   "cell_type": "code",
   "execution_count": 29,
   "id": "73780962",
   "metadata": {},
   "outputs": [
    {
     "name": "stdout",
     "output_type": "stream",
     "text": [
      "string: a: b: c: d: e\n"
     ]
    }
   ],
   "source": [
    "str1 = \"string\"\n",
    "letters = string.ascii_lowercase[:5]\n",
    "separator = \": \"\n",
    "result = str1 + separator + separator.join(letters)\n",
    "print(result)"
   ]
  },
  {
   "cell_type": "markdown",
   "id": "97aa52c4",
   "metadata": {},
   "source": [
    "### 2. 使用 f-strings 或格式化字符串"
   ]
  },
  {
   "cell_type": "code",
   "execution_count": 30,
   "id": "f3b70722",
   "metadata": {},
   "outputs": [
    {
     "name": "stdout",
     "output_type": "stream",
     "text": [
      "string: a: b: c: d: e\n"
     ]
    }
   ],
   "source": [
    "str1 = \"string\"\n",
    "letters = string.ascii_lowercase[:5]\n",
    "separator = \": \"\n",
    "result = f\"{str1}{separator}{separator.join(letters)}\"\n",
    "print(result)"
   ]
  },
  {
   "cell_type": "markdown",
   "id": "6a8f8dfc",
   "metadata": {},
   "source": [
    "**連接3個以上字串向量**"
   ]
  },
  {
   "cell_type": "code",
   "execution_count": 31,
   "id": "337ce552",
   "metadata": {},
   "outputs": [
    {
     "name": "stdout",
     "output_type": "stream",
     "text": [
      "ab is for...***\n"
     ]
    }
   ],
   "source": [
    "letters = string.ascii_lowercase  # 取得小寫字母序列\n",
    "\n",
    "result = \"\".join([letters[0], letters[1], \" is for\", \"...\", \"***\"])\n",
    "print(result)  # a is for...***"
   ]
  },
  {
   "cell_type": "code",
   "execution_count": 32,
   "id": "0040d2a8",
   "metadata": {},
   "outputs": [
    {
     "name": "stdout",
     "output_type": "stream",
     "text": [
      "abcdefghijklmnopqrstuvwxyz\n"
     ]
    }
   ],
   "source": [
    "s = \"\".join(list(string.ascii_lowercase))\n",
    "print(s)"
   ]
  },
  {
   "cell_type": "code",
   "execution_count": 33,
   "id": "b1801770",
   "metadata": {},
   "outputs": [
    {
     "name": "stdout",
     "output_type": "stream",
     "text": [
      "a, b, c, d, e, f, g, h, i, j, k, l, m, n, o, p, q, r, s, t, u, v, w, x, y, z\n"
     ]
    }
   ],
   "source": [
    "letters = string.ascii_lowercase\n",
    "separator = \", \"\n",
    "result = separator.join(letters)\n",
    "print(result)"
   ]
  },
  {
   "cell_type": "markdown",
   "id": "b7f16364",
   "metadata": {},
   "source": [
    "# 字串重複與連接混合操作"
   ]
  },
  {
   "cell_type": "code",
   "execution_count": 34,
   "id": "b29735bc",
   "metadata": {},
   "outputs": [],
   "source": [
    "string5 = [\"apple\", \"banana\", \"grape\", \"mango\"]"
   ]
  },
  {
   "cell_type": "markdown",
   "id": "c96211d4",
   "metadata": {},
   "source": [
    "每個字串重複 2 次，然后連接起来"
   ]
  },
  {
   "cell_type": "code",
   "execution_count": 35,
   "id": "2eac35d8",
   "metadata": {},
   "outputs": [
    {
     "name": "stdout",
     "output_type": "stream",
     "text": [
      "appleapple bananabanana grapegrape mangomango\n"
     ]
    }
   ],
   "source": [
    "result = \" \".join([s * 2 for s in string5])\n",
    "print(result)"
   ]
  },
  {
   "cell_type": "code",
   "execution_count": 36,
   "id": "0eeb00fe",
   "metadata": {},
   "outputs": [
    {
     "name": "stdout",
     "output_type": "stream",
     "text": [
      "appleapple bananabanana grapegrape mangomango\n"
     ]
    }
   ],
   "source": [
    "result = \" \".join([s + s  for s in string5])\n",
    "print(result)"
   ]
  },
  {
   "cell_type": "markdown",
   "id": "12ed14f9",
   "metadata": {},
   "source": [
    "向量中的每個字串分別重複 1 到 4 次"
   ]
  },
  {
   "cell_type": "code",
   "execution_count": 37,
   "id": "09156613",
   "metadata": {},
   "outputs": [
    {
     "name": "stdout",
     "output_type": "stream",
     "text": [
      "apple appleapple appleappleapple appleappleappleapple banana bananabanana bananabananabanana bananabananabananabanana grape grapegrape grapegrapegrape grapegrapegrapegrape mango mangomango mangomangomango mangomangomangomango\n"
     ]
    }
   ],
   "source": [
    "repetitions = range(1, 5)\n",
    "\n",
    "result = \" \".join([s * r for s in string5 for r in repetitions])\n",
    "print(result)"
   ]
  },
  {
   "cell_type": "markdown",
   "id": "89ba5091",
   "metadata": {},
   "source": [
    "向量中的字串個別重複 1~4 次"
   ]
  },
  {
   "cell_type": "code",
   "execution_count": 38,
   "id": "269e5523",
   "metadata": {},
   "outputs": [
    {
     "name": "stdout",
     "output_type": "stream",
     "text": [
      "apple bananabanana grapegrapegrape mangomangomangomango\n"
     ]
    }
   ],
   "source": [
    "r = 0\n",
    "result = \" \".join([s * (r := r + 1) for s in string5])\n",
    "print(result)"
   ]
  },
  {
   "cell_type": "markdown",
   "id": "3ae474a7",
   "metadata": {},
   "source": [
    "+ **遞增運算符 := 它允許我們在表達式中同時進行賦值和返回值**\n",
    "+ 在這個例子中，我們使用 r := r + 1 來將 r 遞增 1，並將新的值賦給 r"
   ]
  },
  {
   "cell_type": "markdown",
   "id": "1248ff76",
   "metadata": {},
   "source": [
    "連接並重複"
   ]
  },
  {
   "cell_type": "code",
   "execution_count": 39,
   "id": "37988450",
   "metadata": {},
   "outputs": [
    {
     "name": "stdout",
     "output_type": "stream",
     "text": [
      "ab01 ab0101 ab010101 ab01010101\n"
     ]
    }
   ],
   "source": [
    "repetitions = range(1, 5)\n",
    "string5 = ['01']\n",
    "result = \"ab\" + \" ab\".join([s * r for s in string5 for r in repetitions])\n",
    "print(result)"
   ]
  },
  {
   "cell_type": "markdown",
   "id": "bbe0d231",
   "metadata": {},
   "source": [
    "# 計算字串中的匹配數量"
   ]
  },
  {
   "cell_type": "code",
   "execution_count": 40,
   "id": "c4696abd",
   "metadata": {},
   "outputs": [],
   "source": [
    "import re\n",
    "\n",
    "string5 = [\"apple\", \"banana\", \"grape\", \"mango\"]"
   ]
  },
  {
   "cell_type": "markdown",
   "id": "f67c8f22",
   "metadata": {},
   "source": [
    "字串中 a 的數量"
   ]
  },
  {
   "cell_type": "code",
   "execution_count": 41,
   "id": "5888806a",
   "metadata": {},
   "outputs": [
    {
     "name": "stdout",
     "output_type": "stream",
     "text": [
      "[1, 3, 1, 1]\n"
     ]
    }
   ],
   "source": [
    "counts = [len(re.findall(\"a\", s)) for s in string5]\n",
    "print(counts)"
   ]
  },
  {
   "cell_type": "code",
   "execution_count": 42,
   "id": "799796c6",
   "metadata": {},
   "outputs": [
    {
     "name": "stdout",
     "output_type": "stream",
     "text": [
      "[1, 3, 1, 1]\n"
     ]
    }
   ],
   "source": [
    "pattern = [\"a\"]\n",
    "\n",
    "counts = [len(re.findall(p, s)) for s in string5 for p in pattern]\n",
    "print(counts)"
   ]
  },
  {
   "cell_type": "markdown",
   "id": "f8cf3c35",
   "metadata": {},
   "source": [
    "字串中 a~e 的數量"
   ]
  },
  {
   "cell_type": "code",
   "execution_count": 43,
   "id": "a8e92300",
   "metadata": {},
   "outputs": [
    {
     "name": "stdout",
     "output_type": "stream",
     "text": [
      "[2, 4, 2, 1]\n"
     ]
    }
   ],
   "source": [
    "pattern = \"[a-e]\"  # 正則表達式模式，它匹配字母 a 到 e 之間的任何一個字母\n",
    "\n",
    "counts = [len(re.findall(pattern, s)) for s in string5]\n",
    "print(counts)"
   ]
  },
  {
   "cell_type": "markdown",
   "id": "dfdb0ebf",
   "metadata": {},
   "source": [
    "字串向量中各別匹配的數量"
   ]
  },
  {
   "cell_type": "code",
   "execution_count": 44,
   "id": "e8900e31",
   "metadata": {},
   "outputs": [
    {
     "name": "stdout",
     "output_type": "stream",
     "text": [
      "[1, 0, 2, 0, 3, 2, 0, 0, 1, 0, 1, 0, 1, 1, 0, 1]\n"
     ]
    }
   ],
   "source": [
    "pattern = [\"a\", \"n\", \"p\", \"m\"]\n",
    "\n",
    "counts = [len(re.findall(p, s)) for s in string5 for p in pattern]\n",
    "print(counts)"
   ]
  },
  {
   "cell_type": "markdown",
   "id": "e32d5947",
   "metadata": {},
   "source": [
    "# 檢測字串中是否存在某片段\n",
    "(相當於 len(re.findall(pattern, s)) 的結果是否大於 0)<br><br>\n",
    "字串中是否包含 a"
   ]
  },
  {
   "cell_type": "code",
   "execution_count": 45,
   "id": "fc5da693",
   "metadata": {},
   "outputs": [
    {
     "name": "stdout",
     "output_type": "stream",
     "text": [
      "[True, True, True, True]\n"
     ]
    }
   ],
   "source": [
    "# import re\n",
    "\n",
    "pattern = \"a\"\n",
    "\n",
    "# re.search() 如果找到匹配的部分，則會返回一個對象；否則，它會返回 None\n",
    "result = [re.search(pattern, s) is not None for s in string5]\n",
    "print(result)"
   ]
  },
  {
   "cell_type": "markdown",
   "id": "7f830662",
   "metadata": {},
   "source": [
    "字串中是否以 a 開頭"
   ]
  },
  {
   "cell_type": "code",
   "execution_count": 46,
   "id": "b5c0f9e4",
   "metadata": {},
   "outputs": [
    {
     "name": "stdout",
     "output_type": "stream",
     "text": [
      "[True, False, False, False]\n"
     ]
    }
   ],
   "source": [
    "result = [s.startswith(\"a\") for s in string5]\n",
    "print(result)"
   ]
  },
  {
   "cell_type": "markdown",
   "id": "cac9adac",
   "metadata": {},
   "source": [
    "字串中是否以 a 结尾"
   ]
  },
  {
   "cell_type": "code",
   "execution_count": 47,
   "id": "52b7891b",
   "metadata": {},
   "outputs": [
    {
     "name": "stdout",
     "output_type": "stream",
     "text": [
      "[False, True, False, False]\n"
     ]
    }
   ],
   "source": [
    "result = [s.endswith(\"a\") for s in string5]\n",
    "print(result)"
   ]
  },
  {
   "cell_type": "markdown",
   "id": "d616a72f",
   "metadata": {},
   "source": [
    "字串中是否包含 a,b,c,d 其中一個字"
   ]
  },
  {
   "cell_type": "code",
   "execution_count": 48,
   "id": "c1cc62e8",
   "metadata": {},
   "outputs": [
    {
     "name": "stdout",
     "output_type": "stream",
     "text": [
      "[True, True, True, True]\n"
     ]
    }
   ],
   "source": [
    "letters = [\"a\", \"b\", \"c\", \"d\"]\n",
    "\n",
    "result = [any(letter in s for letter in letters) for s in string5]\n",
    "print(result)"
   ]
  },
  {
   "cell_type": "markdown",
   "id": "1cb62759",
   "metadata": {},
   "source": [
    "字串向量中是否符合個別的匹配片段"
   ]
  },
  {
   "cell_type": "code",
   "execution_count": 49,
   "id": "5c866b28",
   "metadata": {},
   "outputs": [
    {
     "name": "stdout",
     "output_type": "stream",
     "text": [
      "[True, True, True, False]\n"
     ]
    }
   ],
   "source": [
    "# import re\n",
    "# string5 = [\"apple\", \"banana\", \"grape\", \"mango\"]\n",
    "\n",
    "patterns = [\"pp\", \"ba\", \"pe\", \"me\"]\n",
    "\n",
    "result = [any(re.search(pattern, s) is not None for pattern in patterns) for s in string5]\n",
    "print(result)"
   ]
  },
  {
   "cell_type": "markdown",
   "id": "9ad21143",
   "metadata": {},
   "source": [
    "# 從字串中找出匹配到的內容\n",
    "## 使用 re 模組\n",
    "## (1) re.match()"
   ]
  },
  {
   "cell_type": "code",
   "execution_count": 50,
   "id": "c7a73e76",
   "metadata": {},
   "outputs": [],
   "source": [
    "strings = [\"the smooth\", \"the depth\", \"a chicken\", \"the parked\", \"the sun\", \"the huge\", \"the ball\", \"the woman\", \"a helps\"]"
   ]
  },
  {
   "cell_type": "code",
   "execution_count": 51,
   "id": "8be22cd9",
   "metadata": {},
   "outputs": [
    {
     "name": "stdout",
     "output_type": "stream",
     "text": [
      "[('the smooth', 'the', 'smooth'), ('the depth', 'the', 'depth'), ('a chicken', 'a', 'chicken'), ('the parked', 'the', 'parked'), ('the sun', 'the', 'sun'), ('the huge', 'the', 'huge'), ('the ball', 'the', 'ball'), ('the woman', 'the', 'woman'), ('a helps', 'a', 'helps')]\n"
     ]
    }
   ],
   "source": [
    "# import re\n",
    "# (a|the) 表示匹配字母 \"a\" 或 \"the\"，([^ ]+) 表示匹配除空格以外的一個或多個字元\n",
    "pattern = r\"(a|the) ([^ ]+)\"\n",
    "\n",
    "matches = [re.match(pattern, s) for s in strings]\n",
    "\n",
    "# (完整匹配, 第一個括號匹配, 第二個括號匹配)，如果未找到匹配，則為 None。\n",
    "result = [(match.group(0), match.group(1), match.group(2)) if match else None for match in matches]\n",
    "print(result)"
   ]
  },
  {
   "cell_type": "markdown",
   "id": "726b0a23",
   "metadata": {},
   "source": [
    "## (2) re.search()"
   ]
  },
  {
   "cell_type": "code",
   "execution_count": 52,
   "id": "5fdbfa0f",
   "metadata": {},
   "outputs": [
    {
     "name": "stdout",
     "output_type": "stream",
     "text": [
      "[('the smooth', 'the', 'smooth'), ('the depth', 'the', 'depth'), ('a chicken', 'a', 'chicken'), ('the parked', 'the', 'parked'), ('the sun', 'the', 'sun'), ('the huge', 'the', 'huge'), ('the ball', 'the', 'ball'), ('the woman', 'the', 'woman'), ('a helps', 'a', 'helps')]\n"
     ]
    }
   ],
   "source": [
    "# import re\n",
    "pattern = r\"(a|the) ([^ ]+)\"\n",
    "\n",
    "matches = [re.search(pattern, s) for s in strings]\n",
    "result = [(match.group(0), match.group(1), match.group(2)) if match else None for match in matches]\n",
    "print(result)"
   ]
  },
  {
   "cell_type": "markdown",
   "id": "30f6a669",
   "metadata": {},
   "source": [
    "### re.match() 與  re.search() 的差別\n",
    "```\n",
    "re.match(pattern, string) 函數從字串的開頭開始匹配模式。\n",
    "\n",
    "只有當模式從字串的開頭就匹配成功時，才會返回匹配對象。\n",
    "換句話說，只有在字串的起始位置就能找到匹配，才會返回結果。\n",
    "如果在起始位置沒有找到匹配，則返回 None。\n",
    "因此，你可以使用 re.match() 來檢查字串是否以特定模式開頭。\n",
    "\n",
    "re.search(pattern, string) 函數在整個字串中搜索模式。\n",
    "\n",
    "它會搜索整個字串，並返回第一個匹配到的結果。\n",
    "換句話說，它不僅僅在字串的開頭搜索匹配，而是在整個字串中搜索匹配。\n",
    "如果找到匹配，則返回匹配對象；如果未找到匹配，則返回 None。\n",
    "因此，你可以使用 re.search() 在字串中任何位置搜索特定模式。\n",
    "```\n",
    "+ 主要的差異在於 re.match() 從字串的開頭開始匹配，而 re.search() 在整個字串中搜索匹配"
   ]
  },
  {
   "cell_type": "code",
   "execution_count": 53,
   "id": "fa2402d7",
   "metadata": {},
   "outputs": [
    {
     "name": "stdout",
     "output_type": "stream",
     "text": [
      "Match Result:  None\n",
      "Search Result: <re.Match object; span=(1, 4), match='abc'>\n"
     ]
    }
   ],
   "source": [
    "# import re\n",
    "\n",
    "pattern = r\"abc\"\n",
    "string = \"0abcdef\"\n",
    "\n",
    "match_result = re.match(pattern, string)\n",
    "search_result = re.search(pattern, string)\n",
    "\n",
    "print(\"Match Result: \", match_result)\n",
    "print(\"Search Result:\", search_result)"
   ]
  },
  {
   "cell_type": "markdown",
   "id": "8ade6f69",
   "metadata": {},
   "source": [
    "## (3) re.findall() 函數\n",
    "+ 它可以返回所有匹配的結果"
   ]
  },
  {
   "cell_type": "code",
   "execution_count": 54,
   "id": "436e6f79",
   "metadata": {},
   "outputs": [
    {
     "name": "stdout",
     "output_type": "stream",
     "text": [
      "[('the', 'smooth'), ('the', 'depth'), ('a', 'chicken'), ('the', 'parked'), ('the', 'sun'), ('the', 'huge'), ('the', 'ball'), ('the', 'woman'), ('a', 'helps')]\n"
     ]
    }
   ],
   "source": [
    "# import re\n",
    "\n",
    "pattern = r\"(a|the) ([^ ]+)\"\n",
    "\n",
    "matches = [re.findall(pattern, s) for s in strings]\n",
    "result = [m[0] if m else None for m in matches]\n",
    "print(result)"
   ]
  },
  {
   "cell_type": "markdown",
   "id": "bc91637a",
   "metadata": {},
   "source": [
    "## 返回匹配的向量含 pattern 的元素的索引"
   ]
  },
  {
   "cell_type": "code",
   "execution_count": 55,
   "id": "266c11df",
   "metadata": {},
   "outputs": [
    {
     "name": "stdout",
     "output_type": "stream",
     "text": [
      "[0, 1, 3]\n"
     ]
    }
   ],
   "source": [
    "# import re\n",
    "\n",
    "strings = [\"apple\", \"banana\", \"grpe\", \"mango\"]\n",
    "pattern = r\"a\"\n",
    "\n",
    "matches = [i for i, s in enumerate(strings) if re.search(pattern, s)]\n",
    "print(matches)"
   ]
  },
  {
   "cell_type": "markdown",
   "id": "17336801",
   "metadata": {},
   "source": [
    "+ 使用 re.search() 來搜索 \"a\"，並且返回了每個字串的索引\n",
    "+ 結果 [0, 1, 3] 表示除了 \"grpe\" 每個字串都含有 \"a\""
   ]
  },
  {
   "cell_type": "markdown",
   "id": "0a5a2fd0",
   "metadata": {},
   "source": [
    "# 計算字串的長度"
   ]
  },
  {
   "cell_type": "code",
   "execution_count": 56,
   "id": "c8cd645f",
   "metadata": {},
   "outputs": [
    {
     "data": {
      "text/plain": [
       "5"
      ]
     },
     "execution_count": 56,
     "metadata": {},
     "output_type": "execute_result"
    }
   ],
   "source": [
    "len(\"NSYSU\")"
   ]
  },
  {
   "cell_type": "code",
   "execution_count": 57,
   "id": "675ff4a4",
   "metadata": {},
   "outputs": [
    {
     "data": {
      "text/plain": [
       "4"
      ]
     },
     "execution_count": 57,
     "metadata": {},
     "output_type": "execute_result"
    }
   ],
   "source": [
    "len([\"I\", \"am\", \"a\", \"student\"])"
   ]
  },
  {
   "cell_type": "code",
   "execution_count": 58,
   "id": "e9c36921",
   "metadata": {},
   "outputs": [
    {
     "name": "stdout",
     "output_type": "stream",
     "text": [
      "[1, 2, 1, 7]\n"
     ]
    }
   ],
   "source": [
    "my_list = [\"I\", \"am\", \"a\", \"student\"]\n",
    "lengths = [len(item) for item in my_list]\n",
    "print(lengths)"
   ]
  },
  {
   "attachments": {
    "image.png": {
     "image/png": "[encoded data removed]"
    }
   },
   "cell_type": "markdown",
   "id": "faddf7fb",
   "metadata": {},
   "source": [
    "![image.png](attachment:image.png)"
   ]
  },
  {
   "cell_type": "markdown",
   "id": "c02ac8b1",
   "metadata": {},
   "source": [
    "```\n",
    "len() 函數用於返回容器類型（如字符串、列表、元組等）中元素的數量。\n",
    "但是 None 是一個特殊的對象，它表示缺失值或未知值，並不是一個容器，因此無法使用 len() 函數來計算其長度\n",
    "```"
   ]
  },
  {
   "cell_type": "markdown",
   "id": "590b8aaf",
   "metadata": {},
   "source": [
    "# 字串排序"
   ]
  },
  {
   "cell_type": "code",
   "execution_count": 59,
   "id": "618f78b0",
   "metadata": {},
   "outputs": [
    {
     "name": "stdout",
     "output_type": "stream",
     "text": [
      "abcxyz\n"
     ]
    }
   ],
   "source": [
    "string = [\"a\",\"x\",\"b\",\"y\",\"c\",\"z\"]\n",
    "sorted_string = sorted(string)\n",
    "result = \"\".join(sorted_string)\n",
    "print(result)"
   ]
  },
  {
   "cell_type": "markdown",
   "id": "860c17fe",
   "metadata": {},
   "source": [
    "+ 返回一個排序後的字串列表"
   ]
  },
  {
   "cell_type": "code",
   "execution_count": 60,
   "id": "d484b151",
   "metadata": {},
   "outputs": [
    {
     "name": "stdout",
     "output_type": "stream",
     "text": [
      "zyxcba\n"
     ]
    }
   ],
   "source": [
    "string = [\"a\",\"x\",\"b\",\"y\",\"c\",\"z\"]\n",
    "sorted_string = sorted(string, reverse=True)\n",
    "result = \"\".join(sorted_string)\n",
    "print(result)"
   ]
  },
  {
   "cell_type": "markdown",
   "id": "ae042044",
   "metadata": {},
   "source": [
    "+ 反向順序進行排序"
   ]
  },
  {
   "cell_type": "code",
   "execution_count": 61,
   "id": "64208450",
   "metadata": {},
   "outputs": [
    {
     "name": "stdout",
     "output_type": "stream",
     "text": [
      "[1, 3, 5, 2, 4, 6]\n"
     ]
    }
   ],
   "source": [
    "x = [\"a\", \"x\", \"b\", \"y\", \"c\", \"z\"]\n",
    "\n",
    "sorted_indices = sorted(range(len(x)), key=lambda i: x[i])\n",
    "order = [i+1 for i in sorted_indices]\n",
    "\n",
    "print(order)"
   ]
  },
  {
   "cell_type": "markdown",
   "id": "823e05dd",
   "metadata": {},
   "source": [
    "+ 返回一個排序後的字串索引"
   ]
  },
  {
   "cell_type": "markdown",
   "id": "f613976f",
   "metadata": {},
   "source": [
    "# 在字串的前後位置填充符號"
   ]
  },
  {
   "cell_type": "markdown",
   "id": "6ef49e60",
   "metadata": {},
   "source": [
    "## (1) str.ljust(width, fillchar)\n",
    "### 在字串的右側填充符號，使其長度達到指定的 width，填充使用指定的 fillchar 字符"
   ]
  },
  {
   "cell_type": "code",
   "execution_count": 62,
   "id": "3af73265",
   "metadata": {},
   "outputs": [
    {
     "name": "stdout",
     "output_type": "stream",
     "text": [
      "GOOD******\n"
     ]
    }
   ],
   "source": [
    "string = \"GOOD\"\n",
    "padded_string = string.ljust(10, '*')\n",
    "print(padded_string) "
   ]
  },
  {
   "cell_type": "markdown",
   "id": "2faf2fcc",
   "metadata": {},
   "source": [
    "## (2) str.rjust(width, fillchar)\n",
    "### 在字串的左側填充符號，使其長度達到指定的 width，填充使用指定的 fillchar 字符"
   ]
  },
  {
   "cell_type": "code",
   "execution_count": 63,
   "id": "55c4d025",
   "metadata": {},
   "outputs": [
    {
     "name": "stdout",
     "output_type": "stream",
     "text": [
      "******GOOD\n"
     ]
    }
   ],
   "source": [
    "string = \"GOOD\"\n",
    "padded_string = string.rjust(10, '*')\n",
    "print(padded_string)"
   ]
  },
  {
   "cell_type": "markdown",
   "id": "d76beda7",
   "metadata": {},
   "source": [
    "## (3) str.center(width, fillchar)\n",
    "### 在字串的前後位置均等填充符號，使其長度達到指定的 width，填充使用指定的 fillchar 字符"
   ]
  },
  {
   "cell_type": "code",
   "execution_count": 64,
   "id": "d766702b",
   "metadata": {},
   "outputs": [
    {
     "name": "stdout",
     "output_type": "stream",
     "text": [
      "***GOOD***\n"
     ]
    }
   ],
   "source": [
    "string = \"GOOD\"\n",
    "padded_string = string.center(10, '*')\n",
    "print(padded_string) "
   ]
  },
  {
   "cell_type": "markdown",
   "id": "a06bdae0",
   "metadata": {},
   "source": [
    "width 小於 string 的長度時，返回原 string"
   ]
  },
  {
   "cell_type": "code",
   "execution_count": 65,
   "id": "fe79aaa5",
   "metadata": {},
   "outputs": [
    {
     "name": "stdout",
     "output_type": "stream",
     "text": [
      "GOOD\n"
     ]
    }
   ],
   "source": [
    "string = \"GOOD\"\n",
    "padded_string = string.center(3, '*')\n",
    "print(padded_string) "
   ]
  },
  {
   "cell_type": "markdown",
   "id": "2da21027",
   "metadata": {},
   "source": [
    "# 字串替換(按匹配內容)\n",
    "## (1) str.replace(old, new, count)\n",
    "### 將字串中所有匹配到的 old 子字串替換為 new"
   ]
  },
  {
   "cell_type": "code",
   "execution_count": 66,
   "id": "23a250b4",
   "metadata": {},
   "outputs": [
    {
     "name": "stdout",
     "output_type": "stream",
     "text": [
      "Hell*, W*rld!\n"
     ]
    }
   ],
   "source": [
    "string = \"Hello, World!\"\n",
    "new_string = string.replace(\"o\", \"*\")\n",
    "print(new_string)"
   ]
  },
  {
   "cell_type": "markdown",
   "id": "771857ae",
   "metadata": {},
   "source": [
    "### 只替換第一個匹配的內容"
   ]
  },
  {
   "cell_type": "code",
   "execution_count": 67,
   "id": "1539b954",
   "metadata": {},
   "outputs": [
    {
     "name": "stdout",
     "output_type": "stream",
     "text": [
      "Hell*, World!\n"
     ]
    }
   ],
   "source": [
    "string = \"Hello, World!\"\n",
    "new_string = string.replace(\"o\", \"*\", 1)\n",
    "print(new_string)"
   ]
  },
  {
   "cell_type": "markdown",
   "id": "203b95c7",
   "metadata": {},
   "source": [
    "### 替換 list 裡字串匹配的內容\n",
    "+ 整個字串"
   ]
  },
  {
   "cell_type": "code",
   "execution_count": 68,
   "id": "f6023c5e",
   "metadata": {},
   "outputs": [
    {
     "data": {
      "text/plain": [
       "['apple', 'banana', 'grape', 'mango']"
      ]
     },
     "execution_count": 68,
     "metadata": {},
     "output_type": "execute_result"
    }
   ],
   "source": [
    "string5"
   ]
  },
  {
   "cell_type": "code",
   "execution_count": 69,
   "id": "5d31b02a",
   "metadata": {},
   "outputs": [
    {
     "name": "stdout",
     "output_type": "stream",
     "text": [
      "['apple', 'orange', 'grape', 'mango']\n"
     ]
    }
   ],
   "source": [
    "old_item = \"banana\"\n",
    "new_item = \"orange\"\n",
    "\n",
    "new_list = [new_item if item == old_item else item for item in string5]\n",
    "print(new_list)"
   ]
  },
  {
   "cell_type": "markdown",
   "id": "2f829ad8",
   "metadata": {},
   "source": [
    "+ 字串中的元素"
   ]
  },
  {
   "cell_type": "code",
   "execution_count": 70,
   "id": "8da1eae9",
   "metadata": {},
   "outputs": [
    {
     "name": "stdout",
     "output_type": "stream",
     "text": [
      "['*pple', 'b*n*n*', 'gr*pe', 'm*ngo']\n"
     ]
    }
   ],
   "source": [
    "new_list = []\n",
    "for item in string5:\n",
    "    new_item = item.replace(\"a\", \"*\")\n",
    "    new_list.append(new_item)\n",
    "print(new_list)"
   ]
  },
  {
   "cell_type": "code",
   "execution_count": 71,
   "id": "7e61d5aa",
   "metadata": {},
   "outputs": [
    {
     "name": "stdout",
     "output_type": "stream",
     "text": [
      "['*pple', 'b*n*n*', 'gr*pe', 'm*ngo']\n"
     ]
    }
   ],
   "source": [
    "new_list = [item.replace(\"a\", \"*\") for item in string5]\n",
    "print(new_list)"
   ]
  },
  {
   "cell_type": "markdown",
   "id": "5a9b3179",
   "metadata": {},
   "source": [
    "## (2) re.sub(pattern, repl, string, count=0, flags=0)\n",
    "### 使用正則表達式進行替換的方法，它可以替換字串中匹配某一模式的部分，並將其替換為指定的內容"
   ]
  },
  {
   "cell_type": "code",
   "execution_count": 72,
   "id": "04946612",
   "metadata": {},
   "outputs": [
    {
     "name": "stdout",
     "output_type": "stream",
     "text": [
      "Hell*, World!\n"
     ]
    }
   ],
   "source": [
    "# import re\n",
    "\n",
    "string = \"Hello, World!\"\n",
    "new_string = re.sub(r'o', '*', string, count=1)\n",
    "print(new_string)"
   ]
  },
  {
   "cell_type": "code",
   "execution_count": 73,
   "id": "136aa232",
   "metadata": {},
   "outputs": [
    {
     "name": "stdout",
     "output_type": "stream",
     "text": [
      "Hell*, W*rld!\n"
     ]
    }
   ],
   "source": [
    "# import re\n",
    "\n",
    "string = \"Hello, World!\"\n",
    "new_string = re.sub(r'o', '*', string)\n",
    "print(new_string)"
   ]
  },
  {
   "cell_type": "markdown",
   "id": "efb065ed",
   "metadata": {},
   "source": [
    "## (3) str.translate(table)\n",
    "### 使用字串翻譯表進行替換的方法，可以使用 maketrans() 函數創建翻譯表，然後將其應用於字串"
   ]
  },
  {
   "cell_type": "code",
   "execution_count": 74,
   "id": "f84144a3",
   "metadata": {},
   "outputs": [
    {
     "name": "stdout",
     "output_type": "stream",
     "text": [
      "Hell*, W*rld!\n"
     ]
    }
   ],
   "source": [
    "string = \"Hello, World!\"\n",
    "translation_table = str.maketrans(\"o\", \"*\")\n",
    "new_string = string.translate(translation_table)\n",
    "print(new_string)"
   ]
  },
  {
   "cell_type": "markdown",
   "id": "5d6b7180",
   "metadata": {},
   "source": [
    "+ 如果要替換 list 裡字串匹配的內容，可以使用迴圈，可參考上面的例子"
   ]
  },
  {
   "cell_type": "markdown",
   "id": "e0febd71",
   "metadata": {},
   "source": [
    "# 字串替換(按位置)\n",
    "替換特定位置的文字"
   ]
  },
  {
   "cell_type": "code",
   "execution_count": 75,
   "id": "f630a9b5",
   "metadata": {},
   "outputs": [
    {
     "name": "stdout",
     "output_type": "stream",
     "text": [
      "NSYSX student\n"
     ]
    }
   ],
   "source": [
    "string7 = \"NSYSU student\"\n",
    "position = 4\n",
    "replacement = \"X\"\n",
    "\n",
    "new_string = string7[:position] + replacement + string7[position+1:]\n",
    "print(new_string)"
   ]
  },
  {
   "cell_type": "markdown",
   "id": "b5c46bc5",
   "metadata": {},
   "source": [
    "找出特定內容的位置"
   ]
  },
  {
   "cell_type": "code",
   "execution_count": 76,
   "id": "ab11c227",
   "metadata": {},
   "outputs": [
    {
     "name": "stdout",
     "output_type": "stream",
     "text": [
      "['NSYSU', 'student']\n"
     ]
    }
   ],
   "source": [
    "start_positions = [1, 7]\n",
    "end_positions = [5, 13]\n",
    "\n",
    "new_strings = [string7[start-1:end] for start, end in zip(start_positions, end_positions)]\n",
    "print(new_strings)"
   ]
  },
  {
   "cell_type": "markdown",
   "id": "c731ce06",
   "metadata": {},
   "source": [
    "**zip() 函數將開始位置和結束位置進行配對，然後使用切片將指定範圍內的字串提取出來，存入一個新的列表中**"
   ]
  },
  {
   "cell_type": "code",
   "execution_count": 77,
   "id": "488bfbfe",
   "metadata": {},
   "outputs": [
    {
     "name": "stdout",
     "output_type": "stream",
     "text": [
      "['NSYSU student', 'SYSU student', 'YSU student', 'SU student', 'U student', ' student', 'student', 'tudent', 'udent', 'dent', 'ent', 'nt', 't']\n"
     ]
    }
   ],
   "source": [
    "new_string = [string7[i:] for i in range(len(string7))]\n",
    "print(new_string)"
   ]
  },
  {
   "cell_type": "markdown",
   "id": "b87362d1",
   "metadata": {},
   "source": [
    "**列表中的字串中按位置進行替換**"
   ]
  },
  {
   "cell_type": "code",
   "execution_count": 78,
   "id": "6fbe33e7",
   "metadata": {},
   "outputs": [
    {
     "name": "stdout",
     "output_type": "stream",
     "text": [
      "['apXle', 'baXana', 'grXpe', 'maXgo']\n"
     ]
    }
   ],
   "source": [
    "my_list = [\"apple\", \"banana\", \"grape\", \"mango\"]\n",
    "new_list = [item[:2] + \"X\" + item[3:] if len(item) > 2 else item for item in my_list]\n",
    "print(new_list)"
   ]
  },
  {
   "cell_type": "code",
   "execution_count": 79,
   "id": "dd5c07a6",
   "metadata": {},
   "outputs": [
    {
     "name": "stdout",
     "output_type": "stream",
     "text": [
      "['apXle', 'baXana', 'grXpe', 'maXgo']\n"
     ]
    }
   ],
   "source": [
    "my_list = [\"apple\", \"banana\", \"grape\", \"mango\"]\n",
    "new_list = []\n",
    "for item in my_list:\n",
    "    if len(item) > 2:\n",
    "        new_item = item[:2] + \"X\" + item[3:]\n",
    "    else:\n",
    "        new_item = item\n",
    "    new_list.append(new_item)\n",
    "print(new_list)"
   ]
  },
  {
   "cell_type": "markdown",
   "id": "baa823a7",
   "metadata": {},
   "source": [
    "# 字串分割\n",
    "## (1) split()"
   ]
  },
  {
   "cell_type": "code",
   "execution_count": 80,
   "id": "037565c4",
   "metadata": {},
   "outputs": [],
   "source": [
    "string8 = [\"the smooth and the depth and a chicken and the parked\", \"the sun and the huge and the ball\"]"
   ]
  },
  {
   "cell_type": "code",
   "execution_count": 81,
   "id": "79b2a120",
   "metadata": {},
   "outputs": [
    {
     "name": "stdout",
     "output_type": "stream",
     "text": [
      "[['the smooth', 'the depth', 'a chicken', 'the parked'], ['the sun', 'the huge', 'the ball']]\n"
     ]
    }
   ],
   "source": [
    "pattern = \" and \"\n",
    "\n",
    "new_strings = [s.split(pattern) for s in string8]\n",
    "print(new_strings)"
   ]
  },
  {
   "cell_type": "markdown",
   "id": "9642ded0",
   "metadata": {},
   "source": [
    "## (2) re.split()"
   ]
  },
  {
   "cell_type": "code",
   "execution_count": 82,
   "id": "3e4d9ecd",
   "metadata": {},
   "outputs": [
    {
     "name": "stdout",
     "output_type": "stream",
     "text": [
      "[['the smooth', 'the depth', 'a chicken', 'the parked'], ['the sun', 'the huge', 'the ball']]\n"
     ]
    }
   ],
   "source": [
    "# import re\n",
    "pattern = \" and \"\n",
    "\n",
    "new_strings = [re.split(pattern, s) for s in string8]\n",
    "print(new_strings)"
   ]
  },
  {
   "cell_type": "code",
   "execution_count": 83,
   "id": "9df7b7bf",
   "metadata": {},
   "outputs": [
    {
     "name": "stdout",
     "output_type": "stream",
     "text": [
      "['a', 'b', 'c']\n"
     ]
    }
   ],
   "source": [
    "# import re\n",
    "\n",
    "string = \"a,b,c\"\n",
    "pattern = \",\"\n",
    "\n",
    "new_strings = re.split(pattern, string)\n",
    "print(new_strings)"
   ]
  },
  {
   "cell_type": "code",
   "execution_count": 84,
   "id": "94983c73",
   "metadata": {},
   "outputs": [
    {
     "name": "stdout",
     "output_type": "stream",
     "text": [
      "['', '123', '456', '789']\n"
     ]
    }
   ],
   "source": [
    "# import re\n",
    "\n",
    "string = \"abc123def456xyz789\"\n",
    "pattern = \"[a-z]+\"  # 匹配一個或多個小寫字母的連續序列\n",
    "\n",
    "new_strings = re.split(pattern, string)\n",
    "print(new_strings)"
   ]
  },
  {
   "cell_type": "markdown",
   "id": "6428e2a3",
   "metadata": {},
   "source": [
    "+ [a-z] 表示匹配任何小寫字母。\n",
    "+ \\+ 是一個量詞，表示匹配前面的模式一次或多次"
   ]
  },
  {
   "cell_type": "code",
   "execution_count": 85,
   "id": "345211ed",
   "metadata": {},
   "outputs": [
    {
     "name": "stdout",
     "output_type": "stream",
     "text": [
      "['abc', 'def', 'xyz', '']\n"
     ]
    }
   ],
   "source": [
    "# import re\n",
    "\n",
    "string = \"abc123def456xyz789\"\n",
    "pattern = \"[0-9]+\"\n",
    "\n",
    "new_strings = re.split(pattern, string)\n",
    "print(new_strings)"
   ]
  },
  {
   "cell_type": "markdown",
   "id": "0275494a",
   "metadata": {},
   "source": [
    "# 從句子中找出單字\n",
    "### 找出第一個單字"
   ]
  },
  {
   "cell_type": "code",
   "execution_count": 86,
   "id": "b6575ac1",
   "metadata": {},
   "outputs": [],
   "source": [
    "string9 = [\"NSYSU student\", \"He saw a dog\"] "
   ]
  },
  {
   "cell_type": "code",
   "execution_count": 87,
   "id": "3c0ff528",
   "metadata": {},
   "outputs": [
    {
     "name": "stdout",
     "output_type": "stream",
     "text": [
      "['NSYSU', 'He']\n"
     ]
    }
   ],
   "source": [
    "word_index = 1\n",
    "\n",
    "first_words = [s.split()[word_index - 1] for s in string9]\n",
    "print(first_words)"
   ]
  },
  {
   "cell_type": "markdown",
   "id": "7dc7610b",
   "metadata": {},
   "source": [
    "### 找出第二個以後的全部單字"
   ]
  },
  {
   "cell_type": "code",
   "execution_count": 88,
   "id": "fddd71b1",
   "metadata": {},
   "outputs": [
    {
     "name": "stdout",
     "output_type": "stream",
     "text": [
      "[['student'], ['saw', 'a', 'dog']]\n"
     ]
    }
   ],
   "source": [
    "first_words = [s.split()[1:] for s in string9]\n",
    "print(first_words)"
   ]
  },
  {
   "cell_type": "code",
   "execution_count": 89,
   "id": "7354c901",
   "metadata": {},
   "outputs": [
    {
     "name": "stdout",
     "output_type": "stream",
     "text": [
      "qweasd\n"
     ]
    }
   ],
   "source": [
    "# import re\n",
    "\n",
    "string0 = \"qweasd.987654\"\n",
    "word_index = 1\n",
    "separator = \".\"\n",
    "\n",
    "words = re.split(re.escape(separator), string0) # 將 \".\" 視為普通字符\n",
    "result = words[word_index - 1]\n",
    "print(result)"
   ]
  },
  {
   "cell_type": "markdown",
   "id": "95c08d42",
   "metadata": {},
   "source": [
    "+ re.escape() 函數對分隔符進行轉義，以確保它們被視為普通字符而不是具有特殊含義的正則表達式元字符"
   ]
  },
  {
   "cell_type": "markdown",
   "id": "c622ff0f",
   "metadata": {},
   "source": [
    "# 中文斷詞\n",
    "```\n",
    "進行中文斷詞可以使用不同的函式庫，其中常用的有 jieba、pkuseg 和 THULAC 等，\n",
    "這些函式庫可以將中文文本分割成詞語或詞塊，以便後續的文本處理和分析\n",
    "```\n",
    "+ jieba：https://github.com/fxsjy/jieba\n",
    "+ pkuseg：https://github.com/lancopku/pkuseg-python\n",
    "+ THULAC：https://github.com/thunlp/THULAC-Python"
   ]
  },
  {
   "cell_type": "markdown",
   "id": "63756fec",
   "metadata": {},
   "source": [
    "### 補充細節：\n",
    "\n",
    "詞性標註：\n",
    "+ [彙整中文與英文的詞性標註代號](https://blog.pulipuli.info/2017/11/fasttag-identify-part-of-speech-in.html)\n",
    "\n",
    "計算字串差異程度的 Hamming distance：\n",
    "+ [Hamming distance](https://en.wikipedia.org/wiki/Hamming_distance)\n",
    "\n",
    "TF-IDF：\n",
    "+ [TF-IDF（term frequency–inverse document frequency）](https://baike.baidu.com/item/tf-idf/8816134)\n",
    "\n",
    "去除重複的演算法：\n",
    "+ [文本去重算法：Minhash/Simhash/Klongsent](https://zhuanlan.zhihu.com/p/43640234)\n",
    "\n",
    "更多關於斷詞的討論：\n",
    "+ [中文分词做不好，人机自然语言交互当然难取得突破 ](https://www.sohu.com/a/152768373_491255)\n",
    "+ [Hanlp等七種優秀的開源中文分詞庫推薦](https://kknews.cc/code/o2j8e8o.html)"
   ]
  },
  {
   "cell_type": "markdown",
   "id": "2a9a2bd4",
   "metadata": {},
   "source": [
    "---"
   ]
  }
 ],
 "metadata": {
  "kernelspec": {
   "display_name": "Python 3 (ipykernel)",
   "language": "python",
   "name": "python3"
  },
  "language_info": {
   "codemirror_mode": {
    "name": "ipython",
    "version": 3
   },
   "file_extension": ".py",
   "mimetype": "text/x-python",
   "name": "python",
   "nbconvert_exporter": "python",
   "pygments_lexer": "ipython3",
   "version": "3.8.8"
  }
 },
 "nbformat": 4,
 "nbformat_minor": 5
}
