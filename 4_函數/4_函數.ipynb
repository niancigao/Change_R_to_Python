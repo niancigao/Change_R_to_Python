{
 "cells": [
  {
   "cell_type": "markdown",
   "id": "c4fcf765",
   "metadata": {},
   "source": [
    "# 函數\n",
    "\n",
    "### **ye yung jie 葉永傑**\n",
    "### **feb 8, 2019**\n",
    "---"
   ]
  },
  {
   "cell_type": "markdown",
   "id": "e2094d5c",
   "metadata": {},
   "source": [
    "# 前言\n",
    "```\n",
    "我們拿到的資料不一定適合直接分析，最常見的處理是對某些變數做不同的數值轉換，例如對數轉換、絕對值轉換等。\n",
    "但有時轉換可能更複雜，我們需要能自訂轉換函數。\n",
    "\n",
    "另外，幾乎所有Python的操作都是透過指令完成，一個指令其實就是一個函數。學習函數是讓Python能落實你的意念的關鍵。\n",
    "```\n",
    "# 一般函數"
   ]
  },
  {
   "cell_type": "markdown",
   "id": "d26b777d",
   "metadata": {},
   "source": [
    "## 事前安裝套件\n",
    "課程可能會遇到的套件"
   ]
  },
  {
   "cell_type": "code",
   "execution_count": 1,
   "id": "88befa84",
   "metadata": {},
   "outputs": [],
   "source": [
    "import numpy as np                # 處理數據\n",
    "import scipy.stats as st          # 統計、機率分配\n",
    "import pandas as pd               # 資料處理套件\n",
    "import matplotlib.pyplot as plt   # 資料視覺化套件"
   ]
  },
  {
   "cell_type": "markdown",
   "id": "b94a2aef",
   "metadata": {},
   "source": [
    "## 使用套件內函數\n",
    "\n",
    "```\n",
    "基本上如果要使用套件則需先 import\n",
    "使用時，把名稱放在前頭就可以使用\n",
    "而用 as 可以將很長名稱的套件化簡，方便使用，如 numpy 化簡為 np\n",
    "\n",
    "小技巧:打出前面幾個文字再按 tab 鍵可查詢命名類似的函數\n",
    "```"
   ]
  },
  {
   "cell_type": "markdown",
   "id": "03e4d5c7",
   "metadata": {},
   "source": [
    "## 數值函數\n",
    "+ 常用數值函數\n",
    "\n",
    "\n",
    "|數值類語法|\t說明|\t統計類語法|\t說明|\n",
    "|:---:|:---:|:---:|:---:|\n",
    "|np.abs\t|絕對值\t|np.mean\t|平均|\n",
    "|np.exp\t|自然指數\t|np.var\t|變異數|\n",
    "|np.log\t|自然對數\t|np.std\t|標準差|\n",
    "|np.log10\t|log10\t|np.cov\t|共變異數|\n",
    "|np.sqrt\t|開根號\t|np.corrcoef\t|相關係數|\n",
    "|np.ceil\t|無條件進位\t|np.median\t|中位數|\n",
    "|np.floor\t|無條件捨去\t|np.sum\t|全部相加|\n",
    "|np.round\t|四捨五入\t|np.max\t|最大值|\n",
    "|np.tan、np.sin\t|三角函數\t|np.min\t|最小值|\n",
    "|np.arctan、np.arcsin\t|反三角\t|np.argmax\t|最大值的位置|\n",
    "|np.linalg.norm\t|範數|np.argmin|最小值的位置|\n",
    "\n",
    "<br>\n",
    "\n",
    "+ 以上列的都是 numpy 的函數，numpy 支援高階大規模的多維陣列與矩陣運算，此外也針對陣列運算提供大量的數學函式函式庫\n",
    "+ SciPy、math 等套件也含有大量的數學函式函式庫\n",
    "\n",
    "\n",
    "\n",
    "**數值類語法**"
   ]
  },
  {
   "cell_type": "code",
   "execution_count": 2,
   "id": "e38b7f91",
   "metadata": {},
   "outputs": [
    {
     "data": {
      "text/plain": [
       "4"
      ]
     },
     "execution_count": 2,
     "metadata": {},
     "output_type": "execute_result"
    }
   ],
   "source": [
    "np.abs(-4)"
   ]
  },
  {
   "cell_type": "code",
   "execution_count": 3,
   "id": "375564c1",
   "metadata": {},
   "outputs": [
    {
     "data": {
      "text/plain": [
       "1.0"
      ]
     },
     "execution_count": 3,
     "metadata": {},
     "output_type": "execute_result"
    }
   ],
   "source": [
    "np.log(np.exp(1))"
   ]
  },
  {
   "cell_type": "code",
   "execution_count": 4,
   "id": "982c2e68",
   "metadata": {},
   "outputs": [
    {
     "data": {
      "text/plain": [
       "1.5707963267948966"
      ]
     },
     "execution_count": 4,
     "metadata": {},
     "output_type": "execute_result"
    }
   ],
   "source": [
    "np.arcsin(np.sin(np.pi/2))"
   ]
  },
  {
   "cell_type": "code",
   "execution_count": 5,
   "id": "4995649f",
   "metadata": {},
   "outputs": [
    {
     "data": {
      "text/plain": [
       "2.0"
      ]
     },
     "execution_count": 5,
     "metadata": {},
     "output_type": "execute_result"
    }
   ],
   "source": [
    "np.sqrt(4)"
   ]
  },
  {
   "cell_type": "code",
   "execution_count": 6,
   "id": "81fead04",
   "metadata": {},
   "outputs": [
    {
     "data": {
      "text/plain": [
       "5.0"
      ]
     },
     "execution_count": 6,
     "metadata": {},
     "output_type": "execute_result"
    }
   ],
   "source": [
    "np.ceil(4.2)"
   ]
  },
  {
   "cell_type": "code",
   "execution_count": 7,
   "id": "d3206772",
   "metadata": {},
   "outputs": [
    {
     "data": {
      "text/plain": [
       "4.0"
      ]
     },
     "execution_count": 7,
     "metadata": {},
     "output_type": "execute_result"
    }
   ],
   "source": [
    "np.floor(4.2)"
   ]
  },
  {
   "cell_type": "code",
   "execution_count": 8,
   "id": "b5a25e23",
   "metadata": {},
   "outputs": [
    {
     "data": {
      "text/plain": [
       "4.23"
      ]
     },
     "execution_count": 8,
     "metadata": {},
     "output_type": "execute_result"
    }
   ],
   "source": [
    "np.round(4.22952,3)"
   ]
  },
  {
   "cell_type": "code",
   "execution_count": 9,
   "id": "cb1a83f9",
   "metadata": {},
   "outputs": [
    {
     "data": {
      "text/plain": [
       "14.2828568570857"
      ]
     },
     "execution_count": 9,
     "metadata": {},
     "output_type": "execute_result"
    }
   ],
   "source": [
    "a = np.arange(9)\n",
    "np.linalg.norm(a)"
   ]
  },
  {
   "cell_type": "markdown",
   "id": "fc99f993",
   "metadata": {},
   "source": [
    "**統計類語法**"
   ]
  },
  {
   "cell_type": "code",
   "execution_count": 10,
   "id": "4c70f619",
   "metadata": {},
   "outputs": [
    {
     "data": {
      "text/plain": [
       "2.5"
      ]
     },
     "execution_count": 10,
     "metadata": {},
     "output_type": "execute_result"
    }
   ],
   "source": [
    "b = np.arange(1,5)\n",
    "c = np.array([6,10,14,18])\n",
    "np.mean(b)"
   ]
  },
  {
   "cell_type": "code",
   "execution_count": 11,
   "id": "f2c30653",
   "metadata": {},
   "outputs": [
    {
     "data": {
      "text/plain": [
       "1.25"
      ]
     },
     "execution_count": 11,
     "metadata": {},
     "output_type": "execute_result"
    }
   ],
   "source": [
    "np.var(b)"
   ]
  },
  {
   "cell_type": "code",
   "execution_count": 12,
   "id": "86bbdf45",
   "metadata": {},
   "outputs": [
    {
     "data": {
      "text/plain": [
       "1.118033988749895"
      ]
     },
     "execution_count": 12,
     "metadata": {},
     "output_type": "execute_result"
    }
   ],
   "source": [
    " np.std(b)"
   ]
  },
  {
   "cell_type": "code",
   "execution_count": 13,
   "id": "7d287a82",
   "metadata": {},
   "outputs": [
    {
     "data": {
      "text/plain": [
       "array([[ 1.66666667,  6.66666667],\n",
       "       [ 6.66666667, 26.66666667]])"
      ]
     },
     "execution_count": 13,
     "metadata": {},
     "output_type": "execute_result"
    }
   ],
   "source": [
    "np.cov(b,c)"
   ]
  },
  {
   "cell_type": "code",
   "execution_count": 14,
   "id": "9a54a297",
   "metadata": {},
   "outputs": [
    {
     "data": {
      "text/plain": [
       "array([[1., 1.],\n",
       "       [1., 1.]])"
      ]
     },
     "execution_count": 14,
     "metadata": {},
     "output_type": "execute_result"
    }
   ],
   "source": [
    "np.corrcoef(b,c)"
   ]
  },
  {
   "cell_type": "code",
   "execution_count": 15,
   "id": "6f569d5d",
   "metadata": {},
   "outputs": [
    {
     "data": {
      "text/plain": [
       "2.5"
      ]
     },
     "execution_count": 15,
     "metadata": {},
     "output_type": "execute_result"
    }
   ],
   "source": [
    "np.median(b)"
   ]
  },
  {
   "cell_type": "code",
   "execution_count": 16,
   "id": "af5cd956",
   "metadata": {},
   "outputs": [
    {
     "data": {
      "text/plain": [
       "10"
      ]
     },
     "execution_count": 16,
     "metadata": {},
     "output_type": "execute_result"
    }
   ],
   "source": [
    "np.sum(b)"
   ]
  },
  {
   "cell_type": "code",
   "execution_count": 17,
   "id": "d60da416",
   "metadata": {},
   "outputs": [
    {
     "data": {
      "text/plain": [
       "4"
      ]
     },
     "execution_count": 17,
     "metadata": {},
     "output_type": "execute_result"
    }
   ],
   "source": [
    "np.max(b)"
   ]
  },
  {
   "cell_type": "code",
   "execution_count": 18,
   "id": "4b39becf",
   "metadata": {},
   "outputs": [
    {
     "data": {
      "text/plain": [
       "3"
      ]
     },
     "execution_count": 18,
     "metadata": {},
     "output_type": "execute_result"
    }
   ],
   "source": [
    "np.argmax(b)"
   ]
  },
  {
   "cell_type": "markdown",
   "id": "0bb57fc8",
   "metadata": {},
   "source": [
    "## 建立自己的函數\n",
    "語法 :<br>\n",
    "```\n",
    "def 名稱(a = 預設的輸入值, b) :\n",
    "    \n",
    "    函數做的事情\n",
    "    return (傳回的輸出)\n",
    "```\n",
    "1. 記得一定要加 :\n",
    "2. 若沒有 return 這行，也沒有 print，則無輸出\n",
    "3. 如果內容只有一行，則不一定要縮排，可以直接放在 : 後面\n",
    "4. return 裡可以放不只一個物件 (舉例在list中的函數)"
   ]
  },
  {
   "cell_type": "code",
   "execution_count": 19,
   "id": "25fb0d44",
   "metadata": {},
   "outputs": [],
   "source": [
    "def test1(a = 3) :\n",
    "    (a + 3)\n",
    "\n",
    "test1()"
   ]
  },
  {
   "cell_type": "code",
   "execution_count": 20,
   "id": "8848fb39",
   "metadata": {},
   "outputs": [
    {
     "data": {
      "text/plain": [
       "6"
      ]
     },
     "execution_count": 20,
     "metadata": {},
     "output_type": "execute_result"
    }
   ],
   "source": [
    "def test1(a = 3) :\n",
    "    return(a + 3)\n",
    "\n",
    "test1()"
   ]
  },
  {
   "cell_type": "code",
   "execution_count": 21,
   "id": "f4ef4ff5",
   "metadata": {},
   "outputs": [
    {
     "name": "stdout",
     "output_type": "stream",
     "text": [
      "6\n"
     ]
    }
   ],
   "source": [
    "def test2(a = 3) :\n",
    "    print(a + 3)\n",
    "    \n",
    "test2()"
   ]
  },
  {
   "cell_type": "markdown",
   "id": "1a1a8e1e",
   "metadata": {},
   "source": [
    "```\n",
    "基本上，Python的函式都有回傳值，為什麼會這樣說呢？\n",
    "當我們用一個變數來接無回傳值函式的結果時，從執行結果可以看到 Python 隱含回傳了一個 None 給我們，如下範例\n",
    "```"
   ]
  },
  {
   "cell_type": "code",
   "execution_count": 22,
   "id": "9d02c04b",
   "metadata": {},
   "outputs": [
    {
     "name": "stdout",
     "output_type": "stream",
     "text": [
      "6\n"
     ]
    }
   ],
   "source": [
    "a = test1()\n",
    "b = test2()"
   ]
  },
  {
   "cell_type": "code",
   "execution_count": 23,
   "id": "70950801",
   "metadata": {},
   "outputs": [
    {
     "data": {
      "text/plain": [
       "6"
      ]
     },
     "execution_count": 23,
     "metadata": {},
     "output_type": "execute_result"
    }
   ],
   "source": [
    "a"
   ]
  },
  {
   "cell_type": "code",
   "execution_count": 24,
   "id": "f16e4a0f",
   "metadata": {},
   "outputs": [],
   "source": [
    "b"
   ]
  },
  {
   "cell_type": "markdown",
   "id": "8cf7e200",
   "metadata": {},
   "source": [
    "```\n",
    "因為在函式中沒有使用 return 關鍵字回傳結果，所以在來源端用一個變數來接回傳值時，會得到 None (也就是此函式無回傳值的意思)\n",
    "```"
   ]
  },
  {
   "cell_type": "markdown",
   "id": "b7c8904b",
   "metadata": {},
   "source": [
    "**平均統計量**\n",
    "\n",
    "以下是測驗 $\\overline{x}$ 電腦模擬出來的結果"
   ]
  },
  {
   "cell_type": "code",
   "execution_count": 25,
   "id": "a71d6749",
   "metadata": {},
   "outputs": [
    {
     "data": {
      "text/plain": [
       "array([ 0.02216, -0.41974, -0.40887, -0.25844, -0.25844, -0.25844,\n",
       "        0.07989, -0.25844, -0.37333,  0.07989])"
      ]
     },
     "execution_count": 25,
     "metadata": {},
     "output_type": "execute_result"
    }
   ],
   "source": [
    "def apal(a,n=10):\n",
    "    tem = np.random.randint(0,len(a[1,:]),size = n)\n",
    "    return(a[:,tem]).mean(axis = 0)\n",
    "\n",
    "np.round(apal(np.random.normal(size = 100).reshape((10,10))),5)"
   ]
  },
  {
   "cell_type": "code",
   "execution_count": 26,
   "id": "ce91b05e",
   "metadata": {},
   "outputs": [
    {
     "data": {
      "text/plain": [
       "array([-0.09937194, -0.14904544])"
      ]
     },
     "execution_count": 26,
     "metadata": {},
     "output_type": "execute_result"
    }
   ],
   "source": [
    "a = (np.random.normal(size = 100).reshape((50,2))[:,0:2])\n",
    "a.shape # (50, 2)\n",
    "a.mean(axis=0)"
   ]
  },
  {
   "cell_type": "markdown",
   "id": "555a0660",
   "metadata": {},
   "source": [
    "**年金現值**\n",
    "+ [年金現值](https://wiki.mbalib.com/zh-tw/%E5%B9%B4%E9%87%91%E7%8E%B0%E5%80%BC)\n",
    "\n",
    "算出年金現值 $PV = A(\\frac{1−(1+i)^{−n}}{i})$\n",
    "\n",
    "+ A 為初始金額\n",
    "+ i 為利率\n",
    "+ n 為期數\n",
    "\n",
    "年繳20000，每年利息1%，共十年 ，求此款項現在的價值"
   ]
  },
  {
   "cell_type": "code",
   "execution_count": 27,
   "id": "3c0574e7",
   "metadata": {},
   "outputs": [
    {
     "name": "stdout",
     "output_type": "stream",
     "text": [
      "189426.09061403348\n"
     ]
    }
   ],
   "source": [
    "def PV(A,i,n):\n",
    "    print(A*(1-(1+i)**(-n) )/i)\n",
    "\n",
    "PV(20000,0.01,10)"
   ]
  },
  {
   "cell_type": "markdown",
   "id": "b8e090d8",
   "metadata": {},
   "source": [
    "## list中的函數\n",
    "+ **python 不像 R，R 的 list 可以放進函數**\n",
    "\n",
    "```python\n",
    "\n",
    "[def mean(x): return(np.mean(x)), def var(x): return(np.var(x)), def median(x): return(np.median(x))]\n",
    "\n",
    "File \"<ipython-input-199-73c49522da7e>\", line 1\n",
    "    [def mean(x): return(np.mean(x))\n",
    "     ^\n",
    "SyntaxError: invalid syntax\n",
    "\n",
    "```"
   ]
  },
  {
   "cell_type": "markdown",
   "id": "4aab888c",
   "metadata": {},
   "source": [
    "+ 如果內容只有一行，則不一定要縮排，可以直接放在 : 後面\n",
    "+ return 裡可以放不只一個物件"
   ]
  },
  {
   "cell_type": "code",
   "execution_count": 28,
   "id": "d0cd3e18",
   "metadata": {},
   "outputs": [],
   "source": [
    "def mean(x): return(np.mean(x))\n",
    "def var(x): return(np.var(x))\n",
    "def median(x): return(np.median(x))"
   ]
  },
  {
   "cell_type": "code",
   "execution_count": 29,
   "id": "c8e2ae10",
   "metadata": {},
   "outputs": [
    {
     "data": {
      "text/plain": [
       "[4.0, 6.666666666666667, 4.0]"
      ]
     },
     "execution_count": 29,
     "metadata": {},
     "output_type": "execute_result"
    }
   ],
   "source": [
    "[mean(np.arange(9)), var(np.arange(9)), median(np.arange(9))]"
   ]
  },
  {
   "cell_type": "code",
   "execution_count": 30,
   "id": "86d52e9a",
   "metadata": {},
   "outputs": [
    {
     "data": {
      "text/plain": [
       "(4.0,\n",
       " array([0, 1, 2, 3, 4, 5, 6, 7, 8]),\n",
       " array([1, 2, 3, 4, 5, 6, 7, 8, 9]),\n",
       " array([ 2,  3,  4,  5,  6,  7,  8,  9, 10]))"
      ]
     },
     "execution_count": 30,
     "metadata": {},
     "output_type": "execute_result"
    }
   ],
   "source": [
    "def median(x): return (np.median(x),x,x+1,x+2)\n",
    "\n",
    "median(np.arange(9))  # type() = tuple"
   ]
  },
  {
   "cell_type": "code",
   "execution_count": 31,
   "id": "6b2509a1",
   "metadata": {},
   "outputs": [
    {
     "data": {
      "text/plain": [
       "[4.0,\n",
       " array([0, 1, 2, 3, 4, 5, 6, 7, 8]),\n",
       " array([1, 2, 3, 4, 5, 6, 7, 8, 9]),\n",
       " array([ 2,  3,  4,  5,  6,  7,  8,  9, 10])]"
      ]
     },
     "execution_count": 31,
     "metadata": {},
     "output_type": "execute_result"
    }
   ],
   "source": [
    "def median(x): return [np.median(x),x,x+1,x+2]\n",
    "\n",
    "median(np.arange(9))  # type() = list"
   ]
  },
  {
   "cell_type": "markdown",
   "id": "4e2cf2f1",
   "metadata": {},
   "source": [
    "## 機率分配\n",
    "\n",
    "|語法|說明|\n",
    "|:---|:---|\n",
    "|st.分配名.rvs|生成隨機變數|\n",
    "|st.分配名.ppf|x={x∥p(X≤x)} 輸入的是機率 p(X≤x)|\n",
    "|st.分配名.pdf|density，p(X=x)|\n",
    "|st.分配名.cdf|probability，p(X≤x)|\n",
    "\n",
    "+ 其他套件也有機率分配相關函式，如，np.random.分配名 : 生成隨機變數\n",
    "\t\n",
    "**normal 隨機變數**"
   ]
  },
  {
   "cell_type": "code",
   "execution_count": 32,
   "id": "fa5f57cf",
   "metadata": {},
   "outputs": [
    {
     "data": {
      "text/plain": [
       "array([ 0.40888674, -0.32999398,  1.43699518,  1.42630363, -0.04596246,\n",
       "        0.11264658])"
      ]
     },
     "execution_count": 32,
     "metadata": {},
     "output_type": "execute_result"
    }
   ],
   "source": [
    "st.norm.rvs(loc=0.0, scale=1.0, size=6, random_state=None)"
   ]
  },
  {
   "cell_type": "code",
   "execution_count": 33,
   "id": "da020864",
   "metadata": {},
   "outputs": [
    {
     "data": {
      "text/plain": [
       "array([-0.32087605,  0.50547612, -1.34234176,  0.00310944, -1.26450898,\n",
       "        0.84573539])"
      ]
     },
     "execution_count": 33,
     "metadata": {},
     "output_type": "execute_result"
    }
   ],
   "source": [
    "np.random.normal(loc=0.0, scale=1.0, size=6)"
   ]
  },
  {
   "cell_type": "markdown",
   "id": "be2d4dd7",
   "metadata": {},
   "source": [
    "**poisson 隨機變數**"
   ]
  },
  {
   "cell_type": "code",
   "execution_count": 34,
   "id": "588ebfbd",
   "metadata": {},
   "outputs": [
    {
     "data": {
      "text/plain": [
       "array([1, 0, 0, 2, 0, 1])"
      ]
     },
     "execution_count": 34,
     "metadata": {},
     "output_type": "execute_result"
    }
   ],
   "source": [
    "st.poisson.rvs(1.0, size=6, random_state=None)"
   ]
  },
  {
   "cell_type": "code",
   "execution_count": 35,
   "id": "a1303929",
   "metadata": {},
   "outputs": [
    {
     "data": {
      "text/plain": [
       "array([4, 0, 1, 3, 0, 1])"
      ]
     },
     "execution_count": 35,
     "metadata": {},
     "output_type": "execute_result"
    }
   ],
   "source": [
    "np.random.poisson(lam=1.0, size=6)"
   ]
  },
  {
   "cell_type": "markdown",
   "id": "808cd45a",
   "metadata": {},
   "source": [
    "**從左邊累積過來的 quantile: $x=\\{x|p(X≤x)=q\\}$**"
   ]
  },
  {
   "cell_type": "code",
   "execution_count": 36,
   "id": "74168109",
   "metadata": {},
   "outputs": [
    {
     "data": {
      "text/plain": [
       "0.2533471031357997"
      ]
     },
     "execution_count": 36,
     "metadata": {},
     "output_type": "execute_result"
    }
   ],
   "source": [
    "st.norm.ppf(0.6,loc=0.0, scale=1.0)"
   ]
  },
  {
   "cell_type": "markdown",
   "id": "5bacefd4",
   "metadata": {},
   "source": [
    "**從右邊累積過來的 quantile: $x=\\{x|p(X≥x)=q\\}$**"
   ]
  },
  {
   "cell_type": "code",
   "execution_count": 37,
   "id": "6f8841dd",
   "metadata": {},
   "outputs": [
    {
     "data": {
      "text/plain": [
       "-0.2533471031357997"
      ]
     },
     "execution_count": 37,
     "metadata": {},
     "output_type": "execute_result"
    }
   ],
   "source": [
    "st.norm.ppf(1 - 0.6,loc=0.0, scale=1.0)"
   ]
  },
  {
   "cell_type": "code",
   "execution_count": 38,
   "id": "44410724",
   "metadata": {},
   "outputs": [
    {
     "data": {
      "text/plain": [
       "0.3989422804014327"
      ]
     },
     "execution_count": 38,
     "metadata": {},
     "output_type": "execute_result"
    }
   ],
   "source": [
    "st.norm.pdf(0,loc=0.0, scale=1.0)"
   ]
  },
  {
   "cell_type": "code",
   "execution_count": 39,
   "id": "29ccf45d",
   "metadata": {},
   "outputs": [
    {
     "data": {
      "text/plain": [
       "0.5"
      ]
     },
     "execution_count": 39,
     "metadata": {},
     "output_type": "execute_result"
    }
   ],
   "source": [
    "st.norm.cdf(0,loc=0.0, scale=1.0)"
   ]
  },
  {
   "cell_type": "markdown",
   "id": "8ac8cbbc",
   "metadata": {},
   "source": [
    "## 排序函數\n",
    "\n",
    "|語法\t|說明|\n",
    "|:---|:---|\n",
    "|.sort()、 sorted() |由小到大,或由大到小|\n",
    "|np.argsort()、.sort_values()|找出由小到大(或由大到小)的元素順序|\n",
    "|.rank()\t|給相對應的名次|\n",
    "|[::-1]\t|序列整條反過來，切片操作符|"
   ]
  },
  {
   "cell_type": "code",
   "execution_count": 40,
   "id": "d97bca67",
   "metadata": {},
   "outputs": [
    {
     "data": {
      "text/plain": [
       "array([12, 25, 11, 21,  4,  0, 26, 14,  8, 18,  3, 13,  1,  6, 28, 29,  5,\n",
       "       23, 16, 10, 17, 22, 19,  7, 27, 15, 20, 24,  2,  9])"
      ]
     },
     "execution_count": 40,
     "metadata": {},
     "output_type": "execute_result"
    }
   ],
   "source": [
    "tem = np.random.choice(np.arange(30),30,replace=False)\n",
    "tem"
   ]
  },
  {
   "cell_type": "markdown",
   "id": "ccec6781",
   "metadata": {},
   "source": [
    "**sorted(資料, reverse=False)**\n",
    "+ 預設從小到大(升序)，內建函數"
   ]
  },
  {
   "cell_type": "code",
   "execution_count": 41,
   "id": "6d305caf",
   "metadata": {
    "scrolled": false
   },
   "outputs": [
    {
     "data": {
      "text/plain": [
       "[0,\n",
       " 1,\n",
       " 2,\n",
       " 3,\n",
       " 4,\n",
       " 5,\n",
       " 6,\n",
       " 7,\n",
       " 8,\n",
       " 9,\n",
       " 10,\n",
       " 11,\n",
       " 12,\n",
       " 13,\n",
       " 14,\n",
       " 15,\n",
       " 16,\n",
       " 17,\n",
       " 18,\n",
       " 19,\n",
       " 20,\n",
       " 21,\n",
       " 22,\n",
       " 23,\n",
       " 24,\n",
       " 25,\n",
       " 26,\n",
       " 27,\n",
       " 28,\n",
       " 29]"
      ]
     },
     "execution_count": 41,
     "metadata": {},
     "output_type": "execute_result"
    }
   ],
   "source": [
    "sorted(tem)"
   ]
  },
  {
   "cell_type": "code",
   "execution_count": 42,
   "id": "406205d1",
   "metadata": {
    "scrolled": false
   },
   "outputs": [
    {
     "data": {
      "text/plain": [
       "[29,\n",
       " 28,\n",
       " 27,\n",
       " 26,\n",
       " 25,\n",
       " 24,\n",
       " 23,\n",
       " 22,\n",
       " 21,\n",
       " 20,\n",
       " 19,\n",
       " 18,\n",
       " 17,\n",
       " 16,\n",
       " 15,\n",
       " 14,\n",
       " 13,\n",
       " 12,\n",
       " 11,\n",
       " 10,\n",
       " 9,\n",
       " 8,\n",
       " 7,\n",
       " 6,\n",
       " 5,\n",
       " 4,\n",
       " 3,\n",
       " 2,\n",
       " 1,\n",
       " 0]"
      ]
     },
     "execution_count": 42,
     "metadata": {},
     "output_type": "execute_result"
    }
   ],
   "source": [
    "sorted(tem, reverse=True)"
   ]
  },
  {
   "cell_type": "markdown",
   "id": "63e1cdda",
   "metadata": {},
   "source": [
    "+ **內建函數 .sort()、 sorted() 的差別**\n",
    "\n",
    "1. sorted 是複製一份進行排序\n",
    "2. .sort() 是直接在原物件排序(所以沒有回傳)"
   ]
  },
  {
   "cell_type": "code",
   "execution_count": 43,
   "id": "16095862",
   "metadata": {},
   "outputs": [
    {
     "name": "stdout",
     "output_type": "stream",
     "text": [
      "[0, 1, 2, 3, 4, 5, 6, 7, 8, 9, 10, 11, 12, 13, 14, 15, 16, 17, 18, 19, 20, 21, 22, 23, 24, 25, 26, 27, 28, 29] \n",
      "\n",
      " [12 25 11 21  4  0 26 14  8 18  3 13  1  6 28 29  5 23 16 10 17 22 19  7\n",
      " 27 15 20 24  2  9]\n"
     ]
    }
   ],
   "source": [
    "s = sorted(tem)\n",
    "print(s,\"\\n\\n\",tem)"
   ]
  },
  {
   "cell_type": "code",
   "execution_count": 44,
   "id": "3bf89006",
   "metadata": {},
   "outputs": [
    {
     "name": "stdout",
     "output_type": "stream",
     "text": [
      "None \n",
      "\n",
      " [ 0  1  2  3  4  5  6  7  8  9 10 11 12 13 14 15 16 17 18 19 20 21 22 23\n",
      " 24 25 26 27 28 29]\n"
     ]
    }
   ],
   "source": [
    "print(tem.sort(),\"\\n\\n\",tem)"
   ]
  },
  {
   "cell_type": "markdown",
   "id": "9aaf1eb9",
   "metadata": {},
   "source": [
    "重創數據"
   ]
  },
  {
   "cell_type": "code",
   "execution_count": 45,
   "id": "10383baf",
   "metadata": {},
   "outputs": [
    {
     "data": {
      "text/plain": [
       "array([21, 18, 29, 22,  6,  7, 26, 23,  9,  1, 17,  5, 28,  4, 24, 12,  3,\n",
       "       11,  8, 20, 19, 16, 25, 13,  0, 27, 14, 15, 10,  2])"
      ]
     },
     "execution_count": 45,
     "metadata": {},
     "output_type": "execute_result"
    }
   ],
   "source": [
    "tem = np.random.choice(np.arange(30),30,replace=False)\n",
    "tem"
   ]
  },
  {
   "cell_type": "markdown",
   "id": "c9d0a7f1",
   "metadata": {},
   "source": [
    "**np.argsort()、.sort_values(ascending=True)**\n",
    "+ 找出由小到大(或由大到小)的元素順序\n",
    "+ 回傳的是 index 順序"
   ]
  },
  {
   "cell_type": "code",
   "execution_count": 46,
   "id": "a6116b07",
   "metadata": {
    "scrolled": true
   },
   "outputs": [
    {
     "data": {
      "text/plain": [
       "array([24,  9, 29, 16, 13, 11,  4,  5, 18,  8, 28, 17, 15, 23, 26, 27, 21,\n",
       "       10,  1, 20, 19,  0,  3,  7, 14, 22,  6, 25, 12,  2], dtype=int64)"
      ]
     },
     "execution_count": 46,
     "metadata": {},
     "output_type": "execute_result"
    }
   ],
   "source": [
    "np.argsort(tem)            # 升序"
   ]
  },
  {
   "cell_type": "code",
   "execution_count": 47,
   "id": "43cc8ba8",
   "metadata": {
    "scrolled": false
   },
   "outputs": [
    {
     "data": {
      "text/plain": [
       "24     0\n",
       "9      1\n",
       "29     2\n",
       "16     3\n",
       "13     4\n",
       "11     5\n",
       "4      6\n",
       "5      7\n",
       "18     8\n",
       "8      9\n",
       "28    10\n",
       "17    11\n",
       "15    12\n",
       "23    13\n",
       "26    14\n",
       "27    15\n",
       "21    16\n",
       "10    17\n",
       "1     18\n",
       "20    19\n",
       "19    20\n",
       "0     21\n",
       "3     22\n",
       "7     23\n",
       "14    24\n",
       "22    25\n",
       "6     26\n",
       "25    27\n",
       "12    28\n",
       "2     29\n",
       "dtype: int32"
      ]
     },
     "execution_count": 47,
     "metadata": {},
     "output_type": "execute_result"
    }
   ],
   "source": [
    "obj = pd.Series(tem)\n",
    "obj.sort_values()          # 升序"
   ]
  },
  {
   "cell_type": "code",
   "execution_count": 48,
   "id": "1adc0b8a",
   "metadata": {},
   "outputs": [
    {
     "data": {
      "text/plain": [
       "array([ 2, 12, 25,  6, 22, 14,  7,  3,  0, 19, 20,  1, 10, 21, 27, 26, 23,\n",
       "       15, 17, 28,  8, 18,  5,  4, 11, 13, 16, 29,  9, 24], dtype=int64)"
      ]
     },
     "execution_count": 48,
     "metadata": {},
     "output_type": "execute_result"
    }
   ],
   "source": [
    "np.argsort(tem)[::-1]              # 降序"
   ]
  },
  {
   "cell_type": "code",
   "execution_count": 49,
   "id": "9ce873fc",
   "metadata": {
    "scrolled": false
   },
   "outputs": [
    {
     "data": {
      "text/plain": [
       "2     29\n",
       "12    28\n",
       "25    27\n",
       "6     26\n",
       "22    25\n",
       "14    24\n",
       "7     23\n",
       "3     22\n",
       "0     21\n",
       "19    20\n",
       "20    19\n",
       "1     18\n",
       "10    17\n",
       "21    16\n",
       "27    15\n",
       "26    14\n",
       "23    13\n",
       "15    12\n",
       "17    11\n",
       "28    10\n",
       "8      9\n",
       "18     8\n",
       "5      7\n",
       "4      6\n",
       "11     5\n",
       "13     4\n",
       "16     3\n",
       "29     2\n",
       "9      1\n",
       "24     0\n",
       "dtype: int32"
      ]
     },
     "execution_count": 49,
     "metadata": {},
     "output_type": "execute_result"
    }
   ],
   "source": [
    "obj = pd.Series(tem)\n",
    "obj.sort_values(ascending=False)   # 降序"
   ]
  },
  {
   "cell_type": "markdown",
   "id": "46ca2bc6",
   "metadata": {},
   "source": [
    "**.rank(ascending=True)**\n",
    "+ 對數據進行排名"
   ]
  },
  {
   "cell_type": "code",
   "execution_count": 50,
   "id": "98dd7ec3",
   "metadata": {},
   "outputs": [
    {
     "data": {
      "text/plain": [
       "0     22.0\n",
       "1     19.0\n",
       "2     30.0\n",
       "3     23.0\n",
       "4      7.0\n",
       "5      8.0\n",
       "6     27.0\n",
       "7     24.0\n",
       "8     10.0\n",
       "9      2.0\n",
       "10    18.0\n",
       "11     6.0\n",
       "12    29.0\n",
       "13     5.0\n",
       "14    25.0\n",
       "15    13.0\n",
       "16     4.0\n",
       "17    12.0\n",
       "18     9.0\n",
       "19    21.0\n",
       "20    20.0\n",
       "21    17.0\n",
       "22    26.0\n",
       "23    14.0\n",
       "24     1.0\n",
       "25    28.0\n",
       "26    15.0\n",
       "27    16.0\n",
       "28    11.0\n",
       "29     3.0\n",
       "dtype: float64"
      ]
     },
     "execution_count": 50,
     "metadata": {},
     "output_type": "execute_result"
    }
   ],
   "source": [
    "obj.rank()"
   ]
  },
  {
   "cell_type": "markdown",
   "id": "d2173baa",
   "metadata": {},
   "source": [
    "**切片操作符 : [::-1]**"
   ]
  },
  {
   "cell_type": "code",
   "execution_count": 51,
   "id": "1de89c3e",
   "metadata": {
    "scrolled": false
   },
   "outputs": [
    {
     "data": {
      "text/plain": [
       "29     2\n",
       "28    10\n",
       "27    15\n",
       "26    14\n",
       "25    27\n",
       "24     0\n",
       "23    13\n",
       "22    25\n",
       "21    16\n",
       "20    19\n",
       "19    20\n",
       "18     8\n",
       "17    11\n",
       "16     3\n",
       "15    12\n",
       "14    24\n",
       "13     4\n",
       "12    28\n",
       "11     5\n",
       "10    17\n",
       "9      1\n",
       "8      9\n",
       "7     23\n",
       "6     26\n",
       "5      7\n",
       "4      6\n",
       "3     22\n",
       "2     29\n",
       "1     18\n",
       "0     21\n",
       "dtype: int32"
      ]
     },
     "execution_count": 51,
     "metadata": {},
     "output_type": "execute_result"
    }
   ],
   "source": [
    "obj[::-1]"
   ]
  },
  {
   "cell_type": "markdown",
   "id": "5129c373",
   "metadata": {},
   "source": [
    "## 文字轉執行碼\n",
    "**exec(\"\"\"print(想執行的文字串)\"\"\")**"
   ]
  },
  {
   "cell_type": "code",
   "execution_count": 52,
   "id": "825db5c9",
   "metadata": {},
   "outputs": [
    {
     "name": "stdout",
     "output_type": "stream",
     "text": [
      "3.0\n"
     ]
    }
   ],
   "source": [
    "text = \"\"\"print(np.mean(np.arange(1,6)))\"\"\"\n",
    "exec(text)"
   ]
  },
  {
   "cell_type": "code",
   "execution_count": 53,
   "id": "2a266f31",
   "metadata": {},
   "outputs": [
    {
     "name": "stdout",
     "output_type": "stream",
     "text": [
      "今天天氣真好！\n"
     ]
    }
   ],
   "source": [
    "text_02 = \"\"\"\n",
    "print('{}天氣真{}！')\"\"\".format('今天', '好')\n",
    "exec(text_02)"
   ]
  },
  {
   "cell_type": "markdown",
   "id": "0ed3fb82",
   "metadata": {},
   "source": [
    "## 讀取變數名對應的資料\n",
    "dict.get(key)\n",
    "+ dict.keys() : 全部的 key\n",
    "+ dict.values() : 全部的 value\n",
    "\n",
    "在做些統計分析時，會遇到我們需要對我們找到的變數做進一步分析時的狀況或是變數很多時，就可以利用 key，抓取我們要的 value"
   ]
  },
  {
   "cell_type": "code",
   "execution_count": 54,
   "id": "1f5e4f54",
   "metadata": {},
   "outputs": [
    {
     "data": {
      "text/plain": [
       "array([0, 1, 2, 3, 4])"
      ]
     },
     "execution_count": 54,
     "metadata": {},
     "output_type": "execute_result"
    }
   ],
   "source": [
    "dic = {'x' : np.arange(5),\n",
    "       'y' : np.arange(4),\n",
    "       'z' : np.arange(3)}\n",
    "\n",
    "dic.get('x')"
   ]
  },
  {
   "cell_type": "code",
   "execution_count": 55,
   "id": "d81aecc6",
   "metadata": {},
   "outputs": [
    {
     "name": "stdout",
     "output_type": "stream",
     "text": [
      "dict_keys(['x', 'y', 'z']) \n",
      " dict_values([array([0, 1, 2, 3, 4]), array([0, 1, 2, 3]), array([0, 1, 2])])\n"
     ]
    }
   ],
   "source": [
    "print(dic.keys(),\"\\n\",\n",
    "      dic.values())"
   ]
  },
  {
   "cell_type": "markdown",
   "id": "2fee346e",
   "metadata": {},
   "source": [
    "## if ... elif ... else\n",
    "\n",
    "if ... elif ... else 是所謂的條件執行，<br>\n",
    "\n",
    "語法 :\n",
    "```    \n",
    "    if (資料) :\n",
    "        print(程式敘述句)\n",
    "    elif (資料) :\n",
    "        print(程式敘述句) \n",
    "    else :\n",
    "        print(程式敘述句)\n",
    "```"
   ]
  },
  {
   "cell_type": "markdown",
   "id": "4f4fe36a",
   "metadata": {},
   "source": [
    "1. 假設 if 得到的判斷結果是 False，則 if 內的程式敘述句不會執行"
   ]
  },
  {
   "cell_type": "code",
   "execution_count": 56,
   "id": "2a3d61be",
   "metadata": {},
   "outputs": [
    {
     "name": "stdout",
     "output_type": "stream",
     "text": [
      "1\n"
     ]
    }
   ],
   "source": [
    "x = 6\n",
    "\n",
    "if(x>5):\n",
    "    print(x-5) "
   ]
  },
  {
   "cell_type": "code",
   "execution_count": 57,
   "id": "f3dbade4",
   "metadata": {},
   "outputs": [],
   "source": [
    "x = 1\n",
    "\n",
    "if(x>5):\n",
    "    print(x-5)"
   ]
  },
  {
   "cell_type": "markdown",
   "id": "ab8c2a31",
   "metadata": {},
   "source": [
    "2. 假如連 False 都要有對應的動作，則後面要在加上 else，或者使用 elif"
   ]
  },
  {
   "cell_type": "code",
   "execution_count": 58,
   "id": "824721e9",
   "metadata": {},
   "outputs": [
    {
     "name": "stdout",
     "output_type": "stream",
     "text": [
      "5\n"
     ]
    }
   ],
   "source": [
    "x = 5\n",
    "\n",
    "if(x>5):\n",
    "    print(x-5)\n",
    "else:\n",
    "    print(x)"
   ]
  },
  {
   "cell_type": "markdown",
   "id": "f4c25536",
   "metadata": {},
   "source": [
    "+ 多次判斷"
   ]
  },
  {
   "cell_type": "code",
   "execution_count": 59,
   "id": "21002bc1",
   "metadata": {},
   "outputs": [
    {
     "name": "stdout",
     "output_type": "stream",
     "text": [
      "5\n"
     ]
    }
   ],
   "source": [
    "x = 10\n",
    "\n",
    "if(x>5):\n",
    "    print(x-5)\n",
    "elif(x<0):\n",
    "    print(x+5)\n",
    "else:\n",
    "    print(x)"
   ]
  },
  {
   "cell_type": "markdown",
   "id": "a4a4e2c2",
   "metadata": {},
   "source": [
    "不支持長度超過 1 的向量，所以常跟 for 搭配"
   ]
  },
  {
   "cell_type": "markdown",
   "id": "2db23504",
   "metadata": {},
   "source": [
    "```python\n",
    "x = np.arange(3)\n",
    "\n",
    "if(x>5):\n",
    "    print(x-5)\n",
    "else:\n",
    "    print(x)\n",
    "    \n",
    "ValueError: The truth value of an array with more than one element is ambiguous. Use a.any() or a.all()\n",
    "```"
   ]
  },
  {
   "cell_type": "code",
   "execution_count": 60,
   "id": "897db051",
   "metadata": {},
   "outputs": [],
   "source": [
    "price_lst=[800,699,759,656,801,np.nan,779,569,645,739,860]"
   ]
  },
  {
   "cell_type": "code",
   "execution_count": 61,
   "id": "75f46261",
   "metadata": {},
   "outputs": [
    {
     "name": "stdout",
     "output_type": "stream",
     "text": [
      "偶數: 800\n",
      "奇數: 699\n",
      "奇數: 759\n",
      "偶數: 656\n",
      "奇數: 801\n",
      "NA\n",
      "奇數: 779\n",
      "奇數: 569\n",
      "奇數: 645\n",
      "奇數: 739\n",
      "偶數: 860\n"
     ]
    }
   ],
   "source": [
    "for price in price_lst:\n",
    "    if price%2==0:\n",
    "        print('偶數:',price)\n",
    "    elif price%2==1:\n",
    "        print('奇數:',price)\n",
    "    else:\n",
    "        print('NA')"
   ]
  },
  {
   "cell_type": "markdown",
   "id": "a6e7043f",
   "metadata": {},
   "source": [
    "## Python-3-基礎cmd指令\n",
    "+ [Python-3-基礎cmd指令](https://dotblogs.com.tw/YiruAtStudio/2020/12/21/203231)"
   ]
  },
  {
   "cell_type": "markdown",
   "id": "196ae408",
   "metadata": {},
   "source": [
    "# 變數轉換實務\n",
    "## 因子變數、重編碼\n",
    "+ [因子变量与分类重编码](https://cloud.tencent.com/developer/article/1092664)"
   ]
  },
  {
   "cell_type": "markdown",
   "id": "5f172731",
   "metadata": {},
   "source": [
    "## 想辦法把資料弄得接近常態分佈\n",
    "+ [Data Transformations\n",
    "](https://g0v.gitbook.io/data-design/04-section-cover/ch11-data-transformations)\n",
    "+ [sklearn.preprocessing.StandardScaler](https://scikit-learn.org/stable/modules/generated/sklearn.preprocessing.StandardScaler.html)"
   ]
  },
  {
   "cell_type": "markdown",
   "id": "03e843ef",
   "metadata": {},
   "source": [
    "# 函數進階篇"
   ]
  },
  {
   "cell_type": "markdown",
   "id": "45cfcba8",
   "metadata": {},
   "source": [
    "## 環境(environment)\n",
    "+ [别再纠结使用那个Python环境管理器了](https://www.bilibili.com/read/cv4755237)\n",
    "+ [虛擬環境與套件](https://docs.python.org/zh-tw/3/tutorial/venv.html)\n",
    "+ [全域變數、區域變數](https://steam.oxxostudio.tw/category/python/basic/global-variable.html#a11)"
   ]
  },
  {
   "cell_type": "markdown",
   "id": "e7897565",
   "metadata": {},
   "source": [
    "## 封閉(closure)\n",
    "\n",
    "1. 它是一個嵌套函數\n",
    "2. 它可以訪問外部範圍內的自由變量\n",
    "3. 將從外部函數返回\n",
    "4. 是一個函數物件（行為像物件的函數）\n",
    "5. 能夠記住外部函數（封閉範圍）中存在的值\n",
    "\n",
    "+ [Python Closure](https://www.scaler.com/topics/python/python-closure/)"
   ]
  },
  {
   "cell_type": "code",
   "execution_count": 62,
   "id": "21697e97",
   "metadata": {},
   "outputs": [],
   "source": [
    "def mynorm(y,z):\n",
    "    def inner_func(x):\n",
    "        print(np.random.normal(y, z, x))\n",
    "        \n",
    "    return inner_func"
   ]
  },
  {
   "cell_type": "markdown",
   "id": "4ac0a240",
   "metadata": {},
   "source": [
    "建立一個函數產生固定參數 $(\\mu,\\sigma)$ 的常態分配亂數"
   ]
  },
  {
   "cell_type": "code",
   "execution_count": 63,
   "id": "83477a5a",
   "metadata": {},
   "outputs": [
    {
     "name": "stdout",
     "output_type": "stream",
     "text": [
      "[-1.01432275  1.71056345]\n"
     ]
    }
   ],
   "source": [
    "commendnorm = mynorm(0,1)\n",
    "commendnorm(2)"
   ]
  },
  {
   "cell_type": "markdown",
   "id": "0fb920b4",
   "metadata": {},
   "source": [
    "同義於"
   ]
  },
  {
   "cell_type": "code",
   "execution_count": 64,
   "id": "51da9ca6",
   "metadata": {},
   "outputs": [
    {
     "name": "stdout",
     "output_type": "stream",
     "text": [
      "[-1.31844204  0.70396583]\n"
     ]
    }
   ],
   "source": [
    "def commendnorm2(x):\n",
    "    print(np.random.normal(0, 1, x))\n",
    "\n",
    "commendnorm2(2)"
   ]
  },
  {
   "cell_type": "markdown",
   "id": "aadd4a3a",
   "metadata": {},
   "source": [
    "Closure function 的好處\n",
    "1. 數據隱藏\n",
    "2. 增加了代碼的可讀性，避免不必要地使用 class\n",
    "3. 用來避免使用全局範圍"
   ]
  },
  {
   "cell_type": "markdown",
   "id": "3331aa13",
   "metadata": {},
   "source": [
    "## 全域賦值(global assignment)\n",
    "\n",
    "在函數中我們是無法改變函數外的任何東西，有個例外我們叫他 global assignment，可以使用「global 全域變數」的方式"
   ]
  },
  {
   "cell_type": "markdown",
   "id": "c2a38c50",
   "metadata": {},
   "source": [
    "most power test"
   ]
  },
  {
   "cell_type": "code",
   "execution_count": 65,
   "id": "e747a8ea",
   "metadata": {},
   "outputs": [],
   "source": [
    "def contral_VA(data):\n",
    "    mean_data = np.mean(data)\n",
    "    \n",
    "    global commendnorm                    # global assignment，聲明下方的 commendnorm 為全域變數\n",
    "    \n",
    "    if ((mean_data-1)>= 2*1 ):\n",
    "        commendnorm = mynorm(2,1)\n",
    "    else:\n",
    "        commendnorm = mynorm(1,1)\n",
    "        \n",
    "contral_VA(np.random.normal(8, 1, 100))"
   ]
  },
  {
   "cell_type": "markdown",
   "id": "9d3d703d",
   "metadata": {},
   "source": [
    "## with、Context Manager 資源管理器\n",
    "\n",
    "+ 在 with() 中做的事不會影響外部的結果，行為很像 local()\n",
    "\n",
    "```\n",
    "資源的管理在程式設計上是一個很常見的問題，例如管理開啟的檔案、網路 socket 與各種鎖定（locks）等，最主要的問題點就在於我們必須確保這些開啟的資源在使用完之後，有確實被關閉（或釋放），如果忘記關閉這些資源，就會造成程式執行上的效能問題，甚至出現錯誤，而除了關閉之外，有些特殊的資源在使用完畢之後，還必須進行一些後續的清理動作，這些也都是資源管理上需要注意的。\n",
    "\n",
    "```\n",
    "\n",
    "+ [[Python] 關於 with 你所不知道的事](https://ithelp.ithome.com.tw/articles/10286552?sc=rss.qu)\n",
    "+ [Python 的 with 語法使用教學：Context Manager 資源管理器](https://blog.gtwang.org/programming/python-with-context-manager-tutorial/)"
   ]
  },
  {
   "cell_type": "markdown",
   "id": "9cc8dfd8",
   "metadata": {},
   "source": [
    "## class\n",
    "\n",
    "```\n",
    "物件導向程式設計，是一個具有物件(Object)概念的開發方式，能夠提高軟體的重用性、擴充性及維護性，\n",
    "在開發大型的應用程式時更是被廣為使用，\n",
    "而要使用物件導向程式設計就必須對類別(Class)及物件(Object)等有一些基本的了解，\n",
    "\n",
    "包含了：\n",
    "        1. 類別(Class)\n",
    "        2. 物件(Object)\n",
    "        3. 屬性(Attribute)\n",
    "        4. 建構式(Constructor)\n",
    "        5. 方法(Method)\n",
    "```\n",
    "\n",
    "+ [[Python物件導向]淺談Python類別(Class)](https://www.learncodewithmike.com/2020/01/python-class.html)"
   ]
  },
  {
   "cell_type": "code",
   "execution_count": 66,
   "id": "675737dc",
   "metadata": {},
   "outputs": [],
   "source": [
    "# 汽車類別\n",
    "class Cars:\n",
    "    # 建構式\n",
    "    def __init__(self, color, seat):\n",
    "        self.color = color  # 顏色屬性\n",
    "        self.seat = seat    # 座位屬性\n",
    "    # 方法(Method)\n",
    "    def drive(self):\n",
    "        print(f\"My car is {self.color} and {self.seat} seats.\")"
   ]
  },
  {
   "cell_type": "markdown",
   "id": "799f2a3a",
   "metadata": {},
   "source": [
    "**一、類別(Class)**\n",
    "```\n",
    "簡單來說，就是物件(Object)的藍圖(blueprint)。\n",
    "就像要生產一部汽車時，都會有設計圖，藉此可以知道此類汽車會有哪些特性及功能，\n",
    "類別(Class)就類似設計圖，會定義未來產生物件(Object)時所擁有的屬性(Attribute)及方法(Method)。\n",
    "```\n",
    "\n",
    "而定義類別的語法如下：\n",
    "```python\n",
    "class classname：\n",
    "   statement\n",
    "    \n",
    "# 範例\n",
    "class Cars:\n",
    "```\n"
   ]
  },
  {
   "cell_type": "markdown",
   "id": "59d2d8b6",
   "metadata": {},
   "source": [
    "**二、物件(Object)**\n",
    "```\n",
    "透過類別(Class)實際建立的實體，就像實際生產出來的汽車(例如：Mazda)。\n",
    "類別(Class)與物件(Object)的關係就像汽車設計圖與汽車實體。\n",
    "```\n",
    "而建立物件(Object)的語法如下：\n",
    "```python\n",
    "object_name = classname()\n",
    "\n",
    "# 範例\n",
    "mazda = Cars()\n",
    "```\n",
    "+ 範例中的mazda即是Cars類別(Class)的物件(Object)"
   ]
  },
  {
   "cell_type": "markdown",
   "id": "f9880cf0",
   "metadata": {},
   "source": [
    "Python 也提供了一個函式 isinstance() 來判斷類別(Class)與物件(Object)的關係，\n",
    "\n",
    "語法如下：\n",
    "```python\n",
    "isinstance(object_name, class_name)\n",
    "```"
   ]
  },
  {
   "cell_type": "code",
   "execution_count": 67,
   "id": "91040a98",
   "metadata": {},
   "outputs": [
    {
     "name": "stdout",
     "output_type": "stream",
     "text": [
      "True\n",
      "False\n"
     ]
    }
   ],
   "source": [
    "# 汽車類別\n",
    "class Cars:\n",
    "    pass\n",
    "\n",
    "# 摩托車類別\n",
    "class Motorcycle:\n",
    "    pass\n",
    "\n",
    "# 建立Cars類別的物件\n",
    "mazda = Cars()\n",
    "\n",
    "print(isinstance(mazda, Cars))        # 執行結果：True\n",
    "print(isinstance(mazda, Motorcycle))  # 執行結果：False"
   ]
  },
  {
   "cell_type": "markdown",
   "id": "59e6163f",
   "metadata": {},
   "source": [
    "+ 由於 mazda 並不是 Motorcycle 的物件(Object)，所以執行結果為 False"
   ]
  },
  {
   "cell_type": "markdown",
   "id": "fcf10188",
   "metadata": {},
   "source": [
    "**三、屬性(Attribute)**\n",
    "```\n",
    "負責存放物件(Object)的資料。\n",
    "```\n",
    "\n",
    "設定物件(Object)的屬性值語法如下：\n",
    "```python\n",
    "object_name.attribute_name = value\n",
    "\n",
    "# 範例\n",
    "mazda = Cars()        # 建立 Cars 類別的物件 \n",
    "mazda.color = \"blue\"  # 顏色屬性 \n",
    "mazda.seat = 4        # 座位屬性\n",
    "\n",
    "```\n",
    "+ 建立物件(Object)後，才可進行屬性值(Attribute)的設定\n",
    "+ 當有很多屬性需進行設定時，建議使用建構式(Constructor)來進行屬性值(Attribute)的設定\n",
    "\n",
    "存取物件的屬性值則透過以下語法：\n",
    "\n",
    "```python\n",
    "object_name.attribute_name\n",
    "\n",
    "# 範例\n",
    "print(mazda.color)  # 執行結果：blue\n",
    "print(mazda.seat)   # 執行結果：4\n",
    "\n",
    "```"
   ]
  },
  {
   "cell_type": "markdown",
   "id": "b2dc3d82",
   "metadata": {},
   "source": [
    "**四、建構式(Constructor)**\n",
    "```\n",
    "於建立物件(Object)的同時，會自動執行的方法(Method)。\n",
    "所以通常我們會在建構式(Constructor)中初始化物件(Object)的屬性值(Attribute)。\n",
    "至少要有一個self參數，之後利用逗號區隔其他屬性，\n",
    "```\n",
    "語法如下：\n",
    "\n",
    "```python\n",
    "# 建構式\n",
    "def __init__(self, color, seat):\n",
    "　　self.color = color  # 顏色屬性\n",
    "　　self.seat = seat    # 座位屬性 \n",
    "```\n",
    "```\n",
    "self 代表了實體物件的參考，也就是目前的物件(Object)。\n",
    "這個 self 就是告訴類別(Class)目前是在設定哪一個物件的屬性(Attribute)。\n",
    "所以範例中的意思就是此物件的 color 屬性等於傳入的 color 屬性值，\n",
    "此物件的 seat 屬性等於傳入的 seat 屬性值，而傳入屬性值的方式就是在建立物件的時候。\n",
    "```\n",
    "如下範例：\n",
    "```python\n",
    "# 汽車類別\n",
    "class Cars:\n",
    "    # 建構式\n",
    "    def __init__(self, color, seat):\n",
    "        self.color = color  # 顏色屬性\n",
    "        self.seat = seat    # 座位屬性\n",
    "        \n",
    "mazda = Cars(\"blue\", 4)\n",
    "```\n",
    "```\n",
    "範例中於建立 mazda物件(Object) 的同時，生成其屬性並且初始化屬性值(color和seat)。\n",
    "你一定會想說奇怪，建構式(Constructor)的參數有三個，為什麼我們只有傳入兩個?\n",
    "因為第一個 self 參數，Python 編譯器會幫我們把目前物件的參考(mazda)傳給建構式(Constructor)，\n",
    "所以我們就不需要多此一舉傳入物件。\n",
    "```"
   ]
  },
  {
   "cell_type": "markdown",
   "id": "de3ef9a8",
   "metadata": {},
   "source": [
    "**五、方法(Method)**\n",
    "\n",
    "```\n",
    "可以想像是物件(Object)的行為。\n",
    "定義方法(Method)和函式(Function)的語法很像，都是 def 關鍵字開頭，接著自訂名稱，\n",
    "但是方法(Method)和建構式(Constructor)一樣，至少要有一個 self 參數，\n",
    "```\n",
    "語法如下：\n",
    "```python\n",
    "def method_name(self):\n",
    "　　statement\n",
    " \n",
    "# 範例：\n",
    "# 汽車類別\n",
    "class Cars:\n",
    "    # 建構式\n",
    "    def __init__(self, color, seat):\n",
    "        self.color = color  # 顏色屬性\n",
    "        self.seat = seat    # 座位屬性\n",
    "    # 方法(Method)\n",
    "    def drive(self):\n",
    "        print(f\"My car is {self.color} and has {self.seat} seats.\")\n",
    "        \n",
    "mazda = Cars(\"blue\", 4)\n",
    "mazda.drive()               #執行結果：My car is blue and has 4 seats.\n",
    "```\n",
    "```\n",
    "方法(Method)的 self 參數同樣是代表目前的物件(mazda)，在呼叫時 Python 編譯器會自動幫我們傳入。\n",
    "方法(Method)中透過 self.color 及 self.seat 的方式來存取目前物件(mazda)的 color 和 seat 屬性值，並且印出結果。\n",
    "```"
   ]
  },
  {
   "cell_type": "code",
   "execution_count": 68,
   "id": "38ab102a",
   "metadata": {},
   "outputs": [
    {
     "name": "stdout",
     "output_type": "stream",
     "text": [
      "My car is blue and has 4 seats.\n"
     ]
    }
   ],
   "source": [
    "# 範例：\n",
    "# 汽車類別\n",
    "class Cars:\n",
    "    # 建構式\n",
    "    def __init__(self, color, seat):\n",
    "        self.color = color  # 顏色屬性\n",
    "        self.seat = seat    # 座位屬性\n",
    "    # 方法(Method)\n",
    "    def drive(self):\n",
    "        print(f\"My car is {self.color} and has {self.seat} seats.\")\n",
    "\n",
    "mazda = Cars(\"blue\", 4)\n",
    "mazda.drive()  "
   ]
  },
  {
   "cell_type": "markdown",
   "id": "3818279b",
   "metadata": {},
   "source": [
    "## 特殊輸入(\\*args、**kwargs)\n",
    "python 的 \\*args、**kwargs 相當於 R 之中的 …，是當不知輸入有多長的時候使用，一般只能放在函數的最後\n",
    "\n",
    "+ *args : 可變的參數串列(positional arguments)\n",
    "+ \\**kwargs : 可變的字典列表( keyword arguments )"
   ]
  },
  {
   "cell_type": "code",
   "execution_count": 69,
   "id": "cf88c64c",
   "metadata": {},
   "outputs": [],
   "source": [
    "def foo(param1, *args, **kwargs):  # 順序不可對調 !!\n",
    "     pass"
   ]
  },
  {
   "cell_type": "code",
   "execution_count": 70,
   "id": "393f7c4c",
   "metadata": {},
   "outputs": [
    {
     "name": "stdout",
     "output_type": "stream",
     "text": [
      "1\n",
      "(2, 3, 4, 5)\n",
      "1\n",
      "{'a': 2, 'b': 3}\n"
     ]
    }
   ],
   "source": [
    "def foo(param1, *param2):\n",
    "    print(param1)\n",
    "    print(param2)\n",
    "\n",
    "def bar(param1, **param2):\n",
    "    print(param1)\n",
    "    print(param2)\n",
    "\n",
    "foo(1,2,3,4,5)\n",
    "bar(1,a=2,b=3)"
   ]
  },
  {
   "cell_type": "markdown",
   "id": "be9f2f4c",
   "metadata": {},
   "source": [
    "```\n",
    "              In function *construction*      In function *call*\n",
    "=======================================================================\n",
    "          |  def f(*args):                 |  def f(a, b):\n",
    "*args     |      for arg in args:          |      return a + b\n",
    "          |          print(arg)            |  args = (1, 2)\n",
    "          |  f(1, 2)                       |  f(*args)\n",
    "----------|--------------------------------|---------------------------\n",
    "          |  def f(a, b):                  |  def f(a, b):\n",
    "**kwargs  |      return a + b              |      return a + b\n",
    "          |  def g(**kwargs):              |  kwargs = dict(a=1, b=2)\n",
    "          |      return f(**kwargs)        |  f(**kwargs)\n",
    "          |  g(a=1, b=2)                   |\n",
    " \n",
    "-----------------------------------------------------------------------\n",
    "```\n",
    "\n",
    "1. 在 function call 裡面，* 用來將一個 tuple 或是 list 展開成為 positional 或是 keyword 參數，送進給該 function.\n",
    "\n",
    "\n",
    "2. 在 function call 裡面，** 用來將一個 dictionary 展開成為 positional 或是 keyword 參數，送進給該 function.\n",
    "\n",
    "\n",
    "3. 在 function construction 上，* 將 positional 參數打包成為 tuple。\n",
    "\n",
    "\n",
    "4. 在 function construction 上，** 將 keyword 參數打包成為 dictionary.\n",
    "\n",
    "\n",
    "參考更多 :\n",
    "\n",
    "+ [What does ** (double star/asterisk) and * (star/asterisk) do for parameters?](https://stackoverflow.com/questions/36901/what-does-double-star-asterisk-and-star-asterisk-do-for-parameters)\n",
    "+ [[Python] ** 雙星號(double star/asterisk) vs *單星號(star/asterisk) 用法\n",
    "](https://e8859487.pixnet.net/blog/post/403127384-%5Bpython%5D-%2A%2A-%E9%9B%99%E6%98%9F%E8%99%9F%28double-star-asterisk%29-vs-%2A%E5%96%AE%E6%98%9F%E8%99%9F%28st)"
   ]
  },
  {
   "cell_type": "markdown",
   "id": "ac5bf7b2",
   "metadata": {},
   "source": [
    "# 實作篇\n",
    "### KMeans 演算法\n",
    "\n",
    "```\n",
    "input  : {x1,…,xn} , k (最後想將資料分類成幾群)\n",
    "output : the centers for the k clusters,{ c1,…,ck }\n",
    "initalize : choose initial centers arbitrarily 選擇初始點\n",
    "```"
   ]
  },
  {
   "cell_type": "markdown",
   "id": "9b047442",
   "metadata": {},
   "source": [
    "1. 隨機取 K 點中心\n",
    "\n",
    "\n",
    "2. 每個 xi 對到(label j)最近的中心(mean j)\n",
    "\n",
    "\n",
    "3. 計算新的中心\n",
    "```\n",
    "    cluster j = all point with label j\n",
    "    mean j = center of cluster j\n",
    "```\n",
    "\n",
    "4. 重複 2、3 直到 label 停止改變\n"
   ]
  },
  {
   "cell_type": "markdown",
   "id": "9bfa03a3",
   "metadata": {},
   "source": [
    "# 參考解答"
   ]
  },
  {
   "cell_type": "code",
   "execution_count": 71,
   "id": "bc35b7b0",
   "metadata": {},
   "outputs": [],
   "source": [
    "# return distance of two input np.array, in Euclidean distance\n",
    "\n",
    "def dist_mtx(X,Y):\n",
    "    # X:(N1,d) array with rows xi\n",
    "    # Y:(N2,d) array with rows yi\n",
    "    X_col = X[:,np.newaxis,:]               # (N1,1,d)\n",
    "    Y_row = Y[np.newaxis,:,:]               # (1,N2,d) axis=-1,最後一個軸\n",
    "    diff = X_col - Y_row                    # (N1,N2,d)\n",
    "    dist = np.linalg.norm(diff,axis = -1)   # 把距離壓在d維上，原距離 (N,d)\n",
    "    return dist\n"
   ]
  },
  {
   "cell_type": "markdown",
   "id": "33c20539",
   "metadata": {},
   "source": [
    "## Code"
   ]
  },
  {
   "cell_type": "code",
   "execution_count": 72,
   "id": "439f7c11",
   "metadata": {},
   "outputs": [],
   "source": [
    "### your answer here\n",
    "\n",
    "# X: an array of shape (N,d)\n",
    "# k: number of clusters\n",
    "# init: \"random\" or an array of shape (k,d), which means the initial cluster centers \n",
    "\n",
    "def MyKmeans(X, k, init = \"random\"):\n",
    "    N,d = X.shape                                                    # N is the number of points\n",
    "    y_new = np.array([0 for i in range(N)])                          # defined label，放 x 的 label\n",
    "    centers = 0                                                      # defined centers，(k,d)\n",
    "    \n",
    "    if(init == \"random\"):\n",
    "        inds = np.random.choice(np.arange(N), k, replace=False)      # 隨機取 K 個中心的 index\n",
    "        centers = X[inds, :]                                         # 設為初始中心\n",
    "    else:\n",
    "        centers = init                                               # an array of shape (k,d)\n",
    "    \n",
    "    # Step 2 : label xi by j\n",
    "    dist = dist_mtx(X,centers)                                       # (N,k,d)\n",
    "    y_new = np.argmin(dist,axis=1)                                   # 每個 x(行)對到中心(列)，距離最小的 index \n",
    "\n",
    "    # Step 4 : pack step 2、3 by a 'while' loop until the label result is same as before \n",
    "    pre_label = np.array([0 for i in range(N)])                      # 隨便設，讓他跑第一次\n",
    "    \n",
    "    while( not np.array_equal(y_new, pre_label)):                    # not(y_new, pre_label 不一樣) == TRUE，跑\n",
    "        \n",
    "        pre_label = np.copy(y_new)                                   # 複製上一次的 label\n",
    "        \n",
    "        # Step 3 : calculate new centers\n",
    "        for j in range(k):\n",
    "            mask = (y_new == j)\n",
    "            centers[j] = X[mask].mean(axis=0)\n",
    "            \n",
    "        # Step 2 : label xi by j\n",
    "        dist = dist_mtx(X,centers)                                   # (N,k,d)\n",
    "        y_new = np.argmin(dist,axis=1)                               # 每個x(行)對到中心(列)，距離最小的 index \n",
    "\n",
    "    return y_new, centers\n"
   ]
  }
 ],
 "metadata": {
  "kernelspec": {
   "display_name": "Python 3 (ipykernel)",
   "language": "python",
   "name": "python3"
  },
  "language_info": {
   "codemirror_mode": {
    "name": "ipython",
    "version": 3
   },
   "file_extension": ".py",
   "mimetype": "text/x-python",
   "name": "python",
   "nbconvert_exporter": "python",
   "pygments_lexer": "ipython3",
   "version": "3.8.8"
  }
 },
 "nbformat": 4,
 "nbformat_minor": 5
}
