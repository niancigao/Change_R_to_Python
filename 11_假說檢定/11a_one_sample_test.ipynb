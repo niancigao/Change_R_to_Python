{
 "cells": [
  {
   "cell_type": "markdown",
   "id": "456010a8",
   "metadata": {},
   "source": [
    "# 單一樣本假設檢定\n",
    "### 陳威呈、戴瑜萱\n",
    "---"
   ]
  },
  {
   "cell_type": "code",
   "execution_count": 1,
   "id": "aaea9de2",
   "metadata": {},
   "outputs": [],
   "source": [
    "from scipy import stats\n",
    "import numpy as np\n",
    "import pandas as pd\n",
    "from scipy.stats import norm\n",
    "import statsmodels.stats.weightstats as stests"
   ]
  },
  {
   "cell_type": "markdown",
   "id": "ab3965b4",
   "metadata": {},
   "source": [
    "# 比例檢定\n",
    "## 範例\n",
    "```\n",
    "某投資顧問公司欲了解民眾的網路成癮程度，了解使用者的差異性，以提供遊戲業者參考使用，蒐集了一份資料，\n",
    "資料為喜歡玩線上遊戲的男性人數，受訪男性有 350 人而高度網路使用者則紀錄為 1，非高度網路使用者則紀錄為 0。\n",
    "我們欲檢定男性的非高度網路使用者之比例是否大於 70%。\n",
    "```"
   ]
  },
  {
   "cell_type": "code",
   "execution_count": 2,
   "id": "3982fe61",
   "metadata": {},
   "outputs": [
    {
     "data": {
      "text/html": [
       "<div>\n",
       "<style scoped>\n",
       "    .dataframe tbody tr th:only-of-type {\n",
       "        vertical-align: middle;\n",
       "    }\n",
       "\n",
       "    .dataframe tbody tr th {\n",
       "        vertical-align: top;\n",
       "    }\n",
       "\n",
       "    .dataframe thead th {\n",
       "        text-align: right;\n",
       "    }\n",
       "</style>\n",
       "<table border=\"1\" class=\"dataframe\">\n",
       "  <thead>\n",
       "    <tr style=\"text-align: right;\">\n",
       "      <th></th>\n",
       "      <th>MALE</th>\n",
       "    </tr>\n",
       "  </thead>\n",
       "  <tbody>\n",
       "    <tr>\n",
       "      <th>0</th>\n",
       "      <td>1</td>\n",
       "    </tr>\n",
       "    <tr>\n",
       "      <th>1</th>\n",
       "      <td>0</td>\n",
       "    </tr>\n",
       "    <tr>\n",
       "      <th>2</th>\n",
       "      <td>0</td>\n",
       "    </tr>\n",
       "    <tr>\n",
       "      <th>3</th>\n",
       "      <td>1</td>\n",
       "    </tr>\n",
       "    <tr>\n",
       "      <th>4</th>\n",
       "      <td>1</td>\n",
       "    </tr>\n",
       "    <tr>\n",
       "      <th>...</th>\n",
       "      <td>...</td>\n",
       "    </tr>\n",
       "    <tr>\n",
       "      <th>345</th>\n",
       "      <td>0</td>\n",
       "    </tr>\n",
       "    <tr>\n",
       "      <th>346</th>\n",
       "      <td>1</td>\n",
       "    </tr>\n",
       "    <tr>\n",
       "      <th>347</th>\n",
       "      <td>0</td>\n",
       "    </tr>\n",
       "    <tr>\n",
       "      <th>348</th>\n",
       "      <td>0</td>\n",
       "    </tr>\n",
       "    <tr>\n",
       "      <th>349</th>\n",
       "      <td>0</td>\n",
       "    </tr>\n",
       "  </tbody>\n",
       "</table>\n",
       "<p>350 rows × 1 columns</p>\n",
       "</div>"
      ],
      "text/plain": [
       "     MALE\n",
       "0       1\n",
       "1       0\n",
       "2       0\n",
       "3       1\n",
       "4       1\n",
       "..    ...\n",
       "345     0\n",
       "346     1\n",
       "347     0\n",
       "348     0\n",
       "349     0\n",
       "\n",
       "[350 rows x 1 columns]"
      ]
     },
     "execution_count": 2,
     "metadata": {},
     "output_type": "execute_result"
    }
   ],
   "source": [
    "s = pd.read_csv(r\"C:\\Users\\user\\Desktop\\R 改 python\\11_假說檢定\\11a_one-sample-test-data\\one-sample-test\\s.csv\")\n",
    "s = s[['MALE']]\n",
    "s"
   ]
  },
  {
   "cell_type": "markdown",
   "id": "146ab349",
   "metadata": {},
   "source": [
    "+ 將數值變數轉換為因子變數"
   ]
  },
  {
   "cell_type": "code",
   "execution_count": 3,
   "id": "6b90da38",
   "metadata": {},
   "outputs": [],
   "source": [
    "s['MALE'] = s['MALE'].astype('category')"
   ]
  },
  {
   "cell_type": "markdown",
   "id": "b0c8a07e",
   "metadata": {},
   "source": [
    "###  單樣本比例檢定\n",
    "+ [scipy.stats.binom_test](https://docs.scipy.org/doc/scipy/reference/generated/scipy.stats.binom_test.html)\n",
    "+ 顯著水準 : 0.05\n",
    "+ 虛無假設 : p $\\geq$ 0.7\n",
    "+ 對立假設 : p < 0.7\n",
    "\n",
    "### 法一"
   ]
  },
  {
   "cell_type": "code",
   "execution_count": 4,
   "id": "bba3b96a",
   "metadata": {},
   "outputs": [
    {
     "name": "stdout",
     "output_type": "stream",
     "text": [
      "[267  83]\n",
      "P值： 0.996288755310694\n"
     ]
    }
   ],
   "source": [
    "# 創頻率表\n",
    "table = np.bincount(s['MALE'])                              # 計算數組中每個唯一值的頻數\n",
    "print(table)                                                # 0:267；1:83\n",
    "\n",
    "# 單樣本比例檢定\n",
    "result = stats.binom_test(table, p=0.7, alternative='less') # 指定對立假設為 p < 0.7\n",
    "print(\"P值：\", result)  "
   ]
  },
  {
   "cell_type": "markdown",
   "id": "66565d19",
   "metadata": {},
   "source": [
    "### 法二"
   ]
  },
  {
   "cell_type": "code",
   "execution_count": 5,
   "id": "7966c610",
   "metadata": {},
   "outputs": [
    {
     "name": "stdout",
     "output_type": "stream",
     "text": [
      "P值： 0.996288755310694\n"
     ]
    }
   ],
   "source": [
    "count = len(s[s[\"MALE\"] == 0])\n",
    "\n",
    "# 單樣本比例檢定\n",
    "result = stats.binom_test(count, n=350, p=0.7, alternative='less') # 指定對立假設為 p < 0.7\n",
    "print(\"P值：\", result)                                       "
   ]
  },
  {
   "cell_type": "markdown",
   "id": "67a0543e",
   "metadata": {},
   "source": [
    "+ 此為左尾檢定，Python 並沒有比例檢定單邊信賴區間的函式，所以只能自己寫"
   ]
  },
  {
   "cell_type": "markdown",
   "id": "8dada336",
   "metadata": {},
   "source": [
    "1. 依照男性資料所計算非高度網路使用者的比例"
   ]
  },
  {
   "cell_type": "code",
   "execution_count": 6,
   "id": "32b931e3",
   "metadata": {},
   "outputs": [
    {
     "data": {
      "text/plain": [
       "0.7628571428571429"
      ]
     },
     "execution_count": 6,
     "metadata": {},
     "output_type": "execute_result"
    }
   ],
   "source": [
    "phat = len(s[s[\"MALE\"] == 0])/len(s[\"MALE\"])\n",
    "phat"
   ]
  },
  {
   "cell_type": "markdown",
   "id": "82e35042",
   "metadata": {},
   "source": [
    "2. $z_\\alpha \\sqrt{\\frac{\\hat p \\;(1-\\hat p)}{n}}$"
   ]
  },
  {
   "cell_type": "code",
   "execution_count": 7,
   "id": "8362dd86",
   "metadata": {},
   "outputs": [
    {
     "name": "stdout",
     "output_type": "stream",
     "text": [
      "1.6448536269514722\n",
      "0.0227348770739697\n"
     ]
    }
   ],
   "source": [
    "# from scipy.stats import norm\n",
    "\n",
    "percentile = norm.ppf(0.95)\n",
    "print(percentile)\n",
    "\n",
    "se = (phat*(1-phat)/len(s[\"MALE\"]))**0.5\n",
    "print(se)"
   ]
  },
  {
   "cell_type": "markdown",
   "id": "2e134c70",
   "metadata": {},
   "source": [
    "3. p 的 95% CI (單尾上界) :\n",
    "$$[\\; 0,\\;\\hat p + z_\\alpha \\sqrt{\\frac{\\hat p \\;(1-\\hat p)}{n}} \\;]$$"
   ]
  },
  {
   "cell_type": "code",
   "execution_count": 8,
   "id": "961697de",
   "metadata": {},
   "outputs": [
    {
     "name": "stdout",
     "output_type": "stream",
     "text": [
      "95% 信賴區間： [0, 0.8002526878705578]\n"
     ]
    }
   ],
   "source": [
    "ci = [0, phat + percentile*se]\n",
    "print(\"95% 信賴區間：\", ci)"
   ]
  },
  {
   "cell_type": "markdown",
   "id": "d01c052c",
   "metadata": {},
   "source": [
    "```\n",
    "由以上結果顯示，\n",
    "依照男性資料所計算非高度網路使用者的比例為 0.7628571(76.28%)，\n",
    "95% 信賴區間為 (0, 0.800253)，其信賴區間包含 0.7，\n",
    "且 p 值為 0.9963，因為 p 值大於顯著水準，所以不拒絕虛無假設，\n",
    "非高度網路使用者比例大於 70%\n",
    "```"
   ]
  },
  {
   "cell_type": "markdown",
   "id": "2ef78324",
   "metadata": {},
   "source": [
    "# 平均數或中位數檢定整理\n",
    "+ n large, variance known or unknown => z-test (誤用 t-test 問題不大)\n",
    "+ n small, normal & variance known => z-test\n",
    "+ n small, normal & variance unknown => t-test\n",
    "+ n small, maybe non-normal but symmetric => Wilcoxon signed rank test (備註1)\n",
    "+ n small, maybe asymmetric => sign test (備註2)"
   ]
  },
  {
   "cell_type": "markdown",
   "id": "d5743b89",
   "metadata": {},
   "source": [
    "# 平均數檢定\n",
    "今天要抽查某咖啡店的咖啡 ( Coffee 為常態分布)"
   ]
  },
  {
   "cell_type": "markdown",
   "id": "587b7f40",
   "metadata": {},
   "source": [
    "## 雙尾\n",
    "a. 咖啡店號稱每一杯都是 250 公克 (雙尾檢定) 抽查結果如下"
   ]
  },
  {
   "cell_type": "code",
   "execution_count": 9,
   "id": "a4406e78",
   "metadata": {},
   "outputs": [
    {
     "data": {
      "text/html": [
       "<div>\n",
       "<style scoped>\n",
       "    .dataframe tbody tr th:only-of-type {\n",
       "        vertical-align: middle;\n",
       "    }\n",
       "\n",
       "    .dataframe tbody tr th {\n",
       "        vertical-align: top;\n",
       "    }\n",
       "\n",
       "    .dataframe thead th {\n",
       "        text-align: right;\n",
       "    }\n",
       "</style>\n",
       "<table border=\"1\" class=\"dataframe\">\n",
       "  <thead>\n",
       "    <tr style=\"text-align: right;\">\n",
       "      <th></th>\n",
       "      <th>gram</th>\n",
       "    </tr>\n",
       "  </thead>\n",
       "  <tbody>\n",
       "    <tr>\n",
       "      <th>0</th>\n",
       "      <td>254.1</td>\n",
       "    </tr>\n",
       "    <tr>\n",
       "      <th>1</th>\n",
       "      <td>253.5</td>\n",
       "    </tr>\n",
       "    <tr>\n",
       "      <th>2</th>\n",
       "      <td>257.3</td>\n",
       "    </tr>\n",
       "    <tr>\n",
       "      <th>3</th>\n",
       "      <td>250.6</td>\n",
       "    </tr>\n",
       "    <tr>\n",
       "      <th>4</th>\n",
       "      <td>243.5</td>\n",
       "    </tr>\n",
       "  </tbody>\n",
       "</table>\n",
       "</div>"
      ],
      "text/plain": [
       "    gram\n",
       "0  254.1\n",
       "1  253.5\n",
       "2  257.3\n",
       "3  250.6\n",
       "4  243.5"
      ]
     },
     "execution_count": 9,
     "metadata": {},
     "output_type": "execute_result"
    }
   ],
   "source": [
    "coffee = pd.DataFrame({'gram': [254.1, 253.5, 257.3, 250.6, 243.5, 244.6, 251.5,\n",
    "                                251.4, 251.7, 242.5, 254.5, 250.9, 251.4, 248.2,\n",
    "                                249.4, 248.3, 246.9, 249.6, 250.5, 247.5]})\n",
    "coffee.head()"
   ]
  },
  {
   "cell_type": "markdown",
   "id": "efad933c",
   "metadata": {},
   "source": [
    "+ 顯著水準 : 0.05\n",
    "+ 虛無假設 : $\\mu$ = 250\n",
    "+ 對立假設 : $\\mu \\neq$ 250\n",
    "+ [scipy.stats.ttest_1samp](https://docs.scipy.org/doc/scipy/reference/generated/scipy.stats.ttest_1samp.html)\n",
    "+ [statsmodels.stats.weightstats.DescrStatsW.tconfint_me](https://www.statsmodels.org/dev/generated/statsmodels.stats.weightstats.DescrStatsW.tconfint_mean.html)"
   ]
  },
  {
   "cell_type": "code",
   "execution_count": 10,
   "id": "b52a966c",
   "metadata": {},
   "outputs": [
    {
     "name": "stdout",
     "output_type": "stream",
     "text": [
      "T 統計量： -0.12620567027026983\n",
      "P 值： 0.900895074159803\n",
      "95% 信賴區間： (248.1536556908079, 251.63634430919205)\n"
     ]
    }
   ],
   "source": [
    "# import statsmodels.stats.weightstats as stests\n",
    "\n",
    "result = stats.ttest_1samp(coffee['gram'], popmean=250)\n",
    "ci = stests.DescrStatsW(coffee['gram']).tconfint_mean(alpha=0.05)\n",
    "\n",
    "print(\"T 統計量：\", result.statistic)\n",
    "print(\"P 值：\", result.pvalue)\n",
    "print(\"95% 信賴區間：\", ci)"
   ]
  },
  {
   "cell_type": "markdown",
   "id": "4eb69415",
   "metadata": {},
   "source": [
    "我們可以發現 p-value 大於 0.05，因此我們不能拒絕 H0\n",
    "，也就是說我們沒有證據推翻咖啡每杯是 250 克的說法。"
   ]
  },
  {
   "cell_type": "markdown",
   "id": "a3b7f20e",
   "metadata": {},
   "source": [
    "## 單尾\n",
    "b. 咖啡店號稱每一杯都 250 克以上 (左尾檢定)\n",
    "+ 顯著水準 : 0.05\n",
    "+ 虛無假設 : $\\mu \\geq$  250\n",
    "+ 對立假設 : $\\mu$ < 250"
   ]
  },
  {
   "cell_type": "code",
   "execution_count": 11,
   "id": "c1b004f2",
   "metadata": {},
   "outputs": [
    {
     "name": "stdout",
     "output_type": "stream",
     "text": [
      "T 統計量： -0.12620567027026983\n",
      "P 值： 0.4504475370799015\n",
      "95% 信賴區間： (-inf, 251.33359578433334)\n"
     ]
    }
   ],
   "source": [
    "result = stats.ttest_1samp(coffee['gram'], popmean=250, alternative='less')\n",
    "ci = stests.DescrStatsW(coffee['gram']).tconfint_mean(alpha=0.05, alternative='smaller')\n",
    "print(\"T 統計量：\", result.statistic)\n",
    "print(\"P 值：\", result.pvalue)\n",
    "print(\"95% 信賴區間：\", ci)"
   ]
  },
  {
   "cell_type": "markdown",
   "id": "fccdf23f",
   "metadata": {},
   "source": [
    "我們可以發現 p-value 大於 0.05，因此我們不拒絕 H0，也就是說我們沒有證據推翻咖啡每杯都是 250 克以上的說法。"
   ]
  },
  {
   "cell_type": "markdown",
   "id": "0aab6d68",
   "metadata": {},
   "source": [
    "# 中位數檢定"
   ]
  },
  {
   "cell_type": "markdown",
   "id": "c91b0065",
   "metadata": {},
   "source": [
    "## 範例1\n",
    "```\n",
    "泡泡清潔用品公司宣稱其所生產的沐浴乳其重量的中位數為 200 公克，\n",
    "今隨機抽查 12 瓶，得重量如下：211 203 206 213 192 205 195 198 204 216 207 222，\n",
    "顯著水準是0.05，檢定該公司的宣稱是否正確？\n",
    "```"
   ]
  },
  {
   "cell_type": "code",
   "execution_count": 12,
   "id": "c74ca419",
   "metadata": {},
   "outputs": [
    {
     "data": {
      "text/html": [
       "<div>\n",
       "<style scoped>\n",
       "    .dataframe tbody tr th:only-of-type {\n",
       "        vertical-align: middle;\n",
       "    }\n",
       "\n",
       "    .dataframe tbody tr th {\n",
       "        vertical-align: top;\n",
       "    }\n",
       "\n",
       "    .dataframe thead th {\n",
       "        text-align: right;\n",
       "    }\n",
       "</style>\n",
       "<table border=\"1\" class=\"dataframe\">\n",
       "  <thead>\n",
       "    <tr style=\"text-align: right;\">\n",
       "      <th></th>\n",
       "      <th>g</th>\n",
       "    </tr>\n",
       "  </thead>\n",
       "  <tbody>\n",
       "    <tr>\n",
       "      <th>0</th>\n",
       "      <td>216</td>\n",
       "    </tr>\n",
       "    <tr>\n",
       "      <th>1</th>\n",
       "      <td>213</td>\n",
       "    </tr>\n",
       "    <tr>\n",
       "      <th>2</th>\n",
       "      <td>211</td>\n",
       "    </tr>\n",
       "    <tr>\n",
       "      <th>3</th>\n",
       "      <td>207</td>\n",
       "    </tr>\n",
       "    <tr>\n",
       "      <th>4</th>\n",
       "      <td>206</td>\n",
       "    </tr>\n",
       "    <tr>\n",
       "      <th>5</th>\n",
       "      <td>205</td>\n",
       "    </tr>\n",
       "    <tr>\n",
       "      <th>6</th>\n",
       "      <td>204</td>\n",
       "    </tr>\n",
       "    <tr>\n",
       "      <th>7</th>\n",
       "      <td>203</td>\n",
       "    </tr>\n",
       "    <tr>\n",
       "      <th>8</th>\n",
       "      <td>198</td>\n",
       "    </tr>\n",
       "    <tr>\n",
       "      <th>9</th>\n",
       "      <td>195</td>\n",
       "    </tr>\n",
       "    <tr>\n",
       "      <th>10</th>\n",
       "      <td>192</td>\n",
       "    </tr>\n",
       "    <tr>\n",
       "      <th>11</th>\n",
       "      <td>222</td>\n",
       "    </tr>\n",
       "  </tbody>\n",
       "</table>\n",
       "</div>"
      ],
      "text/plain": [
       "      g\n",
       "0   216\n",
       "1   213\n",
       "2   211\n",
       "3   207\n",
       "4   206\n",
       "5   205\n",
       "6   204\n",
       "7   203\n",
       "8   198\n",
       "9   195\n",
       "10  192\n",
       "11  222"
      ]
     },
     "execution_count": 12,
     "metadata": {},
     "output_type": "execute_result"
    }
   ],
   "source": [
    "a = pd.read_csv(r\"C:\\Users\\user\\Desktop\\R 改 python\\11_假說檢定\\11a_one-sample-test-data\\one-sample-test\\a.csv\")\n",
    "a"
   ]
  },
  {
   "cell_type": "code",
   "execution_count": 13,
   "id": "b0eaefc5",
   "metadata": {},
   "outputs": [
    {
     "name": "stdout",
     "output_type": "stream",
     "text": [
      "中位數： g    205.5\n",
      "dtype: float64 \n",
      "\n",
      "均值： g    206.0\n",
      "dtype: float64\n"
     ]
    }
   ],
   "source": [
    "median = a.median(axis=0)\n",
    "mean = a.mean(axis=0)\n",
    "print(\"中位數：\", median, '\\n')\n",
    "print(\"均值：\", mean)"
   ]
  },
  {
   "cell_type": "markdown",
   "id": "079c6848",
   "metadata": {},
   "source": [
    "+ alternative hypothesis : true location is not equal to 200\n",
    "+ [scipy.stats.wilcoxon](https://docs.scipy.org/doc/scipy/reference/generated/scipy.stats.wilcoxon.html)"
   ]
  },
  {
   "cell_type": "code",
   "execution_count": 14,
   "id": "1e00aaed",
   "metadata": {},
   "outputs": [
    {
     "name": "stdout",
     "output_type": "stream",
     "text": [
      "WilcoxonResult(statistic=array([13.5]), pvalue=array([0.04977226]))\n"
     ]
    }
   ],
   "source": [
    "# 與 200 的差異進行檢驗\n",
    "result = stats.wilcoxon(a - 200, alternative='two-sided', correction = True, method='approx')\n",
    "print(result)"
   ]
  },
  {
   "cell_type": "markdown",
   "id": "b879f1ab",
   "metadata": {},
   "source": [
    "由上述結果可知中間值是 205.5，平均值是 206，p 值是 0.04977，因為 p 值小於顯著水準，所以拒絕虛無假設，中位數不等於 200 公克"
   ]
  },
  {
   "cell_type": "markdown",
   "id": "f7e2c6d8",
   "metadata": {},
   "source": [
    "## 範例2\n",
    "```\n",
    "郵局的辦事小姐處理隨機選取的 16 位顧客的郵寄業務\n",
    "所花的時間如下：0.8 0.7 0.9 3.8 2.6 1.2 2.9 0.5 0.8 2.7 0.6 6.2 2.8 1.3 1.5 1.7，\n",
    "檢定處理每件業務所花時間的中位數是否大於 1 分鐘？\n",
    "```"
   ]
  },
  {
   "cell_type": "code",
   "execution_count": 15,
   "id": "b9ef8a01",
   "metadata": {},
   "outputs": [
    {
     "data": {
      "text/html": [
       "<div>\n",
       "<style scoped>\n",
       "    .dataframe tbody tr th:only-of-type {\n",
       "        vertical-align: middle;\n",
       "    }\n",
       "\n",
       "    .dataframe tbody tr th {\n",
       "        vertical-align: top;\n",
       "    }\n",
       "\n",
       "    .dataframe thead th {\n",
       "        text-align: right;\n",
       "    }\n",
       "</style>\n",
       "<table border=\"1\" class=\"dataframe\">\n",
       "  <thead>\n",
       "    <tr style=\"text-align: right;\">\n",
       "      <th></th>\n",
       "      <th>time</th>\n",
       "    </tr>\n",
       "  </thead>\n",
       "  <tbody>\n",
       "    <tr>\n",
       "      <th>0</th>\n",
       "      <td>0.8</td>\n",
       "    </tr>\n",
       "    <tr>\n",
       "      <th>1</th>\n",
       "      <td>0.7</td>\n",
       "    </tr>\n",
       "    <tr>\n",
       "      <th>2</th>\n",
       "      <td>0.9</td>\n",
       "    </tr>\n",
       "    <tr>\n",
       "      <th>3</th>\n",
       "      <td>3.8</td>\n",
       "    </tr>\n",
       "    <tr>\n",
       "      <th>4</th>\n",
       "      <td>2.6</td>\n",
       "    </tr>\n",
       "    <tr>\n",
       "      <th>5</th>\n",
       "      <td>1.2</td>\n",
       "    </tr>\n",
       "    <tr>\n",
       "      <th>6</th>\n",
       "      <td>2.9</td>\n",
       "    </tr>\n",
       "    <tr>\n",
       "      <th>7</th>\n",
       "      <td>0.5</td>\n",
       "    </tr>\n",
       "    <tr>\n",
       "      <th>8</th>\n",
       "      <td>0.8</td>\n",
       "    </tr>\n",
       "    <tr>\n",
       "      <th>9</th>\n",
       "      <td>2.7</td>\n",
       "    </tr>\n",
       "    <tr>\n",
       "      <th>10</th>\n",
       "      <td>0.6</td>\n",
       "    </tr>\n",
       "    <tr>\n",
       "      <th>11</th>\n",
       "      <td>6.2</td>\n",
       "    </tr>\n",
       "    <tr>\n",
       "      <th>12</th>\n",
       "      <td>2.8</td>\n",
       "    </tr>\n",
       "    <tr>\n",
       "      <th>13</th>\n",
       "      <td>1.3</td>\n",
       "    </tr>\n",
       "    <tr>\n",
       "      <th>14</th>\n",
       "      <td>1.5</td>\n",
       "    </tr>\n",
       "    <tr>\n",
       "      <th>15</th>\n",
       "      <td>1.7</td>\n",
       "    </tr>\n",
       "  </tbody>\n",
       "</table>\n",
       "</div>"
      ],
      "text/plain": [
       "    time\n",
       "0    0.8\n",
       "1    0.7\n",
       "2    0.9\n",
       "3    3.8\n",
       "4    2.6\n",
       "5    1.2\n",
       "6    2.9\n",
       "7    0.5\n",
       "8    0.8\n",
       "9    2.7\n",
       "10   0.6\n",
       "11   6.2\n",
       "12   2.8\n",
       "13   1.3\n",
       "14   1.5\n",
       "15   1.7"
      ]
     },
     "execution_count": 15,
     "metadata": {},
     "output_type": "execute_result"
    }
   ],
   "source": [
    "b = pd.read_csv(r\"C:\\Users\\user\\Desktop\\R 改 python\\11_假說檢定\\11a_one-sample-test-data\\one-sample-test\\b.csv\")\n",
    "b"
   ]
  },
  {
   "cell_type": "code",
   "execution_count": 16,
   "id": "a97eb161",
   "metadata": {},
   "outputs": [
    {
     "name": "stdout",
     "output_type": "stream",
     "text": [
      "中位數： time    1.4\n",
      "dtype: float64 \n",
      "\n",
      "均值： time    1.9375\n",
      "dtype: float64\n"
     ]
    }
   ],
   "source": [
    "median = b.median(axis=0)\n",
    "mean = b.mean(axis=0)\n",
    "print(\"中位數：\", median, '\\n')\n",
    "print(\"均值：\", mean)"
   ]
  },
  {
   "cell_type": "markdown",
   "id": "bd9b7c81",
   "metadata": {},
   "source": [
    "+ alternative hypothesis : true location is less than 1"
   ]
  },
  {
   "cell_type": "code",
   "execution_count": 17,
   "id": "cc7be4f0",
   "metadata": {},
   "outputs": [
    {
     "name": "stdout",
     "output_type": "stream",
     "text": [
      "WilcoxonResult(statistic=array([108.]), pvalue=array([0.98197257]))\n"
     ]
    }
   ],
   "source": [
    "# 與 1 的差異進行檢驗\n",
    "result = stats.wilcoxon(b - 1, alternative='less', correction = True, method='approx')\n",
    "print(result)"
   ]
  },
  {
   "cell_type": "markdown",
   "id": "0142a7bb",
   "metadata": {},
   "source": [
    "由上述結果可知，中間值是 1.4，平均值是 1.9375，p 值是 0.982，因為 p 值大於顯著水準，所以不拒絕虛無假設，中位數時間大於 1 分鐘"
   ]
  },
  {
   "cell_type": "markdown",
   "id": "1a9dd062",
   "metadata": {},
   "source": [
    "## 範例3\n",
    "```\n",
    "某位品檢員想知道產品之中位數是否小於 82 公克？\n",
    "他隨機抽取了生產線上 14 件產品檢驗，\n",
    "得到下列數據：83.5 81.3 78.2 82 85.4 88.3 76.2 79.8 83.6 77.3 86.8 80.5 81.8 79.6。\n",
    "```"
   ]
  },
  {
   "cell_type": "code",
   "execution_count": 18,
   "id": "9bddfdde",
   "metadata": {},
   "outputs": [
    {
     "data": {
      "text/html": [
       "<div>\n",
       "<style scoped>\n",
       "    .dataframe tbody tr th:only-of-type {\n",
       "        vertical-align: middle;\n",
       "    }\n",
       "\n",
       "    .dataframe tbody tr th {\n",
       "        vertical-align: top;\n",
       "    }\n",
       "\n",
       "    .dataframe thead th {\n",
       "        text-align: right;\n",
       "    }\n",
       "</style>\n",
       "<table border=\"1\" class=\"dataframe\">\n",
       "  <thead>\n",
       "    <tr style=\"text-align: right;\">\n",
       "      <th></th>\n",
       "      <th>g</th>\n",
       "    </tr>\n",
       "  </thead>\n",
       "  <tbody>\n",
       "    <tr>\n",
       "      <th>0</th>\n",
       "      <td>83.5</td>\n",
       "    </tr>\n",
       "    <tr>\n",
       "      <th>1</th>\n",
       "      <td>81.3</td>\n",
       "    </tr>\n",
       "    <tr>\n",
       "      <th>2</th>\n",
       "      <td>78.2</td>\n",
       "    </tr>\n",
       "    <tr>\n",
       "      <th>3</th>\n",
       "      <td>82.0</td>\n",
       "    </tr>\n",
       "    <tr>\n",
       "      <th>4</th>\n",
       "      <td>85.4</td>\n",
       "    </tr>\n",
       "    <tr>\n",
       "      <th>5</th>\n",
       "      <td>88.3</td>\n",
       "    </tr>\n",
       "    <tr>\n",
       "      <th>6</th>\n",
       "      <td>76.2</td>\n",
       "    </tr>\n",
       "    <tr>\n",
       "      <th>7</th>\n",
       "      <td>79.8</td>\n",
       "    </tr>\n",
       "    <tr>\n",
       "      <th>8</th>\n",
       "      <td>83.6</td>\n",
       "    </tr>\n",
       "    <tr>\n",
       "      <th>9</th>\n",
       "      <td>77.3</td>\n",
       "    </tr>\n",
       "    <tr>\n",
       "      <th>10</th>\n",
       "      <td>86.8</td>\n",
       "    </tr>\n",
       "    <tr>\n",
       "      <th>11</th>\n",
       "      <td>80.5</td>\n",
       "    </tr>\n",
       "    <tr>\n",
       "      <th>12</th>\n",
       "      <td>81.8</td>\n",
       "    </tr>\n",
       "    <tr>\n",
       "      <th>13</th>\n",
       "      <td>79.6</td>\n",
       "    </tr>\n",
       "  </tbody>\n",
       "</table>\n",
       "</div>"
      ],
      "text/plain": [
       "       g\n",
       "0   83.5\n",
       "1   81.3\n",
       "2   78.2\n",
       "3   82.0\n",
       "4   85.4\n",
       "5   88.3\n",
       "6   76.2\n",
       "7   79.8\n",
       "8   83.6\n",
       "9   77.3\n",
       "10  86.8\n",
       "11  80.5\n",
       "12  81.8\n",
       "13  79.6"
      ]
     },
     "execution_count": 18,
     "metadata": {},
     "output_type": "execute_result"
    }
   ],
   "source": [
    "c = pd.read_csv(r\"C:\\Users\\user\\Desktop\\R 改 python\\11_假說檢定\\11a_one-sample-test-data\\one-sample-test\\c.csv\")\n",
    "c"
   ]
  },
  {
   "cell_type": "code",
   "execution_count": 19,
   "id": "80f246b4",
   "metadata": {},
   "outputs": [
    {
     "name": "stdout",
     "output_type": "stream",
     "text": [
      "中位數： g    81.55\n",
      "dtype: float64 \n",
      "\n",
      "均值： g    81.735714\n",
      "dtype: float64\n"
     ]
    }
   ],
   "source": [
    "median = c.median(axis=0)\n",
    "mean = c.mean(axis=0)\n",
    "print(\"中位數：\", median, '\\n')\n",
    "print(\"均值：\", mean)"
   ]
  },
  {
   "cell_type": "markdown",
   "id": "356dd097",
   "metadata": {},
   "source": [
    "+ alternative hypothesis : true location is greater than 82"
   ]
  },
  {
   "cell_type": "code",
   "execution_count": 20,
   "id": "39fa5d6a",
   "metadata": {},
   "outputs": [
    {
     "name": "stdout",
     "output_type": "stream",
     "text": [
      "WilcoxonResult(statistic=array([40.5]), pvalue=array([0.64969179]))\n"
     ]
    }
   ],
   "source": [
    "# 與 82 的差異進行檢驗\n",
    "result = stats.wilcoxon(c - 82, alternative='greater', correction = True, method='approx')\n",
    "print(result)"
   ]
  },
  {
   "cell_type": "markdown",
   "id": "fca28384",
   "metadata": {},
   "source": [
    "由上述結果可知，中間值是 81.55，平均值是 81.73571，p 值是 0.6497，因為 p 值大於顯著水準，所以不拒絕虛無假設，中位數小於 82 公克"
   ]
  },
  {
   "cell_type": "markdown",
   "id": "1ddb5c81",
   "metadata": {},
   "source": [
    "### 備註1\n",
    "+ [無母數統計—威爾卡森符號檢定](https://highscope.ch.ntu.edu.tw/wordpress/?p=73978)\n",
    "\n",
    "### 備註2\n",
    "+ [無母數統計—符號檢定](http://highscope.ch.ntu.edu.tw/wordpress/?p=73977)"
   ]
  },
  {
   "cell_type": "markdown",
   "id": "c231f65b",
   "metadata": {},
   "source": [
    "---"
   ]
  }
 ],
 "metadata": {
  "kernelspec": {
   "display_name": "Python 3 (ipykernel)",
   "language": "python",
   "name": "python3"
  },
  "language_info": {
   "codemirror_mode": {
    "name": "ipython",
    "version": 3
   },
   "file_extension": ".py",
   "mimetype": "text/x-python",
   "name": "python",
   "nbconvert_exporter": "python",
   "pygments_lexer": "ipython3",
   "version": "3.8.8"
  }
 },
 "nbformat": 4,
 "nbformat_minor": 5
}
