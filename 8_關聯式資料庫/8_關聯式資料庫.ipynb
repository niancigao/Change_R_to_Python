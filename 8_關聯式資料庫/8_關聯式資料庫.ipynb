{
 "cells": [
  {
   "cell_type": "markdown",
   "id": "21b77f26",
   "metadata": {},
   "source": [
    "# 關聯式資料庫\n",
    "\n",
    "### 曾聖澧\n",
    "\n",
    "**February 18, 2023**\n",
    "\n",
    "---"
   ]
  },
  {
   "cell_type": "markdown",
   "id": "79f803f5",
   "metadata": {},
   "source": [
    "# SQL與關聯式數據庫"
   ]
  },
  {
   "cell_type": "markdown",
   "id": "4e72f392",
   "metadata": {},
   "source": [
    "+ 維基百科 :\n",
    "    + [關聯式數據庫](https://zh.wikipedia.org/zh-tw/SQL)\n",
    "    + [非關聯式數據庫](https://zh.wikipedia.org/zh-tw/NoSQL)"
   ]
  },
  {
   "cell_type": "markdown",
   "id": "f7b38631",
   "metadata": {},
   "source": [
    "# 關聯式數據庫SQLite\n",
    "## 下載與基本語法\n",
    "+ [SQLite 簡介](http://mybeauty.pixnet.net/blog/post/26492636-sqlite簡介)\n",
    "+ [SQLite 语法](https://www.runoob.com/sqlite/sqlite-syntax.html)"
   ]
  },
  {
   "cell_type": "markdown",
   "id": "48757e9f",
   "metadata": {},
   "source": [
    "## 資料合併操作\n",
    "+ 逐筆輸入資料類似 concat 的操作\n",
    "+ [SQLite - 插入查詢](https://www.tutorialspoint.com/sqlite/sqlite_insert_query.htm)\n",
    "\n",
    "\n",
    "+ join 類似 merge 的操作\n",
    "+ [SQLite - JOINS](https://www.tutorialspoint.com/sqlite/sqlite_using_joins.htm)"
   ]
  },
  {
   "cell_type": "markdown",
   "id": "f9bfd2fc",
   "metadata": {},
   "source": [
    "## SQLite瀏覽器\n",
    "想看 sqlite 檔案中放了什麼，可下載以下任一瀏覽器\n",
    "+ sqlitespy\n",
    "+ [SQLiteSpy](http://www.snapfiles.com/get/sqlitespy.html)\n",
    "\n",
    "\n",
    "+ SQLiteStudio\n",
    "+ [SQLiteStudio](https://sqlitestudio.pl/index.rvt)"
   ]
  },
  {
   "cell_type": "markdown",
   "id": "f59d423f",
   "metadata": {},
   "source": [
    "## 外部檔案到資料庫的匯入匯出\n",
    "+ [SQLite - 從 CSV 檔案匯入資料](https://www.quackit.com/sqlite/tutorial/import_data_from_csv_file.cfm)\n",
    "+ [SQLite - 將資料匯出到 CSV 檔](https://www.quackit.com/sqlite/tutorial/export_data_to_csv_file.cfm)"
   ]
  },
  {
   "cell_type": "markdown",
   "id": "bab41dbe",
   "metadata": {},
   "source": [
    "## 更多 SQLite 介紹\n",
    "+ [SQL語法教學](https://www.1keydata.com/tw/sql/sql.html)"
   ]
  },
  {
   "cell_type": "markdown",
   "id": "7a36a38b",
   "metadata": {},
   "source": [
    "# 在Python中使用SQLite\n",
    "+ 載入 SQLite 的套件 sqlite3"
   ]
  },
  {
   "cell_type": "code",
   "execution_count": 1,
   "id": "7c93161e",
   "metadata": {},
   "outputs": [],
   "source": [
    "import sqlite3"
   ]
  },
  {
   "cell_type": "markdown",
   "id": "cd2a282c",
   "metadata": {},
   "source": [
    "## 用Python建立一個新資料庫\n",
    "+ 匯入資料集"
   ]
  },
  {
   "cell_type": "code",
   "execution_count": 2,
   "id": "f9341d5a",
   "metadata": {},
   "outputs": [],
   "source": [
    "from sklearn import datasets\n",
    "import pandas as pd\n",
    "iris_ = datasets.load_iris()\n",
    "iris = pd.concat((pd.DataFrame(iris_[\"data\"]),pd.DataFrame(iris_[\"target\"])),axis=1)\n",
    "iris.columns = ['sepal_length','sepal_width','petal_length','petal_width',\"target\"]"
   ]
  },
  {
   "cell_type": "code",
   "execution_count": 3,
   "id": "fce71705",
   "metadata": {},
   "outputs": [
    {
     "data": {
      "text/html": [
       "<div>\n",
       "<style scoped>\n",
       "    .dataframe tbody tr th:only-of-type {\n",
       "        vertical-align: middle;\n",
       "    }\n",
       "\n",
       "    .dataframe tbody tr th {\n",
       "        vertical-align: top;\n",
       "    }\n",
       "\n",
       "    .dataframe thead th {\n",
       "        text-align: right;\n",
       "    }\n",
       "</style>\n",
       "<table border=\"1\" class=\"dataframe\">\n",
       "  <thead>\n",
       "    <tr style=\"text-align: right;\">\n",
       "      <th></th>\n",
       "      <th>sepal_length</th>\n",
       "      <th>sepal_width</th>\n",
       "      <th>petal_length</th>\n",
       "      <th>petal_width</th>\n",
       "      <th>target</th>\n",
       "    </tr>\n",
       "  </thead>\n",
       "  <tbody>\n",
       "    <tr>\n",
       "      <th>0</th>\n",
       "      <td>5.1</td>\n",
       "      <td>3.5</td>\n",
       "      <td>1.4</td>\n",
       "      <td>0.2</td>\n",
       "      <td>0</td>\n",
       "    </tr>\n",
       "    <tr>\n",
       "      <th>1</th>\n",
       "      <td>4.9</td>\n",
       "      <td>3.0</td>\n",
       "      <td>1.4</td>\n",
       "      <td>0.2</td>\n",
       "      <td>0</td>\n",
       "    </tr>\n",
       "    <tr>\n",
       "      <th>2</th>\n",
       "      <td>4.7</td>\n",
       "      <td>3.2</td>\n",
       "      <td>1.3</td>\n",
       "      <td>0.2</td>\n",
       "      <td>0</td>\n",
       "    </tr>\n",
       "    <tr>\n",
       "      <th>3</th>\n",
       "      <td>4.6</td>\n",
       "      <td>3.1</td>\n",
       "      <td>1.5</td>\n",
       "      <td>0.2</td>\n",
       "      <td>0</td>\n",
       "    </tr>\n",
       "    <tr>\n",
       "      <th>4</th>\n",
       "      <td>5.0</td>\n",
       "      <td>3.6</td>\n",
       "      <td>1.4</td>\n",
       "      <td>0.2</td>\n",
       "      <td>0</td>\n",
       "    </tr>\n",
       "  </tbody>\n",
       "</table>\n",
       "</div>"
      ],
      "text/plain": [
       "   sepal_length  sepal_width  petal_length  petal_width  target\n",
       "0           5.1          3.5           1.4          0.2       0\n",
       "1           4.9          3.0           1.4          0.2       0\n",
       "2           4.7          3.2           1.3          0.2       0\n",
       "3           4.6          3.1           1.5          0.2       0\n",
       "4           5.0          3.6           1.4          0.2       0"
      ]
     },
     "execution_count": 3,
     "metadata": {},
     "output_type": "execute_result"
    }
   ],
   "source": [
    "iris.head(5)"
   ]
  },
  {
   "cell_type": "markdown",
   "id": "7f9550f8",
   "metadata": {},
   "source": [
    "+ 先建立資料庫與資料表\n",
    "1. connect() : 同時建立資料庫與連線\n",
    "2. cursor() : 建立資料庫操作指標\n",
    "3. execute() : 執行新增資料表的SQL指令\n",
    "4. commit() : 確認完成"
   ]
  },
  {
   "cell_type": "code",
   "execution_count": 4,
   "id": "d09b1b94",
   "metadata": {},
   "outputs": [],
   "source": [
    "# 建立資料庫\n",
    "conn = sqlite3.connect('iris.db') \n",
    "cursor = conn.cursor()\n",
    "\n",
    "# 建立資料表\n",
    "cursor.execute('CREATE TABLE iris(sepal_length,sepal_width,petal_length,petal_width,target)') \n",
    "\n",
    "# 完成更新\n",
    "conn.commit()                    "
   ]
  },
  {
   "cell_type": "markdown",
   "id": "e2dc685e",
   "metadata": {},
   "source": [
    "## 寫入數據到資料庫\n",
    "+ 匯入資料集 mtcars 和 iris 資料集到 SQL 中\n",
    "\n",
    "\n",
    "+ 利用 Pandas 的 to_sql()，就能夠將資料寫入 SQLite 資料庫\n",
    "關鍵字參數，分別為\n",
    "1. 「寫入的資料表名稱」\n",
    "2. 「連線」\n",
    "3. 「資料表已存在該如何操作」: if_exists='append' 為資料表已存在，則將資料直接寫入\n",
    "4. 「是否寫入 DataFrame 索引值」\n",
    "\n",
    "+ 下方 **更多操作** 處有其他新增數據方法"
   ]
  },
  {
   "cell_type": "code",
   "execution_count": 5,
   "id": "b5f97bb6",
   "metadata": {},
   "outputs": [],
   "source": [
    "iris.to_sql('iris', conn, if_exists='append', index=False)\n",
    "\n",
    "# 連結關閉\n",
    "conn.close() "
   ]
  },
  {
   "cell_type": "markdown",
   "id": "fc27b578",
   "metadata": {},
   "source": [
    "開啟 DB Browser for SQLite 工具，選擇 iris 資料表後，切換到 Browse Data (瀏覽資料)頁籤，即可看到 DataFrame 中的資料成功寫入\n",
    "\n",
    "+ [下載 DB Browser for SQLite 工具](https://sqlitebrowser.org/dl/)\n",
    "+ [快速掌握Pandas套件寫入SQLite資料庫的重要方法](https://nabi.104.com.tw/posts/nabi_post_1d9e8caa-55e4-4ed9-a841-d2ba2546badf)\n"
   ]
  },
  {
   "cell_type": "markdown",
   "id": "a03afb15",
   "metadata": {},
   "source": [
    "## 查詢資料庫內容\n",
    "從資料集中挑選前五行資料出來看\n",
    "+ SQL 語法可參考上面連結"
   ]
  },
  {
   "cell_type": "code",
   "execution_count": 6,
   "id": "9dc05fe4",
   "metadata": {},
   "outputs": [
    {
     "name": "stdout",
     "output_type": "stream",
     "text": [
      "     0    1    2    3  4\n",
      "0  5.1  3.5  1.4  0.2  0\n",
      "1  4.9  3.0  1.4  0.2  0\n",
      "2  4.7  3.2  1.3  0.2  0\n",
      "3  4.6  3.1  1.5  0.2  0\n",
      "4  5.0  3.6  1.4  0.2  0\n"
     ]
    }
   ],
   "source": [
    "# 打開數據庫\n",
    "conn = sqlite3.connect('iris.db')\n",
    "c = conn.cursor()\n",
    "\n",
    "# 操作數據\n",
    "cursor = c.execute(\"SELECT sepal_length, sepal_width, petal_length, petal_width, target from iris\")\n",
    "\n",
    "da = list()\n",
    "for row in cursor:\n",
    "    da.append(row)\n",
    "    \n",
    "print(pd.DataFrame(da)[0:5])\n",
    "\n",
    "# 連結關閉\n",
    "conn.close()"
   ]
  },
  {
   "cell_type": "code",
   "execution_count": 7,
   "id": "eb8c3897",
   "metadata": {},
   "outputs": [
    {
     "name": "stdout",
     "output_type": "stream",
     "text": [
      "(5.1, 3.5, 1.4, 0.2, 0)\n",
      "(4.9, 3.0, 1.4, 0.2, 0)\n",
      "(4.7, 3.2, 1.3, 0.2, 0)\n",
      "(4.6, 3.1, 1.5, 0.2, 0)\n",
      "(5.0, 3.6, 1.4, 0.2, 0)\n"
     ]
    }
   ],
   "source": [
    "# 打開數據庫\n",
    "conn = sqlite3.connect('iris.db')\n",
    "c = conn.cursor()\n",
    "\n",
    "# 操作數據\n",
    "cursor = c.execute('SELECT * from iris LIMIT 5')\n",
    "\n",
    "for row in cursor:\n",
    "    print(row)"
   ]
  },
  {
   "cell_type": "markdown",
   "id": "cd935112",
   "metadata": {},
   "source": [
    "從資料集中挑選變數 Sepal_Length 小於 4.6 的所有資料"
   ]
  },
  {
   "cell_type": "code",
   "execution_count": 8,
   "id": "a630d54a",
   "metadata": {},
   "outputs": [
    {
     "name": "stdout",
     "output_type": "stream",
     "text": [
      "(4.4, 2.9, 1.4, 0.2, 0)\n",
      "(4.3, 3.0, 1.1, 0.1, 0)\n",
      "(4.4, 3.0, 1.3, 0.2, 0)\n",
      "(4.5, 2.3, 1.3, 0.3, 0)\n",
      "(4.4, 3.2, 1.3, 0.2, 0)\n"
     ]
    }
   ],
   "source": [
    "# 操作數據\n",
    "cursor = c.execute('SELECT * from iris  WHERE \"Sepal_Length\" < 4.6')\n",
    "\n",
    "for row in cursor:\n",
    "    print(row)"
   ]
  },
  {
   "cell_type": "markdown",
   "id": "fafe83ab",
   "metadata": {},
   "source": [
    "計算 Sepal_Length = 4.5 有幾個"
   ]
  },
  {
   "cell_type": "code",
   "execution_count": 9,
   "id": "25fc21dd",
   "metadata": {},
   "outputs": [
    {
     "data": {
      "text/plain": [
       "1"
      ]
     },
     "execution_count": 9,
     "metadata": {},
     "output_type": "execute_result"
    }
   ],
   "source": [
    "# 操作數據\n",
    "cursor = c.execute('SELECT * from iris  WHERE \"Sepal_Length\" = 4.5')\n",
    "\n",
    "da = list()\n",
    "for row in cursor:\n",
    "    da.append(row)\n",
    "\n",
    "len(da)"
   ]
  },
  {
   "cell_type": "markdown",
   "id": "98f30aed",
   "metadata": {},
   "source": [
    "最後記得要與資料庫斷線"
   ]
  },
  {
   "cell_type": "code",
   "execution_count": 10,
   "id": "2b7dc693",
   "metadata": {},
   "outputs": [],
   "source": [
    "# 連結關閉\n",
    "conn.close()"
   ]
  },
  {
   "cell_type": "markdown",
   "id": "edaf23f3",
   "metadata": {},
   "source": [
    "## 更多操作\n",
    "+ [資料庫操作—新增、查詢、刪除和修改_利用 Python 的 sqlite3 執行資料庫語法](https://rf-datanalytics.mystrikingly.com/blog/b6bad8ac883)\n",
    "+ [SQLite - Python](https://www.runoob.com/sqlite/sqlite-python.html)"
   ]
  },
  {
   "cell_type": "markdown",
   "id": "c7c123e6",
   "metadata": {},
   "source": [
    "+ 避免重跑時資料表已存在，出現錯誤，在此刪掉先前創造的 iris"
   ]
  },
  {
   "cell_type": "code",
   "execution_count": 11,
   "id": "f58ebf69",
   "metadata": {},
   "outputs": [],
   "source": [
    "# 打開數據庫\n",
    "conn = sqlite3.connect('iris.db')\n",
    "c = conn.cursor()\n",
    "\n",
    "# 操作數據\n",
    "cursor = c.execute('DROP TABLE iris')\n",
    "\n",
    "# 完成更新\n",
    "conn.commit() \n",
    "\n",
    "# 連結關閉\n",
    "conn.close()"
   ]
  },
  {
   "cell_type": "markdown",
   "id": "ecefebbd",
   "metadata": {},
   "source": [
    "# SQL 對應\n",
    "+ [Python 與 SQL Server 之間的資料類型對應](https://learn.microsoft.com/zh-tw/sql/machine-learning/python/python-libraries-and-data-types?view=sql-server-ver16)"
   ]
  },
  {
   "cell_type": "markdown",
   "id": "dca4ab0f",
   "metadata": {},
   "source": [
    "## 給對SQL不熟的人\n",
    "如果還沒有接觸過資料庫或者說 SQL，推薦大家下載並安裝 MySQL 資料進行嘗試，MySQL 資料庫的下載安裝比較簡單，安裝完成就可以使用。\n",
    "\n",
    "+ [MySQL Windows版下載位址](http://dev.MySQL.com/downloads/MySQL/)\n",
    "\n",
    "+ [為什麼要學習 SQL & MySQL安裝操作](https://medium.com/%E6%95%B8%E6%93%9A%E5%88%86%E6%9E%90%E4%B8%8D%E6%98%AF%E5%80%8B%E4%BA%8B/%E5%AF%AB%E7%B5%A6%E6%96%B0%E4%BA%BA%E7%9A%84%E8%B3%87%E6%96%99%E5%BA%AB%E5%85%A5%E9%96%80%E6%8C%87%E5%8D%97-4a63fb3acb8a)"
   ]
  },
  {
   "cell_type": "markdown",
   "id": "30bda70d",
   "metadata": {},
   "source": [
    "## 給對SQL很熟的人\n",
    "+ [快速入門：使用 SQL 機器學習來執行簡單的 Python 指令碼](https://learn.microsoft.com/zh-tw/sql/machine-learning/tutorials/quickstart-python-create-script?view=sql-server-ver16)"
   ]
  },
  {
   "cell_type": "markdown",
   "id": "d9203235",
   "metadata": {},
   "source": [
    "## 提醒"
   ]
  },
  {
   "cell_type": "markdown",
   "id": "b503141c",
   "metadata": {},
   "source": [
    "+ 不只 sqlite3，pymysql 也可以拿來操作 SQL\n",
    "+ [PyMySQL 1.0.2](https://pypi.org/project/PyMySQL/)"
   ]
  },
  {
   "cell_type": "markdown",
   "id": "791c8940",
   "metadata": {},
   "source": [
    "---"
   ]
  }
 ],
 "metadata": {
  "kernelspec": {
   "display_name": "Python 3 (ipykernel)",
   "language": "python",
   "name": "python3"
  },
  "language_info": {
   "codemirror_mode": {
    "name": "ipython",
    "version": 3
   },
   "file_extension": ".py",
   "mimetype": "text/x-python",
   "name": "python",
   "nbconvert_exporter": "python",
   "pygments_lexer": "ipython3",
   "version": "3.8.8"
  }
 },
 "nbformat": 4,
 "nbformat_minor": 5
}
