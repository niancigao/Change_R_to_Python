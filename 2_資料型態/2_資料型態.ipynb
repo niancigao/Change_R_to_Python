{
 "cells": [
  {
   "cell_type": "markdown",
   "id": "c3f27d04",
   "metadata": {},
   "source": [
    "# 資料型態\n",
    "### 葉永傑\n",
    "### jan 25, 2019\n",
    "---"
   ]
  },
  {
   "cell_type": "markdown",
   "id": "0de2ef98",
   "metadata": {},
   "source": [
    "# 資料結構\n",
    "## 資料型別\n",
    "\n",
    "變數型態 | 類別    |  範例                  | 註解\n",
    ":---------:|:---------:|:------------------------:|:-----------------------\n",
    "浮點數     |float  | 2.333                  | 雙精準浮點數16位\n",
    "整數     |int  | 9                     |\n",
    "邏輯值\t |bool  | True、False             | 等價 1、0\n",
    "字串\t |str  | \"NSYSU\"            | 可相加、重複印出、利用中括號可取部份內容\n",
    "字元     |chr| \"N\",\"S\",\"Y\",\"S\",\"U\"  | len() 看字串的長度(字元個數)、字串由字元組成\n",
    "日期\t   |datetime.datetime、datetime.date\t   | 2022-12-09         | import datetime\n",
    "時間\t   |time.struct_time、str | 1670567195.7250018、'Fri Dec  9 15:48:43 2022' | import time，1970/1/1 00:00:00 至今的秒數\n",
    "字典| dict | {\"key1\":\"value1\", \"key2\":\"value2\"} | 透過 key 來取得對應的 value，兩種方法 : { }、dict()\n",
    "串列 | list| [\"N\",\"s\",5,5.,True] | 用 [ ] 儲存不同類別的資料、利用中括號可取部份內容\n",
    "\n",
    "$\\large\\text {在Python中，所有東西都是一個物件，物件可以當作最小單位}$"
   ]
  },
  {
   "cell_type": "markdown",
   "id": "7c7a70ec",
   "metadata": {},
   "source": [
    "### float"
   ]
  },
  {
   "cell_type": "code",
   "execution_count": 1,
   "id": "203a8256",
   "metadata": {},
   "outputs": [
    {
     "name": "stdout",
     "output_type": "stream",
     "text": [
      "<class 'float'>\n"
     ]
    }
   ],
   "source": [
    "print(type(2.))"
   ]
  },
  {
   "cell_type": "markdown",
   "id": "53dd5ade",
   "metadata": {},
   "source": [
    "### Integer"
   ]
  },
  {
   "cell_type": "code",
   "execution_count": 2,
   "id": "e2dd75f5",
   "metadata": {},
   "outputs": [
    {
     "name": "stdout",
     "output_type": "stream",
     "text": [
      "<class 'int'>\n"
     ]
    }
   ],
   "source": [
    "print(type(9))"
   ]
  },
  {
   "cell_type": "markdown",
   "id": "8b4c8f06",
   "metadata": {},
   "source": [
    "### Logical"
   ]
  },
  {
   "cell_type": "code",
   "execution_count": 3,
   "id": "bd183b22",
   "metadata": {},
   "outputs": [
    {
     "name": "stdout",
     "output_type": "stream",
     "text": [
      "<class 'bool'> \n",
      " <class 'bool'>\n"
     ]
    }
   ],
   "source": [
    "print(type(True),\"\\n\",type(False == 0))"
   ]
  },
  {
   "cell_type": "markdown",
   "id": "f0d379a7",
   "metadata": {},
   "source": [
    "### string / Character"
   ]
  },
  {
   "cell_type": "code",
   "execution_count": 4,
   "id": "48070c0d",
   "metadata": {},
   "outputs": [
    {
     "name": "stdout",
     "output_type": "stream",
     "text": [
      "<class 'str'>\n"
     ]
    }
   ],
   "source": [
    "print(type(\"NSYSU\"))"
   ]
  },
  {
   "cell_type": "code",
   "execution_count": 5,
   "id": "c5c04942",
   "metadata": {},
   "outputs": [
    {
     "name": "stdout",
     "output_type": "stream",
     "text": [
      "NSYSUNSYSU \n",
      " NSYSUNSYSU\n"
     ]
    }
   ],
   "source": [
    "print(\"NSYSU\"+\"NSYSU\",\"\\n\",\"NSYSU\"*2)"
   ]
  },
  {
   "cell_type": "code",
   "execution_count": 6,
   "id": "e44075ae",
   "metadata": {},
   "outputs": [
    {
     "name": "stdout",
     "output_type": "stream",
     "text": [
      "N \n",
      " 5\n"
     ]
    }
   ],
   "source": [
    "NSYSU = \"NSYSU\"\n",
    "print(NSYSU[0],\"\\n\",len(NSYSU))"
   ]
  },
  {
   "cell_type": "markdown",
   "id": "1df4c5a7",
   "metadata": {},
   "source": [
    "### Date"
   ]
  },
  {
   "cell_type": "code",
   "execution_count": 7,
   "id": "574821c3",
   "metadata": {},
   "outputs": [
    {
     "name": "stdout",
     "output_type": "stream",
     "text": [
      "2022-12-10 \n",
      " <class 'datetime.date'>\n"
     ]
    }
   ],
   "source": [
    "import datetime\n",
    "print(datetime.date.today(),\"\\n\",type(datetime.date.today()))"
   ]
  },
  {
   "cell_type": "markdown",
   "id": "477209c2",
   "metadata": {},
   "source": [
    "### Time"
   ]
  },
  {
   "cell_type": "code",
   "execution_count": 8,
   "id": "21b39bd9",
   "metadata": {},
   "outputs": [
    {
     "name": "stdout",
     "output_type": "stream",
     "text": [
      "1670630351.0631626 \n",
      "\n",
      "time.struct_time(tm_year=2022, tm_mon=12, tm_mday=10, tm_hour=7, tm_min=59, tm_sec=11, tm_wday=5, tm_yday=344, tm_isdst=0) \n",
      " <class 'time.struct_time'>\n"
     ]
    }
   ],
   "source": [
    "import time\n",
    "print(time.time(),\"\\n\")\n",
    "print(time.localtime(),\"\\n\",type((time.localtime())))"
   ]
  },
  {
   "cell_type": "code",
   "execution_count": 9,
   "id": "f28b4795",
   "metadata": {},
   "outputs": [
    {
     "name": "stdout",
     "output_type": "stream",
     "text": [
      "Sat Dec 10 07:59:11 2022 \n",
      " <class 'str'>\n"
     ]
    }
   ],
   "source": [
    "print(time.ctime(),\"\\n\",type((time.ctime())))"
   ]
  },
  {
   "cell_type": "markdown",
   "id": "927d2531",
   "metadata": {},
   "source": [
    "### Dictionary"
   ]
  },
  {
   "cell_type": "code",
   "execution_count": 10,
   "id": "4c9bce8b",
   "metadata": {},
   "outputs": [
    {
     "name": "stdout",
     "output_type": "stream",
     "text": [
      "value1 \n",
      " <class 'dict'>\n"
     ]
    }
   ],
   "source": [
    "d = {\"key1\":\"value1\", \"key2\":\"value2\"}\n",
    "print(d[\"key1\"],\"\\n\",type(d))"
   ]
  },
  {
   "cell_type": "code",
   "execution_count": 11,
   "id": "05c5495f",
   "metadata": {},
   "outputs": [
    {
     "name": "stdout",
     "output_type": "stream",
     "text": [
      "value2 \n",
      " <class 'dict'>\n"
     ]
    }
   ],
   "source": [
    "d = dict(key1 = \"value1\",\n",
    "         key2 = \"value2\")\n",
    "print(d[\"key2\"],\"\\n\",type(d))"
   ]
  },
  {
   "cell_type": "markdown",
   "id": "acba34d3",
   "metadata": {},
   "source": [
    "### list"
   ]
  },
  {
   "cell_type": "code",
   "execution_count": 12,
   "id": "ae6e1c91",
   "metadata": {},
   "outputs": [
    {
     "name": "stdout",
     "output_type": "stream",
     "text": [
      "['N', 'S', 'Y', 'S', 'U'] \n",
      " <class 'list'>\n"
     ]
    }
   ],
   "source": [
    "l = list(\"NSYSU\")\n",
    "print(l,\"\\n\",type(l))"
   ]
  },
  {
   "cell_type": "code",
   "execution_count": 13,
   "id": "bbec532f",
   "metadata": {},
   "outputs": [
    {
     "name": "stdout",
     "output_type": "stream",
     "text": [
      "['N', 's', 5, 5.0, True] \n",
      " True \n",
      " <class 'bool'>\n"
     ]
    }
   ],
   "source": [
    "l = ([\"N\",\"s\",5,5.,True])\n",
    "print(l,\"\\n\",l[4],\"\\n\",type(l[4]))"
   ]
  },
  {
   "cell_type": "markdown",
   "id": "1136791c",
   "metadata": {},
   "source": [
    "## 運算子(operation)\n",
    "\n",
    "運算子    | 語法    |運算子   |語法 |註解\n",
    ":---------:   |:--------: |:-------------:|:----: |:---:\n",
    "加            |+        | 相等        |==   |\n",
    "減            |-        | 不等        |!=   |\n",
    "乘            |*        | 大於        |>    |\n",
    "除            |/        | 小於        |<    |\n",
    "次方          |**       |大於等於     |>=   |\n",
    "餘數          |%        |小於等於     |<=   |\n",
    "整數除法      |//       |內積(矩陣相乘)|np.dot(A, B) |需 import numpy as np\n",
    "包含         |in      |不包含     | not in |\n",
    "交集         |and、&    |聯集      |or、$|$   |需要兩個邏輯元素          \n"
   ]
  },
  {
   "cell_type": "markdown",
   "id": "4c109b95",
   "metadata": {},
   "source": [
    "### **運算子舉例** \n",
    "### Power"
   ]
  },
  {
   "cell_type": "code",
   "execution_count": 14,
   "id": "cf43c254",
   "metadata": {},
   "outputs": [
    {
     "data": {
      "text/plain": [
       "4"
      ]
     },
     "execution_count": 14,
     "metadata": {},
     "output_type": "execute_result"
    }
   ],
   "source": [
    "2**2"
   ]
  },
  {
   "cell_type": "markdown",
   "id": "e4d8ef20",
   "metadata": {},
   "source": [
    "### mod"
   ]
  },
  {
   "cell_type": "code",
   "execution_count": 15,
   "id": "c9aac226",
   "metadata": {},
   "outputs": [
    {
     "data": {
      "text/plain": [
       "1"
      ]
     },
     "execution_count": 15,
     "metadata": {},
     "output_type": "execute_result"
    }
   ],
   "source": [
    "5%2"
   ]
  },
  {
   "cell_type": "markdown",
   "id": "14a7582c",
   "metadata": {},
   "source": [
    "### 整數除法"
   ]
  },
  {
   "cell_type": "code",
   "execution_count": 16,
   "id": "8b8bd31c",
   "metadata": {},
   "outputs": [
    {
     "data": {
      "text/plain": [
       "2"
      ]
     },
     "execution_count": 16,
     "metadata": {},
     "output_type": "execute_result"
    }
   ],
   "source": [
    "5//2"
   ]
  },
  {
   "cell_type": "markdown",
   "id": "2db2e470",
   "metadata": {},
   "source": [
    "### 內積(inner product)"
   ]
  },
  {
   "cell_type": "code",
   "execution_count": 17,
   "id": "96386cdf",
   "metadata": {},
   "outputs": [
    {
     "data": {
      "text/plain": [
       "20"
      ]
     },
     "execution_count": 17,
     "metadata": {},
     "output_type": "execute_result"
    }
   ],
   "source": [
    "import numpy as np\n",
    "A = np.array([1, 2, 3])\n",
    "B = np.array([2, 3, 4])\n",
    "np.dot(A,B)"
   ]
  },
  {
   "cell_type": "markdown",
   "id": "c96038b2",
   "metadata": {},
   "source": [
    "### 點積"
   ]
  },
  {
   "cell_type": "code",
   "execution_count": 18,
   "id": "d4d7fdac",
   "metadata": {},
   "outputs": [
    {
     "data": {
      "text/plain": [
       "array([ 2,  6, 12])"
      ]
     },
     "execution_count": 18,
     "metadata": {},
     "output_type": "execute_result"
    }
   ],
   "source": [
    "A*B"
   ]
  },
  {
   "cell_type": "markdown",
   "id": "954b0df8",
   "metadata": {},
   "source": [
    "### 相等"
   ]
  },
  {
   "cell_type": "code",
   "execution_count": 19,
   "id": "65ed5b52",
   "metadata": {},
   "outputs": [
    {
     "data": {
      "text/plain": [
       "False"
      ]
     },
     "execution_count": 19,
     "metadata": {},
     "output_type": "execute_result"
    }
   ],
   "source": [
    "\"NSYSU\"==\"1\""
   ]
  },
  {
   "cell_type": "markdown",
   "id": "65b2d3bf",
   "metadata": {},
   "source": [
    "### 不等"
   ]
  },
  {
   "cell_type": "code",
   "execution_count": 20,
   "id": "c0b65a70",
   "metadata": {},
   "outputs": [
    {
     "data": {
      "text/plain": [
       "True"
      ]
     },
     "execution_count": 20,
     "metadata": {},
     "output_type": "execute_result"
    }
   ],
   "source": [
    "\"NSYSU\"!=\"1\""
   ]
  },
  {
   "cell_type": "markdown",
   "id": "9186d439",
   "metadata": {},
   "source": [
    "### 大於等於"
   ]
  },
  {
   "cell_type": "code",
   "execution_count": 21,
   "id": "810570cb",
   "metadata": {},
   "outputs": [
    {
     "data": {
      "text/plain": [
       "True"
      ]
     },
     "execution_count": 21,
     "metadata": {},
     "output_type": "execute_result"
    }
   ],
   "source": [
    "5>=3"
   ]
  },
  {
   "cell_type": "markdown",
   "id": "189735bc",
   "metadata": {},
   "source": [
    "### 包含"
   ]
  },
  {
   "cell_type": "code",
   "execution_count": 22,
   "id": "e3f9ae2d",
   "metadata": {},
   "outputs": [
    {
     "data": {
      "text/plain": [
       "False"
      ]
     },
     "execution_count": 22,
     "metadata": {},
     "output_type": "execute_result"
    }
   ],
   "source": [
    "5 in np.array([1, 2, 3])"
   ]
  },
  {
   "cell_type": "code",
   "execution_count": 23,
   "id": "abe85df4",
   "metadata": {},
   "outputs": [
    {
     "data": {
      "text/plain": [
       "True"
      ]
     },
     "execution_count": 23,
     "metadata": {},
     "output_type": "execute_result"
    }
   ],
   "source": [
    "\"word\" in \"This contains a word\""
   ]
  },
  {
   "cell_type": "markdown",
   "id": "e733226d",
   "metadata": {},
   "source": [
    "### 不包含"
   ]
  },
  {
   "cell_type": "code",
   "execution_count": 24,
   "id": "addd4dab",
   "metadata": {},
   "outputs": [
    {
     "data": {
      "text/plain": [
       "True"
      ]
     },
     "execution_count": 24,
     "metadata": {},
     "output_type": "execute_result"
    }
   ],
   "source": [
    "5 not in np.array([1, 2, 3])"
   ]
  },
  {
   "cell_type": "code",
   "execution_count": 25,
   "id": "c57f421e",
   "metadata": {},
   "outputs": [
    {
     "data": {
      "text/plain": [
       "False"
      ]
     },
     "execution_count": 25,
     "metadata": {},
     "output_type": "execute_result"
    }
   ],
   "source": [
    "\"word\" not in \"This contains a word\""
   ]
  },
  {
   "cell_type": "markdown",
   "id": "feba417e",
   "metadata": {},
   "source": [
    "### 交集"
   ]
  },
  {
   "cell_type": "code",
   "execution_count": 26,
   "id": "53fbed58",
   "metadata": {},
   "outputs": [
    {
     "data": {
      "text/plain": [
       "False"
      ]
     },
     "execution_count": 26,
     "metadata": {},
     "output_type": "execute_result"
    }
   ],
   "source": [
    "(2>=6) and (2<6)"
   ]
  },
  {
   "cell_type": "code",
   "execution_count": 27,
   "id": "cf2daa9e",
   "metadata": {},
   "outputs": [
    {
     "data": {
      "text/plain": [
       "False"
      ]
     },
     "execution_count": 27,
     "metadata": {},
     "output_type": "execute_result"
    }
   ],
   "source": [
    "(2>=6) & (2<6)"
   ]
  },
  {
   "cell_type": "markdown",
   "id": "52c499b7",
   "metadata": {},
   "source": [
    "### 聯集"
   ]
  },
  {
   "cell_type": "code",
   "execution_count": 28,
   "id": "442e95dc",
   "metadata": {},
   "outputs": [
    {
     "data": {
      "text/plain": [
       "True"
      ]
     },
     "execution_count": 28,
     "metadata": {},
     "output_type": "execute_result"
    }
   ],
   "source": [
    "(2>=6) or (2<6)"
   ]
  },
  {
   "cell_type": "code",
   "execution_count": 29,
   "id": "47d441c4",
   "metadata": {},
   "outputs": [
    {
     "data": {
      "text/plain": [
       "True"
      ]
     },
     "execution_count": 29,
     "metadata": {},
     "output_type": "execute_result"
    }
   ],
   "source": [
    "(2>=6) | (2<6)"
   ]
  },
  {
   "cell_type": "markdown",
   "id": "66f74b5c",
   "metadata": {},
   "source": [
    "## 表格型態轉換\n",
    "$\\large\\text{轉換函數  xxx()}\\quad \\large\\text{EX:} \\quad\\text {int()}$ \n",
    "\n",
    "\n",
    "### **轉換舉例**\n",
    "\n",
    "### 字串轉串列"
   ]
  },
  {
   "cell_type": "code",
   "execution_count": 30,
   "id": "08b6b861",
   "metadata": {},
   "outputs": [
    {
     "data": {
      "text/plain": [
       "['N', 'S', 'Y', 'S', 'U']"
      ]
     },
     "execution_count": 30,
     "metadata": {},
     "output_type": "execute_result"
    }
   ],
   "source": [
    "list(\"NSYSU\")"
   ]
  },
  {
   "cell_type": "code",
   "execution_count": 31,
   "id": "7979cf9d",
   "metadata": {},
   "outputs": [
    {
     "name": "stdout",
     "output_type": "stream",
     "text": [
      "['Line1-abcdef', 'Line2-abc', 'Line3-abcd']\n",
      "['Line1-abcdef', '\\nLine2-abc \\nLine3-abcd']\n"
     ]
    }
   ],
   "source": [
    "s = \"Line1-abcdef \\nLine2-abc \\nLine3-abcd\"\n",
    "print(s.split())                           # 以空格為分隔符，包含 \\n\n",
    "print(s.split(' ', 1 ))                     # 以空格為分隔符，分隔一次"
   ]
  },
  {
   "cell_type": "markdown",
   "id": "aa7c532f",
   "metadata": {},
   "source": [
    "### 串列轉字串"
   ]
  },
  {
   "cell_type": "code",
   "execution_count": 32,
   "id": "a322613b",
   "metadata": {},
   "outputs": [
    {
     "data": {
      "text/plain": [
       "'NSYSU'"
      ]
     },
     "execution_count": 32,
     "metadata": {},
     "output_type": "execute_result"
    }
   ],
   "source": [
    "\"\".join(list(\"NSYSU\"))"
   ]
  },
  {
   "cell_type": "markdown",
   "id": "dcc1e442",
   "metadata": {},
   "source": [
    "### 字串轉數值"
   ]
  },
  {
   "cell_type": "code",
   "execution_count": 33,
   "id": "92cce0ef",
   "metadata": {},
   "outputs": [
    {
     "data": {
      "text/plain": [
       "12345"
      ]
     },
     "execution_count": 33,
     "metadata": {},
     "output_type": "execute_result"
    }
   ],
   "source": [
    "int(\"12345\")"
   ]
  },
  {
   "cell_type": "markdown",
   "id": "9ae5968b",
   "metadata": {},
   "source": [
    "### 數值轉字串"
   ]
  },
  {
   "cell_type": "code",
   "execution_count": 34,
   "id": "ee00e16f",
   "metadata": {},
   "outputs": [
    {
     "data": {
      "text/plain": [
       "'12345'"
      ]
     },
     "execution_count": 34,
     "metadata": {},
     "output_type": "execute_result"
    }
   ],
   "source": [
    "str(12345)"
   ]
  },
  {
   "cell_type": "markdown",
   "id": "80e30d01",
   "metadata": {},
   "source": [
    "### 數值轉邏輯\n",
    "*註備:資料需1,0*"
   ]
  },
  {
   "cell_type": "code",
   "execution_count": 35,
   "id": "e7695494",
   "metadata": {},
   "outputs": [
    {
     "data": {
      "text/plain": [
       "False"
      ]
     },
     "execution_count": 35,
     "metadata": {},
     "output_type": "execute_result"
    }
   ],
   "source": [
    "bool(0)"
   ]
  },
  {
   "cell_type": "code",
   "execution_count": 36,
   "id": "58c652ac",
   "metadata": {},
   "outputs": [
    {
     "data": {
      "text/plain": [
       "True"
      ]
     },
     "execution_count": 36,
     "metadata": {},
     "output_type": "execute_result"
    }
   ],
   "source": [
    "bool(np.array([1,0,4]).any())  # 有一個 1 則 True"
   ]
  },
  {
   "cell_type": "code",
   "execution_count": 37,
   "id": "30c51ae7",
   "metadata": {},
   "outputs": [
    {
     "data": {
      "text/plain": [
       "True"
      ]
     },
     "execution_count": 37,
     "metadata": {},
     "output_type": "execute_result"
    }
   ],
   "source": [
    "bool(np.array([1,2,3]).all())  # 全 1 才 True "
   ]
  },
  {
   "cell_type": "markdown",
   "id": "b25a5933",
   "metadata": {},
   "source": [
    "### 邏輯轉數值"
   ]
  },
  {
   "cell_type": "code",
   "execution_count": 38,
   "id": "abd21487",
   "metadata": {},
   "outputs": [
    {
     "data": {
      "text/plain": [
       "1"
      ]
     },
     "execution_count": 38,
     "metadata": {},
     "output_type": "execute_result"
    }
   ],
   "source": [
    "int(True)"
   ]
  },
  {
   "cell_type": "code",
   "execution_count": 39,
   "id": "acc22c46",
   "metadata": {},
   "outputs": [
    {
     "data": {
      "text/plain": [
       "0.0"
      ]
     },
     "execution_count": 39,
     "metadata": {},
     "output_type": "execute_result"
    }
   ],
   "source": [
    "float(False)"
   ]
  },
  {
   "cell_type": "markdown",
   "id": "b695657f",
   "metadata": {},
   "source": [
    "### 文字轉日期"
   ]
  },
  {
   "cell_type": "code",
   "execution_count": 40,
   "id": "7a8b43d0",
   "metadata": {},
   "outputs": [
    {
     "name": "stdout",
     "output_type": "stream",
     "text": [
      "2021-01-05 11:30:20\n"
     ]
    }
   ],
   "source": [
    "print(datetime.datetime.strptime('2021-01-05 11:30:20', '%Y-%m-%d %H:%M:%S'))"
   ]
  },
  {
   "cell_type": "code",
   "execution_count": 41,
   "id": "9274c4e7",
   "metadata": {},
   "outputs": [
    {
     "name": "stdout",
     "output_type": "stream",
     "text": [
      "2021-01-05 11:30:20\n"
     ]
    }
   ],
   "source": [
    "print(datetime.datetime.strptime('01-05-2021 11:30:20', '%m-%d-%Y %H:%M:%S'))"
   ]
  },
  {
   "cell_type": "markdown",
   "id": "fd7ea7c7",
   "metadata": {},
   "source": [
    "### 日期轉文字"
   ]
  },
  {
   "cell_type": "code",
   "execution_count": 42,
   "id": "b8747792",
   "metadata": {},
   "outputs": [
    {
     "data": {
      "text/plain": [
       "'2021-01-05 11:30:20'"
      ]
     },
     "execution_count": 42,
     "metadata": {},
     "output_type": "execute_result"
    }
   ],
   "source": [
    "(str(datetime.datetime.strptime('2021-01-05 11:30:20', '%Y-%m-%d %H:%M:%S')))"
   ]
  },
  {
   "cell_type": "markdown",
   "id": "019a373e",
   "metadata": {},
   "source": [
    "### Date _format 常見參數\n",
    "\n",
    "符號|\t格式\t      |範例\n",
    "----|-------------|------\n",
    "%d\t|日\t          |01\n",
    "%a\t|禮拜幾的縮寫\t|Mon\n",
    "%A\t|禮拜幾\t      |Monday\n",
    "%m\t|月\t          |01\n",
    "%b\t|月名稱的縮寫\t|Jan\n",
    "%B\t|月名稱\t      | January\n",
    "%y\t|兩位數的年\t  |70\n",
    "%Y\t|四位數的年\t  |1970\n",
    "\n",
    "[strftime() 與 strptime() 的行為](https://docs.python.org/zh-tw/3/library/datetime.html)"
   ]
  },
  {
   "cell_type": "markdown",
   "id": "b23c0d14",
   "metadata": {},
   "source": [
    "## 判斷物件型態 \n",
    "\n",
    "* 判斷型態函數 isinstance(object,type)\n",
    "* type 一次可放多個，可用 int，float，bool，complex，str，list，dict，set，tuple\n",
    "* 判斷 NaN $\\Rightarrow$ pd.isnull() \n",
    " * type(None) = NoneType\n",
    " * type(np.nan) = float   \n",
    "<note> Note : NaN 無法用其他運算子計算 </note> \n",
    " <ex>EX : 1 * NaN = NaN </ex>\n",
    "\n",
    " \n"
   ]
  },
  {
   "cell_type": "markdown",
   "id": "f7c09d79",
   "metadata": {},
   "source": [
    "### 判斷數值"
   ]
  },
  {
   "cell_type": "code",
   "execution_count": 43,
   "id": "4d861576",
   "metadata": {},
   "outputs": [
    {
     "name": "stdout",
     "output_type": "stream",
     "text": [
      "False\n"
     ]
    }
   ],
   "source": [
    "print(isinstance(8.7, int))"
   ]
  },
  {
   "cell_type": "code",
   "execution_count": 44,
   "id": "9820f783",
   "metadata": {},
   "outputs": [
    {
     "name": "stdout",
     "output_type": "stream",
     "text": [
      "True\n"
     ]
    }
   ],
   "source": [
    "print(isinstance(8.7, float))"
   ]
  },
  {
   "cell_type": "markdown",
   "id": "5ee6585c",
   "metadata": {},
   "source": [
    "### 判斷文字"
   ]
  },
  {
   "cell_type": "code",
   "execution_count": 45,
   "id": "a1f47d91",
   "metadata": {},
   "outputs": [
    {
     "name": "stdout",
     "output_type": "stream",
     "text": [
      "True\n"
     ]
    }
   ],
   "source": [
    "print(isinstance(\"NSYSU\", (int, str, float)))"
   ]
  },
  {
   "cell_type": "markdown",
   "id": "e2acdeb5",
   "metadata": {},
   "source": [
    "### 判斷日期"
   ]
  },
  {
   "cell_type": "code",
   "execution_count": 46,
   "id": "695a9bf1",
   "metadata": {},
   "outputs": [
    {
     "data": {
      "text/plain": [
       "datetime.datetime(2022, 12, 10, 7, 59, 11, 863467)"
      ]
     },
     "execution_count": 46,
     "metadata": {},
     "output_type": "execute_result"
    }
   ],
   "source": [
    "datetime.datetime.now()"
   ]
  },
  {
   "cell_type": "code",
   "execution_count": 47,
   "id": "5a6ec074",
   "metadata": {},
   "outputs": [
    {
     "data": {
      "text/plain": [
       "True"
      ]
     },
     "execution_count": 47,
     "metadata": {},
     "output_type": "execute_result"
    }
   ],
   "source": [
    "isinstance(datetime.datetime.now(),datetime.datetime)   # \"2022-01-05\" 型式則要自己寫"
   ]
  },
  {
   "cell_type": "markdown",
   "id": "4db55f90",
   "metadata": {},
   "source": [
    "### 判斷NaN"
   ]
  },
  {
   "cell_type": "code",
   "execution_count": 48,
   "id": "ecc667b8",
   "metadata": {},
   "outputs": [
    {
     "data": {
      "text/plain": [
       "True"
      ]
     },
     "execution_count": 48,
     "metadata": {},
     "output_type": "execute_result"
    }
   ],
   "source": [
    "import pandas as pd\n",
    "pd.isnull(None)"
   ]
  },
  {
   "cell_type": "code",
   "execution_count": 49,
   "id": "8a4549cf",
   "metadata": {},
   "outputs": [
    {
     "name": "stdout",
     "output_type": "stream",
     "text": [
      "True \n",
      " True\n"
     ]
    }
   ],
   "source": [
    "print(pd.isnull(float(\"nan\")),\"\\n\",pd.isnull(np.nan))"
   ]
  },
  {
   "cell_type": "code",
   "execution_count": 50,
   "id": "584d34b8",
   "metadata": {},
   "outputs": [
    {
     "data": {
      "text/plain": [
       "False"
      ]
     },
     "execution_count": 50,
     "metadata": {},
     "output_type": "execute_result"
    }
   ],
   "source": [
    "pd.isnull(1)"
   ]
  },
  {
   "cell_type": "code",
   "execution_count": 51,
   "id": "0839f4c4",
   "metadata": {},
   "outputs": [
    {
     "name": "stdout",
     "output_type": "stream",
     "text": [
      "0\n",
      "         0      1      2      3\n",
      "0    False  False  False  False\n",
      "1    False  False  False  False\n",
      "2    False  False  False  False\n",
      "3    False  False  False  False\n",
      "4    False  False  False  False\n",
      "..     ...    ...    ...    ...\n",
      "145  False  False  False  False\n",
      "146  False  False  False  False\n",
      "147  False  False  False  False\n",
      "148  False  False  False  False\n",
      "149  False  False  False  False\n",
      "\n",
      "[150 rows x 4 columns]\n"
     ]
    }
   ],
   "source": [
    "from sklearn import datasets\n",
    "data = datasets.load_iris() \n",
    "data = pd.DataFrame(data[\"data\"])\n",
    "\n",
    "print(data.isnull().sum().sum()) # 有缺失值嗎(對 dateframe)\n",
    "print(data.isna())               # TRUE、FALSE 表格(對 dateframe)"
   ]
  },
  {
   "cell_type": "markdown",
   "id": "025e2242",
   "metadata": {},
   "source": [
    "## 向量\n",
    "向量（vector）: 一個維度的 ndarray\n",
    "我們可以想像一個向量就是一條序列(sequense)\n",
    "\n",
    "每一條向量元素都有對應到的index\n",
    "\n",
    "**index**| 0 | 1 | 2 | 3 |...| n\n",
    ":---|:---|:---|:---|:---|:---|:---\n",
    "**value**| $s_0$ | $s_1$ | $s_2$ | $s_3$ |...|$s_{n}$|\n",
    "\n",
    "```\n",
    "我們可以使用 numpy 裡的 array 來定義一條向量\n",
    "EX : np.array([1, 2, 3])  \n",
    "     np.array([\"n\",\"s\",\"y\",\"s\",\"u\"])  \n",
    "```\n",
    "\n",
    "### 使用 np.array 來定義向量"
   ]
  },
  {
   "cell_type": "code",
   "execution_count": 52,
   "id": "bd52b6e8",
   "metadata": {},
   "outputs": [],
   "source": [
    "x = np.array([\"red\",\"yellow\",\"blue\"])  "
   ]
  },
  {
   "cell_type": "markdown",
   "id": "f7470f21",
   "metadata": {},
   "source": [
    "### 刪除指定 index 的元素 element"
   ]
  },
  {
   "cell_type": "code",
   "execution_count": 53,
   "id": "81c2846b",
   "metadata": {},
   "outputs": [
    {
     "data": {
      "text/plain": [
       "array(['red', 'yellow'], dtype='<U6')"
      ]
     },
     "execution_count": 53,
     "metadata": {},
     "output_type": "execute_result"
    }
   ],
   "source": [
    "np.delete(x,2)"
   ]
  },
  {
   "cell_type": "markdown",
   "id": "29b21a30",
   "metadata": {},
   "source": [
    "### 拿取指定 index 的元素 element"
   ]
  },
  {
   "cell_type": "code",
   "execution_count": 54,
   "id": "e7db0d1c",
   "metadata": {},
   "outputs": [
    {
     "data": {
      "text/plain": [
       "'yellow'"
      ]
     },
     "execution_count": 54,
     "metadata": {},
     "output_type": "execute_result"
    }
   ],
   "source": [
    "x[1]"
   ]
  },
  {
   "cell_type": "markdown",
   "id": "f1e48da8",
   "metadata": {},
   "source": [
    "### 拿取多個 index的元素 element"
   ]
  },
  {
   "cell_type": "code",
   "execution_count": 55,
   "id": "c73f57bf",
   "metadata": {},
   "outputs": [
    {
     "data": {
      "text/plain": [
       "array(['red', 'yellow'], dtype='<U6')"
      ]
     },
     "execution_count": 55,
     "metadata": {},
     "output_type": "execute_result"
    }
   ],
   "source": [
    "x.take([0,1])"
   ]
  },
  {
   "cell_type": "markdown",
   "id": "7c87b074",
   "metadata": {},
   "source": [
    "### 用邏輯型態的向量 拿取index的元素 element\n",
    "note:必需有同樣長度"
   ]
  },
  {
   "cell_type": "code",
   "execution_count": 56,
   "id": "21596808",
   "metadata": {},
   "outputs": [
    {
     "data": {
      "text/plain": [
       "array(['yellow'], dtype='<U6')"
      ]
     },
     "execution_count": 56,
     "metadata": {},
     "output_type": "execute_result"
    }
   ],
   "source": [
    "x = np.array([\"red\",\"yellow\",\"blue\"])  \n",
    "x[[False,True,False]]"
   ]
  },
  {
   "cell_type": "markdown",
   "id": "0bd69b39",
   "metadata": {},
   "source": [
    "### 創造向量"
   ]
  },
  {
   "cell_type": "markdown",
   "id": "ccea8649",
   "metadata": {},
   "source": [
    "+ 一般"
   ]
  },
  {
   "cell_type": "code",
   "execution_count": 57,
   "id": "60315759",
   "metadata": {},
   "outputs": [
    {
     "data": {
      "text/plain": [
       "array([1, 2, 3, 4])"
      ]
     },
     "execution_count": 57,
     "metadata": {},
     "output_type": "execute_result"
    }
   ],
   "source": [
    "np.array([1, 2, 3, 4])"
   ]
  },
  {
   "cell_type": "markdown",
   "id": "55e6c2b1",
   "metadata": {},
   "source": [
    "+ 有序"
   ]
  },
  {
   "cell_type": "code",
   "execution_count": 58,
   "id": "0d18c7f4",
   "metadata": {},
   "outputs": [
    {
     "data": {
      "text/plain": [
       "array([1, 3, 5, 7, 9])"
      ]
     },
     "execution_count": 58,
     "metadata": {},
     "output_type": "execute_result"
    }
   ],
   "source": [
    "np.arange(1, 10, 2)"
   ]
  },
  {
   "cell_type": "markdown",
   "id": "c5ac2295",
   "metadata": {},
   "source": [
    "+ 全 0 / 全 1"
   ]
  },
  {
   "cell_type": "code",
   "execution_count": 59,
   "id": "641c0979",
   "metadata": {},
   "outputs": [
    {
     "name": "stdout",
     "output_type": "stream",
     "text": [
      "[0. 0. 0.] \n",
      " [1. 1. 1.]\n"
     ]
    }
   ],
   "source": [
    "print(np.zeros(3),\"\\n\",np.ones(3))"
   ]
  },
  {
   "cell_type": "markdown",
   "id": "9faddc04",
   "metadata": {},
   "source": [
    "+ 產生[0, 1]之間的數组成的向量"
   ]
  },
  {
   "cell_type": "code",
   "execution_count": 60,
   "id": "24b814ec",
   "metadata": {},
   "outputs": [
    {
     "data": {
      "text/plain": [
       "array([0.63954938, 0.35112628, 0.287049  ])"
      ]
     },
     "execution_count": 60,
     "metadata": {},
     "output_type": "execute_result"
    }
   ],
   "source": [
    "np.random.random(3)"
   ]
  },
  {
   "cell_type": "markdown",
   "id": "2805f0dc",
   "metadata": {},
   "source": [
    "+ 定義區間中等距元素组成的向量"
   ]
  },
  {
   "cell_type": "code",
   "execution_count": 61,
   "id": "c1e03122",
   "metadata": {},
   "outputs": [
    {
     "data": {
      "text/plain": [
       "array([0.        , 1.25663706, 2.51327412, 3.76991118, 5.02654825,\n",
       "       6.28318531])"
      ]
     },
     "execution_count": 61,
     "metadata": {},
     "output_type": "execute_result"
    }
   ],
   "source": [
    "np.linspace(0, 2*np.pi, 6) "
   ]
  },
  {
   "cell_type": "markdown",
   "id": "fdd378d0",
   "metadata": {},
   "source": [
    "* 重複(循環)序列"
   ]
  },
  {
   "cell_type": "code",
   "execution_count": 62,
   "id": "b1d5188e",
   "metadata": {},
   "outputs": [
    {
     "data": {
      "text/plain": [
       "array([1, 2, 3, 4, 1, 2, 3, 4])"
      ]
     },
     "execution_count": 62,
     "metadata": {},
     "output_type": "execute_result"
    }
   ],
   "source": [
    "np.array([1, 2, 3, 4]*2)"
   ]
  },
  {
   "cell_type": "markdown",
   "id": "89ad12ae",
   "metadata": {},
   "source": [
    "+ 組合兩個向量"
   ]
  },
  {
   "cell_type": "code",
   "execution_count": 63,
   "id": "a86a03d3",
   "metadata": {},
   "outputs": [
    {
     "data": {
      "text/plain": [
       "array([1, 2, 3, 4, 1, 3, 5, 7, 9])"
      ]
     },
     "execution_count": 63,
     "metadata": {},
     "output_type": "execute_result"
    }
   ],
   "source": [
    "a = np.array([1, 2, 3, 4])\n",
    "b = np.arange(1, 10, 2)\n",
    "np.append(a,b)"
   ]
  },
  {
   "cell_type": "markdown",
   "id": "5200f933",
   "metadata": {},
   "source": [
    "### 取代向量"
   ]
  },
  {
   "cell_type": "markdown",
   "id": "7edf8dd5",
   "metadata": {},
   "source": [
    "* nomal"
   ]
  },
  {
   "cell_type": "code",
   "execution_count": 64,
   "id": "99955401",
   "metadata": {},
   "outputs": [
    {
     "data": {
      "text/plain": [
       "array(['N', '', 'T', '', 'U'], dtype='<U1')"
      ]
     },
     "execution_count": 64,
     "metadata": {},
     "output_type": "execute_result"
    }
   ],
   "source": [
    "x = np.array([\"N\",\"S\",\"Y\",\"S\",\"U\"]) \n",
    "x[1:4] = [\"\",\"T\",\"\"]\n",
    "x"
   ]
  },
  {
   "cell_type": "markdown",
   "id": "a113455b",
   "metadata": {},
   "source": [
    "+ distinst"
   ]
  },
  {
   "cell_type": "code",
   "execution_count": 65,
   "id": "96984140",
   "metadata": {},
   "outputs": [
    {
     "data": {
      "text/plain": [
       "array(['N', 'K', 'Y', 'K', 'U'], dtype='<U1')"
      ]
     },
     "execution_count": 65,
     "metadata": {},
     "output_type": "execute_result"
    }
   ],
   "source": [
    "y = np.array([\"N\",\"S\",\"Y\",\"S\",\"U\"]) \n",
    "y[y==\"S\"] = \"K\"\n",
    "y"
   ]
  },
  {
   "cell_type": "markdown",
   "id": "bca5fd9d",
   "metadata": {},
   "source": [
    "### 向量內部型態\n",
    "\n",
    "同一條向量裡面表格的型態需一致"
   ]
  },
  {
   "cell_type": "code",
   "execution_count": 66,
   "id": "1b38c613",
   "metadata": {},
   "outputs": [
    {
     "name": "stdout",
     "output_type": "stream",
     "text": [
      "['2' '5' 'matlab' 'maple']\n"
     ]
    }
   ],
   "source": [
    "z1 = np.array([2,5,\"matlab\",\"maple\"])\n",
    "print(z1)"
   ]
  },
  {
   "cell_type": "code",
   "execution_count": 67,
   "id": "0baa9948",
   "metadata": {},
   "outputs": [
    {
     "name": "stdout",
     "output_type": "stream",
     "text": [
      "[0 1 2 3]\n"
     ]
    }
   ],
   "source": [
    "z2 = np.array([0,1,2,3])\n",
    "print(z2)"
   ]
  },
  {
   "cell_type": "markdown",
   "id": "d78b2200",
   "metadata": {},
   "source": [
    "## matrix (矩陣)& data.frame\n",
    "\n",
    "n $\\times$ m 矩陣 我們會取名 n 個 row，m 個 column ，所以我們會有兩個 index"
   ]
  },
  {
   "cell_type": "code",
   "execution_count": 68,
   "id": "cb208896",
   "metadata": {},
   "outputs": [
    {
     "data": {
      "text/plain": [
       "array([[1, 4, 7],\n",
       "       [2, 5, 8],\n",
       "       [3, 6, 9]])"
      ]
     },
     "execution_count": 68,
     "metadata": {},
     "output_type": "execute_result"
    }
   ],
   "source": [
    "sys = np.array([[1,4,7],\n",
    "                [2,5,8],\n",
    "                [3,6,9]])\n",
    "sys"
   ]
  },
  {
   "cell_type": "markdown",
   "id": "97659170",
   "metadata": {},
   "source": [
    "### 第一個 row 第二個 column"
   ]
  },
  {
   "cell_type": "code",
   "execution_count": 69,
   "id": "fafd7e04",
   "metadata": {},
   "outputs": [
    {
     "data": {
      "text/plain": [
       "4"
      ]
     },
     "execution_count": 69,
     "metadata": {},
     "output_type": "execute_result"
    }
   ],
   "source": [
    "sys[0,1]"
   ]
  },
  {
   "cell_type": "markdown",
   "id": "4bb14a96",
   "metadata": {},
   "source": [
    "### 取第一個column"
   ]
  },
  {
   "cell_type": "code",
   "execution_count": 70,
   "id": "b4b91678",
   "metadata": {},
   "outputs": [
    {
     "data": {
      "text/plain": [
       "array([1, 2, 3])"
      ]
     },
     "execution_count": 70,
     "metadata": {},
     "output_type": "execute_result"
    }
   ],
   "source": [
    "sys[:,0]"
   ]
  },
  {
   "cell_type": "markdown",
   "id": "01bf9fe4",
   "metadata": {},
   "source": [
    "+ 矩陣轉置"
   ]
  },
  {
   "cell_type": "code",
   "execution_count": 71,
   "id": "39301123",
   "metadata": {},
   "outputs": [
    {
     "data": {
      "text/plain": [
       "array([[1, 2, 3],\n",
       "       [4, 5, 6],\n",
       "       [7, 8, 9]])"
      ]
     },
     "execution_count": 71,
     "metadata": {},
     "output_type": "execute_result"
    }
   ],
   "source": [
    "sys.T"
   ]
  },
  {
   "cell_type": "markdown",
   "id": "87d62e6a",
   "metadata": {},
   "source": [
    "+ 取代矩陣元素"
   ]
  },
  {
   "cell_type": "code",
   "execution_count": 72,
   "id": "16e60277",
   "metadata": {},
   "outputs": [
    {
     "data": {
      "text/plain": [
       "array([[ True, False, False],\n",
       "       [False, False, False],\n",
       "       [False, False, False]])"
      ]
     },
     "execution_count": 72,
     "metadata": {},
     "output_type": "execute_result"
    }
   ],
   "source": [
    "sys==1"
   ]
  },
  {
   "cell_type": "code",
   "execution_count": 73,
   "id": "03634af8",
   "metadata": {},
   "outputs": [
    {
     "data": {
      "text/plain": [
       "array([[2, 4, 7],\n",
       "       [2, 5, 8],\n",
       "       [3, 6, 9]])"
      ]
     },
     "execution_count": 73,
     "metadata": {},
     "output_type": "execute_result"
    }
   ],
   "source": [
    "sys[sys==1] = 2\n",
    "sys"
   ]
  },
  {
   "cell_type": "markdown",
   "id": "51c02b03",
   "metadata": {},
   "source": [
    "+ 取代矩陣向量"
   ]
  },
  {
   "cell_type": "code",
   "execution_count": 74,
   "id": "5179bab5",
   "metadata": {},
   "outputs": [
    {
     "data": {
      "text/plain": [
       "array([[11, 15, 18],\n",
       "       [ 2,  5,  8],\n",
       "       [ 3,  6,  9]])"
      ]
     },
     "execution_count": 74,
     "metadata": {},
     "output_type": "execute_result"
    }
   ],
   "source": [
    "sys[0,:] = [11,15,18]\n",
    "sys"
   ]
  },
  {
   "cell_type": "markdown",
   "id": "42fb05cb",
   "metadata": {},
   "source": [
    "+ 矩陣相乘"
   ]
  },
  {
   "cell_type": "code",
   "execution_count": 75,
   "id": "efc49f35",
   "metadata": {},
   "outputs": [
    {
     "data": {
      "text/plain": [
       "array([[205, 348, 480],\n",
       "       [ 56, 103, 148],\n",
       "       [ 72, 129, 183]])"
      ]
     },
     "execution_count": 75,
     "metadata": {},
     "output_type": "execute_result"
    }
   ],
   "source": [
    "sys.dot(sys)"
   ]
  },
  {
   "cell_type": "markdown",
   "id": "5d408a54",
   "metadata": {},
   "source": [
    "我們也可以再把它變成我們想要的維度<br>\n",
    "會先把原先矩陣先變成一條向量再塑型，須留意順序"
   ]
  },
  {
   "cell_type": "code",
   "execution_count": 76,
   "id": "110139a1",
   "metadata": {},
   "outputs": [
    {
     "data": {
      "text/plain": [
       "(3, 3)"
      ]
     },
     "execution_count": 76,
     "metadata": {},
     "output_type": "execute_result"
    }
   ],
   "source": [
    "sys.shape"
   ]
  },
  {
   "cell_type": "code",
   "execution_count": 77,
   "id": "b9fa2ade",
   "metadata": {},
   "outputs": [
    {
     "data": {
      "text/plain": [
       "array([[11, 15, 18,  2,  5,  8,  3,  6,  9]])"
      ]
     },
     "execution_count": 77,
     "metadata": {},
     "output_type": "execute_result"
    }
   ],
   "source": [
    "new_sys = sys\n",
    "new_sys.reshape((1,9))"
   ]
  },
  {
   "cell_type": "markdown",
   "id": "279477d7",
   "metadata": {},
   "source": [
    "**data.frame** 是一個比 **matrix** 更加彈性的資料型態，<br>\n",
    "可以容納許多不一樣的結構在各個欄位之中，同時保留了一些 **matrix** 的性質\n",
    "\n",
    "\n",
    " - 點乘"
   ]
  },
  {
   "cell_type": "code",
   "execution_count": 78,
   "id": "acdfcb9a",
   "metadata": {},
   "outputs": [
    {
     "data": {
      "text/html": [
       "<div>\n",
       "<style scoped>\n",
       "    .dataframe tbody tr th:only-of-type {\n",
       "        vertical-align: middle;\n",
       "    }\n",
       "\n",
       "    .dataframe tbody tr th {\n",
       "        vertical-align: top;\n",
       "    }\n",
       "\n",
       "    .dataframe thead th {\n",
       "        text-align: right;\n",
       "    }\n",
       "</style>\n",
       "<table border=\"1\" class=\"dataframe\">\n",
       "  <thead>\n",
       "    <tr style=\"text-align: right;\">\n",
       "      <th></th>\n",
       "      <th>0</th>\n",
       "      <th>1</th>\n",
       "      <th>2</th>\n",
       "    </tr>\n",
       "  </thead>\n",
       "  <tbody>\n",
       "    <tr>\n",
       "      <th>0</th>\n",
       "      <td>9</td>\n",
       "      <td>225</td>\n",
       "      <td>324</td>\n",
       "    </tr>\n",
       "    <tr>\n",
       "      <th>1</th>\n",
       "      <td>1</td>\n",
       "      <td>25</td>\n",
       "      <td>64</td>\n",
       "    </tr>\n",
       "    <tr>\n",
       "      <th>2</th>\n",
       "      <td>4</td>\n",
       "      <td>36</td>\n",
       "      <td>81</td>\n",
       "    </tr>\n",
       "  </tbody>\n",
       "</table>\n",
       "</div>"
      ],
      "text/plain": [
       "   0    1    2\n",
       "0  9  225  324\n",
       "1  1   25   64\n",
       "2  4   36   81"
      ]
     },
     "execution_count": 78,
     "metadata": {},
     "output_type": "execute_result"
    }
   ],
   "source": [
    "sys[:,0] = [3,1,2]\n",
    "sys = pd.DataFrame(sys)\n",
    "sys*sys"
   ]
  },
  {
   "cell_type": "markdown",
   "id": "423137a5",
   "metadata": {},
   "source": [
    "+ 保留轉置功能"
   ]
  },
  {
   "cell_type": "code",
   "execution_count": 79,
   "id": "bf48a70a",
   "metadata": {},
   "outputs": [
    {
     "data": {
      "text/html": [
       "<div>\n",
       "<style scoped>\n",
       "    .dataframe tbody tr th:only-of-type {\n",
       "        vertical-align: middle;\n",
       "    }\n",
       "\n",
       "    .dataframe tbody tr th {\n",
       "        vertical-align: top;\n",
       "    }\n",
       "\n",
       "    .dataframe thead th {\n",
       "        text-align: right;\n",
       "    }\n",
       "</style>\n",
       "<table border=\"1\" class=\"dataframe\">\n",
       "  <thead>\n",
       "    <tr style=\"text-align: right;\">\n",
       "      <th></th>\n",
       "      <th>0</th>\n",
       "      <th>1</th>\n",
       "      <th>2</th>\n",
       "    </tr>\n",
       "  </thead>\n",
       "  <tbody>\n",
       "    <tr>\n",
       "      <th>0</th>\n",
       "      <td>3</td>\n",
       "      <td>1</td>\n",
       "      <td>2</td>\n",
       "    </tr>\n",
       "    <tr>\n",
       "      <th>1</th>\n",
       "      <td>15</td>\n",
       "      <td>5</td>\n",
       "      <td>6</td>\n",
       "    </tr>\n",
       "    <tr>\n",
       "      <th>2</th>\n",
       "      <td>18</td>\n",
       "      <td>8</td>\n",
       "      <td>9</td>\n",
       "    </tr>\n",
       "  </tbody>\n",
       "</table>\n",
       "</div>"
      ],
      "text/plain": [
       "    0  1  2\n",
       "0   3  1  2\n",
       "1  15  5  6\n",
       "2  18  8  9"
      ]
     },
     "execution_count": 79,
     "metadata": {},
     "output_type": "execute_result"
    }
   ],
   "source": [
    "sys.T"
   ]
  },
  {
   "cell_type": "markdown",
   "id": "c8f6f410",
   "metadata": {},
   "source": [
    "+ 取名"
   ]
  },
  {
   "cell_type": "code",
   "execution_count": 80,
   "id": "90e0a66a",
   "metadata": {},
   "outputs": [
    {
     "data": {
      "text/html": [
       "<div>\n",
       "<style scoped>\n",
       "    .dataframe tbody tr th:only-of-type {\n",
       "        vertical-align: middle;\n",
       "    }\n",
       "\n",
       "    .dataframe tbody tr th {\n",
       "        vertical-align: top;\n",
       "    }\n",
       "\n",
       "    .dataframe thead th {\n",
       "        text-align: right;\n",
       "    }\n",
       "</style>\n",
       "<table border=\"1\" class=\"dataframe\">\n",
       "  <thead>\n",
       "    <tr style=\"text-align: right;\">\n",
       "      <th></th>\n",
       "      <th>x1</th>\n",
       "      <th>x2</th>\n",
       "      <th>x3</th>\n",
       "    </tr>\n",
       "  </thead>\n",
       "  <tbody>\n",
       "    <tr>\n",
       "      <th>x1</th>\n",
       "      <td>3</td>\n",
       "      <td>15</td>\n",
       "      <td>18</td>\n",
       "    </tr>\n",
       "    <tr>\n",
       "      <th>x2</th>\n",
       "      <td>1</td>\n",
       "      <td>5</td>\n",
       "      <td>8</td>\n",
       "    </tr>\n",
       "    <tr>\n",
       "      <th>x3</th>\n",
       "      <td>2</td>\n",
       "      <td>6</td>\n",
       "      <td>9</td>\n",
       "    </tr>\n",
       "  </tbody>\n",
       "</table>\n",
       "</div>"
      ],
      "text/plain": [
       "    x1  x2  x3\n",
       "x1   3  15  18\n",
       "x2   1   5   8\n",
       "x3   2   6   9"
      ]
     },
     "execution_count": 80,
     "metadata": {},
     "output_type": "execute_result"
    }
   ],
   "source": [
    "sys.columns = [\"x1\",\"x2\",\"x3\"]\n",
    "sys.index = [\"x1\",\"x2\",\"x3\"]\n",
    "sys"
   ]
  },
  {
   "cell_type": "markdown",
   "id": "ff7a4d26",
   "metadata": {},
   "source": [
    "+ 改名"
   ]
  },
  {
   "cell_type": "code",
   "execution_count": 81,
   "id": "7154911e",
   "metadata": {},
   "outputs": [
    {
     "data": {
      "text/html": [
       "<div>\n",
       "<style scoped>\n",
       "    .dataframe tbody tr th:only-of-type {\n",
       "        vertical-align: middle;\n",
       "    }\n",
       "\n",
       "    .dataframe tbody tr th {\n",
       "        vertical-align: top;\n",
       "    }\n",
       "\n",
       "    .dataframe thead th {\n",
       "        text-align: right;\n",
       "    }\n",
       "</style>\n",
       "<table border=\"1\" class=\"dataframe\">\n",
       "  <thead>\n",
       "    <tr style=\"text-align: right;\">\n",
       "      <th></th>\n",
       "      <th>理</th>\n",
       "      <th>學</th>\n",
       "      <th>院</th>\n",
       "    </tr>\n",
       "  </thead>\n",
       "  <tbody>\n",
       "    <tr>\n",
       "      <th>商</th>\n",
       "      <td>3</td>\n",
       "      <td>15</td>\n",
       "      <td>18</td>\n",
       "    </tr>\n",
       "    <tr>\n",
       "      <th>學</th>\n",
       "      <td>1</td>\n",
       "      <td>5</td>\n",
       "      <td>8</td>\n",
       "    </tr>\n",
       "    <tr>\n",
       "      <th>院</th>\n",
       "      <td>2</td>\n",
       "      <td>6</td>\n",
       "      <td>9</td>\n",
       "    </tr>\n",
       "  </tbody>\n",
       "</table>\n",
       "</div>"
      ],
      "text/plain": [
       "   理   學   院\n",
       "商  3  15  18\n",
       "學  1   5   8\n",
       "院  2   6   9"
      ]
     },
     "execution_count": 81,
     "metadata": {},
     "output_type": "execute_result"
    }
   ],
   "source": [
    "sys.rename(columns = {\"x1\":\"理\",\"x2\":\"學\",\"x3\":\"院\"},\n",
    "           index = {\"x1\":\"商\",\"x2\":\"學\",\"x3\":\"院\"},\n",
    "           inplace=True)\n",
    "sys"
   ]
  },
  {
   "cell_type": "markdown",
   "id": "3b4eaf19",
   "metadata": {},
   "source": [
    "+ 拼裝data.frame"
   ]
  },
  {
   "cell_type": "code",
   "execution_count": 82,
   "id": "a637be48",
   "metadata": {},
   "outputs": [
    {
     "data": {
      "text/html": [
       "<div>\n",
       "<style scoped>\n",
       "    .dataframe tbody tr th:only-of-type {\n",
       "        vertical-align: middle;\n",
       "    }\n",
       "\n",
       "    .dataframe tbody tr th {\n",
       "        vertical-align: top;\n",
       "    }\n",
       "\n",
       "    .dataframe thead th {\n",
       "        text-align: right;\n",
       "    }\n",
       "</style>\n",
       "<table border=\"1\" class=\"dataframe\">\n",
       "  <thead>\n",
       "    <tr style=\"text-align: right;\">\n",
       "      <th></th>\n",
       "      <th>理</th>\n",
       "      <th>學</th>\n",
       "      <th>院</th>\n",
       "      <th>new</th>\n",
       "    </tr>\n",
       "  </thead>\n",
       "  <tbody>\n",
       "    <tr>\n",
       "      <th>商</th>\n",
       "      <td>3</td>\n",
       "      <td>15</td>\n",
       "      <td>18</td>\n",
       "      <td>1</td>\n",
       "    </tr>\n",
       "    <tr>\n",
       "      <th>學</th>\n",
       "      <td>1</td>\n",
       "      <td>5</td>\n",
       "      <td>8</td>\n",
       "      <td>2</td>\n",
       "    </tr>\n",
       "    <tr>\n",
       "      <th>院</th>\n",
       "      <td>2</td>\n",
       "      <td>6</td>\n",
       "      <td>9</td>\n",
       "      <td>3</td>\n",
       "    </tr>\n",
       "  </tbody>\n",
       "</table>\n",
       "</div>"
      ],
      "text/plain": [
       "   理   學   院  new\n",
       "商  3  15  18    1\n",
       "學  1   5   8    2\n",
       "院  2   6   9    3"
      ]
     },
     "execution_count": 82,
     "metadata": {},
     "output_type": "execute_result"
    }
   ],
   "source": [
    "new_sys = sys\n",
    "new_sys[\"new\"] = [1,2,3]\n",
    "new_sys\n"
   ]
  },
  {
   "cell_type": "markdown",
   "id": "39fb969f",
   "metadata": {},
   "source": [
    "+ 使用變數名稱 找出此變數"
   ]
  },
  {
   "cell_type": "code",
   "execution_count": 83,
   "id": "ff675e45",
   "metadata": {},
   "outputs": [
    {
     "data": {
      "text/plain": [
       "商    1\n",
       "學    2\n",
       "院    3\n",
       "Name: new, dtype: int64"
      ]
     },
     "execution_count": 83,
     "metadata": {},
     "output_type": "execute_result"
    }
   ],
   "source": [
    "new_sys[\"new\"]"
   ]
  },
  {
   "cell_type": "markdown",
   "id": "4443a9f7",
   "metadata": {},
   "source": [
    "### 多維度資料型態可以構建超過2維度的資料"
   ]
  },
  {
   "cell_type": "code",
   "execution_count": 84,
   "id": "980ac3e1",
   "metadata": {},
   "outputs": [
    {
     "data": {
      "text/plain": [
       "array([[[ 1,  2],\n",
       "        [ 3,  4]],\n",
       "\n",
       "       [[ 5,  6],\n",
       "        [ 7,  8]],\n",
       "\n",
       "       [[ 9, 10],\n",
       "        [11, 12]],\n",
       "\n",
       "       [[13, 14],\n",
       "        [15, 16]],\n",
       "\n",
       "       [[17, 18],\n",
       "        [19, 20]]])"
      ]
     },
     "execution_count": 84,
     "metadata": {},
     "output_type": "execute_result"
    }
   ],
   "source": [
    "my_arr = np.array([np.arange(1,21)])\n",
    "my_arr = my_arr.reshape((5,2,2))\n",
    "my_arr"
   ]
  },
  {
   "cell_type": "markdown",
   "id": "0d887064",
   "metadata": {},
   "source": [
    "取出第二個維度的第一個 index 和第三個維度的第一個 index 的向量"
   ]
  },
  {
   "cell_type": "code",
   "execution_count": 85,
   "id": "b0ff1efa",
   "metadata": {},
   "outputs": [
    {
     "data": {
      "text/plain": [
       "array([ 1,  5,  9, 13, 17])"
      ]
     },
     "execution_count": 85,
     "metadata": {},
     "output_type": "execute_result"
    }
   ],
   "source": [
    "my_arr[:,0,0]"
   ]
  },
  {
   "cell_type": "markdown",
   "id": "651c28b3",
   "metadata": {},
   "source": [
    "## list\n",
    "list 相比 dataframe 來說更像一個資料夾，可以不斷的包住任何物件，<br>\n",
    "但搜尋上會比較困難也比較難轉用"
   ]
  },
  {
   "cell_type": "code",
   "execution_count": 86,
   "id": "d8cfc4e9",
   "metadata": {},
   "outputs": [
    {
     "data": {
      "text/plain": [
       "['Great NBA Teams',\n",
       " ['Chicago Bulls', 'Golden State Warriors'],\n",
       " array([[72, 10],\n",
       "        [73,  9]]),\n",
       "                    Teams  Winning_Percentage   Season\n",
       " 0          Chicago Bulls            0.878049  1995-96\n",
       " 1  Golden State Warriors            0.890244  2015-16]"
      ]
     },
     "execution_count": 86,
     "metadata": {},
     "output_type": "execute_result"
    }
   ],
   "source": [
    "title = \"Great NBA Teams\"\n",
    "teams = [\"Chicago Bulls\", \"Golden State Warriors\"]\n",
    "wins = np.array([72, 73])\n",
    "losses = np.array([10, 9])\n",
    "winning_percentage = wins / (wins + losses)\n",
    "season = [\"1995-96\", \"2015-16\"]\n",
    "wins_losses = np.array([wins, losses]).T\n",
    "df = pd.DataFrame({\"Teams\" : teams,\n",
    "                  \"Winning_Percentage\" : winning_percentage,\n",
    "                  \"Season\" : season})\n",
    "great_nba_teams = [title, teams, wins_losses, df]\n",
    "great_nba_teams"
   ]
  },
  {
   "cell_type": "code",
   "execution_count": 87,
   "id": "a15f795c",
   "metadata": {},
   "outputs": [
    {
     "data": {
      "text/html": [
       "<div>\n",
       "<style scoped>\n",
       "    .dataframe tbody tr th:only-of-type {\n",
       "        vertical-align: middle;\n",
       "    }\n",
       "\n",
       "    .dataframe tbody tr th {\n",
       "        vertical-align: top;\n",
       "    }\n",
       "\n",
       "    .dataframe thead th {\n",
       "        text-align: right;\n",
       "    }\n",
       "</style>\n",
       "<table border=\"1\" class=\"dataframe\">\n",
       "  <thead>\n",
       "    <tr style=\"text-align: right;\">\n",
       "      <th></th>\n",
       "      <th>Teams</th>\n",
       "      <th>Winning_Percentage</th>\n",
       "      <th>Season</th>\n",
       "    </tr>\n",
       "  </thead>\n",
       "  <tbody>\n",
       "    <tr>\n",
       "      <th>0</th>\n",
       "      <td>Chicago Bulls</td>\n",
       "      <td>0.878049</td>\n",
       "      <td>1995-96</td>\n",
       "    </tr>\n",
       "    <tr>\n",
       "      <th>1</th>\n",
       "      <td>Golden State Warriors</td>\n",
       "      <td>0.890244</td>\n",
       "      <td>2015-16</td>\n",
       "    </tr>\n",
       "  </tbody>\n",
       "</table>\n",
       "</div>"
      ],
      "text/plain": [
       "                   Teams  Winning_Percentage   Season\n",
       "0          Chicago Bulls            0.878049  1995-96\n",
       "1  Golden State Warriors            0.890244  2015-16"
      ]
     },
     "execution_count": 87,
     "metadata": {},
     "output_type": "execute_result"
    }
   ],
   "source": [
    "great_nba_teams[3]"
   ]
  },
  {
   "cell_type": "markdown",
   "id": "a4d3171f",
   "metadata": {},
   "source": [
    "+ list 可以不斷往內包"
   ]
  },
  {
   "cell_type": "code",
   "execution_count": 88,
   "id": "3db4007b",
   "metadata": {},
   "outputs": [
    {
     "data": {
      "text/plain": [
       "[['Great NBA Teams',\n",
       "  ['Chicago Bulls', 'Golden State Warriors'],\n",
       "  array([[72, 10],\n",
       "         [73,  9]]),\n",
       "                     Teams  Winning_Percentage   Season\n",
       "  0          Chicago Bulls            0.878049  1995-96\n",
       "  1  Golden State Warriors            0.890244  2015-16],\n",
       " array([0, 1, 2, 3])]"
      ]
     },
     "execution_count": 88,
     "metadata": {},
     "output_type": "execute_result"
    }
   ],
   "source": [
    "list_bag = [great_nba_teams,np.array([0,1,2,3])]\n",
    "list_bag"
   ]
  },
  {
   "cell_type": "markdown",
   "id": "01056395",
   "metadata": {},
   "source": [
    "+ 取出方式: 利用 [ ]，前面需先拆才能看拿下一層的物件"
   ]
  },
  {
   "cell_type": "code",
   "execution_count": 89,
   "id": "c93b76a6",
   "metadata": {},
   "outputs": [
    {
     "data": {
      "text/plain": [
       "'Great NBA Teams'"
      ]
     },
     "execution_count": 89,
     "metadata": {},
     "output_type": "execute_result"
    }
   ],
   "source": [
    "list_bag[0][0]"
   ]
  },
  {
   "cell_type": "markdown",
   "id": "44b07006",
   "metadata": {},
   "source": [
    "## 時間數列(序列)變數     ts(time series)\n",
    "\n",
    "時間上序列跟一般數列不同的是他對於排序上有較嚴格的要求，<br>\n",
    "且有需要對他有分明的區間(循環) EX:春夏秋冬<br>\n",
    "\n",
    "[如何在Python建立時間序列(Python Generate Datetime Series)](https://traveldog99.blogspot.com/2019/10/pythonpython-generate-datetime-series.html)"
   ]
  },
  {
   "cell_type": "code",
   "execution_count": 90,
   "id": "a53f7f29",
   "metadata": {},
   "outputs": [
    {
     "name": "stdout",
     "output_type": "stream",
     "text": [
      "DatetimeIndex(['2019-01-01', '2019-01-02', '2019-01-03', '2019-01-04',\n",
      "               '2019-01-05'],\n",
      "              dtype='datetime64[ns]', freq='D')\n",
      "20190101\n",
      "20190102\n",
      "20190103\n",
      "20190104\n",
      "20190105\n"
     ]
    }
   ],
   "source": [
    "# 將 DatePeriod格式化成像要的格式，以及最重要的把時間由 index 改為 string\n",
    "# PS：strftime 這函式很重要，可以把時間序列從 index 變為 string !\n",
    "\n",
    "DatePeriod = pd.date_range(\"2019/1/1\", \"2019/1/5\", freq='D') \n",
    "# 設定起訖日期\n",
    "\n",
    "dp1 = DatePeriod.strftime('%Y%m%d')                          \n",
    "# <class 'pandas.core.indexes.base.Index'>\n",
    "\n",
    "print(DatePeriod)\n",
    "for Day in dp1:\n",
    "    print(Day)   \n",
    "# <class 'str'>"
   ]
  },
  {
   "cell_type": "markdown",
   "id": "331ff327",
   "metadata": {},
   "source": [
    "## formula\n",
    "\n",
    "\n",
    "主要的 statsmodels API 分為多個模型：\n",
    "\n",
    "+ statsmodels.api：橫截面模型和方法。使用 import statsmodels.api as sm\n",
    "\n",
    "+ statsmodels.tsa.api：時間序列模型和方法。使用 import statsmodels.tsa.api as tsa\n",
    "\n",
    "+ statsmodels.formula.api：使用公式字符串和 DataFrame 指定模型的便捷界面。導入 import statsmodels.formula.api as smf\n",
    "\n",
    "[statsmodels API](https://www.statsmodels.org/dev/api.html)"
   ]
  },
  {
   "cell_type": "markdown",
   "id": "64e5185c",
   "metadata": {},
   "source": [
    "## 判斷資料屬性、型態、名稱\n",
    "\n",
    "### 語法整理\n",
    "\n",
    "\n",
    "語法         |  用途         | 註解\n",
    ":-------------:|:---------------:|:--\n",
    " .shape         | 查詢維度      | \n",
    " len()      | 查詢長度  | EX : 向量、串列、字串\n",
    " type       | 查詢資料型態  |  \n",
    " .index       |查詢行(row)名稱| type 為 dataframe\n",
    " .columns    |查詢列(col)名稱| type 為 dataframe\n",
    " .describe()     | 查詢資料內容  | type 為 dataframe\n"
   ]
  },
  {
   "cell_type": "markdown",
   "id": "33dae58b",
   "metadata": {},
   "source": [
    "<hr>"
   ]
  }
 ],
 "metadata": {
  "kernelspec": {
   "display_name": "Python 3 (ipykernel)",
   "language": "python",
   "name": "python3"
  },
  "language_info": {
   "codemirror_mode": {
    "name": "ipython",
    "version": 3
   },
   "file_extension": ".py",
   "mimetype": "text/x-python",
   "name": "python",
   "nbconvert_exporter": "python",
   "pygments_lexer": "ipython3",
   "version": "3.8.8"
  }
 },
 "nbformat": 4,
 "nbformat_minor": 5
}
