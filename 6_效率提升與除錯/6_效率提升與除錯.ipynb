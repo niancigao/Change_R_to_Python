{
 "cells": [
  {
   "cell_type": "markdown",
   "id": "403ddd12",
   "metadata": {},
   "source": [
    "# 效率提升與除錯\n",
    "### 曾聖澧\n",
    "### January 19, 2023\n",
    "---"
   ]
  },
  {
   "cell_type": "code",
   "execution_count": 1,
   "id": "e3b0dd82",
   "metadata": {},
   "outputs": [],
   "source": [
    "import numpy as np                # 處理數據\n",
    "import pandas as pd               # 資料處理套件\n",
    "import time"
   ]
  },
  {
   "cell_type": "markdown",
   "id": "a538ae7b",
   "metadata": {},
   "source": [
    "# 幾個簡單的加速原則\n",
    "+ **避免重複的動作**"
   ]
  },
  {
   "cell_type": "code",
   "execution_count": 2,
   "id": "a8b75c56",
   "metadata": {},
   "outputs": [
    {
     "name": "stdout",
     "output_type": "stream",
     "text": [
      "25.0\n",
      "0.0019903182983398438\n"
     ]
    }
   ],
   "source": [
    "# 應避免的狀況 : 程式碼大量重複\n",
    "Data = np.array([20,25,24,21,12,25,27])\n",
    "\n",
    "start = time.time()\n",
    "\n",
    "x = np.array(sorted(Data, reverse=True))\n",
    "n = len(Data)\n",
    "if((n%2) == 0):\n",
    "    x = x[0:int(n/2)]\n",
    "    N = len(x)\n",
    "    if((N%2) == 0):\n",
    "        interquartile3_result = (x[int(N/2)-1] + x[int((N/2))]) / 2\n",
    "        print(interquartile3_result)\n",
    "    elif ((N%2) == 1 ):\n",
    "        interquartile3_result = x[int((N+1)/2)-1]\n",
    "        print(interquartile3_result)\n",
    "\n",
    "elif ((n%2) == 1):\n",
    "    x = x[0:int((n+1)/2)]\n",
    "    N = len(x)\n",
    "    if((N%2)== 0):\n",
    "        interquartile3_result = (x[int(N/2)-1] + x[int((N/2))]) / 2\n",
    "        print(interquartile3_result)\n",
    "        \n",
    "    elif((N%2) == 1):\n",
    "        interquartile3_result = x[int((N+1)/2)-1]\n",
    "        print(interquartile3_result)\n",
    "        \n",
    "end = time.time()\n",
    "print(format(end-start))"
   ]
  },
  {
   "cell_type": "code",
   "execution_count": 3,
   "id": "30389849",
   "metadata": {},
   "outputs": [
    {
     "name": "stdout",
     "output_type": "stream",
     "text": [
      "20.5 25.0\n",
      "0.0009970664978027344\n"
     ]
    }
   ],
   "source": [
    "# 應避免的狀況 : 相同程序重複\n",
    "start = time.time()\n",
    "\n",
    "if(len(Data) % 2 == 0):\n",
    "    x = np.median(Data[np.argsort(Data)[0:int(len(Data)/2)]])\n",
    "    y = np.median(Data[np.argsort(Data)[int(((len(Data))/2))-1:len(Data)]])\n",
    "    print(x,y)\n",
    "else :\n",
    "    x = np.median(Data[np.argsort(Data)[0:int((len(Data)+1)/2)]])\n",
    "    y = np.median(Data[np.argsort(Data)[int(((len(Data)+1)/2))-1:len(Data)]])\n",
    "    print(x,y)\n",
    "    \n",
    "end = time.time()\n",
    "print(format(end-start))"
   ]
  },
  {
   "cell_type": "markdown",
   "id": "28dd5423",
   "metadata": {},
   "source": [
    "+ **將 for 的 append 替換為 list 直接輸出**\n",
    "```\n",
    "在循環的每次迭代中我們都需要調用append，然後在循環的每次迭代中將其作為函數調用\n",
    "```\n",
    "+ 比較以下兩種作法使用的時間"
   ]
  },
  {
   "cell_type": "code",
   "execution_count": 4,
   "id": "81f76487",
   "metadata": {},
   "outputs": [
    {
     "name": "stdout",
     "output_type": "stream",
     "text": [
      "3.3226449489593506\n"
     ]
    }
   ],
   "source": [
    "### 作法 1\n",
    "start = time.time()\n",
    "\n",
    "n = 5000000\n",
    "x = []\n",
    "for i in np.arange(n): (x.append(i^2))\n",
    "    \n",
    "end = time.time()\n",
    "print(format(end-start))"
   ]
  },
  {
   "cell_type": "code",
   "execution_count": 5,
   "id": "dcfb8328",
   "metadata": {},
   "outputs": [
    {
     "name": "stdout",
     "output_type": "stream",
     "text": [
      "2.2728843688964844\n"
     ]
    }
   ],
   "source": [
    "### 作法 2\n",
    "start = time.time()\n",
    "\n",
    "n = 5000000\n",
    "x = [i^2 for i in np.arange(n)]\n",
    "    \n",
    "end = time.time()\n",
    "print(format(end-start))"
   ]
  },
  {
   "cell_type": "markdown",
   "id": "ebb1bb2a",
   "metadata": {},
   "source": [
    "+ **使用局部變數**\n",
    "\n",
    "```\n",
    "這與在每個作用域中查詢變數的速度有關，因為它不只是使用局部變數還是全局變數。實際上，即使在函數的局部變數（最快）、類級屬性（例如 self.name，較慢）和全局（例如 導入的函數，如 time.time，最慢）之間，查詢速度實際上也有所不同。\n",
    "```"
   ]
  },
  {
   "cell_type": "code",
   "execution_count": 6,
   "id": "18c7ead0",
   "metadata": {},
   "outputs": [
    {
     "name": "stdout",
     "output_type": "stream",
     "text": [
      "28.879276990890503\n"
     ]
    }
   ],
   "source": [
    "start = time.time()\n",
    "\n",
    "size = 5000\n",
    "for x in range(size):\n",
    "    for y in range(size):\n",
    "        z = x**2 + y**2\n",
    "\n",
    "end = time.time()\n",
    "print(format(end-start))"
   ]
  },
  {
   "cell_type": "markdown",
   "id": "04c6a244",
   "metadata": {},
   "source": [
    "+ 定義到函數中，以減少全局變量使用"
   ]
  },
  {
   "cell_type": "code",
   "execution_count": 7,
   "id": "d8e99380",
   "metadata": {},
   "outputs": [
    {
     "name": "stdout",
     "output_type": "stream",
     "text": [
      "23.650487661361694\n"
     ]
    }
   ],
   "source": [
    "start = time.time()\n",
    "\n",
    "def main():  \n",
    "    size = 5000\n",
    "    for x in range(size):\n",
    "        for y in range(size):\n",
    "            z = x**2 + y**2\n",
    "\n",
    "main()\n",
    "\n",
    "end = time.time()\n",
    "print(format(end-start))"
   ]
  },
  {
   "cell_type": "markdown",
   "id": "b2c8ddd1",
   "metadata": {},
   "source": [
    "+ **使用函數/相似作法，先考慮內建的/別人開發的函式**\n",
    "\n",
    "```\n",
    "這似乎違反直覺，因為調用函數會將更多的東西放到堆疊上，並從函數返回中產生開銷，但這與上一點有關。如果僅將整個程式碼放在一個文件中，而不將其放入函數中，則由於全局變數，它的運行速度會慢得多。因此，你可以透過將整個程式碼包裝在函數中，並調用一次來加速程式碼。\n",
    "```"
   ]
  },
  {
   "cell_type": "code",
   "execution_count": 8,
   "id": "79622abd",
   "metadata": {},
   "outputs": [
    {
     "name": "stdout",
     "output_type": "stream",
     "text": [
      "0.0029544830322265625\n"
     ]
    }
   ],
   "source": [
    "bigmatrix = np.array([np.arange(1,1e6+1)]).reshape((1000,1000))\n",
    "\n",
    "start = time.time()\n",
    "\n",
    "colsums = np.repeat(np.nan, (bigmatrix).shape[1])\n",
    " \n",
    "for i in np.arange(1,(bigmatrix).shape[1]+1):\n",
    "    s = 0\n",
    "for j in np.arange(1,(bigmatrix).shape[1]+1):\n",
    "    s = s + bigmatrix[j-1,i-1]\n",
    "\n",
    "colsums[i-1] = s\n",
    "\n",
    "end = time.time()\n",
    "print(format(end-start))"
   ]
  },
  {
   "cell_type": "code",
   "execution_count": 9,
   "id": "c9fcc363",
   "metadata": {},
   "outputs": [
    {
     "name": "stdout",
     "output_type": "stream",
     "text": [
      "0.0009975433349609375\n"
     ]
    }
   ],
   "source": [
    "start = time.time()\n",
    "\n",
    "colsums = bigmatrix.sum(axis=0)\n",
    "     \n",
    "end = time.time()\n",
    "print(format(end-start))"
   ]
  },
  {
   "cell_type": "markdown",
   "id": "113ef4e0",
   "metadata": {},
   "source": [
    "# 其他提高效率技巧"
   ]
  },
  {
   "cell_type": "markdown",
   "id": "03c509d5",
   "metadata": {},
   "source": [
    "+ 使用日後再遇到還能一看就懂的變數名稱\n",
    "+ 適當的註解\n",
    "+ 一致的排版\n",
    "+ 使用多個變量一起賦值\n",
    "+ 使用更省記憶體或計算量的資料結構，如 使用 matrix，會比 data.frame 更有效率\n",
    "+ 使用內置數據類型，如 str、tuple、dict...\n",
    "+ 儘可能使用足夠的記憶體\n",
    "+ 用不到的變數就刪掉 (使用 local 或函式)\n",
    "+ 好的演算法遠勝過硬體提昇\n",
    "+ 同樣的事可拆成多分(平行或分散計算)"
   ]
  },
  {
   "cell_type": "code",
   "execution_count": 10,
   "id": "33a46b24",
   "metadata": {},
   "outputs": [],
   "source": [
    "df = (np.array([np.random.normal(size=50000*4)]).reshape((50000,4)))\n",
    "\n",
    "def myfunc():\n",
    "    for i in range(50000):\n",
    "        if (sum(df[i]) > 4):\n",
    "            (\"greater_than_4\")\n",
    "        else:\n",
    "            (\"lesser_than_4\")"
   ]
  },
  {
   "cell_type": "code",
   "execution_count": 11,
   "id": "8b392537",
   "metadata": {},
   "outputs": [
    {
     "name": "stdout",
     "output_type": "stream",
     "text": [
      "0.026983261108398438\n"
     ]
    }
   ],
   "source": [
    "import threading\n",
    "\n",
    "start = time.time()\n",
    "\n",
    "t = threading.Thread(target=myfunc)\n",
    "t.start()\n",
    "\n",
    "end = time.time()\n",
    "print(format(end-start))"
   ]
  },
  {
   "cell_type": "code",
   "execution_count": 12,
   "id": "c360146e",
   "metadata": {},
   "outputs": [
    {
     "name": "stdout",
     "output_type": "stream",
     "text": [
      "0.15703344345092773\n"
     ]
    }
   ],
   "source": [
    "start = time.time()\n",
    "\n",
    "myfunc()\n",
    "\n",
    "end = time.time()\n",
    "print(format(end-start))"
   ]
  },
  {
   "cell_type": "markdown",
   "id": "76849ca2",
   "metadata": {},
   "source": [
    "+ [threading 多執行緒處理](https://steam.oxxostudio.tw/category/python/library/threading.html#a3)\n",
    "+ [9 个小技巧，加速 Python 的优化思路](https://cloud.tencent.com/developer/article/1846097)\n",
    "+ [用這 6 種方式優化程式碼，讓你的 Python 速度提升 30%！](https://buzzorange.com/techorange/2020/01/14/raise-speed-of-python/)"
   ]
  },
  {
   "cell_type": "markdown",
   "id": "00f5a8eb",
   "metadata": {},
   "source": [
    "# 除錯（debug）\n",
    "正如資料分析中有 80% 的時間花在資料前處理，寫程式的過程也很可能有 80% 花在 debug。"
   ]
  },
  {
   "cell_type": "markdown",
   "id": "2ad230ec",
   "metadata": {},
   "source": [
    "## 範例錯誤\n",
    "以下是主要教材 8.3 節的例子"
   ]
  },
  {
   "cell_type": "code",
   "execution_count": 13,
   "id": "dec88549",
   "metadata": {},
   "outputs": [],
   "source": [
    "def broken(x):\n",
    "    def broken2(x):\n",
    "        y = x * q\n",
    "        return(y)\n",
    "    y = broken2(x)\n",
    "    y2 = y**2\n",
    "    return(y2)"
   ]
  },
  {
   "cell_type": "markdown",
   "id": "3a3ff065",
   "metadata": {},
   "source": [
    "## 最傳統的 debug 工具\n",
    "直接將懷疑的部份，以 print() 輸出相關結果，看似很蠢，有時還非得這樣才找得到錯"
   ]
  },
  {
   "cell_type": "markdown",
   "id": "6fb46571",
   "metadata": {},
   "source": [
    "## debug 的好手氣"
   ]
  },
  {
   "attachments": {
    "image.png": {
     "image/png": "[encoded data removed]"
    }
   },
   "cell_type": "markdown",
   "id": "f6fe95c5",
   "metadata": {},
   "source": [
    "![image.png](attachment:image.png)"
   ]
  },
  {
   "cell_type": "markdown",
   "id": "baf8c012",
   "metadata": {},
   "source": [
    "```\n",
    "上述 Error 就是在跟你說你沒有定義 'q' 這個變數，這個例子是一個較為簡單的 Error，\n",
    "如果未來遇到看不懂的 Error，其實直接把 Error 丟到網上去搜尋，是個好方法，\n",
    "你的問題通常也會是其他人的問題，幾乎都找的到解決方法。\n",
    "```"
   ]
  },
  {
   "cell_type": "code",
   "execution_count": 14,
   "id": "62ed7dfd",
   "metadata": {},
   "outputs": [
    {
     "data": {
      "text/plain": [
       "2500"
      ]
     },
     "execution_count": 14,
     "metadata": {},
     "output_type": "execute_result"
    }
   ],
   "source": [
    "q = 10\n",
    "broken(5)"
   ]
  },
  {
   "cell_type": "markdown",
   "id": "b9cf25e2",
   "metadata": {},
   "source": [
    "##  debugger pdb\n",
    "讓你在程式執行中的某個步驟停下來，互動式地查看目前變數、相關設定狀態等。\n",
    "1. 在你懷疑出問題的地方設定中斷點\n",
    "2. 執行程式，遇到中斷點的時候停下來\n",
    "3. 透過 debugger 的指令，來觀察你想要知道的變數值，或是一步一步的執行你的程式看看問題在哪裡\n",
    "4. Bug 解決了！移除中斷點"
   ]
  },
  {
   "cell_type": "markdown",
   "id": "94d60741",
   "metadata": {},
   "source": [
    "+ **不用修改原始程式碼的作法**\n",
    "\n",
    "```python\n",
    "python -m pdb 檔案名稱.py\n",
    "```\n",
    "\n",
    "詳細執行方式 :\n",
    "+ [[Python初學起步走-Day30] - 除錯(使用pdb)](https://ithelp.ithome.com.tw/articles/10161849)"
   ]
  },
  {
   "cell_type": "markdown",
   "id": "e78ab3e5",
   "metadata": {},
   "source": [
    "+ **在需要插入中斷點的程式碼中插入 breakpoint()  (Python 3.7 之後支援)**"
   ]
  },
  {
   "cell_type": "code",
   "execution_count": 15,
   "id": "8046ef6c",
   "metadata": {},
   "outputs": [],
   "source": [
    "def my_fun(x):\n",
    "    breakpoint()\n",
    "    y = x * u\n",
    "    return(y)"
   ]
  },
  {
   "cell_type": "markdown",
   "id": "fba69855",
   "metadata": {},
   "source": [
    "+ **在需要插入中斷點的程式碼插入 import pdb;pdb.set_trace()**"
   ]
  },
  {
   "cell_type": "code",
   "execution_count": 16,
   "id": "7e48a8e5",
   "metadata": {},
   "outputs": [],
   "source": [
    "def my_fun(x):\n",
    "    import pdb;pdb.set_trace()\n",
    "    y = x * u\n",
    "    return(y)"
   ]
  },
  {
   "cell_type": "markdown",
   "id": "1332346b",
   "metadata": {},
   "source": [
    "以下是些比較常用的 pdb 指令 ：\n",
    "\n",
    "+ b : (break)，添加 breakpoint\n",
    "+ p : (print)，印出變數值\n",
    "+ l : (list)，印出目前所在 function/frame 上下 11 行的程式碼\n",
    "+ ll : (longlist)，印出目前所在 function/frame 的所有程式碼\n",
    "\n",
    "\n",
    "+ 執行指令\n",
    "    + s : (step)，執行下一行程式碼，遇到執行 function 的時候，會進入 function 當中\n",
    "    + n: (next)，執行下一行程式碼，遇到執行 function 的時候，不會進入 function 中\n",
    "    + r : (return)，執行程式直到 function return\n",
    "    + c : (continue)，持續執行程式碼直到遇到下一個中斷點\n",
    "    + unt : (until)，持續執行程式直到遇到某一行\n",
    "    \n",
    "    \n",
    "+ whatis : 印出 expression 的型別\n",
    "+ interact : 啟動一個 Python 的 interpreter\n",
    "+ w : (where)，印出 stack track 狀態\n",
    "+ q : (quit)，離開 pdb\n",
    "\n",
    "更多內容 :\n",
    "+ [pdb — The Python Debugger](https://docs.python.org/3/library/pdb.html)\n",
    "\n",
    "舉例 :"
   ]
  },
  {
   "attachments": {
    "image.png": {
     "image/png": "[encoded data removed]"
    }
   },
   "cell_type": "markdown",
   "id": "da38bf0e",
   "metadata": {},
   "source": [
    "![image.png](attachment:image.png)"
   ]
  },
  {
   "cell_type": "markdown",
   "id": "b2aca878",
   "metadata": {},
   "source": [
    "```\n",
    "執行後會出現一個框(ipdb)讓你輸入上面提到的指令，\n",
    "在此我先輸入 x，他告訴我 x = 5，\n",
    "再輸入 n 執行下一行程式碼，他告訴我，我沒定義 u 這個變數，\n",
    "我發現錯哪了，於是我最後輸入 q 離開對話框\n",
    "```"
   ]
  },
  {
   "cell_type": "markdown",
   "id": "4c0d3970",
   "metadata": {},
   "source": [
    "## try ... except ... else\n",
    "+ try ... except 用來檢測 try 語句塊中的錯誤，從而讓 except 語句捕獲異常信息並處理\n",
    "\n",
    "    + 有時我們不確定程式到底能不能執行，或是一萬次中會有幾次莫名其妙出錯，這時可以用 try 避開迴圈中斷需手動介入的窘境。\n",
    "    + 有時程式未必是有錯，只是會出現一些例外狀況，用 try/except 語句可以幫忙處理這些狀況。\n",
    "    + 如果你不想在異常發生時結束你的程序，只需在 try 裡捕獲它\n",
    "\n",
    "例如 :"
   ]
  },
  {
   "cell_type": "code",
   "execution_count": 17,
   "id": "f43b409e",
   "metadata": {
    "scrolled": true
   },
   "outputs": [
    {
     "name": "stdout",
     "output_type": "stream",
     "text": [
      "內容寫入文件成功\n"
     ]
    }
   ],
   "source": [
    "try :\n",
    "    fh = open ( \"testfile\" , \"w\" )\n",
    "    fh.write ( \"這是一個測試文件，用於測試異常!!\" )\n",
    "except IOError :\n",
    "    print(\"Error: 沒有找到文件或讀取文件失敗\")\n",
    "else :\n",
    "    print(\"內容寫入文件成功\")\n",
    "    fh.close ( )"
   ]
  },
  {
   "cell_type": "markdown",
   "id": "c829ee87",
   "metadata": {},
   "source": [
    "更詳細內容請參考此連結 :\n",
    "+ [Python 异常处理](https://www.runoob.com/python/python-exceptions.html)"
   ]
  },
  {
   "cell_type": "markdown",
   "id": "0e3ee86e",
   "metadata": {},
   "source": [
    "## debugger 進階 : ipdb\n",
    "+ ipdb 就是一個可以增強原本 pdb 功能，為 pdb 帶來跟 IPython 一樣的體驗"
   ]
  },
  {
   "cell_type": "markdown",
   "id": "8cd533d3",
   "metadata": {},
   "source": [
    "+ [python ipdb 调试代码](https://blog.csdn.net/weixin_44493841/article/details/102913265)\n",
    "\n",
    "+ [ipdb 0.13.11](https://pypi.org/project/ipdb/)\n",
    "\n",
    "+ [別再用 print 來 Debug 啦！來用 Python Debugger 吧！](https://www.icoding.co/2020/07/print-debug-python-debugger)\n",
    "\n",
    "\n",
    "更多 :\n",
    "+ [用 print 太慢了！資深工程師要知道這 5 個 debug 工具](https://buzzorange.com/techorange/2021/03/24/5-debug-tool/)"
   ]
  },
  {
   "cell_type": "markdown",
   "id": "754fd380",
   "metadata": {},
   "source": [
    "---"
   ]
  }
 ],
 "metadata": {
  "kernelspec": {
   "display_name": "Python 3 (ipykernel)",
   "language": "python",
   "name": "python3"
  },
  "language_info": {
   "codemirror_mode": {
    "name": "ipython",
    "version": 3
   },
   "file_extension": ".py",
   "mimetype": "text/x-python",
   "name": "python",
   "nbconvert_exporter": "python",
   "pygments_lexer": "ipython3",
   "version": "3.8.8"
  }
 },
 "nbformat": 4,
 "nbformat_minor": 5
}
