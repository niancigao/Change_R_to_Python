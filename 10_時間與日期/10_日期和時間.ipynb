{
 "cells": [
  {
   "cell_type": "markdown",
   "id": "fc4d0737",
   "metadata": {},
   "source": [
    "# 日期和時間\n",
    "### 黃孟婷\n",
    "**June 23, 2023**\n",
    "\n",
    "---\n",
    "\n",
    "# 簡介\n",
    "```\n",
    "本章將介紹如何使用 Python 中的日期和時間。\n",
    "雖然這是一個貼近生活的主題，但是當我們越了解卻發現這裡的問題是複雜的。\n",
    "以下三個簡單的問題讓大家思考一下：\n",
    "\n",
    "1.每年都有 365 天嗎？\n",
    "2.每天都有 24 小時嗎？\n",
    "3.每分鐘都有 60 秒嗎？\n",
    "\n",
    "大家都知道不是每年都有 365 天，但是你知道一年是否為閏年的確切規則嗎？\n",
    "有些人可能不記得世界上很多地方都使用夏令時（DST），所以有些時候一天有 23 個小時，有些則有 25 個。\n",
    "而有些人可能不知道有些時間有 61 秒因為由於地球的自轉速度逐漸減慢，所以偶爾會增加閏秒。\n",
    "```"
   ]
  },
  {
   "cell_type": "markdown",
   "id": "4cbb9bcd",
   "metadata": {},
   "source": [
    "# 套件\n",
    "本章將重點介紹 pendulum 套件，它可以更容易地處理日期和時間。<br>\n",
    "另外，我們使用 R 中 nycflights13 套件內的航班資料來作練習。"
   ]
  },
  {
   "cell_type": "code",
   "execution_count": 1,
   "id": "6aa1c093",
   "metadata": {},
   "outputs": [],
   "source": [
    "# pip install pendulum\n",
    "import pendulum\n",
    "import numpy as np\n",
    "import pandas as pd\n",
    "import math\n",
    "import matplotlib.pyplot as plt"
   ]
  },
  {
   "cell_type": "markdown",
   "id": "08c14291",
   "metadata": {},
   "source": [
    "# 產生日期/時間的方式\n",
    "```\n",
    "1.使用 datetime 模塊\n",
    "2.使用 dateutil 模塊\n",
    "3.使用 arrow 模塊\n",
    "4.使用 pendulum 模塊\n",
    "\n",
    "我們從最常見最簡單的數據類型開始介紹：\n",
    "\n",
    "要獲取當前日期或日期時間，可以使用 pendulum.today() 或 pendulum.now()。\n",
    "另外，可由 format() 結合 A 參數，判斷時間是早上或是下午：\n",
    "```"
   ]
  },
  {
   "cell_type": "code",
   "execution_count": 2,
   "id": "c94eda58",
   "metadata": {},
   "outputs": [
    {
     "name": "stdout",
     "output_type": "stream",
     "text": [
      "2023-07-05T00:00:00+08:00\n"
     ]
    }
   ],
   "source": [
    "# 當前日期\n",
    "current_date = pendulum.today()\n",
    "print(current_date)"
   ]
  },
  {
   "cell_type": "code",
   "execution_count": 3,
   "id": "e474c750",
   "metadata": {},
   "outputs": [
    {
     "name": "stdout",
     "output_type": "stream",
     "text": [
      "2023-07-05T02:13:31.888973+08:00\n"
     ]
    }
   ],
   "source": [
    "# 當前日期和時間\n",
    "current_datetime = pendulum.now()\n",
    "print(current_datetime)"
   ]
  },
  {
   "cell_type": "code",
   "execution_count": 4,
   "id": "7d53f997",
   "metadata": {},
   "outputs": [
    {
     "name": "stdout",
     "output_type": "stream",
     "text": [
      "現在是上午\n"
     ]
    }
   ],
   "source": [
    "# 格式化為 AM/PM 時間\n",
    "formatted_time = current_datetime.format('A')\n",
    "\n",
    "# 判断上午或下午\n",
    "if formatted_time == 'AM':\n",
    "    print(\"現在是上午\")\n",
    "else:\n",
    "    print(\"現在是下午\")"
   ]
  },
  {
   "cell_type": "markdown",
   "id": "75c7622c",
   "metadata": {},
   "source": [
    "建立日期/時間的三種方法：\n",
    "\n",
    "1. 從一個字串。\n",
    "2. 從個別日期時間元素。\n",
    "3. 從現有的日期/時間對象。"
   ]
  },
  {
   "cell_type": "markdown",
   "id": "78787b1a",
   "metadata": {},
   "source": [
    "## 字串\n",
    "日期/時間資料通常以字串形式出現，我們可以使用 **pendulum.parse()** 方法來解析日期字符串，並將其轉換為 Pendulum 日期對象 :"
   ]
  },
  {
   "cell_type": "code",
   "execution_count": 5,
   "id": "69402116",
   "metadata": {},
   "outputs": [
    {
     "name": "stdout",
     "output_type": "stream",
     "text": [
      "2023-06-21T10:30:00+00:00\n"
     ]
    }
   ],
   "source": [
    "# 解析字符串為日期和時間\n",
    "parsed_datetime = pendulum.parse('2023-06-21 10:30:00')\n",
    "print(parsed_datetime)"
   ]
  },
  {
   "cell_type": "code",
   "execution_count": 6,
   "id": "1154762b",
   "metadata": {},
   "outputs": [
    {
     "name": "stdout",
     "output_type": "stream",
     "text": [
      "2023-06-21\n"
     ]
    }
   ],
   "source": [
    "# 解析日期字符串並獲取日期部分\n",
    "date_str = '2023-06-21 10:30:00'\n",
    "date = pendulum.parse(date_str).date()\n",
    "\n",
    "print(date)"
   ]
  },
  {
   "cell_type": "markdown",
   "id": "4dc6f045",
   "metadata": {},
   "source": [
    "+ 設置 strict = False 來允許解析非標準格式的日期字符串"
   ]
  },
  {
   "cell_type": "code",
   "execution_count": 7,
   "id": "592277b1",
   "metadata": {},
   "outputs": [
    {
     "name": "stdout",
     "output_type": "stream",
     "text": [
      "2023-03-21T00:00:00+00:00\n"
     ]
    }
   ],
   "source": [
    "date_str = \"March 21st, 2023\"\n",
    "dt = pendulum.parse(date_str, strict=False)\n",
    "\n",
    "print(dt)"
   ]
  },
  {
   "cell_type": "code",
   "execution_count": 8,
   "id": "e5c86bfa",
   "metadata": {},
   "outputs": [
    {
     "name": "stdout",
     "output_type": "stream",
     "text": [
      "2023-03-21T00:00:00+00:00\n"
     ]
    }
   ],
   "source": [
    "date_str = \"21-Mar-2023\"\n",
    "dt = pendulum.parse(date_str, strict=False)\n",
    "\n",
    "print(dt)"
   ]
  },
  {
   "cell_type": "code",
   "execution_count": 9,
   "id": "83a5c61c",
   "metadata": {},
   "outputs": [
    {
     "name": "stdout",
     "output_type": "stream",
     "text": [
      "2023-03-21T00:00:00+00:00\n"
     ]
    }
   ],
   "source": [
    "date_str = '20230321'\n",
    "dt = pendulum.parse(date_str, strict=False)\n",
    "\n",
    "print(dt)"
   ]
  },
  {
   "cell_type": "code",
   "execution_count": 10,
   "id": "cf32d000",
   "metadata": {},
   "outputs": [
    {
     "name": "stdout",
     "output_type": "stream",
     "text": [
      "2023-03-21T00:00:00+00:00\n"
     ]
    }
   ],
   "source": [
    "date_str = '2023/03/21'\n",
    "dt = pendulum.parse(date_str, strict=False)\n",
    "\n",
    "print(dt)"
   ]
  },
  {
   "cell_type": "markdown",
   "id": "3f827f79",
   "metadata": {},
   "source": [
    "不帶引號的數字需先轉換成字串\n",
    "+ **pendulum.from_format()**"
   ]
  },
  {
   "cell_type": "code",
   "execution_count": 11,
   "id": "d511773e",
   "metadata": {},
   "outputs": [
    {
     "name": "stdout",
     "output_type": "stream",
     "text": [
      "2023-03-21T00:00:00+00:00\n"
     ]
    }
   ],
   "source": [
    "date_str = 20230321\n",
    "dt = pendulum.from_format(str(date_str), 'YYYYMMDD')\n",
    "print(dt)"
   ]
  },
  {
   "cell_type": "code",
   "execution_count": 12,
   "id": "c4f62945",
   "metadata": {},
   "outputs": [
    {
     "name": "stdout",
     "output_type": "stream",
     "text": [
      "2023-07-05T02:13:32.028751+08:00\n",
      "2023-07-05 02:13:32\n"
     ]
    }
   ],
   "source": [
    "current_datetime = pendulum.now()\n",
    "print(current_datetime)\n",
    "formatted_datetime = current_datetime.format('YYYY-MM-DD HH:mm:ss')\n",
    "print(formatted_datetime)"
   ]
  },
  {
   "cell_type": "markdown",
   "id": "6ca3915d",
   "metadata": {},
   "source": [
    "以下是一些常用的日期格式化選項：\n",
    "\n",
    "符號|\t格式\t      |範例\n",
    "----|-------------|------\n",
    "'YYYY' |表示四位數的年份|2023\n",
    "'YY' |兩位數的年份|23\n",
    "'MM' |表示兩位數的月份|01、02、03\n",
    "'M' |月份（沒有前導零)|1、2、3\n",
    "'DD' |表示兩位數的日期|01、02、03\n",
    "'D' |日期（沒有前導零)|1、2、3\n",
    "'HH' |24小時制的小時數|01、02、13、23\n",
    "'hh' |12小時制的小時數|01、02、01、11\n",
    "'mm' |分鐘數|00、01、30、59\n",
    "'ss' |秒數|00、01、30、59\n",
    "'SSS' |毫秒數|000、001、500、999"
   ]
  },
  {
   "cell_type": "markdown",
   "id": "7689962a",
   "metadata": {},
   "source": [
    "### 創建特定日期和時間\n",
    "+ pendulum.datetime()"
   ]
  },
  {
   "cell_type": "markdown",
   "id": "b194f416",
   "metadata": {},
   "source": [
    "1. 創建特定日期和時間的 Pendulum 對象"
   ]
  },
  {
   "cell_type": "code",
   "execution_count": 13,
   "id": "20ce699d",
   "metadata": {},
   "outputs": [
    {
     "name": "stdout",
     "output_type": "stream",
     "text": [
      "2023-06-01T12:30:00+00:00\n"
     ]
    }
   ],
   "source": [
    "dt = pendulum.datetime(2023, 6, 1, 12, 30, 0)  # 2023 年 6 月 1 日 12:30:00\n",
    "print(dt)"
   ]
  },
  {
   "cell_type": "markdown",
   "id": "32bcd734",
   "metadata": {},
   "source": [
    "2. 創建只有日期的 Pendulum 對象"
   ]
  },
  {
   "cell_type": "code",
   "execution_count": 14,
   "id": "26027d41",
   "metadata": {},
   "outputs": [
    {
     "name": "stdout",
     "output_type": "stream",
     "text": [
      "2023-06-01\n"
     ]
    }
   ],
   "source": [
    "date = pendulum.datetime(2023, 6, 1).date()  # 2023 年 6 月 1 日（只有日期）\n",
    "print(date)"
   ]
  },
  {
   "cell_type": "markdown",
   "id": "0eaad554",
   "metadata": {},
   "source": [
    "3. 創建只有時間的 Pendulum 對象"
   ]
  },
  {
   "cell_type": "code",
   "execution_count": 15,
   "id": "f20a22a4",
   "metadata": {},
   "outputs": [
    {
     "name": "stdout",
     "output_type": "stream",
     "text": [
      "12:30:00\n"
     ]
    }
   ],
   "source": [
    "time = pendulum.time(12, 30, 0)  # 只有時間\n",
    "print(time)"
   ]
  },
  {
   "cell_type": "markdown",
   "id": "764ccf2d",
   "metadata": {},
   "source": [
    "還可以通過提供時區強制從日期創建日期時間"
   ]
  },
  {
   "cell_type": "code",
   "execution_count": 16,
   "id": "8be73381",
   "metadata": {},
   "outputs": [
    {
     "name": "stdout",
     "output_type": "stream",
     "text": [
      "2023-06-21T00:00:00-04:00\n"
     ]
    }
   ],
   "source": [
    "now = pendulum.datetime(2023, 6, 21, tz=\"America/New_York\")  # 使用紐約時區創建日期和時間對象\n",
    "print(now)"
   ]
  },
  {
   "cell_type": "code",
   "execution_count": 17,
   "id": "3a47dabb",
   "metadata": {},
   "outputs": [
    {
     "name": "stdout",
     "output_type": "stream",
     "text": [
      "2023-06-21T00:00:00+00:00\n"
     ]
    }
   ],
   "source": [
    "now = pendulum.datetime(2023, 6, 21, tz=\"UTC\") \n",
    "print(now)"
   ]
  },
  {
   "cell_type": "markdown",
   "id": "b851824c",
   "metadata": {},
   "source": [
    "常見時區 :\n",
    "+ 紐約時區：\"America/New_York\"\n",
    "+ 倫敦時區：\"Europe/London\"\n",
    "+ 東京時區：\"Asia/Tokyo\"\n",
    "+ 北京時區：\"Asia/Shanghai\"\n",
    "+ 悉尼時區：\"Australia/Sydney\"\n",
    "+ 協調世界時（Coordinated Universal Time）的標準時區 : \"UTC\""
   ]
  },
  {
   "cell_type": "markdown",
   "id": "a80023db",
   "metadata": {},
   "source": [
    "## 從個別日期時間元素\n",
    "有時候，散落在各行的元素可相結合，並創造一個日期時間。以下我們討論航班資料的例子：\n",
    "\n",
    "首先，看一下資料的樣貌和變數"
   ]
  },
  {
   "cell_type": "code",
   "execution_count": 18,
   "id": "ed2ca5eb",
   "metadata": {},
   "outputs": [
    {
     "data": {
      "text/html": [
       "<div>\n",
       "<style scoped>\n",
       "    .dataframe tbody tr th:only-of-type {\n",
       "        vertical-align: middle;\n",
       "    }\n",
       "\n",
       "    .dataframe tbody tr th {\n",
       "        vertical-align: top;\n",
       "    }\n",
       "\n",
       "    .dataframe thead th {\n",
       "        text-align: right;\n",
       "    }\n",
       "</style>\n",
       "<table border=\"1\" class=\"dataframe\">\n",
       "  <thead>\n",
       "    <tr style=\"text-align: right;\">\n",
       "      <th></th>\n",
       "      <th>year</th>\n",
       "      <th>month</th>\n",
       "      <th>day</th>\n",
       "      <th>dep_time</th>\n",
       "      <th>sched_dep_time</th>\n",
       "      <th>dep_delay</th>\n",
       "      <th>arr_time</th>\n",
       "      <th>sched_arr_time</th>\n",
       "      <th>arr_delay</th>\n",
       "      <th>carrier</th>\n",
       "      <th>flight</th>\n",
       "      <th>tailnum</th>\n",
       "      <th>origin</th>\n",
       "      <th>dest</th>\n",
       "      <th>air_time</th>\n",
       "      <th>distance</th>\n",
       "      <th>hour</th>\n",
       "      <th>minute</th>\n",
       "      <th>time_hour</th>\n",
       "    </tr>\n",
       "  </thead>\n",
       "  <tbody>\n",
       "    <tr>\n",
       "      <th>0</th>\n",
       "      <td>2013</td>\n",
       "      <td>1</td>\n",
       "      <td>1</td>\n",
       "      <td>517.0</td>\n",
       "      <td>515</td>\n",
       "      <td>2.0</td>\n",
       "      <td>830.0</td>\n",
       "      <td>819</td>\n",
       "      <td>11.0</td>\n",
       "      <td>UA</td>\n",
       "      <td>1545</td>\n",
       "      <td>N14228</td>\n",
       "      <td>EWR</td>\n",
       "      <td>IAH</td>\n",
       "      <td>227.0</td>\n",
       "      <td>1400</td>\n",
       "      <td>5</td>\n",
       "      <td>15</td>\n",
       "      <td>2013-01-01 05:00:00</td>\n",
       "    </tr>\n",
       "    <tr>\n",
       "      <th>1</th>\n",
       "      <td>2013</td>\n",
       "      <td>1</td>\n",
       "      <td>1</td>\n",
       "      <td>533.0</td>\n",
       "      <td>529</td>\n",
       "      <td>4.0</td>\n",
       "      <td>850.0</td>\n",
       "      <td>830</td>\n",
       "      <td>20.0</td>\n",
       "      <td>UA</td>\n",
       "      <td>1714</td>\n",
       "      <td>N24211</td>\n",
       "      <td>LGA</td>\n",
       "      <td>IAH</td>\n",
       "      <td>227.0</td>\n",
       "      <td>1416</td>\n",
       "      <td>5</td>\n",
       "      <td>29</td>\n",
       "      <td>2013-01-01 05:00:00</td>\n",
       "    </tr>\n",
       "    <tr>\n",
       "      <th>2</th>\n",
       "      <td>2013</td>\n",
       "      <td>1</td>\n",
       "      <td>1</td>\n",
       "      <td>542.0</td>\n",
       "      <td>540</td>\n",
       "      <td>2.0</td>\n",
       "      <td>923.0</td>\n",
       "      <td>850</td>\n",
       "      <td>33.0</td>\n",
       "      <td>AA</td>\n",
       "      <td>1141</td>\n",
       "      <td>N619AA</td>\n",
       "      <td>JFK</td>\n",
       "      <td>MIA</td>\n",
       "      <td>160.0</td>\n",
       "      <td>1089</td>\n",
       "      <td>5</td>\n",
       "      <td>40</td>\n",
       "      <td>2013-01-01 05:00:00</td>\n",
       "    </tr>\n",
       "    <tr>\n",
       "      <th>3</th>\n",
       "      <td>2013</td>\n",
       "      <td>1</td>\n",
       "      <td>1</td>\n",
       "      <td>544.0</td>\n",
       "      <td>545</td>\n",
       "      <td>-1.0</td>\n",
       "      <td>1004.0</td>\n",
       "      <td>1022</td>\n",
       "      <td>-18.0</td>\n",
       "      <td>B6</td>\n",
       "      <td>725</td>\n",
       "      <td>N804JB</td>\n",
       "      <td>JFK</td>\n",
       "      <td>BQN</td>\n",
       "      <td>183.0</td>\n",
       "      <td>1576</td>\n",
       "      <td>5</td>\n",
       "      <td>45</td>\n",
       "      <td>2013-01-01 05:00:00</td>\n",
       "    </tr>\n",
       "    <tr>\n",
       "      <th>4</th>\n",
       "      <td>2013</td>\n",
       "      <td>1</td>\n",
       "      <td>1</td>\n",
       "      <td>554.0</td>\n",
       "      <td>600</td>\n",
       "      <td>-6.0</td>\n",
       "      <td>812.0</td>\n",
       "      <td>837</td>\n",
       "      <td>-25.0</td>\n",
       "      <td>DL</td>\n",
       "      <td>461</td>\n",
       "      <td>N668DN</td>\n",
       "      <td>LGA</td>\n",
       "      <td>ATL</td>\n",
       "      <td>116.0</td>\n",
       "      <td>762</td>\n",
       "      <td>6</td>\n",
       "      <td>0</td>\n",
       "      <td>2013-01-01 06:00:00</td>\n",
       "    </tr>\n",
       "  </tbody>\n",
       "</table>\n",
       "</div>"
      ],
      "text/plain": [
       "   year  month  day  dep_time  sched_dep_time  dep_delay  arr_time  \\\n",
       "0  2013      1    1     517.0             515        2.0     830.0   \n",
       "1  2013      1    1     533.0             529        4.0     850.0   \n",
       "2  2013      1    1     542.0             540        2.0     923.0   \n",
       "3  2013      1    1     544.0             545       -1.0    1004.0   \n",
       "4  2013      1    1     554.0             600       -6.0     812.0   \n",
       "\n",
       "   sched_arr_time  arr_delay carrier  flight tailnum origin dest  air_time  \\\n",
       "0             819       11.0      UA    1545  N14228    EWR  IAH     227.0   \n",
       "1             830       20.0      UA    1714  N24211    LGA  IAH     227.0   \n",
       "2             850       33.0      AA    1141  N619AA    JFK  MIA     160.0   \n",
       "3            1022      -18.0      B6     725  N804JB    JFK  BQN     183.0   \n",
       "4             837      -25.0      DL     461  N668DN    LGA  ATL     116.0   \n",
       "\n",
       "   distance  hour  minute            time_hour  \n",
       "0      1400     5      15  2013-01-01 05:00:00  \n",
       "1      1416     5      29  2013-01-01 05:00:00  \n",
       "2      1089     5      40  2013-01-01 05:00:00  \n",
       "3      1576     5      45  2013-01-01 05:00:00  \n",
       "4       762     6       0  2013-01-01 06:00:00  "
      ]
     },
     "execution_count": 18,
     "metadata": {},
     "output_type": "execute_result"
    }
   ],
   "source": [
    "flights = pd.read_csv(r\"C:\\Users\\user\\Desktop\\R 改 python\\10_時間與日期\\flights_data.csv\")\n",
    "flights.head()"
   ]
  },
  {
   "cell_type": "markdown",
   "id": "fb13c1a5",
   "metadata": {},
   "source": [
    "要從此類創建日期/時間，請使用 pd.to_datetime() 創建日期時間："
   ]
  },
  {
   "cell_type": "code",
   "execution_count": 19,
   "id": "7cdedd7c",
   "metadata": {},
   "outputs": [
    {
     "data": {
      "text/html": [
       "<div>\n",
       "<style scoped>\n",
       "    .dataframe tbody tr th:only-of-type {\n",
       "        vertical-align: middle;\n",
       "    }\n",
       "\n",
       "    .dataframe tbody tr th {\n",
       "        vertical-align: top;\n",
       "    }\n",
       "\n",
       "    .dataframe thead th {\n",
       "        text-align: right;\n",
       "    }\n",
       "</style>\n",
       "<table border=\"1\" class=\"dataframe\">\n",
       "  <thead>\n",
       "    <tr style=\"text-align: right;\">\n",
       "      <th></th>\n",
       "      <th>year</th>\n",
       "      <th>month</th>\n",
       "      <th>day</th>\n",
       "      <th>hour</th>\n",
       "      <th>minute</th>\n",
       "      <th>departure</th>\n",
       "    </tr>\n",
       "  </thead>\n",
       "  <tbody>\n",
       "    <tr>\n",
       "      <th>0</th>\n",
       "      <td>2013</td>\n",
       "      <td>1</td>\n",
       "      <td>1</td>\n",
       "      <td>5</td>\n",
       "      <td>15</td>\n",
       "      <td>2013-01-01 05:15:00</td>\n",
       "    </tr>\n",
       "    <tr>\n",
       "      <th>1</th>\n",
       "      <td>2013</td>\n",
       "      <td>1</td>\n",
       "      <td>1</td>\n",
       "      <td>5</td>\n",
       "      <td>29</td>\n",
       "      <td>2013-01-01 05:29:00</td>\n",
       "    </tr>\n",
       "    <tr>\n",
       "      <th>2</th>\n",
       "      <td>2013</td>\n",
       "      <td>1</td>\n",
       "      <td>1</td>\n",
       "      <td>5</td>\n",
       "      <td>40</td>\n",
       "      <td>2013-01-01 05:40:00</td>\n",
       "    </tr>\n",
       "    <tr>\n",
       "      <th>3</th>\n",
       "      <td>2013</td>\n",
       "      <td>1</td>\n",
       "      <td>1</td>\n",
       "      <td>5</td>\n",
       "      <td>45</td>\n",
       "      <td>2013-01-01 05:45:00</td>\n",
       "    </tr>\n",
       "    <tr>\n",
       "      <th>4</th>\n",
       "      <td>2013</td>\n",
       "      <td>1</td>\n",
       "      <td>1</td>\n",
       "      <td>6</td>\n",
       "      <td>0</td>\n",
       "      <td>2013-01-01 06:00:00</td>\n",
       "    </tr>\n",
       "  </tbody>\n",
       "</table>\n",
       "</div>"
      ],
      "text/plain": [
       "   year  month  day  hour  minute           departure\n",
       "0  2013      1    1     5      15 2013-01-01 05:15:00\n",
       "1  2013      1    1     5      29 2013-01-01 05:29:00\n",
       "2  2013      1    1     5      40 2013-01-01 05:40:00\n",
       "3  2013      1    1     5      45 2013-01-01 05:45:00\n",
       "4  2013      1    1     6       0 2013-01-01 06:00:00"
      ]
     },
     "execution_count": 19,
     "metadata": {},
     "output_type": "execute_result"
    }
   ],
   "source": [
    "flights_datetime = flights[['year', 'month', 'day', 'hour', 'minute']].copy()\n",
    "flights_datetime['departure'] = pd.to_datetime(flights_datetime)\n",
    "flights_datetime.head()"
   ]
  },
  {
   "cell_type": "markdown",
   "id": "2d628298",
   "metadata": {},
   "source": [
    "```\n",
    "由於 dep_time, sched_dep_time, arr_time, sched_arr_time 等的原始表示方式是三或四位數字，\n",
    "最後兩位代表分鐘，我們在 make_datetime_100 函式中先將小時與分鐘切開，才進行轉換。\n",
    "```"
   ]
  },
  {
   "cell_type": "markdown",
   "id": "8d1f69ea",
   "metadata": {},
   "source": [
    "提醒 :\n",
    "1. // : 整數除法 ; % : 餘數除法\n",
    "2. 在 flights.dropna 函數中我們輸入要篩選的資料框\n",
    "3. col.endswith : 選擇結尾是 delay 或 time 的變數"
   ]
  },
  {
   "cell_type": "code",
   "execution_count": 20,
   "id": "028487e8",
   "metadata": {
    "scrolled": false
   },
   "outputs": [
    {
     "name": "stderr",
     "output_type": "stream",
     "text": [
      "C:\\Users\\user\\AppData\\Local\\Temp\\ipykernel_16152\\2811225223.py:15: SettingWithCopyWarning: \n",
      "A value is trying to be set on a copy of a slice from a DataFrame.\n",
      "Try using .loc[row_indexer,col_indexer] = value instead\n",
      "\n",
      "See the caveats in the documentation: https://pandas.pydata.org/pandas-docs/stable/user_guide/indexing.html#returning-a-view-versus-a-copy\n",
      "  flights_filtered.loc[:, 'dep_time'] = flights_filtered.apply(lambda row: make_datetime_100(row['year'], row['month'], row['day'], row['dep_time']), axis=1)\n",
      "C:\\Users\\user\\AppData\\Local\\Temp\\ipykernel_16152\\2811225223.py:16: SettingWithCopyWarning: \n",
      "A value is trying to be set on a copy of a slice from a DataFrame.\n",
      "Try using .loc[row_indexer,col_indexer] = value instead\n",
      "\n",
      "See the caveats in the documentation: https://pandas.pydata.org/pandas-docs/stable/user_guide/indexing.html#returning-a-view-versus-a-copy\n",
      "  flights_filtered.loc[:, 'arr_time'] = flights_filtered.apply(lambda row: make_datetime_100(row['year'], row['month'], row['day'], row['arr_time']), axis=1)\n",
      "C:\\Users\\user\\AppData\\Local\\Temp\\ipykernel_16152\\2811225223.py:17: SettingWithCopyWarning: \n",
      "A value is trying to be set on a copy of a slice from a DataFrame.\n",
      "Try using .loc[row_indexer,col_indexer] = value instead\n",
      "\n",
      "See the caveats in the documentation: https://pandas.pydata.org/pandas-docs/stable/user_guide/indexing.html#returning-a-view-versus-a-copy\n",
      "  flights_filtered.loc[:, 'sched_dep_time'] = flights_filtered.apply(lambda row: make_datetime_100(row['year'], row['month'], row['day'], row['sched_dep_time']), axis=1)\n",
      "C:\\Users\\user\\AppData\\Local\\Temp\\ipykernel_16152\\2811225223.py:18: SettingWithCopyWarning: \n",
      "A value is trying to be set on a copy of a slice from a DataFrame.\n",
      "Try using .loc[row_indexer,col_indexer] = value instead\n",
      "\n",
      "See the caveats in the documentation: https://pandas.pydata.org/pandas-docs/stable/user_guide/indexing.html#returning-a-view-versus-a-copy\n",
      "  flights_filtered.loc[:, 'sched_arr_time'] = flights_filtered.apply(lambda row: make_datetime_100(row['year'], row['month'], row['day'], row['sched_arr_time']), axis=1)\n"
     ]
    }
   ],
   "source": [
    "def make_datetime_100(year, month, day, time):\n",
    "    if math.isnan(time):\n",
    "        return None\n",
    "    time_parts = str(int(time)).zfill(4)\n",
    "    hour = int(time_parts[:2])\n",
    "    minute = int(time_parts[2:])\n",
    "    if hour >= 24:\n",
    "        hour = hour % 24\n",
    "    return pendulum.datetime(year, month, day, hour, minute)\n",
    "\n",
    "# 過濾缺失值\n",
    "flights_filtered = flights.dropna(subset=['dep_time', 'arr_time'])\n",
    "\n",
    "# 對時間列進行變換\n",
    "flights_filtered.loc[:, 'dep_time'] = flights_filtered.apply(lambda row: make_datetime_100(row['year'], row['month'], row['day'], row['dep_time']), axis=1)\n",
    "flights_filtered.loc[:, 'arr_time'] = flights_filtered.apply(lambda row: make_datetime_100(row['year'], row['month'], row['day'], row['arr_time']), axis=1)\n",
    "flights_filtered.loc[:, 'sched_dep_time'] = flights_filtered.apply(lambda row: make_datetime_100(row['year'], row['month'], row['day'], row['sched_dep_time']), axis=1)\n",
    "flights_filtered.loc[:, 'sched_arr_time'] = flights_filtered.apply(lambda row: make_datetime_100(row['year'], row['month'], row['day'], row['sched_arr_time']), axis=1)\n",
    "\n",
    "# 選擇特定的列\n",
    "selected_columns = ['origin', 'dest'] + [col for col in flights_filtered.columns if col.endswith('delay')] + [col for col in flights_filtered.columns if col.endswith('time')]\n",
    "flights_dt = flights_filtered[selected_columns]"
   ]
  },
  {
   "cell_type": "markdown",
   "id": "c8702712",
   "metadata": {},
   "source": [
    "有了這些數據，我們可以看到全年的出發時間分佈："
   ]
  },
  {
   "cell_type": "code",
   "execution_count": 21,
   "id": "91e593ac",
   "metadata": {},
   "outputs": [
    {
     "data": {
      "text/html": [
       "<div>\n",
       "<style scoped>\n",
       "    .dataframe tbody tr th:only-of-type {\n",
       "        vertical-align: middle;\n",
       "    }\n",
       "\n",
       "    .dataframe tbody tr th {\n",
       "        vertical-align: top;\n",
       "    }\n",
       "\n",
       "    .dataframe thead th {\n",
       "        text-align: right;\n",
       "    }\n",
       "</style>\n",
       "<table border=\"1\" class=\"dataframe\">\n",
       "  <thead>\n",
       "    <tr style=\"text-align: right;\">\n",
       "      <th></th>\n",
       "      <th>origin</th>\n",
       "      <th>dest</th>\n",
       "      <th>dep_delay</th>\n",
       "      <th>arr_delay</th>\n",
       "      <th>dep_time</th>\n",
       "      <th>sched_dep_time</th>\n",
       "      <th>arr_time</th>\n",
       "      <th>sched_arr_time</th>\n",
       "      <th>air_time</th>\n",
       "    </tr>\n",
       "  </thead>\n",
       "  <tbody>\n",
       "    <tr>\n",
       "      <th>0</th>\n",
       "      <td>EWR</td>\n",
       "      <td>IAH</td>\n",
       "      <td>2.0</td>\n",
       "      <td>11.0</td>\n",
       "      <td>2013-01-01 05:17:00+00:00</td>\n",
       "      <td>2013-01-01 05:15:00+00:00</td>\n",
       "      <td>2013-01-01 08:30:00+00:00</td>\n",
       "      <td>2013-01-01 08:19:00+00:00</td>\n",
       "      <td>227.0</td>\n",
       "    </tr>\n",
       "    <tr>\n",
       "      <th>1</th>\n",
       "      <td>LGA</td>\n",
       "      <td>IAH</td>\n",
       "      <td>4.0</td>\n",
       "      <td>20.0</td>\n",
       "      <td>2013-01-01 05:33:00+00:00</td>\n",
       "      <td>2013-01-01 05:29:00+00:00</td>\n",
       "      <td>2013-01-01 08:50:00+00:00</td>\n",
       "      <td>2013-01-01 08:30:00+00:00</td>\n",
       "      <td>227.0</td>\n",
       "    </tr>\n",
       "    <tr>\n",
       "      <th>2</th>\n",
       "      <td>JFK</td>\n",
       "      <td>MIA</td>\n",
       "      <td>2.0</td>\n",
       "      <td>33.0</td>\n",
       "      <td>2013-01-01 05:42:00+00:00</td>\n",
       "      <td>2013-01-01 05:40:00+00:00</td>\n",
       "      <td>2013-01-01 09:23:00+00:00</td>\n",
       "      <td>2013-01-01 08:50:00+00:00</td>\n",
       "      <td>160.0</td>\n",
       "    </tr>\n",
       "    <tr>\n",
       "      <th>3</th>\n",
       "      <td>JFK</td>\n",
       "      <td>BQN</td>\n",
       "      <td>-1.0</td>\n",
       "      <td>-18.0</td>\n",
       "      <td>2013-01-01 05:44:00+00:00</td>\n",
       "      <td>2013-01-01 05:45:00+00:00</td>\n",
       "      <td>2013-01-01 10:04:00+00:00</td>\n",
       "      <td>2013-01-01 10:22:00+00:00</td>\n",
       "      <td>183.0</td>\n",
       "    </tr>\n",
       "    <tr>\n",
       "      <th>4</th>\n",
       "      <td>LGA</td>\n",
       "      <td>ATL</td>\n",
       "      <td>-6.0</td>\n",
       "      <td>-25.0</td>\n",
       "      <td>2013-01-01 05:54:00+00:00</td>\n",
       "      <td>2013-01-01 06:00:00+00:00</td>\n",
       "      <td>2013-01-01 08:12:00+00:00</td>\n",
       "      <td>2013-01-01 08:37:00+00:00</td>\n",
       "      <td>116.0</td>\n",
       "    </tr>\n",
       "  </tbody>\n",
       "</table>\n",
       "</div>"
      ],
      "text/plain": [
       "  origin dest  dep_delay  arr_delay                  dep_time  \\\n",
       "0    EWR  IAH        2.0       11.0 2013-01-01 05:17:00+00:00   \n",
       "1    LGA  IAH        4.0       20.0 2013-01-01 05:33:00+00:00   \n",
       "2    JFK  MIA        2.0       33.0 2013-01-01 05:42:00+00:00   \n",
       "3    JFK  BQN       -1.0      -18.0 2013-01-01 05:44:00+00:00   \n",
       "4    LGA  ATL       -6.0      -25.0 2013-01-01 05:54:00+00:00   \n",
       "\n",
       "             sched_dep_time                  arr_time  \\\n",
       "0 2013-01-01 05:15:00+00:00 2013-01-01 08:30:00+00:00   \n",
       "1 2013-01-01 05:29:00+00:00 2013-01-01 08:50:00+00:00   \n",
       "2 2013-01-01 05:40:00+00:00 2013-01-01 09:23:00+00:00   \n",
       "3 2013-01-01 05:45:00+00:00 2013-01-01 10:04:00+00:00   \n",
       "4 2013-01-01 06:00:00+00:00 2013-01-01 08:12:00+00:00   \n",
       "\n",
       "             sched_arr_time  air_time  \n",
       "0 2013-01-01 08:19:00+00:00     227.0  \n",
       "1 2013-01-01 08:30:00+00:00     227.0  \n",
       "2 2013-01-01 08:50:00+00:00     160.0  \n",
       "3 2013-01-01 10:22:00+00:00     183.0  \n",
       "4 2013-01-01 08:37:00+00:00     116.0  "
      ]
     },
     "execution_count": 21,
     "metadata": {},
     "output_type": "execute_result"
    }
   ],
   "source": [
    "flights_dt.head()"
   ]
  },
  {
   "cell_type": "code",
   "execution_count": 22,
   "id": "69179ae0",
   "metadata": {},
   "outputs": [
    {
     "name": "stderr",
     "output_type": "stream",
     "text": [
      "C:\\Users\\user\\AppData\\Local\\Temp\\ipykernel_16152\\2045802781.py:2: SettingWithCopyWarning: \n",
      "A value is trying to be set on a copy of a slice from a DataFrame.\n",
      "Try using .loc[row_indexer,col_indexer] = value instead\n",
      "\n",
      "See the caveats in the documentation: https://pandas.pydata.org/pandas-docs/stable/user_guide/indexing.html#returning-a-view-versus-a-copy\n",
      "  flights_dt['departure'] = flights_dt['dep_time'].dt.date\n"
     ]
    },
    {
     "data": {
      "image/png": "[encoded data removed]",
      "text/plain": [
       "<Figure size 640x480 with 1 Axes>"
      ]
     },
     "metadata": {},
     "output_type": "display_data"
    }
   ],
   "source": [
    "# 創日期列\n",
    "flights_dt['departure'] = flights_dt['dep_time'].dt.date\n",
    "\n",
    "#統計每日航班數\n",
    "freq = flights_dt.groupby('departure').size().reset_index(name='count')\n",
    "\n",
    "# 繪製折線圖\n",
    "plt.plot(freq['departure'], freq['count'])\n",
    "plt.title('Number of daily flights in 2013')\n",
    "plt.xlabel('date')\n",
    "plt.ylabel('number of flights')\n",
    "plt.show()"
   ]
  },
  {
   "cell_type": "markdown",
   "id": "d8cb98e3",
   "metadata": {},
   "source": [
    "或者在一天之內 (下圖顯示 2013/01/01 的航班)："
   ]
  },
  {
   "cell_type": "code",
   "execution_count": 23,
   "id": "f078cf63",
   "metadata": {},
   "outputs": [
    {
     "name": "stderr",
     "output_type": "stream",
     "text": [
      "C:\\Users\\user\\AppData\\Local\\Temp\\ipykernel_16152\\1315205826.py:1: FutureWarning: Comparison of Timestamp with datetime.date is deprecated in order to match the standard library behavior. In a future version these will be considered non-comparable. Use 'ts == pd.Timestamp(date)' or 'ts.date() == date' instead.\n",
      "  flight0101 = flights_dt[flights_dt['departure'] < pd.to_datetime('2013-01-02')].copy()\n"
     ]
    },
    {
     "data": {
      "image/png": "[encoded data removed]",
      "text/plain": [
       "<Figure size 640x480 with 1 Axes>"
      ]
     },
     "metadata": {},
     "output_type": "display_data"
    }
   ],
   "source": [
    "flight0101 = flights_dt[flights_dt['departure'] < pd.to_datetime('2013-01-02')].copy()\n",
    "flight0101['freq_hour'] = flight0101['dep_time'].dt.hour\n",
    "\n",
    "# Count flights for each hour\n",
    "flight_counts = flight0101['freq_hour'].value_counts().sort_index()\n",
    "\n",
    "# Plot line graph\n",
    "plt.plot(flight_counts.index, flight_counts.values)\n",
    "plt.xlabel('Hour')\n",
    "plt.ylabel('number of flights')\n",
    "plt.title('2013-01-01 Number of flights departing each hour')\n",
    "plt.show()"
   ]
  },
  {
   "cell_type": "markdown",
   "id": "ab92f7ee",
   "metadata": {},
   "source": [
    "## 來自其他類型\n",
    "使用者可能希望在日期時間和日期之間做轉換。這就是 .time() 和 .date() 的工作："
   ]
  },
  {
   "cell_type": "code",
   "execution_count": 24,
   "id": "edc6a463",
   "metadata": {},
   "outputs": [
    {
     "name": "stdout",
     "output_type": "stream",
     "text": [
      "2023-07-05T00:00:00+08:00\n"
     ]
    }
   ],
   "source": [
    "# 當前日期\n",
    "current_date = pendulum.today()\n",
    "print(current_date)"
   ]
  },
  {
   "cell_type": "code",
   "execution_count": 25,
   "id": "a502cef2",
   "metadata": {},
   "outputs": [
    {
     "name": "stdout",
     "output_type": "stream",
     "text": [
      "2023-07-05T02:14:09.346390+08:00\n"
     ]
    }
   ],
   "source": [
    "# 當前日期和時間\n",
    "current_datetime = pendulum.now()\n",
    "print(current_datetime)"
   ]
  },
  {
   "cell_type": "code",
   "execution_count": 26,
   "id": "929b7e07",
   "metadata": {},
   "outputs": [
    {
     "name": "stdout",
     "output_type": "stream",
     "text": [
      "00:00:00\n"
     ]
    }
   ],
   "source": [
    "print(current_date.time())"
   ]
  },
  {
   "cell_type": "code",
   "execution_count": 27,
   "id": "2c9fddfe",
   "metadata": {},
   "outputs": [
    {
     "name": "stdout",
     "output_type": "stream",
     "text": [
      "2023\n"
     ]
    }
   ],
   "source": [
    "print(current_datetime.year)"
   ]
  },
  {
   "cell_type": "code",
   "execution_count": 28,
   "id": "445bc662",
   "metadata": {},
   "outputs": [
    {
     "name": "stdout",
     "output_type": "stream",
     "text": [
      "2023-07-05\n"
     ]
    }
   ],
   "source": [
    "print(current_datetime.date())"
   ]
  },
  {
   "cell_type": "code",
   "execution_count": 29,
   "id": "8ac12f53",
   "metadata": {},
   "outputs": [
    {
     "name": "stdout",
     "output_type": "stream",
     "text": [
      "02:14:09.346390\n"
     ]
    }
   ],
   "source": [
    "print(current_datetime.time())"
   ]
  },
  {
   "cell_type": "markdown",
   "id": "fe4f9b26",
   "metadata": {},
   "source": [
    "+ 換算時間"
   ]
  },
  {
   "cell_type": "code",
   "execution_count": 30,
   "id": "16175103",
   "metadata": {},
   "outputs": [
    {
     "name": "stdout",
     "output_type": "stream",
     "text": [
      "10 hours\n",
      "10\n"
     ]
    }
   ],
   "source": [
    "# 將秒數轉換為 pendulum.Duration 對象\n",
    "duration = pendulum.Duration(seconds=60 * 60 * 10)\n",
    "\n",
    "# 輸出: <Duration [0 years, 0 months, 0 days, 10 hours, 0 minutes, 0 seconds]>\n",
    "print(duration)\n",
    "\n",
    "# 可以訪問 duration 對象的屬性\n",
    "print(duration.hours)  "
   ]
  },
  {
   "cell_type": "markdown",
   "id": "d2185adc",
   "metadata": {},
   "source": [
    "+ 計算日期間隔"
   ]
  },
  {
   "cell_type": "code",
   "execution_count": 31,
   "id": "9e6bd815",
   "metadata": {},
   "outputs": [
    {
     "name": "stdout",
     "output_type": "stream",
     "text": [
      "2013-07-05T02:14:09.440443+08:00\n"
     ]
    }
   ],
   "source": [
    "duration = pendulum.Duration(days=365) * 10 + pendulum.Duration(days=2)\n",
    "\n",
    "# 應用日期間隔到當前日期\n",
    "date = pendulum.now() - duration\n",
    "print(date)  # 10 年 2 天前的日期"
   ]
  },
  {
   "cell_type": "code",
   "execution_count": 32,
   "id": "b7e9ba10",
   "metadata": {},
   "outputs": [
    {
     "name": "stdout",
     "output_type": "stream",
     "text": [
      "3652\n"
     ]
    }
   ],
   "source": [
    "# 可以訪問 duration 對象的屬性\n",
    "print(duration.in_days()) "
   ]
  },
  {
   "cell_type": "markdown",
   "id": "1001702e",
   "metadata": {},
   "source": [
    "有時使用者會從 1970-01-01 的 “Unix Epoch” 獲得數字移動的日期/時間。<br>\n",
    "移動量以秒為單位，請使用 from_timestamp()\n",
    "+ 註：UNIX 是從 UTC 時間 1970 年 01 月 01 日 0 時 0 分 0 秒至今，不考慮閏秒"
   ]
  },
  {
   "cell_type": "code",
   "execution_count": 33,
   "id": "64afa0ec",
   "metadata": {},
   "outputs": [
    {
     "name": "stdout",
     "output_type": "stream",
     "text": [
      "1970-01-01T10:00:00+00:00\n"
     ]
    }
   ],
   "source": [
    "# Unix時間\n",
    "timestamp = 60 * 60 * 10\n",
    "\n",
    "# 使用 from_timestamp() 方法將時間轉換為日期/時間\n",
    "dt = pendulum.from_timestamp(timestamp)\n",
    "print(dt)"
   ]
  },
  {
   "cell_type": "code",
   "execution_count": 34,
   "id": "2d5336cc",
   "metadata": {},
   "outputs": [
    {
     "name": "stdout",
     "output_type": "stream",
     "text": [
      "1980-01-01T00:00:00+00:00\n"
     ]
    }
   ],
   "source": [
    "timestamp = 0\n",
    "dt = pendulum.from_timestamp(timestamp)\n",
    "\n",
    "# 添加 365*10+2 天\n",
    "dt_plus_days = dt.add(days=365*10+2)\n",
    "print(dt_plus_days)"
   ]
  },
  {
   "cell_type": "markdown",
   "id": "fb67fb9a",
   "metadata": {},
   "source": [
    "# 日期時間元素\n",
    "本節將介紹取得或設置各個元素的功能。 下一節將介紹算術如何使用日期時間。"
   ]
  },
  {
   "cell_type": "markdown",
   "id": "d88e2cc5",
   "metadata": {},
   "source": [
    "## 取得元素\n",
    "取得日期的各個部分與存取函數 :\n",
    "\n",
    "+ 年份：year\n",
    "+ 月份：month\n",
    "+ 日期（一個月的第幾天）：day\n",
    "+ 一年中的第幾天：day_of_year\n",
    "+ 星期幾（一周的第幾天，星期一是第一天）：day_of_week\n",
    "+ 小時：hour\n",
    "+ 分鐘：minute\n",
    "+ 秒：second"
   ]
  },
  {
   "cell_type": "code",
   "execution_count": 35,
   "id": "acc01708",
   "metadata": {},
   "outputs": [
    {
     "name": "stdout",
     "output_type": "stream",
     "text": [
      "2023-06-21T10:30:56+00:00\n"
     ]
    }
   ],
   "source": [
    "dt = pendulum.parse('2023-06-21 10:30:56')\n",
    "print(dt)"
   ]
  },
  {
   "cell_type": "code",
   "execution_count": 36,
   "id": "2e2e951f",
   "metadata": {},
   "outputs": [
    {
     "name": "stdout",
     "output_type": "stream",
     "text": [
      "2023\n",
      "6\n",
      "21\n",
      "10\n",
      "30\n",
      "56\n",
      "172\n",
      "3\n"
     ]
    }
   ],
   "source": [
    "print(dt.year)             # 年份\n",
    "print(dt.month)            # 月份\n",
    "print(dt.day)              # 日期\n",
    "print(dt.hour)             # 小時\n",
    "print(dt.minute)           # 分鐘\n",
    "print(dt.second)           # 秒\n",
    "print(dt.day_of_year)      # 一年中的第幾天\n",
    "print(dt.day_of_week)      # 星期幾（一周的第幾天，星期一是第一天）"
   ]
  },
  {
   "cell_type": "markdown",
   "id": "4ce6fbe7",
   "metadata": {},
   "source": [
    "+ 季度（一季的第幾天，一至三月是第一季度，以此類推）: 在 Pendulum 庫中，沒有直接提供獲取季度中的第幾天的方法"
   ]
  },
  {
   "cell_type": "code",
   "execution_count": 37,
   "id": "ce7522b1",
   "metadata": {},
   "outputs": [
    {
     "name": "stdout",
     "output_type": "stream",
     "text": [
      "82\n"
     ]
    }
   ],
   "source": [
    "year = dt.year\n",
    "month = dt.month\n",
    "day = dt.day\n",
    "\n",
    "# 獲取季度\n",
    "quarter = (month - 1) // 3 + 1\n",
    "\n",
    "# 獲取一季度的第幾天\n",
    "start_of_quarter = pendulum.datetime(year, (quarter - 1) * 3 + 1, 1)\n",
    "days_in_quarter = (dt - start_of_quarter).days + 1\n",
    "print(days_in_quarter)"
   ]
  },
  {
   "cell_type": "markdown",
   "id": "cc69f6e2",
   "metadata": {},
   "source": [
    ".format() 可以設置 'MMM'、'ddd' 等，指的是回傳月份或星期幾的縮寫名稱。設置 'MMMM'、'dddd' 為回傳全名。"
   ]
  },
  {
   "cell_type": "code",
   "execution_count": 38,
   "id": "195b163c",
   "metadata": {},
   "outputs": [
    {
     "name": "stdout",
     "output_type": "stream",
     "text": [
      "Jun June Wed Wednesday\n"
     ]
    }
   ],
   "source": [
    "month_m = dt.format('MMM')\n",
    "month_abbr = dt.format('MMMM')\n",
    "\n",
    "wday_d = dt.format('ddd')\n",
    "wday_abbr = dt.format('dddd')\n",
    "\n",
    "print(month_m, month_abbr, wday_d, wday_abbr)"
   ]
  },
  {
   "cell_type": "code",
   "execution_count": 39,
   "id": "ec14fafa",
   "metadata": {},
   "outputs": [
    {
     "name": "stdout",
     "output_type": "stream",
     "text": [
      "['Saturday', 'Sunday', 'Monday', 'Tuesday', 'Wednesday', 'Thursday', 'Friday']\n"
     ]
    }
   ],
   "source": [
    "# 前 4 天到後 2 天的日期\n",
    "date_list = [dt.add(days=i) for i in range(-4, 3)]\n",
    "\n",
    "# 帶有星期幾標籤的日期列表\n",
    "wday_list = [dt.format('dddd') for dt in date_list]\n",
    "print(wday_list)"
   ]
  },
  {
   "cell_type": "markdown",
   "id": "b9878898",
   "metadata": {},
   "source": [
    "我們可以看到航班在工作日起飛數量："
   ]
  },
  {
   "cell_type": "code",
   "execution_count": 40,
   "id": "d6f0295d",
   "metadata": {},
   "outputs": [
    {
     "name": "stderr",
     "output_type": "stream",
     "text": [
      "C:\\Users\\user\\AppData\\Local\\Temp\\ipykernel_16152\\57086093.py:2: SettingWithCopyWarning: \n",
      "A value is trying to be set on a copy of a slice from a DataFrame.\n",
      "Try using .loc[row_indexer,col_indexer] = value instead\n",
      "\n",
      "See the caveats in the documentation: https://pandas.pydata.org/pandas-docs/stable/user_guide/indexing.html#returning-a-view-versus-a-copy\n",
      "  flights_dt['dep_time'] = pd.to_datetime(flights_dt['dep_time'])\n",
      "C:\\Users\\user\\AppData\\Local\\Temp\\ipykernel_16152\\57086093.py:5: SettingWithCopyWarning: \n",
      "A value is trying to be set on a copy of a slice from a DataFrame.\n",
      "Try using .loc[row_indexer,col_indexer] = value instead\n",
      "\n",
      "See the caveats in the documentation: https://pandas.pydata.org/pandas-docs/stable/user_guide/indexing.html#returning-a-view-versus-a-copy\n",
      "  flights_dt['wday'] = flights_dt['dep_time'].dt.day_name()\n"
     ]
    },
    {
     "data": {
      "image/png": "[encoded data removed]",
      "text/plain": [
       "<Figure size 640x480 with 1 Axes>"
      ]
     },
     "metadata": {},
     "output_type": "display_data"
    }
   ],
   "source": [
    "# 將 dep_time 轉換為 Pendulum DateTime 對象\n",
    "flights_dt['dep_time'] = pd.to_datetime(flights_dt['dep_time'])\n",
    "\n",
    "# 獲取每天的星期幾\n",
    "flights_dt['wday'] = flights_dt['dep_time'].dt.day_name()\n",
    "\n",
    "# 統計每個星期幾的起飛數\n",
    "flights_by_weekday = flights_dt['wday'].value_counts()\n",
    "\n",
    "# 繪製柱狀圖\n",
    "plt.bar(flights_by_weekday.index, flights_by_weekday.values)\n",
    "plt.xlabel('Week')\n",
    "plt.ylabel('Number of takeoffs')\n",
    "plt.title('Daily departures')\n",
    "plt.show()"
   ]
  },
  {
   "cell_type": "markdown",
   "id": "fdfc7951",
   "metadata": {},
   "source": [
    "## 捨入(Rounding)\n",
    "產生時間元素的另一種方法是使用 .start_of(\"\") <br>\n",
    "用於將 DateTime 對象的時間部分重置為特定時間單位的開始。\n",
    "+ 'year'（年）\n",
    "+ 'month'（月）\n",
    "+ 'week'（周）\n",
    "+ 'day'（日）\n",
    "+ 'hour'（小时）\n",
    "+ 'minute'（分钟）\n",
    "+ 'second'（秒）"
   ]
  },
  {
   "cell_type": "code",
   "execution_count": 41,
   "id": "d3f106f7",
   "metadata": {},
   "outputs": [
    {
     "name": "stdout",
     "output_type": "stream",
     "text": [
      "2023-07-01T10:00:00+00:00\n",
      "2023-06-26T00:00:00+00:00\n",
      "2023-07-01T11:01:00+00:00\n",
      "2023-07-02T00:00:00+00:00\n",
      "2023-08-01T00:00:00+00:00\n"
     ]
    }
   ],
   "source": [
    "# 創建一個 Pendulum DateTime 對象\n",
    "dt = pendulum.datetime(2023, 7, 1, 10, 31)\n",
    "\n",
    "# 將時間設置為小時開始，因此分鐘和秒將設置為零 : Floor \n",
    "floor_dt = dt.start_of('hour')\n",
    "print(floor_dt)\n",
    "\n",
    "floor_dt = dt.start_of('week')\n",
    "print(floor_dt)\n",
    "\n",
    "# 模擬 round 方法\n",
    "round_dt = dt.start_of('minute').add(minutes=30)\n",
    "print(round_dt)  \n",
    "\n",
    "# 模擬 ceil 方法\n",
    "ceil_dt = dt.start_of('day').add(days=1)\n",
    "print(ceil_dt)\n",
    "\n",
    "ceil_dt = dt.start_of('month').add(months=1)\n",
    "print(ceil_dt)"
   ]
  },
  {
   "cell_type": "markdown",
   "id": "11805c1b",
   "metadata": {},
   "source": [
    "2013-01-01 那天每小時內有多少飛機起飛 ?"
   ]
  },
  {
   "cell_type": "code",
   "execution_count": 42,
   "id": "94f43f73",
   "metadata": {},
   "outputs": [
    {
     "name": "stderr",
     "output_type": "stream",
     "text": [
      "C:\\Users\\user\\AppData\\Local\\Temp\\ipykernel_16152\\1454428816.py:1: FutureWarning: Comparison of Timestamp with datetime.date is deprecated in order to match the standard library behavior. In a future version these will be considered non-comparable. Use 'ts == pd.Timestamp(date)' or 'ts.date() == date' instead.\n",
      "  flight_count = flights_dt[flights_dt['departure'] < pd.to_datetime('2013-01-02')].copy()\n"
     ]
    },
    {
     "data": {
      "image/png": "[encoded data removed]",
      "text/plain": [
       "<Figure size 1000x600 with 1 Axes>"
      ]
     },
     "metadata": {},
     "output_type": "display_data"
    }
   ],
   "source": [
    "flight_count = flights_dt[flights_dt['departure'] < pd.to_datetime('2013-01-02')].copy()\n",
    "\n",
    "# 從 dep_time 中提取小時並創建一個名為“hour”的新列\n",
    "# pendulum.instance() 將 Pandas 的 Timestamp 對象轉換為 Pendulum 對象\n",
    "flight_count['hour'] = flight_count['dep_time'].apply(lambda x: pendulum.instance(x, tz='UTC').hour)\n",
    "\n",
    "flight_count = flight_count[['hour']]\n",
    "\n",
    "plt.figure(figsize=(10, 6))\n",
    "flight_count['hour'].value_counts().sort_index().plot(kind='bar')\n",
    "plt.xlabel('hour')\n",
    "plt.ylabel('number of flights')\n",
    "plt.title('2013-01-01 Number of flights departing each hour')\n",
    "plt.show()"
   ]
  },
  {
   "cell_type": "code",
   "execution_count": 43,
   "id": "a5a0f459",
   "metadata": {},
   "outputs": [
    {
     "name": "stderr",
     "output_type": "stream",
     "text": [
      "C:\\Users\\user\\AppData\\Local\\Temp\\ipykernel_16152\\785138377.py:1: FutureWarning: Comparison of Timestamp with datetime.date is deprecated in order to match the standard library behavior. In a future version these will be considered non-comparable. Use 'ts == pd.Timestamp(date)' or 'ts.date() == date' instead.\n",
      "  flight0101 = flights_dt[flights_dt['departure'] < pd.to_datetime('2013-01-02')].copy()\n"
     ]
    },
    {
     "data": {
      "image/png": "[encoded data removed]",
      "text/plain": [
       "<Figure size 1000x600 with 1 Axes>"
      ]
     },
     "metadata": {},
     "output_type": "display_data"
    }
   ],
   "source": [
    "flight0101 = flights_dt[flights_dt['departure'] < pd.to_datetime('2013-01-02')].copy()\n",
    "flight0101['freq_hour'] = flight0101['dep_time'].dt.hour\n",
    "\n",
    "# Count flights for each hour\n",
    "flight_counts = flight0101['freq_hour'].value_counts().sort_index()\n",
    "\n",
    "plt.figure(figsize=(10, 6))\n",
    "flight_count['hour'].value_counts().sort_index().plot(kind='bar')\n",
    "plt.xlabel('hour')\n",
    "plt.ylabel('number of flights')\n",
    "plt.title('2013-01-01 Number of flights departing each hour')\n",
    "plt.show()"
   ]
  },
  {
   "cell_type": "markdown",
   "id": "1802a334",
   "metadata": {},
   "source": [
    "## 設定時間元素\n",
    "設定或更新日期/時間的元素："
   ]
  },
  {
   "cell_type": "code",
   "execution_count": 44,
   "id": "cad390f9",
   "metadata": {},
   "outputs": [
    {
     "name": "stdout",
     "output_type": "stream",
     "text": [
      "2023-01-08T13:35:56+00:00\n"
     ]
    }
   ],
   "source": [
    "datetime = pendulum.parse(\"2017-07-08 12:35:56\")\n",
    "\n",
    "datetime = datetime.set(year=2023)\n",
    "datetime = datetime.set(month=1)\n",
    "datetime = datetime.add(hours=1)\n",
    "print(datetime)"
   ]
  },
  {
   "cell_type": "markdown",
   "id": "47a92f90",
   "metadata": {},
   "source": [
    "利用 .replace() 一次更新多個元素"
   ]
  },
  {
   "cell_type": "code",
   "execution_count": 45,
   "id": "914460b7",
   "metadata": {},
   "outputs": [
    {
     "name": "stdout",
     "output_type": "stream",
     "text": [
      "2024-02-02T02:35:56+00:00\n"
     ]
    }
   ],
   "source": [
    "datetime = datetime.replace(year=2024, month=2, day=2, hour=2)\n",
    "print(datetime)"
   ]
  },
  {
   "cell_type": "code",
   "execution_count": 46,
   "id": "cbe98125",
   "metadata": {},
   "outputs": [
    {
     "name": "stdout",
     "output_type": "stream",
     "text": [
      "2015-03-03T00:00:00+00:00\n"
     ]
    }
   ],
   "source": [
    "date = pendulum.parse(\"2015-02-01\")\n",
    "date = date.add(days=30)\n",
    "print(date)"
   ]
  },
  {
   "cell_type": "code",
   "execution_count": 47,
   "id": "dbd2c63b",
   "metadata": {},
   "outputs": [
    {
     "name": "stdout",
     "output_type": "stream",
     "text": [
      "2015-02-17T16:00:00+00:00\n"
     ]
    }
   ],
   "source": [
    "datetime = pendulum.parse(\"2015-02-01\")\n",
    "datetime = datetime.add(hours=400)\n",
    "print(datetime)"
   ]
  },
  {
   "cell_type": "markdown",
   "id": "5e5510ca",
   "metadata": {},
   "source": [
    "可顯示一年中 24 小時的航班分佈"
   ]
  },
  {
   "cell_type": "code",
   "execution_count": 48,
   "id": "c903f835",
   "metadata": {},
   "outputs": [
    {
     "name": "stderr",
     "output_type": "stream",
     "text": [
      "C:\\Users\\user\\AppData\\Local\\Temp\\ipykernel_16152\\2323884962.py:2: SettingWithCopyWarning: \n",
      "A value is trying to be set on a copy of a slice from a DataFrame.\n",
      "Try using .loc[row_indexer,col_indexer] = value instead\n",
      "\n",
      "See the caveats in the documentation: https://pandas.pydata.org/pandas-docs/stable/user_guide/indexing.html#returning-a-view-versus-a-copy\n",
      "  flights_dt['dep_time'] = pd.to_datetime(flights_dt['dep_time'])\n"
     ]
    },
    {
     "data": {
      "image/png": "[encoded data removed]",
      "text/plain": [
       "<Figure size 1000x600 with 1 Axes>"
      ]
     },
     "metadata": {},
     "output_type": "display_data"
    }
   ],
   "source": [
    "# 將 dep_time 列轉換為datetime類型\n",
    "flights_dt['dep_time'] = pd.to_datetime(flights_dt['dep_time'])\n",
    "\n",
    "# 篩選 2013 年的航班\n",
    "flights_2013 = flights_dt[flights_dt['dep_time'].dt.year == 2013]\n",
    "\n",
    "# 從 dep_time 中提取小時\n",
    "flights_2013['hour'] = flights_2013['dep_time'].dt.hour\n",
    "\n",
    "# 統計每小時的航班數量\n",
    "flight_count = flights_2013['hour'].value_counts().sort_index()\n",
    "\n",
    "# 按小時繪製航班數\n",
    "plt.figure(figsize=(10, 6))\n",
    "flight_count.sort_index().plot(kind='bar')\n",
    "plt.xlabel('hour')\n",
    "plt.ylabel('accumulated number of flights')\n",
    "plt.title('Accumulated Number of Flights Departing by Hour in 2013')\n",
    "plt.show()"
   ]
  },
  {
   "cell_type": "markdown",
   "id": "a1ab2d86",
   "metadata": {},
   "source": [
    "# 時間間隔(Time spans)\n",
    "接下來，我們將了解日期算法的工作原理，包括減法，加法和除法。在此過程中討論三種代表時間間隔的方式：\n",
    "1. 持續時間(duration)，表示精確的秒數。\n",
    "2. 時期(period)，代表人會使用的單位，如週和月。\n",
    "3. 間隔(interval)，代表起點和終點。"
   ]
  },
  {
   "cell_type": "markdown",
   "id": "2b397f61",
   "metadata": {},
   "source": [
    "## 持續時間(duration)"
   ]
  },
  {
   "cell_type": "markdown",
   "id": "9e5e686b",
   "metadata": {},
   "source": [
    "欲知 Emily 今年幾歲 ？"
   ]
  },
  {
   "cell_type": "code",
   "execution_count": 49,
   "id": "bb1e81b4",
   "metadata": {},
   "outputs": [
    {
     "name": "stdout",
     "output_type": "stream",
     "text": [
      "26\n"
     ]
    }
   ],
   "source": [
    "birth_date = pendulum.datetime(1996, 10, 14)\n",
    "today = pendulum.today()\n",
    "age = today.diff(birth_date).in_years()\n",
    "print(age)"
   ]
  },
  {
   "cell_type": "code",
   "execution_count": 50,
   "id": "d3c9f270",
   "metadata": {},
   "outputs": [
    {
     "name": "stdout",
     "output_type": "stream",
     "text": [
      "9760\n"
     ]
    }
   ],
   "source": [
    "birth_date = pendulum.datetime(1996, 10, 14)\n",
    "today = pendulum.today()\n",
    "age = today.diff(birth_date).in_days()\n",
    "print(age)"
   ]
  },
  {
   "cell_type": "code",
   "execution_count": 51,
   "id": "33681892",
   "metadata": {},
   "outputs": [
    {
     "data": {
      "text/plain": [
       "843235200"
      ]
     },
     "execution_count": 51,
     "metadata": {},
     "output_type": "execute_result"
    }
   ],
   "source": [
    "today.diff(birth_date).in_seconds()"
   ]
  },
  {
   "cell_type": "code",
   "execution_count": 52,
   "id": "7766bab0",
   "metadata": {},
   "outputs": [
    {
     "data": {
      "text/plain": [
       "14053920"
      ]
     },
     "execution_count": 52,
     "metadata": {},
     "output_type": "execute_result"
    }
   ],
   "source": [
    "today.diff(birth_date).in_minutes()"
   ]
  },
  {
   "cell_type": "code",
   "execution_count": 53,
   "id": "9a6811c8",
   "metadata": {},
   "outputs": [
    {
     "data": {
      "text/plain": [
       "234232"
      ]
     },
     "execution_count": 53,
     "metadata": {},
     "output_type": "execute_result"
    }
   ],
   "source": [
    "today.diff(birth_date).in_hours()"
   ]
  },
  {
   "cell_type": "code",
   "execution_count": 54,
   "id": "793e943c",
   "metadata": {},
   "outputs": [
    {
     "data": {
      "text/plain": [
       "1394"
      ]
     },
     "execution_count": 54,
     "metadata": {},
     "output_type": "execute_result"
    }
   ],
   "source": [
    "today.diff(birth_date).in_weeks()"
   ]
  },
  {
   "cell_type": "markdown",
   "id": "2cf7ab86",
   "metadata": {},
   "source": [
    "持續時間可以相加和相乘："
   ]
  },
  {
   "cell_type": "code",
   "execution_count": 55,
   "id": "356e1deb",
   "metadata": {},
   "outputs": [
    {
     "data": {
      "text/plain": [
       "29280"
      ]
     },
     "execution_count": 55,
     "metadata": {},
     "output_type": "execute_result"
    }
   ],
   "source": [
    "3 * age"
   ]
  },
  {
   "cell_type": "code",
   "execution_count": 56,
   "id": "fde31ad5",
   "metadata": {},
   "outputs": [
    {
     "data": {
      "text/plain": [
       "29280"
      ]
     },
     "execution_count": 56,
     "metadata": {},
     "output_type": "execute_result"
    }
   ],
   "source": [
    "age + age + age"
   ]
  },
  {
   "cell_type": "code",
   "execution_count": 57,
   "id": "4861b9e1",
   "metadata": {},
   "outputs": [
    {
     "name": "stdout",
     "output_type": "stream",
     "text": [
      "2023-07-06T00:00:00+08:00\n",
      "2023-07-04T00:00:00+08:00\n"
     ]
    }
   ],
   "source": [
    "today = pendulum.today()\n",
    "tomorrow = today.add(days=1)\n",
    "last_year = today.add(days=-1)\n",
    "print(tomorrow)\n",
    "print(last_year)"
   ]
  },
  {
   "cell_type": "markdown",
   "id": "d9f02a03",
   "metadata": {},
   "source": [
    "tz 代表的是時區，“America/New_York” 代表美國紐約時間，“Asia/Taipei” 代表台灣時間。詳見後面章節。"
   ]
  },
  {
   "cell_type": "code",
   "execution_count": 58,
   "id": "eedf3ccc",
   "metadata": {},
   "outputs": [
    {
     "name": "stdout",
     "output_type": "stream",
     "text": [
      "2016-03-13T13:00:00-04:00\n"
     ]
    }
   ],
   "source": [
    "one_pm_NY = pendulum.datetime(2016, 3, 12, 13, 0, 0, tz=\"America/New_York\")\n",
    "tomorrow_NY = one_pm_NY.add(days=1)\n",
    "print(tomorrow_NY)"
   ]
  },
  {
   "cell_type": "markdown",
   "id": "4123b003",
   "metadata": {},
   "source": [
    "+ 如果是夏令時，我們將時間再向後調整一個小時"
   ]
  },
  {
   "cell_type": "code",
   "execution_count": 59,
   "id": "df167366",
   "metadata": {},
   "outputs": [
    {
     "name": "stdout",
     "output_type": "stream",
     "text": [
      "2016-03-13T14:00:00-04:00\n"
     ]
    }
   ],
   "source": [
    "one_pm_NY = pendulum.datetime(2016, 3, 12, 13, 0, 0, tz=\"America/New_York\")\n",
    "tomorrow_NY = one_pm_NY.add(days=1)\n",
    "\n",
    "# 考慮夏令時調整的情況\n",
    "if tomorrow_NY.is_dst():\n",
    "    tomorrow_NY = tomorrow_NY.add(hours=1)\n",
    "\n",
    "print(tomorrow_NY)"
   ]
  },
  {
   "cell_type": "code",
   "execution_count": 60,
   "id": "926f8c5b",
   "metadata": {},
   "outputs": [
    {
     "name": "stdout",
     "output_type": "stream",
     "text": [
      "2016-03-13T13:00:00-04:00\n"
     ]
    }
   ],
   "source": [
    "one_pm_TW = pendulum.datetime(2016, 3, 12, 13, 0, 0, tz=\"America/New_York\")\n",
    "tomorrow_TW = one_pm_TW.add(days=1)\n",
    "print(tomorrow_TW)"
   ]
  },
  {
   "cell_type": "markdown",
   "id": "5504c41b",
   "metadata": {},
   "source": [
    "```\n",
    "為什麼美國的時間 3 月 13 日下午 1 點的一天後，會變成 3 月 13 日下午 2 點？！\n",
    "如果仔細查看日期，應該會注意到時區已更改。由於該時區 DST(夏日節約時間，Daylight Savings Time)，\n",
    "3 月 12 日只有 23 個小時，所以如果我們加上一整天的秒數，我們就會得到不同的時間。\n",
    "```"
   ]
  },
  {
   "cell_type": "markdown",
   "id": "eb8d5652",
   "metadata": {},
   "source": [
    "# 時期(period)\n",
    "在 Pendulum 中，\"時期\"（Period）是指表示時間跨度的對象。它可以表示一段時間，例如幾分鐘、幾天、幾個月或幾年。\n",
    "\n",
    "你可以使用 pendulum.Duration() 方法創建一個時間跨度："
   ]
  },
  {
   "cell_type": "code",
   "execution_count": 61,
   "id": "c0e888db",
   "metadata": {},
   "outputs": [
    {
     "name": "stdout",
     "output_type": "stream",
     "text": [
      "5 days 3 hours 30 minutes\n"
     ]
    }
   ],
   "source": [
    "duration = pendulum.Duration(days=5, hours=3, minutes=30)\n",
    "print(duration)"
   ]
  },
  {
   "cell_type": "markdown",
   "id": "1266a374",
   "metadata": {},
   "source": [
    "Duration 對象是可變的，可以與 Datetime 對象進行加法和減法操作"
   ]
  },
  {
   "cell_type": "code",
   "execution_count": 62,
   "id": "8527db02",
   "metadata": {},
   "outputs": [
    {
     "name": "stdout",
     "output_type": "stream",
     "text": [
      "5 days 5 hours 30 minutes\n",
      "5 days 1 hour 30 minutes\n",
      "7 weeks 1 day 15 hours\n",
      "1.0\n"
     ]
    }
   ],
   "source": [
    "period1 = pendulum.Duration(days=5, hours=3, minutes=30)\n",
    "period2 = pendulum.Duration(hours=2)\n",
    "\n",
    "# 加法\n",
    "result = period1 + period2\n",
    "print(result)  # 输出: P5DT5H30M\n",
    "\n",
    "# 减法\n",
    "result = period1 - period2\n",
    "print(result) \n",
    "\n",
    "# 乘法\n",
    "print(10 * (period1 - period2))\n",
    "\n",
    "# 除法\n",
    "duration = pendulum.duration(years=1)\n",
    "days_in_seconds = pendulum.duration(days=365).in_seconds()\n",
    "result = duration.in_seconds() / days_in_seconds\n",
    "print(result)"
   ]
  },
  {
   "cell_type": "markdown",
   "id": "99168acc",
   "metadata": {},
   "source": [
    "**提醒 : 2016 年為閏年**"
   ]
  },
  {
   "cell_type": "code",
   "execution_count": 63,
   "id": "d6b25b93",
   "metadata": {},
   "outputs": [
    {
     "name": "stdout",
     "output_type": "stream",
     "text": [
      "2017-01-01T00:00:00+00:00\n"
     ]
    }
   ],
   "source": [
    "date = pendulum.parse(\"2016-01-01\")\n",
    "new_date = date.add(years=1)\n",
    "print(new_date)"
   ]
  },
  {
   "cell_type": "markdown",
   "id": "ae111dca",
   "metadata": {},
   "source": [
    "+ 一年的時間間隔，可以使用 relativedelta 函數"
   ]
  },
  {
   "cell_type": "code",
   "execution_count": 64,
   "id": "8d1452f3",
   "metadata": {},
   "outputs": [
    {
     "name": "stdout",
     "output_type": "stream",
     "text": [
      "2017-01-01T00:00:00+00:00\n"
     ]
    }
   ],
   "source": [
    "from dateutil.relativedelta import relativedelta\n",
    "import datetime\n",
    "\n",
    "delta = relativedelta(years=1)\n",
    "print(delta + date)"
   ]
  },
  {
   "cell_type": "markdown",
   "id": "3e5fb834",
   "metadata": {},
   "source": [
    "+ 一年的時間跨度，可以使用 datetime.timedelta 來表示"
   ]
  },
  {
   "cell_type": "code",
   "execution_count": 65,
   "id": "7cf9f6a8",
   "metadata": {},
   "outputs": [
    {
     "name": "stdout",
     "output_type": "stream",
     "text": [
      "2016-12-31T00:00:00+00:00\n"
     ]
    }
   ],
   "source": [
    "import datetime\n",
    "\n",
    "delta = datetime.timedelta(days=365)\n",
    "print(delta + date)"
   ]
  },
  {
   "cell_type": "markdown",
   "id": "7d7384d3",
   "metadata": {},
   "source": [
    "relativedelta 的優點是它可以處理閏年的情況，而使用 datetime.timedelta 表示一年的時間跨度時是一個近似值"
   ]
  },
  {
   "cell_type": "markdown",
   "id": "48fe93e1",
   "metadata": {},
   "source": [
    "將任何間隔轉換為特定的時期 : .in_months()"
   ]
  },
  {
   "cell_type": "code",
   "execution_count": 66,
   "id": "fdd94bd4",
   "metadata": {},
   "outputs": [
    {
     "name": "stdout",
     "output_type": "stream",
     "text": [
      "1\n",
      "13\n",
      "398\n",
      "9553\n"
     ]
    }
   ],
   "source": [
    "start_date = pendulum.parse(\"2016-01-01\")\n",
    "end_date = pendulum.parse(\"2017-02-02 01:01:01\")\n",
    "\n",
    "leap = end_date.diff(start_date)\n",
    "years = leap.in_years()\n",
    "\n",
    "print(years)\n",
    "print(leap.in_months())\n",
    "print(leap.in_days())\n",
    "print(leap.in_hours())"
   ]
  },
  {
   "cell_type": "markdown",
   "id": "29f0b186",
   "metadata": {},
   "source": [
    "構造時期可使用以下函數："
   ]
  },
  {
   "cell_type": "markdown",
   "id": "8e48568b",
   "metadata": {},
   "source": [
    "+ in_words() 方法將其轉換為可讀的字符串表示形式"
   ]
  },
  {
   "cell_type": "code",
   "execution_count": 67,
   "id": "b88963e4",
   "metadata": {},
   "outputs": [
    {
     "name": "stdout",
     "output_type": "stream",
     "text": [
      "<Period [2016-01-01T00:00:00+00:00 -> 2017-02-02T01:01:01+00:00]>\n",
      "1 year 1 month 1 day 1 hour 1 minute 1 second\n"
     ]
    }
   ],
   "source": [
    "duration = end_date - start_date \n",
    "period = duration.in_words(locale=\"en\")\n",
    "print(duration)\n",
    "print(period)"
   ]
  },
  {
   "cell_type": "markdown",
   "id": "ee1e71b1",
   "metadata": {},
   "source": [
    "+ pendulum.duration()"
   ]
  },
  {
   "cell_type": "code",
   "execution_count": 68,
   "id": "4077dda7",
   "metadata": {},
   "outputs": [
    {
     "name": "stdout",
     "output_type": "stream",
     "text": [
      "15 seconds\n"
     ]
    }
   ],
   "source": [
    "duration = pendulum.duration(seconds=15)\n",
    "print(duration)"
   ]
  },
  {
   "cell_type": "code",
   "execution_count": 69,
   "id": "0605bd79",
   "metadata": {},
   "outputs": [
    {
     "name": "stdout",
     "output_type": "stream",
     "text": [
      "10 minutes\n"
     ]
    }
   ],
   "source": [
    "duration = pendulum.duration(minutes=10)\n",
    "print(duration)"
   ]
  },
  {
   "cell_type": "code",
   "execution_count": 70,
   "id": "c652ffd8",
   "metadata": {},
   "outputs": [
    {
     "name": "stdout",
     "output_type": "stream",
     "text": [
      "12 hours\n"
     ]
    }
   ],
   "source": [
    "duration = pendulum.duration(hours=12)\n",
    "print(duration)"
   ]
  },
  {
   "cell_type": "code",
   "execution_count": 71,
   "id": "2e950b2c",
   "metadata": {},
   "outputs": [
    {
     "name": "stdout",
     "output_type": "stream",
     "text": [
      "1 week\n"
     ]
    }
   ],
   "source": [
    "duration = pendulum.duration(days=7)\n",
    "print(duration)"
   ]
  },
  {
   "cell_type": "code",
   "execution_count": 72,
   "id": "1570fbdb",
   "metadata": {},
   "outputs": [
    {
     "name": "stdout",
     "output_type": "stream",
     "text": [
      "3 weeks\n"
     ]
    }
   ],
   "source": [
    "duration = pendulum.duration(weeks=3)\n",
    "print(duration)"
   ]
  },
  {
   "cell_type": "code",
   "execution_count": 73,
   "id": "c59cc446",
   "metadata": {},
   "outputs": [
    {
     "name": "stdout",
     "output_type": "stream",
     "text": [
      "5 months\n"
     ]
    }
   ],
   "source": [
    "duration = pendulum.duration(months=5)\n",
    "print(duration)"
   ]
  },
  {
   "cell_type": "code",
   "execution_count": 74,
   "id": "8be3e27a",
   "metadata": {},
   "outputs": [
    {
     "name": "stdout",
     "output_type": "stream",
     "text": [
      "2 years\n"
     ]
    }
   ],
   "source": [
    "duration = pendulum.duration(years=2)\n",
    "print(duration)"
   ]
  },
  {
   "cell_type": "markdown",
   "id": "d285b3f5",
   "metadata": {},
   "source": [
    "以下的例子顯示有些飛機在離開紐約市之前似乎已到達目的地。我們將使用時期更正航班日期相關的奇怪現象。"
   ]
  },
  {
   "cell_type": "code",
   "execution_count": 75,
   "id": "c7fdbae5",
   "metadata": {},
   "outputs": [
    {
     "data": {
      "text/html": [
       "<div>\n",
       "<style scoped>\n",
       "    .dataframe tbody tr th:only-of-type {\n",
       "        vertical-align: middle;\n",
       "    }\n",
       "\n",
       "    .dataframe tbody tr th {\n",
       "        vertical-align: top;\n",
       "    }\n",
       "\n",
       "    .dataframe thead th {\n",
       "        text-align: right;\n",
       "    }\n",
       "</style>\n",
       "<table border=\"1\" class=\"dataframe\">\n",
       "  <thead>\n",
       "    <tr style=\"text-align: right;\">\n",
       "      <th></th>\n",
       "      <th>origin</th>\n",
       "      <th>dest</th>\n",
       "      <th>dep_delay</th>\n",
       "      <th>arr_delay</th>\n",
       "      <th>dep_time</th>\n",
       "      <th>sched_dep_time</th>\n",
       "      <th>arr_time</th>\n",
       "      <th>sched_arr_time</th>\n",
       "      <th>air_time</th>\n",
       "      <th>departure</th>\n",
       "      <th>wday</th>\n",
       "    </tr>\n",
       "  </thead>\n",
       "  <tbody>\n",
       "    <tr>\n",
       "      <th>719</th>\n",
       "      <td>EWR</td>\n",
       "      <td>BQN</td>\n",
       "      <td>9.0</td>\n",
       "      <td>-4.0</td>\n",
       "      <td>2013-01-01 19:29:00+00:00</td>\n",
       "      <td>2013-01-01 19:20:00+00:00</td>\n",
       "      <td>2013-01-01 00:03:00+00:00</td>\n",
       "      <td>2013-01-01 00:07:00+00:00</td>\n",
       "      <td>192.0</td>\n",
       "      <td>2013-01-01</td>\n",
       "      <td>Tuesday</td>\n",
       "    </tr>\n",
       "    <tr>\n",
       "      <th>725</th>\n",
       "      <td>JFK</td>\n",
       "      <td>DFW</td>\n",
       "      <td>59.0</td>\n",
       "      <td>NaN</td>\n",
       "      <td>2013-01-01 19:39:00+00:00</td>\n",
       "      <td>2013-01-01 18:40:00+00:00</td>\n",
       "      <td>2013-01-01 00:29:00+00:00</td>\n",
       "      <td>2013-01-01 21:51:00+00:00</td>\n",
       "      <td>NaN</td>\n",
       "      <td>2013-01-01</td>\n",
       "      <td>Tuesday</td>\n",
       "    </tr>\n",
       "    <tr>\n",
       "      <th>791</th>\n",
       "      <td>EWR</td>\n",
       "      <td>TPA</td>\n",
       "      <td>-2.0</td>\n",
       "      <td>9.0</td>\n",
       "      <td>2013-01-01 20:58:00+00:00</td>\n",
       "      <td>2013-01-01 21:00:00+00:00</td>\n",
       "      <td>2013-01-01 00:08:00+00:00</td>\n",
       "      <td>2013-01-01 23:59:00+00:00</td>\n",
       "      <td>159.0</td>\n",
       "      <td>2013-01-01</td>\n",
       "      <td>Tuesday</td>\n",
       "    </tr>\n",
       "    <tr>\n",
       "      <th>794</th>\n",
       "      <td>EWR</td>\n",
       "      <td>SJU</td>\n",
       "      <td>-6.0</td>\n",
       "      <td>-12.0</td>\n",
       "      <td>2013-01-01 21:02:00+00:00</td>\n",
       "      <td>2013-01-01 21:08:00+00:00</td>\n",
       "      <td>2013-01-01 01:46:00+00:00</td>\n",
       "      <td>2013-01-01 01:58:00+00:00</td>\n",
       "      <td>199.0</td>\n",
       "      <td>2013-01-01</td>\n",
       "      <td>Tuesday</td>\n",
       "    </tr>\n",
       "    <tr>\n",
       "      <th>797</th>\n",
       "      <td>EWR</td>\n",
       "      <td>SFO</td>\n",
       "      <td>11.0</td>\n",
       "      <td>-14.0</td>\n",
       "      <td>2013-01-01 21:08:00+00:00</td>\n",
       "      <td>2013-01-01 20:57:00+00:00</td>\n",
       "      <td>2013-01-01 00:25:00+00:00</td>\n",
       "      <td>2013-01-01 00:39:00+00:00</td>\n",
       "      <td>354.0</td>\n",
       "      <td>2013-01-01</td>\n",
       "      <td>Tuesday</td>\n",
       "    </tr>\n",
       "    <tr>\n",
       "      <th>804</th>\n",
       "      <td>LGA</td>\n",
       "      <td>FLL</td>\n",
       "      <td>-10.0</td>\n",
       "      <td>-2.0</td>\n",
       "      <td>2013-01-01 21:20:00+00:00</td>\n",
       "      <td>2013-01-01 21:30:00+00:00</td>\n",
       "      <td>2013-01-01 00:16:00+00:00</td>\n",
       "      <td>2013-01-01 00:18:00+00:00</td>\n",
       "      <td>160.0</td>\n",
       "      <td>2013-01-01</td>\n",
       "      <td>Tuesday</td>\n",
       "    </tr>\n",
       "    <tr>\n",
       "      <th>805</th>\n",
       "      <td>EWR</td>\n",
       "      <td>MCO</td>\n",
       "      <td>41.0</td>\n",
       "      <td>43.0</td>\n",
       "      <td>2013-01-01 21:21:00+00:00</td>\n",
       "      <td>2013-01-01 20:40:00+00:00</td>\n",
       "      <td>2013-01-01 00:06:00+00:00</td>\n",
       "      <td>2013-01-01 23:23:00+00:00</td>\n",
       "      <td>143.0</td>\n",
       "      <td>2013-01-01</td>\n",
       "      <td>Tuesday</td>\n",
       "    </tr>\n",
       "    <tr>\n",
       "      <th>807</th>\n",
       "      <td>JFK</td>\n",
       "      <td>LAX</td>\n",
       "      <td>-7.0</td>\n",
       "      <td>-24.0</td>\n",
       "      <td>2013-01-01 21:28:00+00:00</td>\n",
       "      <td>2013-01-01 21:35:00+00:00</td>\n",
       "      <td>2013-01-01 00:26:00+00:00</td>\n",
       "      <td>2013-01-01 00:50:00+00:00</td>\n",
       "      <td>338.0</td>\n",
       "      <td>2013-01-01</td>\n",
       "      <td>Tuesday</td>\n",
       "    </tr>\n",
       "    <tr>\n",
       "      <th>810</th>\n",
       "      <td>EWR</td>\n",
       "      <td>FLL</td>\n",
       "      <td>49.0</td>\n",
       "      <td>28.0</td>\n",
       "      <td>2013-01-01 21:34:00+00:00</td>\n",
       "      <td>2013-01-01 20:45:00+00:00</td>\n",
       "      <td>2013-01-01 00:20:00+00:00</td>\n",
       "      <td>2013-01-01 23:52:00+00:00</td>\n",
       "      <td>152.0</td>\n",
       "      <td>2013-01-01</td>\n",
       "      <td>Tuesday</td>\n",
       "    </tr>\n",
       "    <tr>\n",
       "      <th>811</th>\n",
       "      <td>EWR</td>\n",
       "      <td>FLL</td>\n",
       "      <td>-9.0</td>\n",
       "      <td>-14.0</td>\n",
       "      <td>2013-01-01 21:36:00+00:00</td>\n",
       "      <td>2013-01-01 21:45:00+00:00</td>\n",
       "      <td>2013-01-01 00:25:00+00:00</td>\n",
       "      <td>2013-01-01 00:39:00+00:00</td>\n",
       "      <td>154.0</td>\n",
       "      <td>2013-01-01</td>\n",
       "      <td>Tuesday</td>\n",
       "    </tr>\n",
       "  </tbody>\n",
       "</table>\n",
       "</div>"
      ],
      "text/plain": [
       "    origin dest  dep_delay  arr_delay                  dep_time  \\\n",
       "719    EWR  BQN        9.0       -4.0 2013-01-01 19:29:00+00:00   \n",
       "725    JFK  DFW       59.0        NaN 2013-01-01 19:39:00+00:00   \n",
       "791    EWR  TPA       -2.0        9.0 2013-01-01 20:58:00+00:00   \n",
       "794    EWR  SJU       -6.0      -12.0 2013-01-01 21:02:00+00:00   \n",
       "797    EWR  SFO       11.0      -14.0 2013-01-01 21:08:00+00:00   \n",
       "804    LGA  FLL      -10.0       -2.0 2013-01-01 21:20:00+00:00   \n",
       "805    EWR  MCO       41.0       43.0 2013-01-01 21:21:00+00:00   \n",
       "807    JFK  LAX       -7.0      -24.0 2013-01-01 21:28:00+00:00   \n",
       "810    EWR  FLL       49.0       28.0 2013-01-01 21:34:00+00:00   \n",
       "811    EWR  FLL       -9.0      -14.0 2013-01-01 21:36:00+00:00   \n",
       "\n",
       "               sched_dep_time                  arr_time  \\\n",
       "719 2013-01-01 19:20:00+00:00 2013-01-01 00:03:00+00:00   \n",
       "725 2013-01-01 18:40:00+00:00 2013-01-01 00:29:00+00:00   \n",
       "791 2013-01-01 21:00:00+00:00 2013-01-01 00:08:00+00:00   \n",
       "794 2013-01-01 21:08:00+00:00 2013-01-01 01:46:00+00:00   \n",
       "797 2013-01-01 20:57:00+00:00 2013-01-01 00:25:00+00:00   \n",
       "804 2013-01-01 21:30:00+00:00 2013-01-01 00:16:00+00:00   \n",
       "805 2013-01-01 20:40:00+00:00 2013-01-01 00:06:00+00:00   \n",
       "807 2013-01-01 21:35:00+00:00 2013-01-01 00:26:00+00:00   \n",
       "810 2013-01-01 20:45:00+00:00 2013-01-01 00:20:00+00:00   \n",
       "811 2013-01-01 21:45:00+00:00 2013-01-01 00:25:00+00:00   \n",
       "\n",
       "               sched_arr_time  air_time   departure     wday  \n",
       "719 2013-01-01 00:07:00+00:00     192.0  2013-01-01  Tuesday  \n",
       "725 2013-01-01 21:51:00+00:00       NaN  2013-01-01  Tuesday  \n",
       "791 2013-01-01 23:59:00+00:00     159.0  2013-01-01  Tuesday  \n",
       "794 2013-01-01 01:58:00+00:00     199.0  2013-01-01  Tuesday  \n",
       "797 2013-01-01 00:39:00+00:00     354.0  2013-01-01  Tuesday  \n",
       "804 2013-01-01 00:18:00+00:00     160.0  2013-01-01  Tuesday  \n",
       "805 2013-01-01 23:23:00+00:00     143.0  2013-01-01  Tuesday  \n",
       "807 2013-01-01 00:50:00+00:00     338.0  2013-01-01  Tuesday  \n",
       "810 2013-01-01 23:52:00+00:00     152.0  2013-01-01  Tuesday  \n",
       "811 2013-01-01 00:39:00+00:00     154.0  2013-01-01  Tuesday  "
      ]
     },
     "execution_count": 75,
     "metadata": {},
     "output_type": "execute_result"
    }
   ],
   "source": [
    "# 過濾 arr_time 小於 dep_time 的行\n",
    "filtered_flights = flights_dt[flights_dt['arr_time'] < flights_dt['dep_time']]\n",
    "filtered_flights.head(10)"
   ]
  },
  {
   "cell_type": "markdown",
   "id": "019e1dff",
   "metadata": {},
   "source": [
    "這些其實是隔夜航班。我們對出發和到達時間使用了相同的日期，但這些航班其實是在第二天到達。<br>\n",
    "我們可以通過增加 days(1) 每個夜間航班的到達時間解決這個問題。 <br>\n",
    "+ 提醒：overnight 是T/F，overnight*1 後變1/0"
   ]
  },
  {
   "cell_type": "markdown",
   "id": "33b0b399",
   "metadata": {},
   "source": [
    "+ pd.to_timedelta() 將整數、字符串和列表轉換為 Timedelta 對象"
   ]
  },
  {
   "cell_type": "code",
   "execution_count": 76,
   "id": "82a98a34",
   "metadata": {},
   "outputs": [
    {
     "name": "stderr",
     "output_type": "stream",
     "text": [
      "C:\\Users\\user\\AppData\\Local\\Temp\\ipykernel_16152\\3770705737.py:2: SettingWithCopyWarning: \n",
      "A value is trying to be set on a copy of a slice from a DataFrame.\n",
      "Try using .loc[row_indexer,col_indexer] = value instead\n",
      "\n",
      "See the caveats in the documentation: https://pandas.pydata.org/pandas-docs/stable/user_guide/indexing.html#returning-a-view-versus-a-copy\n",
      "  flights_dt['overnight'] = np.where(flights_dt['arr_time'] < flights_dt['dep_time'], True, False)\n",
      "C:\\Users\\user\\AppData\\Local\\Temp\\ipykernel_16152\\3770705737.py:5: SettingWithCopyWarning: \n",
      "A value is trying to be set on a copy of a slice from a DataFrame.\n",
      "Try using .loc[row_indexer,col_indexer] = value instead\n",
      "\n",
      "See the caveats in the documentation: https://pandas.pydata.org/pandas-docs/stable/user_guide/indexing.html#returning-a-view-versus-a-copy\n",
      "  flights_dt['arr_time'] = flights_dt['arr_time'] + pd.to_timedelta(flights_dt['overnight'] * 1, unit='d')\n",
      "C:\\Users\\user\\AppData\\Local\\Temp\\ipykernel_16152\\3770705737.py:6: SettingWithCopyWarning: \n",
      "A value is trying to be set on a copy of a slice from a DataFrame.\n",
      "Try using .loc[row_indexer,col_indexer] = value instead\n",
      "\n",
      "See the caveats in the documentation: https://pandas.pydata.org/pandas-docs/stable/user_guide/indexing.html#returning-a-view-versus-a-copy\n",
      "  flights_dt['sched_arr_time'] = flights_dt['sched_arr_time'] + pd.to_timedelta(flights_dt['overnight'] * 1, unit='d')\n"
     ]
    },
    {
     "data": {
      "text/html": [
       "<div>\n",
       "<style scoped>\n",
       "    .dataframe tbody tr th:only-of-type {\n",
       "        vertical-align: middle;\n",
       "    }\n",
       "\n",
       "    .dataframe tbody tr th {\n",
       "        vertical-align: top;\n",
       "    }\n",
       "\n",
       "    .dataframe thead th {\n",
       "        text-align: right;\n",
       "    }\n",
       "</style>\n",
       "<table border=\"1\" class=\"dataframe\">\n",
       "  <thead>\n",
       "    <tr style=\"text-align: right;\">\n",
       "      <th></th>\n",
       "      <th>origin</th>\n",
       "      <th>dest</th>\n",
       "      <th>dep_delay</th>\n",
       "      <th>arr_delay</th>\n",
       "      <th>dep_time</th>\n",
       "      <th>sched_dep_time</th>\n",
       "      <th>arr_time</th>\n",
       "      <th>sched_arr_time</th>\n",
       "      <th>air_time</th>\n",
       "      <th>departure</th>\n",
       "      <th>wday</th>\n",
       "      <th>overnight</th>\n",
       "    </tr>\n",
       "  </thead>\n",
       "  <tbody>\n",
       "    <tr>\n",
       "      <th>0</th>\n",
       "      <td>EWR</td>\n",
       "      <td>IAH</td>\n",
       "      <td>2.0</td>\n",
       "      <td>11.0</td>\n",
       "      <td>2013-01-01 05:17:00+00:00</td>\n",
       "      <td>2013-01-01 05:15:00+00:00</td>\n",
       "      <td>2013-01-01 08:30:00+00:00</td>\n",
       "      <td>2013-01-01 08:19:00+00:00</td>\n",
       "      <td>227.0</td>\n",
       "      <td>2013-01-01</td>\n",
       "      <td>Tuesday</td>\n",
       "      <td>False</td>\n",
       "    </tr>\n",
       "    <tr>\n",
       "      <th>1</th>\n",
       "      <td>LGA</td>\n",
       "      <td>IAH</td>\n",
       "      <td>4.0</td>\n",
       "      <td>20.0</td>\n",
       "      <td>2013-01-01 05:33:00+00:00</td>\n",
       "      <td>2013-01-01 05:29:00+00:00</td>\n",
       "      <td>2013-01-01 08:50:00+00:00</td>\n",
       "      <td>2013-01-01 08:30:00+00:00</td>\n",
       "      <td>227.0</td>\n",
       "      <td>2013-01-01</td>\n",
       "      <td>Tuesday</td>\n",
       "      <td>False</td>\n",
       "    </tr>\n",
       "    <tr>\n",
       "      <th>2</th>\n",
       "      <td>JFK</td>\n",
       "      <td>MIA</td>\n",
       "      <td>2.0</td>\n",
       "      <td>33.0</td>\n",
       "      <td>2013-01-01 05:42:00+00:00</td>\n",
       "      <td>2013-01-01 05:40:00+00:00</td>\n",
       "      <td>2013-01-01 09:23:00+00:00</td>\n",
       "      <td>2013-01-01 08:50:00+00:00</td>\n",
       "      <td>160.0</td>\n",
       "      <td>2013-01-01</td>\n",
       "      <td>Tuesday</td>\n",
       "      <td>False</td>\n",
       "    </tr>\n",
       "    <tr>\n",
       "      <th>3</th>\n",
       "      <td>JFK</td>\n",
       "      <td>BQN</td>\n",
       "      <td>-1.0</td>\n",
       "      <td>-18.0</td>\n",
       "      <td>2013-01-01 05:44:00+00:00</td>\n",
       "      <td>2013-01-01 05:45:00+00:00</td>\n",
       "      <td>2013-01-01 10:04:00+00:00</td>\n",
       "      <td>2013-01-01 10:22:00+00:00</td>\n",
       "      <td>183.0</td>\n",
       "      <td>2013-01-01</td>\n",
       "      <td>Tuesday</td>\n",
       "      <td>False</td>\n",
       "    </tr>\n",
       "    <tr>\n",
       "      <th>4</th>\n",
       "      <td>LGA</td>\n",
       "      <td>ATL</td>\n",
       "      <td>-6.0</td>\n",
       "      <td>-25.0</td>\n",
       "      <td>2013-01-01 05:54:00+00:00</td>\n",
       "      <td>2013-01-01 06:00:00+00:00</td>\n",
       "      <td>2013-01-01 08:12:00+00:00</td>\n",
       "      <td>2013-01-01 08:37:00+00:00</td>\n",
       "      <td>116.0</td>\n",
       "      <td>2013-01-01</td>\n",
       "      <td>Tuesday</td>\n",
       "      <td>False</td>\n",
       "    </tr>\n",
       "    <tr>\n",
       "      <th>...</th>\n",
       "      <td>...</td>\n",
       "      <td>...</td>\n",
       "      <td>...</td>\n",
       "      <td>...</td>\n",
       "      <td>...</td>\n",
       "      <td>...</td>\n",
       "      <td>...</td>\n",
       "      <td>...</td>\n",
       "      <td>...</td>\n",
       "      <td>...</td>\n",
       "      <td>...</td>\n",
       "      <td>...</td>\n",
       "    </tr>\n",
       "    <tr>\n",
       "      <th>336765</th>\n",
       "      <td>JFK</td>\n",
       "      <td>SYR</td>\n",
       "      <td>-5.0</td>\n",
       "      <td>-17.0</td>\n",
       "      <td>2013-09-30 22:40:00+00:00</td>\n",
       "      <td>2013-09-30 22:45:00+00:00</td>\n",
       "      <td>2013-09-30 23:34:00+00:00</td>\n",
       "      <td>2013-09-30 23:51:00+00:00</td>\n",
       "      <td>41.0</td>\n",
       "      <td>2013-09-30</td>\n",
       "      <td>Monday</td>\n",
       "      <td>False</td>\n",
       "    </tr>\n",
       "    <tr>\n",
       "      <th>336766</th>\n",
       "      <td>JFK</td>\n",
       "      <td>BUF</td>\n",
       "      <td>-10.0</td>\n",
       "      <td>-20.0</td>\n",
       "      <td>2013-09-30 22:40:00+00:00</td>\n",
       "      <td>2013-09-30 22:50:00+00:00</td>\n",
       "      <td>2013-09-30 23:47:00+00:00</td>\n",
       "      <td>2013-09-30 00:07:00+00:00</td>\n",
       "      <td>52.0</td>\n",
       "      <td>2013-09-30</td>\n",
       "      <td>Monday</td>\n",
       "      <td>False</td>\n",
       "    </tr>\n",
       "    <tr>\n",
       "      <th>336767</th>\n",
       "      <td>JFK</td>\n",
       "      <td>ROC</td>\n",
       "      <td>-5.0</td>\n",
       "      <td>-16.0</td>\n",
       "      <td>2013-09-30 22:41:00+00:00</td>\n",
       "      <td>2013-09-30 22:46:00+00:00</td>\n",
       "      <td>2013-09-30 23:45:00+00:00</td>\n",
       "      <td>2013-09-30 00:01:00+00:00</td>\n",
       "      <td>47.0</td>\n",
       "      <td>2013-09-30</td>\n",
       "      <td>Monday</td>\n",
       "      <td>False</td>\n",
       "    </tr>\n",
       "    <tr>\n",
       "      <th>336768</th>\n",
       "      <td>JFK</td>\n",
       "      <td>BOS</td>\n",
       "      <td>12.0</td>\n",
       "      <td>1.0</td>\n",
       "      <td>2013-09-30 23:07:00+00:00</td>\n",
       "      <td>2013-09-30 22:55:00+00:00</td>\n",
       "      <td>2013-09-30 23:59:00+00:00</td>\n",
       "      <td>2013-09-30 23:58:00+00:00</td>\n",
       "      <td>33.0</td>\n",
       "      <td>2013-09-30</td>\n",
       "      <td>Monday</td>\n",
       "      <td>False</td>\n",
       "    </tr>\n",
       "    <tr>\n",
       "      <th>336769</th>\n",
       "      <td>JFK</td>\n",
       "      <td>PSE</td>\n",
       "      <td>-10.0</td>\n",
       "      <td>-25.0</td>\n",
       "      <td>2013-09-30 23:49:00+00:00</td>\n",
       "      <td>2013-09-30 23:59:00+00:00</td>\n",
       "      <td>2013-10-01 03:25:00+00:00</td>\n",
       "      <td>2013-10-01 03:50:00+00:00</td>\n",
       "      <td>196.0</td>\n",
       "      <td>2013-09-30</td>\n",
       "      <td>Monday</td>\n",
       "      <td>True</td>\n",
       "    </tr>\n",
       "  </tbody>\n",
       "</table>\n",
       "<p>328063 rows × 12 columns</p>\n",
       "</div>"
      ],
      "text/plain": [
       "       origin dest  dep_delay  arr_delay                  dep_time  \\\n",
       "0         EWR  IAH        2.0       11.0 2013-01-01 05:17:00+00:00   \n",
       "1         LGA  IAH        4.0       20.0 2013-01-01 05:33:00+00:00   \n",
       "2         JFK  MIA        2.0       33.0 2013-01-01 05:42:00+00:00   \n",
       "3         JFK  BQN       -1.0      -18.0 2013-01-01 05:44:00+00:00   \n",
       "4         LGA  ATL       -6.0      -25.0 2013-01-01 05:54:00+00:00   \n",
       "...       ...  ...        ...        ...                       ...   \n",
       "336765    JFK  SYR       -5.0      -17.0 2013-09-30 22:40:00+00:00   \n",
       "336766    JFK  BUF      -10.0      -20.0 2013-09-30 22:40:00+00:00   \n",
       "336767    JFK  ROC       -5.0      -16.0 2013-09-30 22:41:00+00:00   \n",
       "336768    JFK  BOS       12.0        1.0 2013-09-30 23:07:00+00:00   \n",
       "336769    JFK  PSE      -10.0      -25.0 2013-09-30 23:49:00+00:00   \n",
       "\n",
       "                  sched_dep_time                  arr_time  \\\n",
       "0      2013-01-01 05:15:00+00:00 2013-01-01 08:30:00+00:00   \n",
       "1      2013-01-01 05:29:00+00:00 2013-01-01 08:50:00+00:00   \n",
       "2      2013-01-01 05:40:00+00:00 2013-01-01 09:23:00+00:00   \n",
       "3      2013-01-01 05:45:00+00:00 2013-01-01 10:04:00+00:00   \n",
       "4      2013-01-01 06:00:00+00:00 2013-01-01 08:12:00+00:00   \n",
       "...                          ...                       ...   \n",
       "336765 2013-09-30 22:45:00+00:00 2013-09-30 23:34:00+00:00   \n",
       "336766 2013-09-30 22:50:00+00:00 2013-09-30 23:47:00+00:00   \n",
       "336767 2013-09-30 22:46:00+00:00 2013-09-30 23:45:00+00:00   \n",
       "336768 2013-09-30 22:55:00+00:00 2013-09-30 23:59:00+00:00   \n",
       "336769 2013-09-30 23:59:00+00:00 2013-10-01 03:25:00+00:00   \n",
       "\n",
       "                  sched_arr_time  air_time   departure     wday  overnight  \n",
       "0      2013-01-01 08:19:00+00:00     227.0  2013-01-01  Tuesday      False  \n",
       "1      2013-01-01 08:30:00+00:00     227.0  2013-01-01  Tuesday      False  \n",
       "2      2013-01-01 08:50:00+00:00     160.0  2013-01-01  Tuesday      False  \n",
       "3      2013-01-01 10:22:00+00:00     183.0  2013-01-01  Tuesday      False  \n",
       "4      2013-01-01 08:37:00+00:00     116.0  2013-01-01  Tuesday      False  \n",
       "...                          ...       ...         ...      ...        ...  \n",
       "336765 2013-09-30 23:51:00+00:00      41.0  2013-09-30   Monday      False  \n",
       "336766 2013-09-30 00:07:00+00:00      52.0  2013-09-30   Monday      False  \n",
       "336767 2013-09-30 00:01:00+00:00      47.0  2013-09-30   Monday      False  \n",
       "336768 2013-09-30 23:58:00+00:00      33.0  2013-09-30   Monday      False  \n",
       "336769 2013-10-01 03:50:00+00:00     196.0  2013-09-30   Monday       True  \n",
       "\n",
       "[328063 rows x 12 columns]"
      ]
     },
     "execution_count": 76,
     "metadata": {},
     "output_type": "execute_result"
    }
   ],
   "source": [
    "# 根據條件 arr_time < dep_time 創建一個新列“overnight”\n",
    "flights_dt['overnight'] = np.where(flights_dt['arr_time'] < flights_dt['dep_time'], True, False)\n",
    "\n",
    "# 將基於 “overnight” 值的天數添加到 arr_time 和 sched_arr_time (乘以 1，1 天的時間跨度）\n",
    "flights_dt['arr_time'] = flights_dt['arr_time'] + pd.to_timedelta(flights_dt['overnight'] * 1, unit='d')\n",
    "flights_dt['sched_arr_time'] = flights_dt['sched_arr_time'] + pd.to_timedelta(flights_dt['overnight'] * 1, unit='d')\n",
    "\n",
    "flights_dt"
   ]
  },
  {
   "cell_type": "markdown",
   "id": "6c719cf8",
   "metadata": {},
   "source": [
    "現在我們所有的航班都遵守物理定律。"
   ]
  },
  {
   "cell_type": "code",
   "execution_count": 77,
   "id": "d0470e1e",
   "metadata": {},
   "outputs": [
    {
     "data": {
      "text/html": [
       "<div>\n",
       "<style scoped>\n",
       "    .dataframe tbody tr th:only-of-type {\n",
       "        vertical-align: middle;\n",
       "    }\n",
       "\n",
       "    .dataframe tbody tr th {\n",
       "        vertical-align: top;\n",
       "    }\n",
       "\n",
       "    .dataframe thead th {\n",
       "        text-align: right;\n",
       "    }\n",
       "</style>\n",
       "<table border=\"1\" class=\"dataframe\">\n",
       "  <thead>\n",
       "    <tr style=\"text-align: right;\">\n",
       "      <th></th>\n",
       "      <th>origin</th>\n",
       "      <th>dest</th>\n",
       "      <th>dep_delay</th>\n",
       "      <th>arr_delay</th>\n",
       "      <th>dep_time</th>\n",
       "      <th>sched_dep_time</th>\n",
       "      <th>arr_time</th>\n",
       "      <th>sched_arr_time</th>\n",
       "      <th>air_time</th>\n",
       "      <th>departure</th>\n",
       "      <th>wday</th>\n",
       "      <th>overnight</th>\n",
       "    </tr>\n",
       "  </thead>\n",
       "  <tbody>\n",
       "    <tr>\n",
       "      <th>719</th>\n",
       "      <td>EWR</td>\n",
       "      <td>BQN</td>\n",
       "      <td>9.0</td>\n",
       "      <td>-4.0</td>\n",
       "      <td>2013-01-01 19:29:00+00:00</td>\n",
       "      <td>2013-01-01 19:20:00+00:00</td>\n",
       "      <td>2013-01-02 00:03:00+00:00</td>\n",
       "      <td>2013-01-02 00:07:00+00:00</td>\n",
       "      <td>192.0</td>\n",
       "      <td>2013-01-01</td>\n",
       "      <td>Tuesday</td>\n",
       "      <td>True</td>\n",
       "    </tr>\n",
       "    <tr>\n",
       "      <th>725</th>\n",
       "      <td>JFK</td>\n",
       "      <td>DFW</td>\n",
       "      <td>59.0</td>\n",
       "      <td>NaN</td>\n",
       "      <td>2013-01-01 19:39:00+00:00</td>\n",
       "      <td>2013-01-01 18:40:00+00:00</td>\n",
       "      <td>2013-01-02 00:29:00+00:00</td>\n",
       "      <td>2013-01-02 21:51:00+00:00</td>\n",
       "      <td>NaN</td>\n",
       "      <td>2013-01-01</td>\n",
       "      <td>Tuesday</td>\n",
       "      <td>True</td>\n",
       "    </tr>\n",
       "    <tr>\n",
       "      <th>791</th>\n",
       "      <td>EWR</td>\n",
       "      <td>TPA</td>\n",
       "      <td>-2.0</td>\n",
       "      <td>9.0</td>\n",
       "      <td>2013-01-01 20:58:00+00:00</td>\n",
       "      <td>2013-01-01 21:00:00+00:00</td>\n",
       "      <td>2013-01-02 00:08:00+00:00</td>\n",
       "      <td>2013-01-02 23:59:00+00:00</td>\n",
       "      <td>159.0</td>\n",
       "      <td>2013-01-01</td>\n",
       "      <td>Tuesday</td>\n",
       "      <td>True</td>\n",
       "    </tr>\n",
       "    <tr>\n",
       "      <th>794</th>\n",
       "      <td>EWR</td>\n",
       "      <td>SJU</td>\n",
       "      <td>-6.0</td>\n",
       "      <td>-12.0</td>\n",
       "      <td>2013-01-01 21:02:00+00:00</td>\n",
       "      <td>2013-01-01 21:08:00+00:00</td>\n",
       "      <td>2013-01-02 01:46:00+00:00</td>\n",
       "      <td>2013-01-02 01:58:00+00:00</td>\n",
       "      <td>199.0</td>\n",
       "      <td>2013-01-01</td>\n",
       "      <td>Tuesday</td>\n",
       "      <td>True</td>\n",
       "    </tr>\n",
       "    <tr>\n",
       "      <th>797</th>\n",
       "      <td>EWR</td>\n",
       "      <td>SFO</td>\n",
       "      <td>11.0</td>\n",
       "      <td>-14.0</td>\n",
       "      <td>2013-01-01 21:08:00+00:00</td>\n",
       "      <td>2013-01-01 20:57:00+00:00</td>\n",
       "      <td>2013-01-02 00:25:00+00:00</td>\n",
       "      <td>2013-01-02 00:39:00+00:00</td>\n",
       "      <td>354.0</td>\n",
       "      <td>2013-01-01</td>\n",
       "      <td>Tuesday</td>\n",
       "      <td>True</td>\n",
       "    </tr>\n",
       "    <tr>\n",
       "      <th>804</th>\n",
       "      <td>LGA</td>\n",
       "      <td>FLL</td>\n",
       "      <td>-10.0</td>\n",
       "      <td>-2.0</td>\n",
       "      <td>2013-01-01 21:20:00+00:00</td>\n",
       "      <td>2013-01-01 21:30:00+00:00</td>\n",
       "      <td>2013-01-02 00:16:00+00:00</td>\n",
       "      <td>2013-01-02 00:18:00+00:00</td>\n",
       "      <td>160.0</td>\n",
       "      <td>2013-01-01</td>\n",
       "      <td>Tuesday</td>\n",
       "      <td>True</td>\n",
       "    </tr>\n",
       "    <tr>\n",
       "      <th>805</th>\n",
       "      <td>EWR</td>\n",
       "      <td>MCO</td>\n",
       "      <td>41.0</td>\n",
       "      <td>43.0</td>\n",
       "      <td>2013-01-01 21:21:00+00:00</td>\n",
       "      <td>2013-01-01 20:40:00+00:00</td>\n",
       "      <td>2013-01-02 00:06:00+00:00</td>\n",
       "      <td>2013-01-02 23:23:00+00:00</td>\n",
       "      <td>143.0</td>\n",
       "      <td>2013-01-01</td>\n",
       "      <td>Tuesday</td>\n",
       "      <td>True</td>\n",
       "    </tr>\n",
       "    <tr>\n",
       "      <th>807</th>\n",
       "      <td>JFK</td>\n",
       "      <td>LAX</td>\n",
       "      <td>-7.0</td>\n",
       "      <td>-24.0</td>\n",
       "      <td>2013-01-01 21:28:00+00:00</td>\n",
       "      <td>2013-01-01 21:35:00+00:00</td>\n",
       "      <td>2013-01-02 00:26:00+00:00</td>\n",
       "      <td>2013-01-02 00:50:00+00:00</td>\n",
       "      <td>338.0</td>\n",
       "      <td>2013-01-01</td>\n",
       "      <td>Tuesday</td>\n",
       "      <td>True</td>\n",
       "    </tr>\n",
       "    <tr>\n",
       "      <th>810</th>\n",
       "      <td>EWR</td>\n",
       "      <td>FLL</td>\n",
       "      <td>49.0</td>\n",
       "      <td>28.0</td>\n",
       "      <td>2013-01-01 21:34:00+00:00</td>\n",
       "      <td>2013-01-01 20:45:00+00:00</td>\n",
       "      <td>2013-01-02 00:20:00+00:00</td>\n",
       "      <td>2013-01-02 23:52:00+00:00</td>\n",
       "      <td>152.0</td>\n",
       "      <td>2013-01-01</td>\n",
       "      <td>Tuesday</td>\n",
       "      <td>True</td>\n",
       "    </tr>\n",
       "    <tr>\n",
       "      <th>811</th>\n",
       "      <td>EWR</td>\n",
       "      <td>FLL</td>\n",
       "      <td>-9.0</td>\n",
       "      <td>-14.0</td>\n",
       "      <td>2013-01-01 21:36:00+00:00</td>\n",
       "      <td>2013-01-01 21:45:00+00:00</td>\n",
       "      <td>2013-01-02 00:25:00+00:00</td>\n",
       "      <td>2013-01-02 00:39:00+00:00</td>\n",
       "      <td>154.0</td>\n",
       "      <td>2013-01-01</td>\n",
       "      <td>Tuesday</td>\n",
       "      <td>True</td>\n",
       "    </tr>\n",
       "  </tbody>\n",
       "</table>\n",
       "</div>"
      ],
      "text/plain": [
       "    origin dest  dep_delay  arr_delay                  dep_time  \\\n",
       "719    EWR  BQN        9.0       -4.0 2013-01-01 19:29:00+00:00   \n",
       "725    JFK  DFW       59.0        NaN 2013-01-01 19:39:00+00:00   \n",
       "791    EWR  TPA       -2.0        9.0 2013-01-01 20:58:00+00:00   \n",
       "794    EWR  SJU       -6.0      -12.0 2013-01-01 21:02:00+00:00   \n",
       "797    EWR  SFO       11.0      -14.0 2013-01-01 21:08:00+00:00   \n",
       "804    LGA  FLL      -10.0       -2.0 2013-01-01 21:20:00+00:00   \n",
       "805    EWR  MCO       41.0       43.0 2013-01-01 21:21:00+00:00   \n",
       "807    JFK  LAX       -7.0      -24.0 2013-01-01 21:28:00+00:00   \n",
       "810    EWR  FLL       49.0       28.0 2013-01-01 21:34:00+00:00   \n",
       "811    EWR  FLL       -9.0      -14.0 2013-01-01 21:36:00+00:00   \n",
       "\n",
       "               sched_dep_time                  arr_time  \\\n",
       "719 2013-01-01 19:20:00+00:00 2013-01-02 00:03:00+00:00   \n",
       "725 2013-01-01 18:40:00+00:00 2013-01-02 00:29:00+00:00   \n",
       "791 2013-01-01 21:00:00+00:00 2013-01-02 00:08:00+00:00   \n",
       "794 2013-01-01 21:08:00+00:00 2013-01-02 01:46:00+00:00   \n",
       "797 2013-01-01 20:57:00+00:00 2013-01-02 00:25:00+00:00   \n",
       "804 2013-01-01 21:30:00+00:00 2013-01-02 00:16:00+00:00   \n",
       "805 2013-01-01 20:40:00+00:00 2013-01-02 00:06:00+00:00   \n",
       "807 2013-01-01 21:35:00+00:00 2013-01-02 00:26:00+00:00   \n",
       "810 2013-01-01 20:45:00+00:00 2013-01-02 00:20:00+00:00   \n",
       "811 2013-01-01 21:45:00+00:00 2013-01-02 00:25:00+00:00   \n",
       "\n",
       "               sched_arr_time  air_time   departure     wday  overnight  \n",
       "719 2013-01-02 00:07:00+00:00     192.0  2013-01-01  Tuesday       True  \n",
       "725 2013-01-02 21:51:00+00:00       NaN  2013-01-01  Tuesday       True  \n",
       "791 2013-01-02 23:59:00+00:00     159.0  2013-01-01  Tuesday       True  \n",
       "794 2013-01-02 01:58:00+00:00     199.0  2013-01-01  Tuesday       True  \n",
       "797 2013-01-02 00:39:00+00:00     354.0  2013-01-01  Tuesday       True  \n",
       "804 2013-01-02 00:18:00+00:00     160.0  2013-01-01  Tuesday       True  \n",
       "805 2013-01-02 23:23:00+00:00     143.0  2013-01-01  Tuesday       True  \n",
       "807 2013-01-02 00:50:00+00:00     338.0  2013-01-01  Tuesday       True  \n",
       "810 2013-01-02 23:52:00+00:00     152.0  2013-01-01  Tuesday       True  \n",
       "811 2013-01-02 00:39:00+00:00     154.0  2013-01-01  Tuesday       True  "
      ]
     },
     "execution_count": 77,
     "metadata": {},
     "output_type": "execute_result"
    }
   ],
   "source": [
    "filtered_flights = flights_dt[(flights_dt['overnight'] == True) | (flights_dt['arr_time'] < flights_dt['dep_time'])]\n",
    "filtered_flights.head(10)"
   ]
  },
  {
   "cell_type": "markdown",
   "id": "e7add011",
   "metadata": {},
   "source": [
    "# 區間(interval)\n",
    "有很多方式可以構造區間。 最簡單的方式是指定起迄時點：\n",
    "+ pendulum.period(start, end)"
   ]
  },
  {
   "cell_type": "code",
   "execution_count": 78,
   "id": "48528a51",
   "metadata": {},
   "outputs": [
    {
     "name": "stdout",
     "output_type": "stream",
     "text": [
      "<Period [2022-01-01T00:00:00+00:00 -> 2022-12-31T00:00:00+00:00]>\n"
     ]
    }
   ],
   "source": [
    "start = pendulum.datetime(2022, 1, 1)\n",
    "end = pendulum.datetime(2022, 12, 31)\n",
    "\n",
    "period1 = pendulum.period(start, end)\n",
    "print(period1)"
   ]
  },
  {
   "cell_type": "code",
   "execution_count": 79,
   "id": "be85ebb2",
   "metadata": {},
   "outputs": [
    {
     "name": "stdout",
     "output_type": "stream",
     "text": [
      "<Period [2023-07-05T00:00:00+08:00 -> 2023-07-06T00:00:00+08:00]>\n"
     ]
    }
   ],
   "source": [
    "today = pendulum.today()\n",
    "tomorrow = today.add(days=1)\n",
    "\n",
    "time_diff = tomorrow - today\n",
    "print(time_diff)"
   ]
  },
  {
   "cell_type": "markdown",
   "id": "97df4ad2",
   "metadata": {},
   "source": [
    "創建了一個自定義的 TimeInterval 類"
   ]
  },
  {
   "cell_type": "code",
   "execution_count": 80,
   "id": "12d44bc8",
   "metadata": {},
   "outputs": [
    {
     "name": "stdout",
     "output_type": "stream",
     "text": [
      "2023-01-01T00:00:00+00:00\n",
      "2023-12-31T00:00:00+00:00\n"
     ]
    }
   ],
   "source": [
    "start = pendulum.datetime(2023, 1, 1)\n",
    "end = pendulum.datetime(2023, 12, 31)\n",
    "\n",
    "class TimeInterval:\n",
    "    def __init__(self, start, end):\n",
    "        self.start = start\n",
    "        self.end = end\n",
    "\n",
    "time_interval = TimeInterval(start, end)\n",
    "print(time_interval.start)\n",
    "print(time_interval.end)"
   ]
  },
  {
   "cell_type": "code",
   "execution_count": 81,
   "id": "904e58c6",
   "metadata": {},
   "outputs": [
    {
     "name": "stdout",
     "output_type": "stream",
     "text": [
      "<Period [2011-08-10T00:00:00+00:00 -> 2011-11-10T00:00:00+00:00]>\n"
     ]
    }
   ],
   "source": [
    "start_date = pendulum.datetime(2011, 8, 10)\n",
    "end_date = start_date.add(months=3)\n",
    "\n",
    "duration = end_date - start_date\n",
    "print(duration)"
   ]
  },
  {
   "cell_type": "markdown",
   "id": "3a035a63",
   "metadata": {},
   "source": [
    "討論兩區間的關係：\n",
    "1. 一區間是否被另一區間完全涵蓋"
   ]
  },
  {
   "cell_type": "code",
   "execution_count": 82,
   "id": "df8772ec",
   "metadata": {},
   "outputs": [
    {
     "name": "stdout",
     "output_type": "stream",
     "text": [
      "False\n"
     ]
    }
   ],
   "source": [
    "start_date1 = pendulum.datetime(2011, 8, 10)\n",
    "end_date1 = start_date1.add(months=5)\n",
    "\n",
    "start_date2 = pendulum.datetime(2011, 9, 10)\n",
    "end_date2 = start_date2.add(days=365)\n",
    "\n",
    "interval1 = (start_date1, end_date1)\n",
    "interval2 = (start_date2, end_date2)\n",
    "\n",
    "is_within = interval1[0] >= interval2[0] and interval1[1] <= interval2[1]\n",
    "print(is_within)"
   ]
  },
  {
   "cell_type": "markdown",
   "id": "633dace0",
   "metadata": {},
   "source": [
    "2. 兩區間是否重疊"
   ]
  },
  {
   "cell_type": "code",
   "execution_count": 83,
   "id": "43b08cbb",
   "metadata": {},
   "outputs": [
    {
     "name": "stdout",
     "output_type": "stream",
     "text": [
      "True\n"
     ]
    }
   ],
   "source": [
    "overlap = (interval1[0] <= interval2[1]) and (interval1[1] >= interval2[0])\n",
    "print(overlap)"
   ]
  },
  {
   "cell_type": "markdown",
   "id": "c7d9a4d7",
   "metadata": {},
   "source": [
    "## 小結"
   ]
  },
  {
   "cell_type": "markdown",
   "id": "84691c13",
   "metadata": {},
   "source": [
    "+ 如何在持續時間，時期和區間之間做選擇？\n",
    "```\n",
    "與往常一樣，選擇最簡單的數據結構來解決問題。如果使用者只關心物理時間，請用持續時間 ; \n",
    "如果使用者需要添加人類日常生活的時間，請使用一段時期 ; \n",
    "如果需要精確長度的持續時間，請使用區間。\n",
    "```"
   ]
  },
  {
   "attachments": {
    "image.png": {
     "image/png": "[encoded data removed]"
    }
   },
   "cell_type": "markdown",
   "id": "28d1bc3c",
   "metadata": {},
   "source": [
    "![image.png](attachment:image.png)"
   ]
  },
  {
   "cell_type": "markdown",
   "id": "5292b973",
   "metadata": {},
   "source": [
    "## 補充\n",
    "+ 由於每個月的天數不同，所以在進行月份的加減操作時，日期可能會被調整以適應目標月份的天數"
   ]
  },
  {
   "cell_type": "code",
   "execution_count": 84,
   "id": "392d60d9",
   "metadata": {},
   "outputs": [
    {
     "name": "stdout",
     "output_type": "stream",
     "text": [
      "2013-01-31T00:00:00+00:00\n",
      "2013-02-28T00:00:00+00:00\n",
      "2013-03-31T00:00:00+00:00\n",
      "2013-04-30T00:00:00+00:00\n",
      "2013-05-31T00:00:00+00:00\n",
      "2013-06-30T00:00:00+00:00\n",
      "2013-07-31T00:00:00+00:00\n",
      "2013-08-31T00:00:00+00:00\n",
      "2013-09-30T00:00:00+00:00\n",
      "2013-10-31T00:00:00+00:00\n",
      "2013-11-30T00:00:00+00:00\n",
      "2013-12-31T00:00:00+00:00\n"
     ]
    }
   ],
   "source": [
    "jan31 = pendulum.parse(\"2013-01-31\")\n",
    "\n",
    "dates = [jan31.add(months=i) for i in range(12)]\n",
    "for date in dates:\n",
    "    print(date)"
   ]
  },
  {
   "cell_type": "code",
   "execution_count": 85,
   "id": "b24c2edc",
   "metadata": {},
   "outputs": [
    {
     "name": "stdout",
     "output_type": "stream",
     "text": [
      "2013-01-31T00:00:00+00:00\n",
      "2012-12-31T00:00:00+00:00\n",
      "2012-11-30T00:00:00+00:00\n",
      "2012-10-31T00:00:00+00:00\n",
      "2012-09-30T00:00:00+00:00\n",
      "2012-08-31T00:00:00+00:00\n",
      "2012-07-31T00:00:00+00:00\n",
      "2012-06-30T00:00:00+00:00\n",
      "2012-05-31T00:00:00+00:00\n",
      "2012-04-30T00:00:00+00:00\n",
      "2012-03-31T00:00:00+00:00\n",
      "2012-02-29T00:00:00+00:00\n"
     ]
    }
   ],
   "source": [
    "dates = [jan31.subtract(months=i) for i in range(12)]\n",
    "for date in dates:\n",
    "    print(date)"
   ]
  },
  {
   "cell_type": "markdown",
   "id": "187d3d45",
   "metadata": {},
   "source": [
    "或是利用函數，找出該月的最後一天"
   ]
  },
  {
   "cell_type": "code",
   "execution_count": 86,
   "id": "0da1e33c",
   "metadata": {},
   "outputs": [
    {
     "name": "stdout",
     "output_type": "stream",
     "text": [
      "2023-07-31T23:59:59.999999+08:00\n"
     ]
    }
   ],
   "source": [
    "today = pendulum.today()\n",
    "\n",
    "last_day = today.end_of(\"month\")\n",
    "print(last_day)"
   ]
  },
  {
   "cell_type": "markdown",
   "id": "875db636",
   "metadata": {},
   "source": [
    "# 時區"
   ]
  },
  {
   "cell_type": "markdown",
   "id": "8d9947a4",
   "metadata": {},
   "source": [
    "pendulum 支持國際標準 IANA 時區。這些使用一致的命名方案 “/“，通常採用 ”州/城市“ 的形式。<br>\n",
    "例如 “America / New_York”，“Europe / Paris” 和 “Asia / Taipei”"
   ]
  },
  {
   "cell_type": "markdown",
   "id": "e657b017",
   "metadata": {},
   "source": [
    "+ .timezone_name 可以找出 python 認為使用者當前時區"
   ]
  },
  {
   "cell_type": "code",
   "execution_count": 87,
   "id": "fe568fb3",
   "metadata": {},
   "outputs": [
    {
     "name": "stdout",
     "output_type": "stream",
     "text": [
      "Asia/Taipei\n"
     ]
    }
   ],
   "source": [
    "current_timezone = pendulum.now().timezone_name\n",
    "print(current_timezone)"
   ]
  },
  {
   "cell_type": "markdown",
   "id": "5cd0f5e1",
   "metadata": {},
   "source": [
    "查看所有時區名稱的完整列表，以下我們列出前六個"
   ]
  },
  {
   "cell_type": "code",
   "execution_count": 88,
   "id": "863ae18a",
   "metadata": {},
   "outputs": [
    {
     "name": "stdout",
     "output_type": "stream",
     "text": [
      "596\n",
      "['Africa/Abidjan', 'Africa/Accra', 'Africa/Addis_Ababa', 'Africa/Algiers', 'Africa/Asmara', 'Africa/Asmera']\n"
     ]
    }
   ],
   "source": [
    "from pytz import all_timezones\n",
    "\n",
    "timezone_names = all_timezones\n",
    "print(len(timezone_names))\n",
    "print(timezone_names[0:6])"
   ]
  },
  {
   "cell_type": "markdown",
   "id": "15a7c950",
   "metadata": {},
   "source": [
    "時區是僅控制顯示的日期時間的屬性。例如，這三個對象代表同一時刻："
   ]
  },
  {
   "cell_type": "code",
   "execution_count": 89,
   "id": "c6f22bfe",
   "metadata": {},
   "outputs": [],
   "source": [
    "x2 = pendulum.datetime(2015, 6, 1, 12, 0, 0, tz=\"America/New_York\")\n",
    "x1 = pendulum.datetime(2015, 6, 1, 18, 0, 0, tz=\"Europe/Copenhagen\")\n",
    "x3 = pendulum.datetime(2015, 6, 2, 4, 0, 0, tz=\"Pacific/Auckland\")"
   ]
  },
  {
   "cell_type": "markdown",
   "id": "156f525c",
   "metadata": {},
   "source": [
    "可以使用 == 驗證它們是同一時間："
   ]
  },
  {
   "cell_type": "code",
   "execution_count": 90,
   "id": "3c350df7",
   "metadata": {},
   "outputs": [
    {
     "name": "stdout",
     "output_type": "stream",
     "text": [
      "These dates and times represent the same moment.\n"
     ]
    }
   ],
   "source": [
    "if x2 == x1 == x3:\n",
    "    print(\"These dates and times represent the same moment.\")\n",
    "else:\n",
    "    print(\"These dates and times do not represent the same moment.\")"
   ]
  },
  {
   "cell_type": "markdown",
   "id": "ed0cb4bd",
   "metadata": {},
   "source": [
    "除非另有說明，否則 pendulum 始終使用 UTC。<br>\n",
    "UTC（協調世界時間）是科學界使用的標準時區，其大致相當於其前身GMT（格林威治標準時間）。<br>\n",
    "它沒有 DST，這為計算提供了方便的表示。"
   ]
  },
  {
   "cell_type": "markdown",
   "id": "a1185c5c",
   "metadata": {},
   "source": [
    "有時我們希望在不同的時區顯示相同的時刻。再者，將現有時間與新時區相結合來創建新時刻。<br>\n",
    "這些是由 in_timezone() 和 in_tz() 完成。\n",
    "\n",
    "+ in_timezone()：將時間數據轉換為另一個時區的同一時間\n",
    "+ in_tz()：將時間數據的時區強制轉換為另一個時區"
   ]
  },
  {
   "cell_type": "markdown",
   "id": "5ac5761c",
   "metadata": {},
   "source": [
    "從台北時間換成日本時間"
   ]
  },
  {
   "cell_type": "code",
   "execution_count": 91,
   "id": "6c91b1af",
   "metadata": {},
   "outputs": [
    {
     "data": {
      "text/plain": [
       "DateTime(2019, 2, 28, 10, 0, 0, tzinfo=Timezone('Asia/Tokyo'))"
      ]
     },
     "execution_count": 91,
     "metadata": {},
     "output_type": "execute_result"
    }
   ],
   "source": [
    "time_Taipei = pendulum.datetime(2019, 2, 28, 9, 0, 0, tz='Asia/Taipei')\n",
    "time_Tokyo = time_Taipei.in_timezone('Asia/Tokyo')\n",
    "time_Tokyo"
   ]
  },
  {
   "cell_type": "markdown",
   "id": "ea9898e2",
   "metadata": {},
   "source": [
    "若錯把台北時間誤以為是日本時間，那再換回台北時間是幾點？"
   ]
  },
  {
   "cell_type": "code",
   "execution_count": 92,
   "id": "cc30015f",
   "metadata": {},
   "outputs": [
    {
     "name": "stdout",
     "output_type": "stream",
     "text": [
      "2019-02-28T10:00:00+09:00 \n",
      " 2019-02-28T09:00:00+08:00\n"
     ]
    }
   ],
   "source": [
    "time_Taipei = pendulum.datetime(2019, 2, 28, 9, 0, 0, tz='Asia/Taipei')\n",
    "mistake = time_Taipei.in_tz('Asia/Tokyo')\n",
    "corrected = mistake.in_tz('Asia/Taipei')\n",
    "print(mistake,\"\\n\",corrected)"
   ]
  },
  {
   "cell_type": "markdown",
   "id": "cb89d31c",
   "metadata": {},
   "source": [
    "首先將台北時間強制轉換為東京時間，並將其保存在 mistake 變量中。<br>\n",
    "然後，我們將 mistake 中的時間再次強制轉換回台北時間，並將結果保存在 corrected 變量中。\n",
    "\n",
    "+ Pendulum 中的時區轉換是基於時間的，而不是僅僅改變時區名稱\n",
    "+ 將時間從一個時區轉換到另一個時區可能會導致時間值發生變化\n",
    "+ 時區轉換只是修改了時間數據的時區信息，而不會改變時間值本身"
   ]
  },
  {
   "cell_type": "markdown",
   "id": "4d0a3209",
   "metadata": {},
   "source": [
    "# 練習"
   ]
  },
  {
   "cell_type": "markdown",
   "id": "df12fa8e",
   "metadata": {},
   "source": [
    "## 不同時區在生活上的例子\n",
    "Mike 安排在台灣早上 9 點透過 skype 與 Emily 開會。這在澳洲雪梨的 Emily 是幾點 ？"
   ]
  },
  {
   "cell_type": "code",
   "execution_count": 93,
   "id": "25ddb270",
   "metadata": {},
   "outputs": [
    {
     "name": "stdout",
     "output_type": "stream",
     "text": [
      "2011-07-01T11:00:00+10:00\n"
     ]
    }
   ],
   "source": [
    "meeting = pendulum.parse(\"2011-07-01 09:00:00\", tz=\"Asia/Taipei\")\n",
    "meeting_sydney = meeting.in_timezone(\"Australia/Sydney\")\n",
    "\n",
    "print(meeting_sydney)"
   ]
  },
  {
   "cell_type": "markdown",
   "id": "d7bf3051",
   "metadata": {},
   "source": [
    "因此，會議在 Emily 那邊的時間是早上 11 點\n",
    "\n",
    "如果 Emily 出錯並以為是在雪梨的 9 點開會該怎麼辦？ 那是 Mike 的幾點？"
   ]
  },
  {
   "cell_type": "code",
   "execution_count": 94,
   "id": "6095e6c8",
   "metadata": {},
   "outputs": [
    {
     "name": "stdout",
     "output_type": "stream",
     "text": [
      "2011-07-01T07:00:00+08:00\n"
     ]
    }
   ],
   "source": [
    "mistake = pendulum.parse(\"2011-07-01 09:00:00\", tz=\"Australia/Sydney\")\n",
    "mistake_sydney = mistake.in_timezone(\"Asia/Taipei\")\n",
    "\n",
    "print(mistake_sydney)"
   ]
  },
  {
   "cell_type": "markdown",
   "id": "b3730641",
   "metadata": {},
   "source": [
    "這樣她會早上 7 點打電話給 Mike !"
   ]
  },
  {
   "cell_type": "markdown",
   "id": "bd066f3b",
   "metadata": {},
   "source": [
    "Mike 打算從 2018 年 7 月 4 日到 2018 年 9 月 10 日在雪梨逗留："
   ]
  },
  {
   "cell_type": "code",
   "execution_count": 95,
   "id": "2db5c4fc",
   "metadata": {},
   "outputs": [
    {
     "name": "stdout",
     "output_type": "stream",
     "text": [
      "2018-07-04T12:00:00+10:00\n",
      "2018-09-10T14:00:00+10:00\n"
     ]
    }
   ],
   "source": [
    "arrive = pendulum.datetime(2018, 7, 4, 12, 0, 0, tz=\"Australia/Sydney\")\n",
    "print(arrive)\n",
    "leave = pendulum.datetime(2018, 9, 10, 14, 0, 0, tz=\"Australia/Sydney\")\n",
    "print(leave)"
   ]
  },
  {
   "cell_type": "code",
   "execution_count": 96,
   "id": "4f9540cf",
   "metadata": {},
   "outputs": [
    {
     "name": "stdout",
     "output_type": "stream",
     "text": [
      "<Period [2018-07-04T12:00:00+10:00 -> 2018-09-10T14:00:00+10:00]>\n"
     ]
    }
   ],
   "source": [
    "sydney = pendulum.Period(arrive, leave)\n",
    "print(sydney)"
   ]
  },
  {
   "cell_type": "markdown",
   "id": "d9930340",
   "metadata": {},
   "source": [
    "而 Mike 在雪梨的朋友 John 從 7 月 20 日到 8 月底去家族旅遊，不在雪梨。"
   ]
  },
  {
   "cell_type": "code",
   "execution_count": 97,
   "id": "b1bebf78",
   "metadata": {},
   "outputs": [
    {
     "name": "stdout",
     "output_type": "stream",
     "text": [
      "<Period [2018-07-20T00:00:00+10:00 -> 2018-08-31T00:00:00+10:00]>\n"
     ]
    }
   ],
   "source": [
    "start = pendulum.datetime(2018, 7, 20, tz=\"Australia/Sydney\")\n",
    "end = pendulum.datetime(2018, 8, 31, tz=\"Australia/Sydney\")\n",
    "trip = pendulum.Period(start, end)\n",
    "print(trip)"
   ]
  },
  {
   "cell_type": "markdown",
   "id": "c9601db3",
   "metadata": {},
   "source": [
    "Mike 的訪問會和 John 的旅行重疊嗎？ 是。"
   ]
  },
  {
   "cell_type": "code",
   "execution_count": 98,
   "id": "3f026db2",
   "metadata": {},
   "outputs": [
    {
     "name": "stdout",
     "output_type": "stream",
     "text": [
      "True\n"
     ]
    }
   ],
   "source": [
    "overlap = (arrive <= start) and (leave >= end)\n",
    "print(overlap)"
   ]
  },
  {
   "cell_type": "markdown",
   "id": "4ab32d8e",
   "metadata": {},
   "source": [
    "如果 Mike 想與 Emily 建立每週一次的例行會議，那麼接下來一個月的開會時間是："
   ]
  },
  {
   "cell_type": "code",
   "execution_count": 99,
   "id": "7f91f34f",
   "metadata": {},
   "outputs": [
    {
     "name": "stdout",
     "output_type": "stream",
     "text": [
      "[DateTime(2011, 7, 1, 9, 0, 0, tzinfo=Timezone('Asia/Taipei')), DateTime(2011, 7, 8, 9, 0, 0, tzinfo=Timezone('Asia/Taipei')), DateTime(2011, 7, 15, 9, 0, 0, tzinfo=Timezone('Asia/Taipei')), DateTime(2011, 7, 22, 9, 0, 0, tzinfo=Timezone('Asia/Taipei')), DateTime(2011, 7, 29, 9, 0, 0, tzinfo=Timezone('Asia/Taipei')), DateTime(2011, 8, 5, 9, 0, 0, tzinfo=Timezone('Asia/Taipei'))]\n"
     ]
    }
   ],
   "source": [
    "meetings = [meeting + pendulum.duration(weeks=i) for i in range(6)]\n",
    "print(meetings)"
   ]
  },
  {
   "cell_type": "markdown",
   "id": "52296a8c",
   "metadata": {},
   "source": [
    "## 處理真實的資料(作業)\n",
    "+ 用附檔 USDJPY._M5_201901020605_201901040000.csv 計算 1 月 2 日每小時的成交量"
   ]
  },
  {
   "cell_type": "markdown",
   "id": "fa0a3a79",
   "metadata": {},
   "source": [
    "# 參考資料\n",
    "+ [Pendulum](https://pendulum.eustace.io/)\n",
    "+ [Python处理时间的神器 —— Pendulum](https://zhuanlan.zhihu.com/p/420561184)"
   ]
  },
  {
   "cell_type": "markdown",
   "id": "552bc67b",
   "metadata": {},
   "source": [
    "---"
   ]
  }
 ],
 "metadata": {
  "kernelspec": {
   "display_name": "Python 3 (ipykernel)",
   "language": "python",
   "name": "python3"
  },
  "language_info": {
   "codemirror_mode": {
    "name": "ipython",
    "version": 3
   },
   "file_extension": ".py",
   "mimetype": "text/x-python",
   "name": "python",
   "nbconvert_exporter": "python",
   "pygments_lexer": "ipython3",
   "version": "3.8.8"
  }
 },
 "nbformat": 4,
 "nbformat_minor": 5
}
