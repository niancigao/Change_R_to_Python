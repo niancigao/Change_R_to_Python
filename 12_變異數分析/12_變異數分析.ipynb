{
 "cells": [
  {
   "cell_type": "markdown",
   "id": "0a664508",
   "metadata": {},
   "source": [
    "# 變異數分析\n",
    "### 黃孟婷\n",
    "---"
   ]
  },
  {
   "cell_type": "markdown",
   "id": "e73dffe7",
   "metadata": {},
   "source": [
    "# 單因子變異數分析\n",
    "變異數分析是 t-test 的延伸，用來比較兩類以上的平均值。這裡將當作解釋變數的類別變數稱作因子 (factor)，而數值變量則是反應變數。"
   ]
  },
  {
   "cell_type": "markdown",
   "id": "7507fc53",
   "metadata": {},
   "source": [
    "## 總變異公式\n"
   ]
  },
  {
   "cell_type": "markdown",
   "id": "a55ecbae",
   "metadata": {},
   "source": [
    "在分組的資料中，我們會把資料的總變異 (total variation, $SS_{total}$\n",
    ") 拆解成兩個部分，<br>\n",
    "一個稱作組間變異 (between-groups variation, $SS_B$\n",
    ")，另一個稱作組內變異 (within-groups variation, $SS_W$\n",
    ")。\n",
    "\n",
    "$$SS_B \\;=\\; \\sum^k_{i=1} \\;n_i\\;(\\bar {y_i} - \\bar y)^2$$\n",
    "$$SS_W \\;=\\; \\sum^k_{i=1} \\sum^{n_i}_{j=1} \\;(y_{ij} - \\bar {y_i})^2$$\n",
    "$$SS_{total} \\;=\\; \\sum^k_{i=1} \\sum^{n_i}_{j=1} \\; (y_{ij} - \\bar {y})^2$$\n",
    "\n",
    "其中 $k$ 是全部的群數。"
   ]
  },
  {
   "cell_type": "markdown",
   "id": "8c8907a1",
   "metadata": {},
   "source": [
    "## 假設檢定\n"
   ]
  },
  {
   "cell_type": "markdown",
   "id": "7e3b4157",
   "metadata": {},
   "source": [
    "如果我們想知道各組 (以 $k = 4$ 為例) 的平均數是否相同時，將考慮以下的假設檢定：<br>\n",
    "\n",
    "$H_0 : \\mu_1 = \\mu_2 = \\mu_3 = \\mu_4 = \\mu$\n",
    "\n",
    "$H_A : 至少有一組的平均數不等於整體平均數 (\\mu)$\n",
    "\n",
    "而用來檢定虛無假設的檢定統計量為 :\n",
    "\n",
    "$$f = \\frac{SS_B \\;/\\;(k−1)}{SS_W \\;/\\; (n−k)}$$\n",
    "\n",
    "$n \\;是整體的樣本數，k \\;是群的數目。$<br>\n",
    "\n",
    "$在虛無假設成立（且後面敘述的三點假設符合）時，f \\;統計量為\\; F \\;分佈\\; (df_1 = k−1,\\; df_2 = n−k)$<br>\n",
    "由於這個 $f$ 統計量的分子是組間變異，分母是組內的變異，故當 $f$ 很大時，\n",
    "我們認為有足夠的證據指出，各組間的平均數至少有一個和整體的平均數不相等。\n",
    "\n",
    "想要正確應用以上的檢定，需要以下三點假設 :\n",
    "1. 同群體內的樣本是獨立同分配 (iid)\n",
    "2. 各樣本滿足常態假設 （若無明顯離群值，常態的假設不那麼重要）\n",
    "3. 各群的母體變異數假設相等"
   ]
  },
  {
   "cell_type": "markdown",
   "id": "4904982b",
   "metadata": {},
   "source": [
    "## 分析舉例\n",
    "```\n",
    "以下我們以 Cushings 資料作介紹 ：\n",
    "\n",
    "該資料討論庫欣氏症 (Cushing’s syndrome) 的診斷檢查。\n",
    "這是一種與腎上腺過度分泌皮質醇有關的高血壓疾病。\n",
    "觀察紀錄是兩種類固醇代謝物的尿排泄率。資料包含 27 個觀測對象 3 個變數，\n",
    "其中 Type 變量顯示綜合症的基礎類型，包含以下四種：腺瘤(a)、雙側增生(b)、癌症(c)和未知(u)。\n",
    "```"
   ]
  },
  {
   "cell_type": "markdown",
   "id": "5b8cd993",
   "metadata": {},
   "source": [
    "## 讀取資料\n"
   ]
  },
  {
   "cell_type": "code",
   "execution_count": 1,
   "id": "2ae8abf4",
   "metadata": {},
   "outputs": [],
   "source": [
    "import numpy as np\n",
    "import pandas as pd\n",
    "import matplotlib.pyplot as plt\n",
    "import scipy.stats as stats\n",
    "from statsmodels.stats.weightstats import DescrStatsW\n",
    "import statsmodels.api as sm\n",
    "from statsmodels.formula.api import ols\n",
    "from statsmodels.stats.multicomp import pairwise_tukeyhsd\n",
    "from statsmodels.stats.multitest import multipletests"
   ]
  },
  {
   "cell_type": "code",
   "execution_count": 2,
   "id": "20c424bd",
   "metadata": {},
   "outputs": [
    {
     "data": {
      "text/html": [
       "<div>\n",
       "<style scoped>\n",
       "    .dataframe tbody tr th:only-of-type {\n",
       "        vertical-align: middle;\n",
       "    }\n",
       "\n",
       "    .dataframe tbody tr th {\n",
       "        vertical-align: top;\n",
       "    }\n",
       "\n",
       "    .dataframe thead th {\n",
       "        text-align: right;\n",
       "    }\n",
       "</style>\n",
       "<table border=\"1\" class=\"dataframe\">\n",
       "  <thead>\n",
       "    <tr style=\"text-align: right;\">\n",
       "      <th></th>\n",
       "      <th>Tetrahydrocortisone</th>\n",
       "      <th>Pregnanetriol</th>\n",
       "      <th>Type</th>\n",
       "    </tr>\n",
       "    <tr>\n",
       "      <th>Unnamed: 0</th>\n",
       "      <th></th>\n",
       "      <th></th>\n",
       "      <th></th>\n",
       "    </tr>\n",
       "  </thead>\n",
       "  <tbody>\n",
       "    <tr>\n",
       "      <th>a1</th>\n",
       "      <td>3.1</td>\n",
       "      <td>11.70</td>\n",
       "      <td>a</td>\n",
       "    </tr>\n",
       "    <tr>\n",
       "      <th>a2</th>\n",
       "      <td>3.0</td>\n",
       "      <td>1.30</td>\n",
       "      <td>a</td>\n",
       "    </tr>\n",
       "    <tr>\n",
       "      <th>a3</th>\n",
       "      <td>1.9</td>\n",
       "      <td>0.10</td>\n",
       "      <td>a</td>\n",
       "    </tr>\n",
       "    <tr>\n",
       "      <th>a4</th>\n",
       "      <td>3.8</td>\n",
       "      <td>0.04</td>\n",
       "      <td>a</td>\n",
       "    </tr>\n",
       "    <tr>\n",
       "      <th>a5</th>\n",
       "      <td>4.1</td>\n",
       "      <td>1.10</td>\n",
       "      <td>a</td>\n",
       "    </tr>\n",
       "    <tr>\n",
       "      <th>a6</th>\n",
       "      <td>1.9</td>\n",
       "      <td>0.40</td>\n",
       "      <td>a</td>\n",
       "    </tr>\n",
       "    <tr>\n",
       "      <th>b1</th>\n",
       "      <td>8.3</td>\n",
       "      <td>1.00</td>\n",
       "      <td>b</td>\n",
       "    </tr>\n",
       "    <tr>\n",
       "      <th>b2</th>\n",
       "      <td>3.8</td>\n",
       "      <td>0.20</td>\n",
       "      <td>b</td>\n",
       "    </tr>\n",
       "    <tr>\n",
       "      <th>b3</th>\n",
       "      <td>3.9</td>\n",
       "      <td>0.60</td>\n",
       "      <td>b</td>\n",
       "    </tr>\n",
       "    <tr>\n",
       "      <th>b4</th>\n",
       "      <td>7.8</td>\n",
       "      <td>1.20</td>\n",
       "      <td>b</td>\n",
       "    </tr>\n",
       "    <tr>\n",
       "      <th>b5</th>\n",
       "      <td>9.1</td>\n",
       "      <td>0.60</td>\n",
       "      <td>b</td>\n",
       "    </tr>\n",
       "    <tr>\n",
       "      <th>b6</th>\n",
       "      <td>15.4</td>\n",
       "      <td>3.60</td>\n",
       "      <td>b</td>\n",
       "    </tr>\n",
       "    <tr>\n",
       "      <th>b7</th>\n",
       "      <td>7.7</td>\n",
       "      <td>1.60</td>\n",
       "      <td>b</td>\n",
       "    </tr>\n",
       "    <tr>\n",
       "      <th>b8</th>\n",
       "      <td>6.5</td>\n",
       "      <td>0.40</td>\n",
       "      <td>b</td>\n",
       "    </tr>\n",
       "    <tr>\n",
       "      <th>b9</th>\n",
       "      <td>5.7</td>\n",
       "      <td>0.40</td>\n",
       "      <td>b</td>\n",
       "    </tr>\n",
       "    <tr>\n",
       "      <th>b10</th>\n",
       "      <td>13.6</td>\n",
       "      <td>1.60</td>\n",
       "      <td>b</td>\n",
       "    </tr>\n",
       "    <tr>\n",
       "      <th>c1</th>\n",
       "      <td>10.2</td>\n",
       "      <td>6.40</td>\n",
       "      <td>c</td>\n",
       "    </tr>\n",
       "    <tr>\n",
       "      <th>c2</th>\n",
       "      <td>9.2</td>\n",
       "      <td>7.90</td>\n",
       "      <td>c</td>\n",
       "    </tr>\n",
       "    <tr>\n",
       "      <th>c3</th>\n",
       "      <td>9.6</td>\n",
       "      <td>3.10</td>\n",
       "      <td>c</td>\n",
       "    </tr>\n",
       "    <tr>\n",
       "      <th>c4</th>\n",
       "      <td>53.8</td>\n",
       "      <td>2.50</td>\n",
       "      <td>c</td>\n",
       "    </tr>\n",
       "    <tr>\n",
       "      <th>c5</th>\n",
       "      <td>15.8</td>\n",
       "      <td>7.60</td>\n",
       "      <td>c</td>\n",
       "    </tr>\n",
       "    <tr>\n",
       "      <th>u1</th>\n",
       "      <td>5.1</td>\n",
       "      <td>0.40</td>\n",
       "      <td>u</td>\n",
       "    </tr>\n",
       "    <tr>\n",
       "      <th>u2</th>\n",
       "      <td>12.9</td>\n",
       "      <td>5.00</td>\n",
       "      <td>u</td>\n",
       "    </tr>\n",
       "    <tr>\n",
       "      <th>u3</th>\n",
       "      <td>13.0</td>\n",
       "      <td>0.80</td>\n",
       "      <td>u</td>\n",
       "    </tr>\n",
       "    <tr>\n",
       "      <th>u4</th>\n",
       "      <td>2.6</td>\n",
       "      <td>0.10</td>\n",
       "      <td>u</td>\n",
       "    </tr>\n",
       "    <tr>\n",
       "      <th>u5</th>\n",
       "      <td>30.0</td>\n",
       "      <td>0.10</td>\n",
       "      <td>u</td>\n",
       "    </tr>\n",
       "    <tr>\n",
       "      <th>u6</th>\n",
       "      <td>20.5</td>\n",
       "      <td>0.80</td>\n",
       "      <td>u</td>\n",
       "    </tr>\n",
       "  </tbody>\n",
       "</table>\n",
       "</div>"
      ],
      "text/plain": [
       "            Tetrahydrocortisone  Pregnanetriol Type\n",
       "Unnamed: 0                                         \n",
       "a1                          3.1          11.70    a\n",
       "a2                          3.0           1.30    a\n",
       "a3                          1.9           0.10    a\n",
       "a4                          3.8           0.04    a\n",
       "a5                          4.1           1.10    a\n",
       "a6                          1.9           0.40    a\n",
       "b1                          8.3           1.00    b\n",
       "b2                          3.8           0.20    b\n",
       "b3                          3.9           0.60    b\n",
       "b4                          7.8           1.20    b\n",
       "b5                          9.1           0.60    b\n",
       "b6                         15.4           3.60    b\n",
       "b7                          7.7           1.60    b\n",
       "b8                          6.5           0.40    b\n",
       "b9                          5.7           0.40    b\n",
       "b10                        13.6           1.60    b\n",
       "c1                         10.2           6.40    c\n",
       "c2                          9.2           7.90    c\n",
       "c3                          9.6           3.10    c\n",
       "c4                         53.8           2.50    c\n",
       "c5                         15.8           7.60    c\n",
       "u1                          5.1           0.40    u\n",
       "u2                         12.9           5.00    u\n",
       "u3                         13.0           0.80    u\n",
       "u4                          2.6           0.10    u\n",
       "u5                         30.0           0.10    u\n",
       "u6                         20.5           0.80    u"
      ]
     },
     "execution_count": 2,
     "metadata": {},
     "output_type": "execute_result"
    }
   ],
   "source": [
    "Cushings = pd.read_csv(r\"C:\\Users\\user\\Desktop\\R 改 python\\12_變異數分析\\Cushings.csv\")\n",
    "Cushings = Cushings.set_index('Unnamed: 0')\n",
    "Cushings"
   ]
  },
  {
   "cell_type": "markdown",
   "id": "619e4404",
   "metadata": {},
   "source": [
    "若有發現離群值 (outlier) 需移除，可透過以下步驟，例如在 Tetrahydrocortisone 中，異常值的地方落在「c4」"
   ]
  },
  {
   "cell_type": "code",
   "execution_count": 3,
   "id": "75a36eff",
   "metadata": {},
   "outputs": [
    {
     "data": {
      "text/html": [
       "<div>\n",
       "<style scoped>\n",
       "    .dataframe tbody tr th:only-of-type {\n",
       "        vertical-align: middle;\n",
       "    }\n",
       "\n",
       "    .dataframe tbody tr th {\n",
       "        vertical-align: top;\n",
       "    }\n",
       "\n",
       "    .dataframe thead th {\n",
       "        text-align: right;\n",
       "    }\n",
       "</style>\n",
       "<table border=\"1\" class=\"dataframe\">\n",
       "  <thead>\n",
       "    <tr style=\"text-align: right;\">\n",
       "      <th></th>\n",
       "      <th>Tetrahydrocortisone</th>\n",
       "      <th>Pregnanetriol</th>\n",
       "      <th>Type</th>\n",
       "    </tr>\n",
       "    <tr>\n",
       "      <th>Unnamed: 0</th>\n",
       "      <th></th>\n",
       "      <th></th>\n",
       "      <th></th>\n",
       "    </tr>\n",
       "  </thead>\n",
       "  <tbody>\n",
       "    <tr>\n",
       "      <th>a1</th>\n",
       "      <td>3.1</td>\n",
       "      <td>11.70</td>\n",
       "      <td>a</td>\n",
       "    </tr>\n",
       "    <tr>\n",
       "      <th>a2</th>\n",
       "      <td>3.0</td>\n",
       "      <td>1.30</td>\n",
       "      <td>a</td>\n",
       "    </tr>\n",
       "    <tr>\n",
       "      <th>a3</th>\n",
       "      <td>1.9</td>\n",
       "      <td>0.10</td>\n",
       "      <td>a</td>\n",
       "    </tr>\n",
       "    <tr>\n",
       "      <th>a4</th>\n",
       "      <td>3.8</td>\n",
       "      <td>0.04</td>\n",
       "      <td>a</td>\n",
       "    </tr>\n",
       "    <tr>\n",
       "      <th>a5</th>\n",
       "      <td>4.1</td>\n",
       "      <td>1.10</td>\n",
       "      <td>a</td>\n",
       "    </tr>\n",
       "    <tr>\n",
       "      <th>a6</th>\n",
       "      <td>1.9</td>\n",
       "      <td>0.40</td>\n",
       "      <td>a</td>\n",
       "    </tr>\n",
       "    <tr>\n",
       "      <th>b1</th>\n",
       "      <td>8.3</td>\n",
       "      <td>1.00</td>\n",
       "      <td>b</td>\n",
       "    </tr>\n",
       "    <tr>\n",
       "      <th>b2</th>\n",
       "      <td>3.8</td>\n",
       "      <td>0.20</td>\n",
       "      <td>b</td>\n",
       "    </tr>\n",
       "    <tr>\n",
       "      <th>b3</th>\n",
       "      <td>3.9</td>\n",
       "      <td>0.60</td>\n",
       "      <td>b</td>\n",
       "    </tr>\n",
       "    <tr>\n",
       "      <th>b4</th>\n",
       "      <td>7.8</td>\n",
       "      <td>1.20</td>\n",
       "      <td>b</td>\n",
       "    </tr>\n",
       "    <tr>\n",
       "      <th>b5</th>\n",
       "      <td>9.1</td>\n",
       "      <td>0.60</td>\n",
       "      <td>b</td>\n",
       "    </tr>\n",
       "    <tr>\n",
       "      <th>b6</th>\n",
       "      <td>15.4</td>\n",
       "      <td>3.60</td>\n",
       "      <td>b</td>\n",
       "    </tr>\n",
       "    <tr>\n",
       "      <th>b7</th>\n",
       "      <td>7.7</td>\n",
       "      <td>1.60</td>\n",
       "      <td>b</td>\n",
       "    </tr>\n",
       "    <tr>\n",
       "      <th>b8</th>\n",
       "      <td>6.5</td>\n",
       "      <td>0.40</td>\n",
       "      <td>b</td>\n",
       "    </tr>\n",
       "    <tr>\n",
       "      <th>b9</th>\n",
       "      <td>5.7</td>\n",
       "      <td>0.40</td>\n",
       "      <td>b</td>\n",
       "    </tr>\n",
       "    <tr>\n",
       "      <th>b10</th>\n",
       "      <td>13.6</td>\n",
       "      <td>1.60</td>\n",
       "      <td>b</td>\n",
       "    </tr>\n",
       "    <tr>\n",
       "      <th>c1</th>\n",
       "      <td>10.2</td>\n",
       "      <td>6.40</td>\n",
       "      <td>c</td>\n",
       "    </tr>\n",
       "    <tr>\n",
       "      <th>c2</th>\n",
       "      <td>9.2</td>\n",
       "      <td>7.90</td>\n",
       "      <td>c</td>\n",
       "    </tr>\n",
       "    <tr>\n",
       "      <th>c3</th>\n",
       "      <td>9.6</td>\n",
       "      <td>3.10</td>\n",
       "      <td>c</td>\n",
       "    </tr>\n",
       "    <tr>\n",
       "      <th>c5</th>\n",
       "      <td>15.8</td>\n",
       "      <td>7.60</td>\n",
       "      <td>c</td>\n",
       "    </tr>\n",
       "    <tr>\n",
       "      <th>u1</th>\n",
       "      <td>5.1</td>\n",
       "      <td>0.40</td>\n",
       "      <td>u</td>\n",
       "    </tr>\n",
       "    <tr>\n",
       "      <th>u2</th>\n",
       "      <td>12.9</td>\n",
       "      <td>5.00</td>\n",
       "      <td>u</td>\n",
       "    </tr>\n",
       "    <tr>\n",
       "      <th>u3</th>\n",
       "      <td>13.0</td>\n",
       "      <td>0.80</td>\n",
       "      <td>u</td>\n",
       "    </tr>\n",
       "    <tr>\n",
       "      <th>u4</th>\n",
       "      <td>2.6</td>\n",
       "      <td>0.10</td>\n",
       "      <td>u</td>\n",
       "    </tr>\n",
       "    <tr>\n",
       "      <th>u5</th>\n",
       "      <td>30.0</td>\n",
       "      <td>0.10</td>\n",
       "      <td>u</td>\n",
       "    </tr>\n",
       "    <tr>\n",
       "      <th>u6</th>\n",
       "      <td>20.5</td>\n",
       "      <td>0.80</td>\n",
       "      <td>u</td>\n",
       "    </tr>\n",
       "  </tbody>\n",
       "</table>\n",
       "</div>"
      ],
      "text/plain": [
       "            Tetrahydrocortisone  Pregnanetriol Type\n",
       "Unnamed: 0                                         \n",
       "a1                          3.1          11.70    a\n",
       "a2                          3.0           1.30    a\n",
       "a3                          1.9           0.10    a\n",
       "a4                          3.8           0.04    a\n",
       "a5                          4.1           1.10    a\n",
       "a6                          1.9           0.40    a\n",
       "b1                          8.3           1.00    b\n",
       "b2                          3.8           0.20    b\n",
       "b3                          3.9           0.60    b\n",
       "b4                          7.8           1.20    b\n",
       "b5                          9.1           0.60    b\n",
       "b6                         15.4           3.60    b\n",
       "b7                          7.7           1.60    b\n",
       "b8                          6.5           0.40    b\n",
       "b9                          5.7           0.40    b\n",
       "b10                        13.6           1.60    b\n",
       "c1                         10.2           6.40    c\n",
       "c2                          9.2           7.90    c\n",
       "c3                          9.6           3.10    c\n",
       "c5                         15.8           7.60    c\n",
       "u1                          5.1           0.40    u\n",
       "u2                         12.9           5.00    u\n",
       "u3                         13.0           0.80    u\n",
       "u4                          2.6           0.10    u\n",
       "u5                         30.0           0.10    u\n",
       "u6                         20.5           0.80    u"
      ]
     },
     "execution_count": 3,
     "metadata": {},
     "output_type": "execute_result"
    }
   ],
   "source": [
    "Cushings = Cushings.drop('c4')\n",
    "Cushings"
   ]
  },
  {
   "cell_type": "markdown",
   "id": "2d30d740",
   "metadata": {},
   "source": [
    "但要注意的是，我們最好確定紀錄是有錯誤記錄且不能恢復時，才考慮將離群值 / 異常值刪除 ！"
   ]
  },
  {
   "cell_type": "markdown",
   "id": "d2aebc3c",
   "metadata": {},
   "source": [
    "## 基礎統計摘要(Summary)\n",
    "先看一下各組的簡單摘要，以 Type 作為分群："
   ]
  },
  {
   "cell_type": "markdown",
   "id": "2c2a138e",
   "metadata": {},
   "source": [
    "+ Tetrahydrocortisone 基礎統計量"
   ]
  },
  {
   "cell_type": "code",
   "execution_count": 4,
   "id": "6501ec31",
   "metadata": {},
   "outputs": [
    {
     "data": {
      "text/html": [
       "<div>\n",
       "<style scoped>\n",
       "    .dataframe tbody tr th:only-of-type {\n",
       "        vertical-align: middle;\n",
       "    }\n",
       "\n",
       "    .dataframe tbody tr th {\n",
       "        vertical-align: top;\n",
       "    }\n",
       "\n",
       "    .dataframe thead th {\n",
       "        text-align: right;\n",
       "    }\n",
       "</style>\n",
       "<table border=\"1\" class=\"dataframe\">\n",
       "  <thead>\n",
       "    <tr style=\"text-align: right;\">\n",
       "      <th></th>\n",
       "      <th>count</th>\n",
       "      <th>mean</th>\n",
       "      <th>std</th>\n",
       "      <th>min</th>\n",
       "      <th>25%</th>\n",
       "      <th>50%</th>\n",
       "      <th>75%</th>\n",
       "      <th>max</th>\n",
       "    </tr>\n",
       "    <tr>\n",
       "      <th>Type</th>\n",
       "      <th></th>\n",
       "      <th></th>\n",
       "      <th></th>\n",
       "      <th></th>\n",
       "      <th></th>\n",
       "      <th></th>\n",
       "      <th></th>\n",
       "      <th></th>\n",
       "    </tr>\n",
       "  </thead>\n",
       "  <tbody>\n",
       "    <tr>\n",
       "      <th>a</th>\n",
       "      <td>6.0</td>\n",
       "      <td>2.966667</td>\n",
       "      <td>0.924482</td>\n",
       "      <td>1.9</td>\n",
       "      <td>2.175</td>\n",
       "      <td>3.05</td>\n",
       "      <td>3.625</td>\n",
       "      <td>4.1</td>\n",
       "    </tr>\n",
       "    <tr>\n",
       "      <th>b</th>\n",
       "      <td>10.0</td>\n",
       "      <td>8.180000</td>\n",
       "      <td>3.789107</td>\n",
       "      <td>3.8</td>\n",
       "      <td>5.900</td>\n",
       "      <td>7.75</td>\n",
       "      <td>8.900</td>\n",
       "      <td>15.4</td>\n",
       "    </tr>\n",
       "    <tr>\n",
       "      <th>c</th>\n",
       "      <td>4.0</td>\n",
       "      <td>11.200000</td>\n",
       "      <td>3.094080</td>\n",
       "      <td>9.2</td>\n",
       "      <td>9.500</td>\n",
       "      <td>9.90</td>\n",
       "      <td>11.600</td>\n",
       "      <td>15.8</td>\n",
       "    </tr>\n",
       "    <tr>\n",
       "      <th>u</th>\n",
       "      <td>6.0</td>\n",
       "      <td>14.016667</td>\n",
       "      <td>10.095824</td>\n",
       "      <td>2.6</td>\n",
       "      <td>7.050</td>\n",
       "      <td>12.95</td>\n",
       "      <td>18.625</td>\n",
       "      <td>30.0</td>\n",
       "    </tr>\n",
       "  </tbody>\n",
       "</table>\n",
       "</div>"
      ],
      "text/plain": [
       "      count       mean        std  min    25%    50%     75%   max\n",
       "Type                                                              \n",
       "a       6.0   2.966667   0.924482  1.9  2.175   3.05   3.625   4.1\n",
       "b      10.0   8.180000   3.789107  3.8  5.900   7.75   8.900  15.4\n",
       "c       4.0  11.200000   3.094080  9.2  9.500   9.90  11.600  15.8\n",
       "u       6.0  14.016667  10.095824  2.6  7.050  12.95  18.625  30.0"
      ]
     },
     "execution_count": 4,
     "metadata": {},
     "output_type": "execute_result"
    }
   ],
   "source": [
    "statistics = Cushings.groupby('Type')['Tetrahydrocortisone'].describe()\n",
    "statistics"
   ]
  },
  {
   "cell_type": "markdown",
   "id": "f254a2d5",
   "metadata": {},
   "source": [
    "+ Pregnanetriol 基礎統計量"
   ]
  },
  {
   "cell_type": "code",
   "execution_count": 5,
   "id": "a1643504",
   "metadata": {},
   "outputs": [
    {
     "data": {
      "text/html": [
       "<div>\n",
       "<style scoped>\n",
       "    .dataframe tbody tr th:only-of-type {\n",
       "        vertical-align: middle;\n",
       "    }\n",
       "\n",
       "    .dataframe tbody tr th {\n",
       "        vertical-align: top;\n",
       "    }\n",
       "\n",
       "    .dataframe thead th {\n",
       "        text-align: right;\n",
       "    }\n",
       "</style>\n",
       "<table border=\"1\" class=\"dataframe\">\n",
       "  <thead>\n",
       "    <tr style=\"text-align: right;\">\n",
       "      <th></th>\n",
       "      <th>count</th>\n",
       "      <th>mean</th>\n",
       "      <th>std</th>\n",
       "      <th>min</th>\n",
       "      <th>25%</th>\n",
       "      <th>50%</th>\n",
       "      <th>75%</th>\n",
       "      <th>max</th>\n",
       "    </tr>\n",
       "    <tr>\n",
       "      <th>Type</th>\n",
       "      <th></th>\n",
       "      <th></th>\n",
       "      <th></th>\n",
       "      <th></th>\n",
       "      <th></th>\n",
       "      <th></th>\n",
       "      <th></th>\n",
       "      <th></th>\n",
       "    </tr>\n",
       "  </thead>\n",
       "  <tbody>\n",
       "    <tr>\n",
       "      <th>a</th>\n",
       "      <td>6.0</td>\n",
       "      <td>2.44</td>\n",
       "      <td>4.565961</td>\n",
       "      <td>0.04</td>\n",
       "      <td>0.175</td>\n",
       "      <td>0.75</td>\n",
       "      <td>1.250</td>\n",
       "      <td>11.7</td>\n",
       "    </tr>\n",
       "    <tr>\n",
       "      <th>b</th>\n",
       "      <td>10.0</td>\n",
       "      <td>1.12</td>\n",
       "      <td>1.003106</td>\n",
       "      <td>0.20</td>\n",
       "      <td>0.450</td>\n",
       "      <td>0.80</td>\n",
       "      <td>1.500</td>\n",
       "      <td>3.6</td>\n",
       "    </tr>\n",
       "    <tr>\n",
       "      <th>c</th>\n",
       "      <td>4.0</td>\n",
       "      <td>6.25</td>\n",
       "      <td>2.197726</td>\n",
       "      <td>3.10</td>\n",
       "      <td>5.575</td>\n",
       "      <td>7.00</td>\n",
       "      <td>7.675</td>\n",
       "      <td>7.9</td>\n",
       "    </tr>\n",
       "    <tr>\n",
       "      <th>u</th>\n",
       "      <td>6.0</td>\n",
       "      <td>1.20</td>\n",
       "      <td>1.887856</td>\n",
       "      <td>0.10</td>\n",
       "      <td>0.175</td>\n",
       "      <td>0.60</td>\n",
       "      <td>0.800</td>\n",
       "      <td>5.0</td>\n",
       "    </tr>\n",
       "  </tbody>\n",
       "</table>\n",
       "</div>"
      ],
      "text/plain": [
       "      count  mean       std   min    25%   50%    75%   max\n",
       "Type                                                       \n",
       "a       6.0  2.44  4.565961  0.04  0.175  0.75  1.250  11.7\n",
       "b      10.0  1.12  1.003106  0.20  0.450  0.80  1.500   3.6\n",
       "c       4.0  6.25  2.197726  3.10  5.575  7.00  7.675   7.9\n",
       "u       6.0  1.20  1.887856  0.10  0.175  0.60  0.800   5.0"
      ]
     },
     "execution_count": 5,
     "metadata": {},
     "output_type": "execute_result"
    }
   ],
   "source": [
    "statistics = Cushings.groupby('Type')['Pregnanetriol'].describe()\n",
    "statistics"
   ]
  },
  {
   "cell_type": "markdown",
   "id": "e0c919bb",
   "metadata": {},
   "source": [
    "## F 分佈機率函數\n",
    "+ 繪製 F 分佈圖\n",
    "+ 分子自由度 4 - 1 = 3\n",
    "+ 分母自由度 (6-1) + (10-1) + (4-1) + (6-1) = 22"
   ]
  },
  {
   "cell_type": "code",
   "execution_count": 6,
   "id": "5fc460ff",
   "metadata": {},
   "outputs": [
    {
     "data": {
      "image/png": "[encoded data removed]",
      "text/plain": [
       "<Figure size 640x480 with 1 Axes>"
      ]
     },
     "metadata": {},
     "output_type": "display_data"
    }
   ],
   "source": [
    "# import scipy.stats as stats\n",
    "\n",
    "dfn = 3   # 分子自由度\n",
    "dfd = 22  # 分母自由度\n",
    "\n",
    "# F分佈的機率密度函數（PDF）\n",
    "x = np.linspace(0, 5, 1000)\n",
    "f_dist = stats.f(dfn, dfd)  # 創建一個 F分佈對象\n",
    "y = f_dist.pdf(x)           # 計算在給定 x值處的概率密度\n",
    "\n",
    "plt.plot(x, y)\n",
    "plt.title(f\"F PDF (dfn={dfn}, dfd={dfd})\")\n",
    "plt.xlabel(\"F Value\")\n",
    "plt.ylabel(\"Probability Density\")\n",
    "plt.show()"
   ]
  },
  {
   "cell_type": "markdown",
   "id": "1014e460",
   "metadata": {},
   "source": [
    "$p-value = P(F≥f)$ 需計算大於觀察到的檢定統計量 $(f)$ 的機率，以下假設 $f = 3.2$。"
   ]
  },
  {
   "cell_type": "markdown",
   "id": "c4a650ec",
   "metadata": {},
   "source": [
    "+ 自由度為 3 和 22 的 F 分佈中小於給定值的**右尾**機率（p-value）"
   ]
  },
  {
   "cell_type": "code",
   "execution_count": 7,
   "id": "2e5a0c7e",
   "metadata": {},
   "outputs": [
    {
     "name": "stdout",
     "output_type": "stream",
     "text": [
      "右尾機率（p-value）:  0.04322893689324103\n"
     ]
    }
   ],
   "source": [
    "f = 3.2                                 # 給定的值\n",
    "p_value = stats.f.sf(f, dfn, dfd)       # sf 即 \"survival function\"來計算右尾機率\n",
    "print(\"右尾機率（p-value）: \", p_value)"
   ]
  },
  {
   "cell_type": "markdown",
   "id": "578ef0ac",
   "metadata": {},
   "source": [
    "## 平均數檢定"
   ]
  },
  {
   "cell_type": "markdown",
   "id": "1c40cdc4",
   "metadata": {},
   "source": [
    "我們要檢定每組的平均數是否相等，在這個例子中，就是了解 Tetrahydrocortisone 的排泄率會不會受到 Type 的類別不同而影響。"
   ]
  },
  {
   "cell_type": "markdown",
   "id": "042d1d3b",
   "metadata": {},
   "source": [
    "### 單因子變異數分析 (One-way ANOVA)\n",
    "+ 群組 : Type\n",
    "+ 變數 : Tetrahydrocortisone\n",
    "+ [statsmodels.regression.linear_model.OLS](https://www.statsmodels.org/stable/generated/statsmodels.regression.linear_model.OLS.html)\n",
    "+ [statsmodels.stats.anova.anova_lm](https://www.statsmodels.org/stable/generated/statsmodels.stats.anova.anova_lm.html)\n",
    "+ [anova_lm() 中 type 的使用](https://stackoverflow.com/questions/55175274/uses-of-typ-in-anova-lm)"
   ]
  },
  {
   "cell_type": "code",
   "execution_count": 8,
   "id": "7b8b0de3",
   "metadata": {},
   "outputs": [
    {
     "data": {
      "text/html": [
       "<div>\n",
       "<style scoped>\n",
       "    .dataframe tbody tr th:only-of-type {\n",
       "        vertical-align: middle;\n",
       "    }\n",
       "\n",
       "    .dataframe tbody tr th {\n",
       "        vertical-align: top;\n",
       "    }\n",
       "\n",
       "    .dataframe thead th {\n",
       "        text-align: right;\n",
       "    }\n",
       "</style>\n",
       "<table border=\"1\" class=\"dataframe\">\n",
       "  <thead>\n",
       "    <tr style=\"text-align: right;\">\n",
       "      <th></th>\n",
       "      <th>sum_sq</th>\n",
       "      <th>df</th>\n",
       "      <th>F</th>\n",
       "      <th>PR(&gt;F)</th>\n",
       "    </tr>\n",
       "  </thead>\n",
       "  <tbody>\n",
       "    <tr>\n",
       "      <th>Type</th>\n",
       "      <td>394.328872</td>\n",
       "      <td>3.0</td>\n",
       "      <td>4.304232</td>\n",
       "      <td>0.015615</td>\n",
       "    </tr>\n",
       "    <tr>\n",
       "      <th>Residual</th>\n",
       "      <td>671.837667</td>\n",
       "      <td>22.0</td>\n",
       "      <td>NaN</td>\n",
       "      <td>NaN</td>\n",
       "    </tr>\n",
       "  </tbody>\n",
       "</table>\n",
       "</div>"
      ],
      "text/plain": [
       "              sum_sq    df         F    PR(>F)\n",
       "Type      394.328872   3.0  4.304232  0.015615\n",
       "Residual  671.837667  22.0       NaN       NaN"
      ]
     },
     "execution_count": 8,
     "metadata": {},
     "output_type": "execute_result"
    }
   ],
   "source": [
    "# import statsmodels.api as sm\n",
    "# from statsmodels.formula.api import ols\n",
    "\n",
    "# 跟 R 寫法類似\n",
    "model = ols('Tetrahydrocortisone ~ Type', data=Cushings).fit()\n",
    "anova_table = sm.stats.anova_lm(model, typ=2)\n",
    "anova_table"
   ]
  },
  {
   "cell_type": "markdown",
   "id": "78a588f4",
   "metadata": {},
   "source": [
    "+ [scipy.stats.f_oneway](https://docs.scipy.org/doc/scipy/reference/generated/scipy.stats.f_oneway.html)"
   ]
  },
  {
   "cell_type": "code",
   "execution_count": 9,
   "id": "36227a06",
   "metadata": {},
   "outputs": [
    {
     "name": "stdout",
     "output_type": "stream",
     "text": [
      "統計量： 4.304231815665381\n",
      "P 值： 0.015614931262048711\n"
     ]
    }
   ],
   "source": [
    "# import scipy.stats as stats\n",
    "\n",
    "f_statistic, p_value = stats.f_oneway(*Cushings.groupby('Type')['Tetrahydrocortisone'].agg(list))\n",
    "\n",
    "print(\"統計量：\", f_statistic)\n",
    "print(\"P 值：\", p_value)"
   ]
  },
  {
   "cell_type": "markdown",
   "id": "2c74954c",
   "metadata": {},
   "source": [
    "+ \\* 操作符展開列表\n",
    "+ groupby() 之後的方括號中選擇了 'Tetrahydrocortisone' 列，並使用 agg() 將每個組的數據聚合為列表\n"
   ]
  },
  {
   "cell_type": "code",
   "execution_count": 10,
   "id": "1ba09d87",
   "metadata": {},
   "outputs": [
    {
     "data": {
      "text/plain": [
       "Type\n",
       "a                       [3.1, 3.0, 1.9, 3.8, 4.1, 1.9]\n",
       "b    [8.3, 3.8, 3.9, 7.8, 9.1, 15.4, 7.7, 6.5, 5.7,...\n",
       "c                               [10.2, 9.2, 9.6, 15.8]\n",
       "u                   [5.1, 12.9, 13.0, 2.6, 30.0, 20.5]\n",
       "Name: Tetrahydrocortisone, dtype: object"
      ]
     },
     "execution_count": 10,
     "metadata": {},
     "output_type": "execute_result"
    }
   ],
   "source": [
    "Cushings.groupby('Type')['Tetrahydrocortisone'].agg(list)"
   ]
  },
  {
   "cell_type": "code",
   "execution_count": 11,
   "id": "8959ffa1",
   "metadata": {},
   "outputs": [
    {
     "name": "stdout",
     "output_type": "stream",
     "text": [
      "各組均值：\n",
      "Type\n",
      "a     2.966667\n",
      "b     8.180000\n",
      "c    11.200000\n",
      "u    14.016667\n",
      "Name: Tetrahydrocortisone, dtype: float64\n",
      "\n",
      "各組標準差：\n",
      "Type\n",
      "a     0.924482\n",
      "b     3.789107\n",
      "c     3.094080\n",
      "u    10.095824\n",
      "Name: Tetrahydrocortisone, dtype: float64\n"
     ]
    }
   ],
   "source": [
    "group_means = Cushings.groupby('Type')['Tetrahydrocortisone'].mean()\n",
    "group_std = Cushings.groupby('Type')['Tetrahydrocortisone'].std()\n",
    "\n",
    "print(\"各組均值：\")\n",
    "print(group_means)\n",
    "print(\"\\n各組標準差：\")\n",
    "print(group_std)"
   ]
  },
  {
   "cell_type": "markdown",
   "id": "080f0001",
   "metadata": {},
   "source": [
    "## 成對比較與繪圖\n",
    "除了知道各群平均是否有差異之外，我們還想知道是哪幾群明顯跟大家不同。\n",
    "\n",
    "+ Tetrahydrocortisone 的各組平均落在 95% 信賴區間的結果"
   ]
  },
  {
   "cell_type": "markdown",
   "id": "ad9441b8",
   "metadata": {},
   "source": [
    "#### 各組平均 95% 信賴區間"
   ]
  },
  {
   "cell_type": "code",
   "execution_count": 12,
   "id": "0486f2b9",
   "metadata": {},
   "outputs": [
    {
     "data": {
      "text/plain": [
       "Type\n",
       "a     (1.9964824782698627, 3.93685085506347)\n",
       "b     (5.469436000838449, 10.89056399916155)\n",
       "c    (6.276627679811145, 16.123372320188853)\n",
       "u    (3.4217489127930723, 24.61158442054026)\n",
       "Name: Tetrahydrocortisone, dtype: object"
      ]
     },
     "execution_count": 12,
     "metadata": {},
     "output_type": "execute_result"
    }
   ],
   "source": [
    "# from statsmodels.stats.weightstats import DescrStatsW\n",
    "\n",
    "group_ci = Cushings.groupby('Type')['Tetrahydrocortisone'].apply(lambda x: DescrStatsW(x).tconfint_mean())\n",
    "group_ci"
   ]
  },
  {
   "cell_type": "markdown",
   "id": "581ceacc",
   "metadata": {},
   "source": [
    "+ apply() 將每個組的數據傳遞給 DescrStatsW 類，創建一個描述性統計對象\n",
    "+ tconfint_mean() 計算每個組均值的信賴區間\n",
    "+ 注意，這裡的信賴區間是使用 t 分佈計算得到的"
   ]
  },
  {
   "cell_type": "code",
   "execution_count": 13,
   "id": "b464b86a",
   "metadata": {},
   "outputs": [
    {
     "data": {
      "image/png": "[encoded data removed]",
      "text/plain": [
       "<Figure size 800x600 with 1 Axes>"
      ]
     },
     "metadata": {},
     "output_type": "display_data"
    }
   ],
   "source": [
    "plt.figure(figsize=(8, 6))\n",
    "\n",
    "x = np.arange(len(group_ci))\n",
    "\n",
    "# plot() 繪製平均值的折線\n",
    "plt.plot(x, group_ci.apply(lambda x: (x[0]+x[1])/2), marker='o', markersize=8, color='skyblue')\n",
    "\n",
    "# errorbar() 繪製誤差線，表示平均值的 95% 信賴區間\n",
    "plt.errorbar(x, group_ci.apply(lambda x: (x[0]+x[1])/2), yerr=group_ci.apply(lambda x: x[1]-x[0])/2, linestyle='', capsize=4, color='black')\n",
    "\n",
    "plt.xticks(x, group_ci.index)\n",
    "plt.title(\"Tetrahydrocortisone Mean Confidence Interval\")\n",
    "plt.xlabel(\"Group\")\n",
    "plt.ylabel(\"Mean\")\n",
    "plt.show()"
   ]
  },
  {
   "cell_type": "markdown",
   "id": "fc3b3104",
   "metadata": {},
   "source": [
    "+ **注意 : 這裡直接做兩兩比較是有問題的，當組數多的時候需要考慮多個檢定的整體型一錯誤**"
   ]
  },
  {
   "cell_type": "markdown",
   "id": "67e87df1",
   "metadata": {},
   "source": [
    "### 單因子變異數分析 (One-way ANOVA)，平均數成對比較"
   ]
  },
  {
   "cell_type": "markdown",
   "id": "f97bf0e4",
   "metadata": {},
   "source": [
    "可以使用事後多重比較方法，例如 Tukey's HSD （Honestly Significant Difference）或 Bonferroni 校正。<br>\n",
    "這些方法可以用於比較不同組之間的平均值是否存在顯著差異。\n",
    "\n",
    "+ 使用 Tukey's HSD 方法\n",
    "+ [statsmodels.stats.multicomp.pairwise_tukeyhsd](https://www.statsmodels.org/dev/generated/statsmodels.stats.multicomp.pairwise_tukeyhsd.html)"
   ]
  },
  {
   "cell_type": "code",
   "execution_count": 14,
   "id": "41dd3f34",
   "metadata": {},
   "outputs": [
    {
     "name": "stdout",
     "output_type": "stream",
     "text": [
      "方差分析結果：\n",
      "              sum_sq    df         F    PR(>F)\n",
      "Type      394.328872   3.0  4.304232  0.015615\n",
      "Residual  671.837667  22.0       NaN       NaN\n",
      "\n",
      "成對比較結果：\n",
      "Multiple Comparison of Means - Tukey HSD, FWER=0.05 \n",
      "====================================================\n",
      "group1 group2 meandiff p-adj   lower   upper  reject\n",
      "----------------------------------------------------\n",
      "     a      b   5.2133 0.2879 -2.7109 13.1375  False\n",
      "     a      c   8.2333 0.1267 -1.6719 18.1386  False\n",
      "     a      u    11.05  0.011  2.1905 19.9095   True\n",
      "     b      c     3.02 0.7925 -6.0583 12.0983  False\n",
      "     b      u   5.8367 0.2023 -2.0875 13.7609  False\n",
      "     c      u   2.8167 0.8584 -7.0886 12.7219  False\n",
      "----------------------------------------------------\n"
     ]
    }
   ],
   "source": [
    "# import statsmodels.api as sm\n",
    "# from statsmodels.formula.api import ols\n",
    "# from statsmodels.stats.multicomp import pairwise_tukeyhsd\n",
    "\n",
    "# 跟 R 寫法類似\n",
    "model = ols('Tetrahydrocortisone ~ Type', data=Cushings).fit()\n",
    "anova_table = sm.stats.anova_lm(model, typ=2)\n",
    "\n",
    "# Tukey's HSD\n",
    "pairwise_results = pairwise_tukeyhsd(Cushings['Tetrahydrocortisone'], Cushings['Type'])\n",
    "\n",
    "print(\"方差分析結果：\")\n",
    "print(anova_table)\n",
    "print(\"\\n成對比較結果：\")\n",
    "print(pairwise_results)"
   ]
  },
  {
   "cell_type": "markdown",
   "id": "319d129d",
   "metadata": {},
   "source": [
    "注意這個表跟前面的平均數圖有非常不同的結論，前面 a-b 和 a-u 明顯不同，但此處卻只有 a-u 不同。"
   ]
  },
  {
   "cell_type": "markdown",
   "id": "2657afb2",
   "metadata": {},
   "source": [
    "+ 使用 Bonferroni 校正\n",
    "+ [statsmodels.stats.multitest.multipletests](https://www.statsmodels.org/dev/generated/statsmodels.stats.multitest.multipletests.html)"
   ]
  },
  {
   "cell_type": "code",
   "execution_count": 15,
   "id": "cf00cdda",
   "metadata": {},
   "outputs": [
    {
     "data": {
      "text/html": [
       "<div>\n",
       "<style scoped>\n",
       "    .dataframe tbody tr th:only-of-type {\n",
       "        vertical-align: middle;\n",
       "    }\n",
       "\n",
       "    .dataframe tbody tr th {\n",
       "        vertical-align: top;\n",
       "    }\n",
       "\n",
       "    .dataframe thead th {\n",
       "        text-align: right;\n",
       "    }\n",
       "</style>\n",
       "<table border=\"1\" class=\"dataframe\">\n",
       "  <thead>\n",
       "    <tr style=\"text-align: right;\">\n",
       "      <th></th>\n",
       "      <th>group1</th>\n",
       "      <th>group2</th>\n",
       "      <th>meandiff</th>\n",
       "      <th>p-adj</th>\n",
       "      <th>lower</th>\n",
       "      <th>upper</th>\n",
       "      <th>reject</th>\n",
       "    </tr>\n",
       "  </thead>\n",
       "  <tbody>\n",
       "    <tr>\n",
       "      <th>0</th>\n",
       "      <td>a</td>\n",
       "      <td>b</td>\n",
       "      <td>5.2133</td>\n",
       "      <td>1.000000</td>\n",
       "      <td>-2.7109</td>\n",
       "      <td>13.1375</td>\n",
       "      <td>False</td>\n",
       "    </tr>\n",
       "    <tr>\n",
       "      <th>1</th>\n",
       "      <td>a</td>\n",
       "      <td>c</td>\n",
       "      <td>8.2333</td>\n",
       "      <td>0.760202</td>\n",
       "      <td>-1.6719</td>\n",
       "      <td>18.1386</td>\n",
       "      <td>False</td>\n",
       "    </tr>\n",
       "    <tr>\n",
       "      <th>2</th>\n",
       "      <td>a</td>\n",
       "      <td>u</td>\n",
       "      <td>11.0500</td>\n",
       "      <td>0.066031</td>\n",
       "      <td>2.1905</td>\n",
       "      <td>19.9095</td>\n",
       "      <td>False</td>\n",
       "    </tr>\n",
       "    <tr>\n",
       "      <th>3</th>\n",
       "      <td>b</td>\n",
       "      <td>c</td>\n",
       "      <td>3.0200</td>\n",
       "      <td>1.000000</td>\n",
       "      <td>-6.0583</td>\n",
       "      <td>12.0983</td>\n",
       "      <td>False</td>\n",
       "    </tr>\n",
       "    <tr>\n",
       "      <th>4</th>\n",
       "      <td>b</td>\n",
       "      <td>u</td>\n",
       "      <td>5.8367</td>\n",
       "      <td>1.000000</td>\n",
       "      <td>-2.0875</td>\n",
       "      <td>13.7609</td>\n",
       "      <td>False</td>\n",
       "    </tr>\n",
       "    <tr>\n",
       "      <th>5</th>\n",
       "      <td>c</td>\n",
       "      <td>u</td>\n",
       "      <td>2.8167</td>\n",
       "      <td>1.000000</td>\n",
       "      <td>-7.0886</td>\n",
       "      <td>12.7219</td>\n",
       "      <td>False</td>\n",
       "    </tr>\n",
       "  </tbody>\n",
       "</table>\n",
       "</div>"
      ],
      "text/plain": [
       "  group1 group2  meandiff     p-adj   lower    upper  reject\n",
       "0      a      b    5.2133  1.000000 -2.7109  13.1375   False\n",
       "1      a      c    8.2333  0.760202 -1.6719  18.1386   False\n",
       "2      a      u   11.0500  0.066031  2.1905  19.9095   False\n",
       "3      b      c    3.0200  1.000000 -6.0583  12.0983   False\n",
       "4      b      u    5.8367  1.000000 -2.0875  13.7609   False\n",
       "5      c      u    2.8167  1.000000 -7.0886  12.7219   False"
      ]
     },
     "execution_count": 15,
     "metadata": {},
     "output_type": "execute_result"
    }
   ],
   "source": [
    "# import statsmodels.api as sm\n",
    "# from statsmodels.formula.api import ols\n",
    "# from statsmodels.stats.multicomp import pairwise_tukeyhsd\n",
    "# from statsmodels.stats.multitest import multipletests\n",
    "\n",
    "# 成對比較\n",
    "pairwise_results = pairwise_tukeyhsd(Cushings['Tetrahydrocortisone'], Cushings['Type'])\n",
    "\n",
    "# 使用 Bonferroni 校正\n",
    "p_adjusted = multipletests(pairwise_results.pvalues, method='bonferroni')[1]\n",
    "p_reject = multipletests(pairwise_results.pvalues, method='bonferroni')[0]\n",
    "\n",
    "# 創建一個新的結果 DataFrame，並將校正後的 p 值插入其中\n",
    "results_df = pd.DataFrame(pairwise_results._results_table.data[1:7], columns=pairwise_results._results_table.data[0])\n",
    "results_df['p-adj'] = p_adjusted\n",
    "results_df['reject'] = p_reject\n",
    "results_df"
   ]
  },
  {
   "cell_type": "markdown",
   "id": "b18ee7d9",
   "metadata": {},
   "source": [
    "注意這個表跟前面的平均數圖有非常不同的結論，前面 a-b 和 a-u 明顯不同，但此處卻沒有一個不同。<br>\n",
    "原因在於這個資料的各組變異數相差極大，此處平均數成對比較是根據相同變異數假設所作的結果，自然不可靠。"
   ]
  },
  {
   "cell_type": "markdown",
   "id": "31d5474f",
   "metadata": {},
   "source": [
    "## 假設不符合時的替代檢定\n",
    "前面 Cushings 資料看起來不滿足變異數相等的假設，以下我們介紹一種無母數的方法。<br>\n",
    "Kruskal-Wallis test 常被用在當資料樣本數較小時 (通常以各組樣本筆數 < 10 為標準)，<br>\n",
    "或是當資料中包含多組樣本 (三組以上之樣本)，目標是判斷多組樣本間母體中位數是否有差異。\n",
    "+ [Kruskal-Wallis 單向方差分析](https://en.wikipedia.org/wiki/Kruskal%E2%80%93Wallis_one-way_analysis_of_variance)\n",
    "+ [scipy.stats.kruskal](https://docs.scipy.org/doc/scipy/reference/generated/scipy.stats.kruskal.html)"
   ]
  },
  {
   "cell_type": "code",
   "execution_count": 16,
   "id": "04dc25fc",
   "metadata": {},
   "outputs": [
    {
     "name": "stdout",
     "output_type": "stream",
     "text": [
      "統計量： 12.317253962823592\n",
      "P 值： 0.006371757211108229\n"
     ]
    }
   ],
   "source": [
    "result = stats.kruskal(*Cushings.groupby('Type')['Tetrahydrocortisone'].agg(list))\n",
    "print(\"統計量：\", result.statistic)\n",
    "print(\"P 值：\", result.pvalue)"
   ]
  },
  {
   "cell_type": "code",
   "execution_count": 17,
   "id": "e5efca1d",
   "metadata": {},
   "outputs": [
    {
     "name": "stdout",
     "output_type": "stream",
     "text": [
      "各組中位數：\n",
      "Type\n",
      "a     3.05\n",
      "b     7.75\n",
      "c     9.90\n",
      "u    12.95\n",
      "Name: Tetrahydrocortisone, dtype: float64\n"
     ]
    }
   ],
   "source": [
    "group_median = Cushings.groupby('Type')['Tetrahydrocortisone'].median()\n",
    "print(\"各組中位數：\")\n",
    "print(group_median)"
   ]
  },
  {
   "cell_type": "markdown",
   "id": "b83f0f26",
   "metadata": {},
   "source": [
    "# 雙因子變異數分析\n",
    "```\n",
    "以下根據 R 中 MASS 套件中的 genotype 資料討論：\n",
    "Bailey(1953) 研究母親對老鼠生長的影響。\n",
    "在這項研究中，老鼠窩與其親生母親分開，並由寄養母親養育。母親和老鼠窩可以有四種不同的基因型 ： A、B、I 和 J。\n",
    "\n",
    "假設我們想討論的是老鼠窩在生下來 28 天後的重量 (Wt) 是否與寄養母親的基因型（母親）有關。\n",
    "為此，我們可以使用 One-way ANOVA 比較不同組（基因型）的體重增加方式。也就是說，我們將 Wt 視為反應變量，將 Mother 視為因子。\n",
    "\n",
    "然而，對於這個例子，我們也不得不考慮老鼠窩自身的基因型。儘管它不是研究的主要因素，但我們應該考慮到這一點。\n",
    "\n",
    "像這種有兩個因子的變異數分析，我們稱作 two-way ANOVA。(一般而言，如果有多個因子，我們稱作 Multi-way ANOVA。)\n",
    "在很多二因子變異數分析當中，會有一個因子是主要拿來討論對反應變數的影響。\n",
    "而另一個則被認為其對於主要因子和反應變量的關係是重要的，故放在一起討論。\n",
    "\n",
    "這個例子中，我們有興趣的主要是母親的基因對小老鼠的重量的影響，但也要同時考慮小老鼠的重量可能是受到自己基因的影響。\n",
    "```"
   ]
  },
  {
   "cell_type": "markdown",
   "id": "14ba399f",
   "metadata": {},
   "source": [
    "## Two-way ANOVA 總變異公式\n",
    "這裡包含兩因子 **Mother** 和 **Litter**，其總變異可以分成三個部分：\n",
    "1. $SS_M$：由母親的基因型解釋的變異\n",
    "2. $SS_L$：由小孩的基因型解釋的變異\n",
    "3. $SS_E$：隨機的變異 (不能由母親或小孩的基因型解釋的變異)\n",
    "\n",
    "所以，數學式可以寫成\n",
    "\n",
    "$$SS_{Total}=SS_M+SS_L+SS_E$$\n",
    "\n",
    "然而，如果我們相信母親的基因型對於小孩重量的影響，會受到小孩的基因型影響。<br>\n",
    "這就是所謂的因子間有交互作用，而我們必須多考慮 $SS_{M∗L}$，數學式則寫成\n",
    "\n",
    "$$SS_{Total}=SS_M+SS_L+SS_{M∗L}+SS_E$$\n",
    "\n",
    "反應變數的數值若在不同因子的組合間有非加成性的影響，產生交互效應 (interaction effect)；<br>\n",
    "相反的，若只考慮一個因子對反應變數邊際的影響，我們稱其為主效應 (main effect)。"
   ]
  },
  {
   "cell_type": "markdown",
   "id": "ba83672d",
   "metadata": {},
   "source": [
    "## 讀取資料\n"
   ]
  },
  {
   "cell_type": "code",
   "execution_count": 18,
   "id": "e8c43274",
   "metadata": {},
   "outputs": [
    {
     "data": {
      "text/html": [
       "<div>\n",
       "<style scoped>\n",
       "    .dataframe tbody tr th:only-of-type {\n",
       "        vertical-align: middle;\n",
       "    }\n",
       "\n",
       "    .dataframe tbody tr th {\n",
       "        vertical-align: top;\n",
       "    }\n",
       "\n",
       "    .dataframe thead th {\n",
       "        text-align: right;\n",
       "    }\n",
       "</style>\n",
       "<table border=\"1\" class=\"dataframe\">\n",
       "  <thead>\n",
       "    <tr style=\"text-align: right;\">\n",
       "      <th></th>\n",
       "      <th>Litter</th>\n",
       "      <th>Mother</th>\n",
       "      <th>Wt</th>\n",
       "    </tr>\n",
       "  </thead>\n",
       "  <tbody>\n",
       "    <tr>\n",
       "      <th>0</th>\n",
       "      <td>A</td>\n",
       "      <td>A</td>\n",
       "      <td>61.5</td>\n",
       "    </tr>\n",
       "    <tr>\n",
       "      <th>1</th>\n",
       "      <td>A</td>\n",
       "      <td>A</td>\n",
       "      <td>68.2</td>\n",
       "    </tr>\n",
       "    <tr>\n",
       "      <th>2</th>\n",
       "      <td>A</td>\n",
       "      <td>A</td>\n",
       "      <td>64.0</td>\n",
       "    </tr>\n",
       "    <tr>\n",
       "      <th>3</th>\n",
       "      <td>A</td>\n",
       "      <td>A</td>\n",
       "      <td>65.0</td>\n",
       "    </tr>\n",
       "    <tr>\n",
       "      <th>4</th>\n",
       "      <td>A</td>\n",
       "      <td>A</td>\n",
       "      <td>59.7</td>\n",
       "    </tr>\n",
       "    <tr>\n",
       "      <th>...</th>\n",
       "      <td>...</td>\n",
       "      <td>...</td>\n",
       "      <td>...</td>\n",
       "    </tr>\n",
       "    <tr>\n",
       "      <th>56</th>\n",
       "      <td>J</td>\n",
       "      <td>J</td>\n",
       "      <td>44.8</td>\n",
       "    </tr>\n",
       "    <tr>\n",
       "      <th>57</th>\n",
       "      <td>J</td>\n",
       "      <td>J</td>\n",
       "      <td>51.5</td>\n",
       "    </tr>\n",
       "    <tr>\n",
       "      <th>58</th>\n",
       "      <td>J</td>\n",
       "      <td>J</td>\n",
       "      <td>53.0</td>\n",
       "    </tr>\n",
       "    <tr>\n",
       "      <th>59</th>\n",
       "      <td>J</td>\n",
       "      <td>J</td>\n",
       "      <td>42.0</td>\n",
       "    </tr>\n",
       "    <tr>\n",
       "      <th>60</th>\n",
       "      <td>J</td>\n",
       "      <td>J</td>\n",
       "      <td>54.0</td>\n",
       "    </tr>\n",
       "  </tbody>\n",
       "</table>\n",
       "<p>61 rows × 3 columns</p>\n",
       "</div>"
      ],
      "text/plain": [
       "   Litter Mother    Wt\n",
       "0       A      A  61.5\n",
       "1       A      A  68.2\n",
       "2       A      A  64.0\n",
       "3       A      A  65.0\n",
       "4       A      A  59.7\n",
       "..    ...    ...   ...\n",
       "56      J      J  44.8\n",
       "57      J      J  51.5\n",
       "58      J      J  53.0\n",
       "59      J      J  42.0\n",
       "60      J      J  54.0\n",
       "\n",
       "[61 rows x 3 columns]"
      ]
     },
     "execution_count": 18,
     "metadata": {},
     "output_type": "execute_result"
    }
   ],
   "source": [
    "genotype = pd.read_csv(r\"C:\\Users\\user\\Desktop\\R 改 python\\12_變異數分析\\genotype.csv\")\n",
    "genotype"
   ]
  },
  {
   "cell_type": "markdown",
   "id": "85c561b0",
   "metadata": {},
   "source": [
    "## 平均數檢定\n",
    "\n",
    "### 多因子變異數分析 (Multi-way ANOVA)\n",
    "+ 因子變數 : Litter、Mother\n",
    "+ 反應變數 : Wt\n",
    "+ [statsmodels.regression.linear_model.OLS](https://www.statsmodels.org/stable/generated/statsmodels.regression.linear_model.OLS.html)\n",
    "+ [statsmodels.stats.anova.anova_lm](https://www.statsmodels.org/stable/generated/statsmodels.stats.anova.anova_lm.html)\n",
    "+ [anova_lm() 中 type 的使用](https://stackoverflow.com/questions/55175274/uses-of-typ-in-anova-lm)"
   ]
  },
  {
   "cell_type": "code",
   "execution_count": 19,
   "id": "4b8722d9",
   "metadata": {},
   "outputs": [
    {
     "data": {
      "text/html": [
       "<div>\n",
       "<style scoped>\n",
       "    .dataframe tbody tr th:only-of-type {\n",
       "        vertical-align: middle;\n",
       "    }\n",
       "\n",
       "    .dataframe tbody tr th {\n",
       "        vertical-align: top;\n",
       "    }\n",
       "\n",
       "    .dataframe thead th {\n",
       "        text-align: right;\n",
       "    }\n",
       "</style>\n",
       "<table border=\"1\" class=\"dataframe\">\n",
       "  <thead>\n",
       "    <tr style=\"text-align: right;\">\n",
       "      <th></th>\n",
       "      <th>sum_sq</th>\n",
       "      <th>df</th>\n",
       "      <th>F</th>\n",
       "      <th>PR(&gt;F)</th>\n",
       "    </tr>\n",
       "  </thead>\n",
       "  <tbody>\n",
       "    <tr>\n",
       "      <th>C(Litter)</th>\n",
       "      <td>63.632488</td>\n",
       "      <td>3.0</td>\n",
       "      <td>0.391052</td>\n",
       "      <td>0.760004</td>\n",
       "    </tr>\n",
       "    <tr>\n",
       "      <th>C(Mother)</th>\n",
       "      <td>775.080588</td>\n",
       "      <td>3.0</td>\n",
       "      <td>4.763246</td>\n",
       "      <td>0.005736</td>\n",
       "    </tr>\n",
       "    <tr>\n",
       "      <th>C(Litter):C(Mother)</th>\n",
       "      <td>824.072512</td>\n",
       "      <td>9.0</td>\n",
       "      <td>1.688108</td>\n",
       "      <td>0.120053</td>\n",
       "    </tr>\n",
       "    <tr>\n",
       "      <th>Residual</th>\n",
       "      <td>2440.816500</td>\n",
       "      <td>45.0</td>\n",
       "      <td>NaN</td>\n",
       "      <td>NaN</td>\n",
       "    </tr>\n",
       "  </tbody>\n",
       "</table>\n",
       "</div>"
      ],
      "text/plain": [
       "                          sum_sq    df         F    PR(>F)\n",
       "C(Litter)              63.632488   3.0  0.391052  0.760004\n",
       "C(Mother)             775.080588   3.0  4.763246  0.005736\n",
       "C(Litter):C(Mother)   824.072512   9.0  1.688108  0.120053\n",
       "Residual             2440.816500  45.0       NaN       NaN"
      ]
     },
     "execution_count": 19,
     "metadata": {},
     "output_type": "execute_result"
    }
   ],
   "source": [
    "# import statsmodels.api as sm\n",
    "# from statsmodels.formula.api import ols\n",
    "\n",
    "model = ols('Wt ~ C(Litter) + C(Mother) + C(Litter):C(Mother)', data=genotype).fit()\n",
    "anova_table = sm.stats.anova_lm(model, typ=2)\n",
    "anova_table"
   ]
  },
  {
   "cell_type": "markdown",
   "id": "2eced3d0",
   "metadata": {},
   "source": [
    "在 Python 的 statsmodels 庫中，C( ) 是一個函數，用於將變量視為分類變量進行處理，並將其包含在模型的方程式中，以指定因子的效應和交互作用。"
   ]
  },
  {
   "cell_type": "markdown",
   "id": "c9fa33d9",
   "metadata": {},
   "source": [
    "---"
   ]
  }
 ],
 "metadata": {
  "kernelspec": {
   "display_name": "Python 3 (ipykernel)",
   "language": "python",
   "name": "python3"
  },
  "language_info": {
   "codemirror_mode": {
    "name": "ipython",
    "version": 3
   },
   "file_extension": ".py",
   "mimetype": "text/x-python",
   "name": "python",
   "nbconvert_exporter": "python",
   "pygments_lexer": "ipython3",
   "version": "3.8.8"
  }
 },
 "nbformat": 4,
 "nbformat_minor": 5
}
